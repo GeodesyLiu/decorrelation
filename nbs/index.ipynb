{
 "cells": [
  {
   "cell_type": "markdown",
   "metadata": {},
   "source": [
    "# decorrelation"
   ]
  },
  {
   "cell_type": "markdown",
   "metadata": {},
   "source": [
    "[Documentation](https://kanglcn.github.io/decorrelation)"
   ]
  },
  {
   "cell_type": "markdown",
   "metadata": {},
   "source": [
    "> InSAR postprocessing tool"
   ]
  },
  {
   "cell_type": "markdown",
   "metadata": {},
   "source": [
    "## Install"
   ]
  },
  {
   "cell_type": "markdown",
   "metadata": {},
   "source": [
    "Install [CuPy](https://docs.cupy.dev/en/stable/install.html#installation) first, then:"
   ]
  },
  {
   "cell_type": "markdown",
   "metadata": {},
   "source": [
    "With conda:\n",
    "\n",
    "```bash\n",
    "conda install -c conda-forge decorrelation\n",
    "```\n",
    "\n",
    "With pip:\n",
    "\n",
    "```bash\n",
    "pip install decorrelation\n",
    "```\n",
    "\n",
    "In development mode:\n",
    "\n",
    "```bash\n",
    "git clone git@github.com:kanglcn/decorrelation.git ./decorrelation\n",
    "cd ./decorrelation\n",
    "pip install -e '.[dev]'\n",
    "```"
   ]
  },
  {
   "cell_type": "markdown",
   "metadata": {},
   "source": [
    "## How to use"
   ]
  },
  {
   "cell_type": "code",
   "execution_count": null,
   "metadata": {},
   "outputs": [],
   "source": [
    "import decorrelation as dc"
   ]
  },
  {
   "cell_type": "markdown",
   "metadata": {},
   "source": [
    "This package provide functions for InSAR post-processing which refers as processing after SAR images co-registration and geocoding. The functions include PS/DS identification, coherence matrix estimation, phase linking etc.\n",
    "\n",
    "Most of the python functions in this package provide 2 kind of API, the array-based API and the file-based API. The inputs of array-based functions generally are numpy or cupy arrays. The inputs of file-based functions are string of path to the array stored in disk. The file-based functions make use of `dask` package to decrease the memory usage and parallelize the job. However, their is performance cost for using `dask`, if no parallelization is needed and the memory fits the data, the array-based API is recommended.\n",
    "\n",
    "CLI is also provided and is almost the same as the file-based API. The only difference between them is the CLI can not directly show the plot.\n",
    "\n",
    "Please refer to the [Documentation](https://kanglcn.github.io/decorrelation) for detailed usage."
   ]
  },
  {
   "cell_type": "markdown",
   "metadata": {},
   "source": [
    "**Warning!!!** This package is under intensive development. API is subjected to change without any noticement."
   ]
  },
  {
   "cell_type": "markdown",
   "metadata": {},
   "source": [
    "## Contact us"
   ]
  },
  {
   "cell_type": "markdown",
   "metadata": {},
   "source": [
    "- Most discussion happens on [GitHub](https://github.com/kanglcn/decorrelation). Feel free to [open an issue](https://github.com/kanglcn/decorrelation/issues/new) or comment on any open issue or pull request.\n",
    "- use github [discussions](https://github.com/kanglcn/decorrelation/discussions) to ask questions or leave comments."
   ]
  },
  {
   "cell_type": "markdown",
   "metadata": {},
   "source": [
    "## Contribution\n",
    "- Pull requests are welcomed! Before making a pull request, please open an issue to talk about it.\n",
    "- We have notice many excellent open-source packages are rarely paid attention to due to lack of documentation. The package is developed with the [nbdev](https://nbdev.fast.ai/), a notebook-driven development platform. Developers only need to simply write notebooks with lightweight markup and get high-quality documentation, tests, continuous integration, and packaging automatically."
   ]
  },
  {
   "cell_type": "code",
   "execution_count": null,
   "metadata": {},
   "outputs": [],
   "source": []
  }
 ],
 "metadata": {
  "kernelspec": {
   "display_name": "Python [conda env:work] *",
   "language": "python",
   "name": "conda-env-work-py"
  }
 },
 "nbformat": 4,
 "nbformat_minor": 4
}
