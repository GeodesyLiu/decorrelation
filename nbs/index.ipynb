{
 "cells": [
  {
   "cell_type": "markdown",
   "metadata": {},
   "source": [
    "# decorrelation"
   ]
  },
  {
   "cell_type": "markdown",
   "metadata": {},
   "source": [
    "[Documentation](https://kanglcn.github.io/sott)"
   ]
  },
  {
   "cell_type": "markdown",
   "metadata": {},
   "source": [
    "> InSAR postprocessing tool"
   ]
  },
  {
   "cell_type": "markdown",
   "metadata": {},
   "source": [
    "## Install"
   ]
  },
  {
   "cell_type": "markdown",
   "metadata": {},
   "source": [
    "With conda:\n",
    "\n",
    "```bash\n",
    "conda install -c conda-forge decorrelation\n",
    "```\n",
    "\n",
    "With pip:\n",
    "\n",
    "```bash\n",
    "pip install decorrelation\n",
    "```\n",
    "\n",
    "In development mode:\n",
    "\n",
    "```bash\n",
    "git clone git@github.com:kanglcn/decorrelation.git ./decorrelation\n",
    "cd ./decorrelation\n",
    "pip install -e '.[dev]'\n",
    "```"
   ]
  },
  {
   "cell_type": "markdown",
   "metadata": {},
   "source": [
    "## How to use"
   ]
  },
  {
   "cell_type": "code",
   "execution_count": null,
   "metadata": {},
   "outputs": [
    {
     "ename": "ModuleNotFoundError",
     "evalue": "No module named 'decorrelation'",
     "output_type": "error",
     "traceback": [
      "\u001b[0;31m---------------------------------------------------------------------------\u001b[0m",
      "\u001b[0;31mModuleNotFoundError\u001b[0m                       Traceback (most recent call last)",
      "Cell \u001b[0;32mIn [1], line 1\u001b[0m\n\u001b[0;32m----> 1\u001b[0m \u001b[38;5;28;01mimport\u001b[39;00m \u001b[38;5;21;01mdecorrelation\u001b[39;00m \u001b[38;5;28;01mas\u001b[39;00m \u001b[38;5;21;01mdc\u001b[39;00m\n",
      "\u001b[0;31mModuleNotFoundError\u001b[0m: No module named 'decorrelation'"
     ]
    }
   ],
   "source": [
    "import decorrelation as dc"
   ]
  },
  {
   "cell_type": "markdown",
   "metadata": {},
   "source": [
    "Please refer to the [Documentation](https://kanglcn.github.io/decorrelation) for detailed usage."
   ]
  },
  {
   "cell_type": "markdown",
   "metadata": {},
   "source": [
    "## Contact us"
   ]
  },
  {
   "cell_type": "markdown",
   "metadata": {},
   "source": [
    "- Most discussion happens on [GitHub](https://github.com/kanglcn/decorrelation). Feel free to [open an issue](https://github.com/kanglcn/decorrelation/issues/new) or comment on any open issue or pull request.\n",
    "- use github [discussions](https://github.com/kanglcn/decorrelation/discussions) to ask questions or leave comments."
   ]
  },
  {
   "cell_type": "markdown",
   "metadata": {},
   "source": [
    "## Contribution\n",
    "- Pull requests are welcomed! Before making a pull request, please open an issue to talk about it.\n",
    "- We have notice many excellent open-source packages are rarely paid attention to due to lake of documentation. The package is developed with the [nbdev](https://nbdev.fast.ai/), a notebook-driven development platform. Developers only needs to simply write notebooks with lightweight markup and get high-quality documentation, tests, continuous integration, and packaging automatically."
   ]
  },
  {
   "cell_type": "code",
   "execution_count": null,
   "metadata": {},
   "outputs": [],
   "source": []
  }
 ],
 "metadata": {
  "kernelspec": {
   "display_name": "Python 3 (ipykernel)",
   "language": "python",
   "name": "python3"
  }
 },
 "nbformat": 4,
 "nbformat_minor": 4
}
