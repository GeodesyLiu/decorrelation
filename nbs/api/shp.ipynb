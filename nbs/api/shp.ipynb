{
 "cells": [
  {
   "cell_type": "markdown",
   "metadata": {},
   "source": [
    "# SHP\n",
    "\n",
    "> Spatially Homogenious Pixels Selection"
   ]
  },
  {
   "cell_type": "code",
   "execution_count": null,
   "metadata": {},
   "outputs": [],
   "source": [
    "#| default_exp shp"
   ]
  },
  {
   "cell_type": "code",
   "execution_count": null,
   "metadata": {},
   "outputs": [],
   "source": [
    "#| hide\n",
    "from nbdev.showdoc import *\n",
    "from fastcore.test import *"
   ]
  },
  {
   "cell_type": "code",
   "execution_count": null,
   "metadata": {},
   "outputs": [],
   "source": [
    "#| hide\n",
    "# import for test\n",
    "from cupyx.profiler import benchmark\n",
    "from scipy import stats\n",
    "import numpy as np"
   ]
  },
  {
   "cell_type": "code",
   "execution_count": null,
   "metadata": {},
   "outputs": [],
   "source": [
    "#| export\n",
    "import cupy as cp\n",
    "#from cupy._sorting.search import _searchsorted_kernel as searchsorted"
   ]
  },
  {
   "cell_type": "markdown",
   "metadata": {},
   "source": [
    "## Kolmogorov-Smirnov (KS) two-sample test"
   ]
  },
  {
   "cell_type": "code",
   "execution_count": null,
   "metadata": {},
   "outputs": [],
   "source": [
    "#| export\n",
    "def searchsorted(ref:cp.ndarray, # multi dimentional array\n",
    "                   sec:cp.ndarray, # multi dimentional array\n",
    "                  )->cp.ndarray: # multi dimentional index array, dtype: cp.int\n",
    "    innerest_dim = ref.shape[-1]\n",
    "    outer_dim = ref.shape[:-1]\n",
    "    max_num = cp.maximum(ref.max()-ref.min(),sec.max()-sec.min())+1\n",
    "    multiple = cp.expand_dims(cp.arange(ref.size/innerest_dim,dtype=int).reshape(*outer_dim),axis=-1)\n",
    "    added = max_num*multiple\n",
    "    # test have show that ref.max() is faster than ref[:,-1].max() when ref.shape[1] is less than 100\n",
    "    p = cp.searchsorted((ref+added).ravel(),(sec+added).ravel(),side='right').reshape(*sec.shape)\n",
    "    return p - innerest_dim*(multiple)"
   ]
  },
  {
   "cell_type": "markdown",
   "metadata": {},
   "source": [
    "Find the indices from the innermost dimension of `ref` such that, if the corresponding values in `sec` were inserted before the indices. `ref.shape` must equals to `sec.shape`. For example:"
   ]
  },
  {
   "cell_type": "code",
   "execution_count": null,
   "metadata": {},
   "outputs": [],
   "source": [
    "ref = cp.arange(20, dtype=cp.float32)\n",
    "sec = cp.arange(5.5,25.5, dtype=cp.float32)\n",
    "out = searchsorted2d(ref,sec)"
   ]
  },
  {
   "cell_type": "code",
   "execution_count": null,
   "metadata": {},
   "outputs": [],
   "source": [
    "ref = cp.arange(20, dtype=cp.float32).reshape(2,2,5)\n",
    "sec = cp.arange(5.5,15.5, dtype=cp.float32).reshape(2,1,5)\n",
    "sec = cp.tile(sec,(1,2,2))"
   ]
  },
  {
   "cell_type": "code",
   "execution_count": null,
   "metadata": {},
   "outputs": [
    {
     "data": {
      "text/plain": [
       "array([[[ 0.,  1.,  2.,  3.,  4.],\n",
       "        [ 5.,  6.,  7.,  8.,  9.]],\n",
       "\n",
       "       [[10., 11., 12., 13., 14.],\n",
       "        [15., 16., 17., 18., 19.]]], dtype=float32)"
      ]
     },
     "execution_count": null,
     "metadata": {},
     "output_type": "execute_result"
    }
   ],
   "source": [
    "ref"
   ]
  },
  {
   "cell_type": "code",
   "execution_count": null,
   "metadata": {},
   "outputs": [
    {
     "data": {
      "text/plain": [
       "array([[[ 5.5,  6.5,  7.5,  8.5,  9.5,  5.5,  6.5,  7.5,  8.5,  9.5],\n",
       "        [ 5.5,  6.5,  7.5,  8.5,  9.5,  5.5,  6.5,  7.5,  8.5,  9.5]],\n",
       "\n",
       "       [[10.5, 11.5, 12.5, 13.5, 14.5, 10.5, 11.5, 12.5, 13.5, 14.5],\n",
       "        [10.5, 11.5, 12.5, 13.5, 14.5, 10.5, 11.5, 12.5, 13.5, 14.5]]],\n",
       "      dtype=float32)"
      ]
     },
     "execution_count": null,
     "metadata": {},
     "output_type": "execute_result"
    }
   ],
   "source": [
    "sec"
   ]
  },
  {
   "cell_type": "code",
   "execution_count": null,
   "metadata": {},
   "outputs": [
    {
     "data": {
      "text/plain": [
       "array([[[5, 5, 5, 5, 5, 5, 5, 5, 5, 5],\n",
       "        [1, 2, 3, 4, 5, 1, 2, 3, 4, 5]],\n",
       "\n",
       "       [[1, 2, 3, 4, 5, 1, 2, 3, 4, 5],\n",
       "        [0, 0, 0, 0, 0, 0, 0, 0, 0, 0]]])"
      ]
     },
     "execution_count": null,
     "metadata": {},
     "output_type": "execute_result"
    }
   ],
   "source": [
    "out = searchsorted2d(ref,sec)\n",
    "out"
   ]
  },
  {
   "cell_type": "code",
   "execution_count": null,
   "metadata": {},
   "outputs": [],
   "source": [
    "#| hidden\n",
    "# test\n",
    "assert (out[0,1,:5] == cp.array([1, 2, 3, 4, 5],dtype=cp.int64)).all()"
   ]
  },
  {
   "cell_type": "code",
   "execution_count": null,
   "metadata": {},
   "outputs": [
    {
     "name": "stdout",
     "output_type": "stream",
     "text": [
      "amax                :    CPU:   18.950 us   +/- 1.750 (min:   18.280 / max:   71.205) us     GPU-0:   23.514 us   +/- 1.772 (min:   22.528 / max:   74.752) us\n",
      "amax                :    CPU:   17.984 us   +/- 0.606 (min:   17.390 / max:   26.476) us     GPU-0:   21.877 us   +/- 0.895 (min:   20.480 / max:   36.864) us\n"
     ]
    }
   ],
   "source": [
    "#| hidden\n",
    "# test the speed of cp.max()\n",
    "ref = cp.arange(20000, dtype=cp.float32).reshape(200,100)\n",
    "print(benchmark(cp.max,(ref,), n_repeat=1000))\n",
    "print(benchmark(cp.max,(ref[:,-1],), n_repeat=1000))"
   ]
  },
  {
   "cell_type": "code",
   "execution_count": null,
   "metadata": {},
   "outputs": [],
   "source": [
    "#| hidden\n",
    "# test the speed between cupy and torch\n",
    "# def torch_searchsorted(ref,sec):\n",
    "#     _ref = torch.as_tensor(ref)\n",
    "#     _sec = torch.as_tensor(sec)\n",
    "#     indices = torch.searchsorted(_ref,_sec,side='right')\n",
    "#     indices = cp.asarray(indices)\n",
    "#     return indices\n",
    "# width = 100\n",
    "# nlines = 10000\n",
    "# ref = cp.arange(-1.1,-1.1+width*nlines, dtype=cp.float32).reshape(nlines,width)\n",
    "# sec = cp.arange(-1.5,-1.5+width*nlines, dtype=cp.float32).reshape(nlines,width)\n",
    "# print(benchmark(torch_searchsorted,(ref, sec), n_repeat=100))\n",
    "# print(benchmark(searchsorted,(ref, sec), n_repeat=100))"
   ]
  },
  {
   "cell_type": "code",
   "execution_count": null,
   "metadata": {},
   "outputs": [],
   "source": [
    "#| export\n",
    "def ecdf_distance(data1:cp.ndarray, # data set 1\n",
    "                  data2, # data set 2\n",
    "                  n:int=0, # number of dimensions to compare\n",
    "                 ):\n",
    "    n = data1.shape[-1]\n",
    "    data_all = cp.concatenate((data1,data2),axis=-1)\n",
    "    cdf1 = searchsorted(data1,data_all)/n\n",
    "    cdf2 = searchsorted(data2,data_all)/n\n",
    "    cddiffs = cp.abs(cdf1 - cdf2)\n",
    "    distance = cp.max(cddiffs,axis=-1)\n",
    "    return distance"
   ]
  },
  {
   "cell_type": "code",
   "execution_count": null,
   "metadata": {},
   "outputs": [],
   "source": [
    "ref = cp.arange(20, dtype=cp.float32).reshape(2,2,5)\n",
    "sec = cp.arange(-1,19, dtype=cp.float32).reshape(2,2,5)"
   ]
  },
  {
   "cell_type": "code",
   "execution_count": null,
   "metadata": {},
   "outputs": [
    {
     "data": {
      "text/plain": [
       "array([[[ 0.,  1.,  2.,  3.,  4.],\n",
       "        [ 5.,  6.,  7.,  8.,  9.]],\n",
       "\n",
       "       [[10., 11., 12., 13., 14.],\n",
       "        [15., 16., 17., 18., 19.]]], dtype=float32)"
      ]
     },
     "execution_count": null,
     "metadata": {},
     "output_type": "execute_result"
    }
   ],
   "source": [
    "ref"
   ]
  },
  {
   "cell_type": "code",
   "execution_count": null,
   "metadata": {},
   "outputs": [
    {
     "data": {
      "text/plain": [
       "array([[[-1.,  0.,  1.,  2.,  3.],\n",
       "        [ 4.,  5.,  6.,  7.,  8.]],\n",
       "\n",
       "       [[ 9., 10., 11., 12., 13.],\n",
       "        [14., 15., 16., 17., 18.]]], dtype=float32)"
      ]
     },
     "execution_count": null,
     "metadata": {},
     "output_type": "execute_result"
    }
   ],
   "source": [
    "sec"
   ]
  },
  {
   "cell_type": "code",
   "execution_count": null,
   "metadata": {},
   "outputs": [
    {
     "data": {
      "text/plain": [
       "array([[0.2, 0.2],\n",
       "       [0.2, 0.2]])"
      ]
     },
     "execution_count": null,
     "metadata": {},
     "output_type": "execute_result"
    }
   ],
   "source": [
    "ecdf_distance(ref,sec)"
   ]
  },
  {
   "cell_type": "code",
   "execution_count": null,
   "metadata": {},
   "outputs": [],
   "source": [
    "#| hide\n",
    "# test\n",
    "rng = np.random.default_rng()\n",
    "sample1 = stats.uniform.rvs(size=5, random_state=rng)\n",
    "sample2 = stats.norm.rvs(size=5, random_state=rng)\n",
    "sample1 = np.sort(sample1)\n",
    "sample2 = np.sort(sample2)\n",
    "dist_scipy,p = stats.ks_2samp(sample1, sample2)\n",
    "dist_cupy = ecdf_distance(cp.asarray(sample1),cp.asarray(sample2))\n",
    "assert abs(dist_scipy-float(dist_cupy))<1e-7"
   ]
  },
  {
   "cell_type": "code",
   "execution_count": null,
   "metadata": {},
   "outputs": [],
   "source": [
    "#| export\n",
    "def ks_2sam(data1:cp.ndarray, # samples to be test, each innermost vector is samples from one distribution\n",
    "            data2:cp.ndarray, # the seconds stack of samples,\n",
    "            alpha:float=0.9, # significant value, the bigger the stricter in selecting SHP, between 0 and 1\n",
    "           ) -> cp.array: # stack of bool, if SHP or not\n",
    "    '''GPU version of ks 2 sample test'''\n",
    "    # null: same distribution\n",
    "    distance = ecdf_distance(data1,data2)\n",
    "    from scipy.stats import kstwo\n",
    "    critical_distance = kstwo.ppf(1-alpha,data1.shape[-1])\n",
    "    return distance < critical_distance"
   ]
  },
  {
   "cell_type": "code",
   "execution_count": null,
   "metadata": {},
   "outputs": [],
   "source": [
    "# a test is needed here"
   ]
  },
  {
   "cell_type": "code",
   "execution_count": null,
   "metadata": {},
   "outputs": [],
   "source": [
    "#| hide\n",
    "import nbdev; nbdev.nbdev_export()"
   ]
  }
 ],
 "metadata": {
  "kernelspec": {
   "display_name": "Python 3 (ipykernel)",
   "language": "python",
   "name": "python3"
  }
 },
 "nbformat": 4,
 "nbformat_minor": 4
}
