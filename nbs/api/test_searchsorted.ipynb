{
 "cells": [
  {
   "cell_type": "markdown",
   "id": "fb363c33-23a9-483b-929d-9cfab2e8f725",
   "metadata": {},
   "source": [
    "# speed test for `searchsorted`"
   ]
  },
  {
   "cell_type": "code",
   "execution_count": null,
   "id": "b85a91b1-813d-4782-a810-5ab86830944c",
   "metadata": {},
   "outputs": [],
   "source": [
    "import cupy as cp\n",
    "import torch\n",
    "from cupyx.profiler import benchmark\n",
    "import torchsearchsorted"
   ]
  },
  {
   "cell_type": "code",
   "execution_count": null,
   "id": "b0638d97-01f5-4c6b-b82e-c601fca38b20",
   "metadata": {},
   "outputs": [],
   "source": [
    "def torch_searchsorted(ref:cp.ndarray, # N-D cupy array, containing monotonically increasing sequence on the innermost dimension\n",
    "                  sec:cp.ndarray, # N-D cupy array, containing the search value(s)\n",
    "                 ) -> cp.ndarray: # Array of insertion points with the same shape as `secs`\n",
    "    '''a simple `torch.searchsorted` wrapper for cupy array'''\n",
    "    _ref = torch.as_tensor(ref)\n",
    "    _sec = torch.as_tensor(sec)\n",
    "    indices = torch.searchsorted(_ref,_sec,side='right')\n",
    "    indices = cp.asarray(indices)\n",
    "    return indices"
   ]
  },
  {
   "cell_type": "code",
   "execution_count": null,
   "id": "fa5b9618-56b2-4df1-9013-948cc86d5004",
   "metadata": {},
   "outputs": [],
   "source": [
    "def cupy_searchsorted(a,b):\n",
    "    m,n = a.shape\n",
    "    max_num = cp.maximum(a.max() - a.min(), b.max() - b.min()) + 1\n",
    "    r = max_num*cp.arange(a.shape[0])[:,None]\n",
    "    p = cp.searchsorted( (a+r).ravel(), (b+r).ravel(), side='right' ).reshape(m,-1)\n",
    "    return p - n*(cp.arange(m)[:,None])"
   ]
  },
  {
   "cell_type": "code",
   "execution_count": null,
   "id": "8dbccb38-af23-40a2-b851-bc8feb553aa8",
   "metadata": {},
   "outputs": [],
   "source": [
    "def stream_searchsorted(a,b):\n",
    "    m,n = a.shape\n",
    "    out = cp.empty_like(b,dtype=cp.int64)\n",
    "    map_streams = []\n",
    "    for i in range(m):\n",
    "        map_streams.append(cp.cuda.stream.Stream(non_blocking=True))\n",
    "    device = cp.cuda.Device()\n",
    "    for i, stream in enumerate(map_streams):\n",
    "        with stream:\n",
    "            out[i,:] = cp.searchsorted(a[i,:],b[i,:],side='right')\n",
    "    device.synchronize()\n",
    "    return out"
   ]
  },
  {
   "cell_type": "code",
   "execution_count": null,
   "id": "8434471f-0331-4992-a66a-1350213428a9",
   "metadata": {},
   "outputs": [],
   "source": [
    "ref = cp.arange(20, dtype=cp.float32).reshape(4,5)\n",
    "sec = cp.arange(-1,19, dtype=cp.float32).reshape(4,5)"
   ]
  },
  {
   "cell_type": "code",
   "execution_count": null,
   "id": "bd3f28c2-47be-464a-8c48-88d219b90f31",
   "metadata": {},
   "outputs": [],
   "source": [
    "torch_out = torch_searchsorted(ref,sec)\n",
    "cupy_out = cupy_searchsorted(ref,sec)\n",
    "stream_out = stream_searchsorted(ref,sec)"
   ]
  },
  {
   "cell_type": "code",
   "execution_count": null,
   "id": "dec43492-3666-47b4-995b-2d0830a2185d",
   "metadata": {},
   "outputs": [
    {
     "data": {
      "text/plain": [
       "array([[0, 1, 2, 3, 4],\n",
       "       [0, 1, 2, 3, 4],\n",
       "       [0, 1, 2, 3, 4],\n",
       "       [0, 1, 2, 3, 4]])"
      ]
     },
     "execution_count": null,
     "metadata": {},
     "output_type": "execute_result"
    }
   ],
   "source": [
    "torch_out"
   ]
  },
  {
   "cell_type": "code",
   "execution_count": null,
   "id": "9a6d2368-b2ef-4635-abc3-59c9aa2d24f2",
   "metadata": {},
   "outputs": [
    {
     "data": {
      "text/plain": [
       "array([[0, 1, 2, 3, 4],\n",
       "       [0, 1, 2, 3, 4],\n",
       "       [0, 1, 2, 3, 4],\n",
       "       [0, 1, 2, 3, 4]])"
      ]
     },
     "execution_count": null,
     "metadata": {},
     "output_type": "execute_result"
    }
   ],
   "source": [
    "cupy_out"
   ]
  },
  {
   "cell_type": "code",
   "execution_count": null,
   "id": "31fff891-8152-4798-9208-f415da7ecbb8",
   "metadata": {},
   "outputs": [
    {
     "data": {
      "text/plain": [
       "array([[0, 1, 2, 3, 4],\n",
       "       [0, 1, 2, 3, 4],\n",
       "       [0, 1, 2, 3, 4],\n",
       "       [0, 1, 2, 3, 4]])"
      ]
     },
     "execution_count": null,
     "metadata": {},
     "output_type": "execute_result"
    }
   ],
   "source": [
    "stream_out"
   ]
  },
  {
   "cell_type": "code",
   "execution_count": null,
   "id": "e4bf2aa9-7dc7-4c74-9ba6-62594502d58f",
   "metadata": {},
   "outputs": [
    {
     "name": "stdout",
     "output_type": "stream",
     "text": [
      "torch_searchsorted  :    CPU: 8254.008 us   +/-373.205 (min: 8081.082 / max:10619.253) us     GPU-0: 8885.001 us   +/-372.529 (min: 8713.888 / max:11242.240) us\n",
      "cupy_searchsorted   :    CPU:  359.469 us   +/- 6.071 (min:  348.583 / max:  375.733) us     GPU-0:  380.876 us   +/- 5.246 (min:  372.736 / max:  397.312) us\n"
     ]
    }
   ],
   "source": [
    "width = 100\n",
    "nlines = 10000\n",
    "ref = cp.arange(-1.1,-1.1+width*nlines, dtype=cp.float32).reshape(nlines,width)\n",
    "sec = cp.arange(-1.5,-1.5+width*nlines, dtype=cp.float32).reshape(nlines,width)\n",
    "print(benchmark(torch_searchsorted,(ref, sec), n_repeat=100))\n",
    "print(benchmark(cupy_searchsorted,(ref, sec), n_repeat=100))\n",
    "#print(benchmark(stream_searchsorted,(ref, sec), n_repeat=100))"
   ]
  },
  {
   "cell_type": "code",
   "execution_count": null,
   "id": "4729202b-0e39-4b8a-9326-c70ab66818cb",
   "metadata": {},
   "outputs": [
    {
     "name": "stdout",
     "output_type": "stream",
     "text": [
      "searchsorted        :    CPU: 5718.757 us   +/-322.460 (min: 5644.038 / max: 8415.207) us     GPU-0: 5726.684 us   +/-322.698 (min: 5651.424 / max: 8422.784) us\n",
      "searchsorted        :    CPU:13999.385 us   +/-88.953 (min:13972.137 / max:14832.605) us     GPU-0:14007.932 us   +/-89.373 (min:13980.384 / max:14843.904) us\n"
     ]
    }
   ],
   "source": [
    "_ref = torch.as_tensor(ref)\n",
    "_sec = torch.as_tensor(sec)\n",
    "print(benchmark(torch.searchsorted,(_ref, _sec), n_repeat=100))\n",
    "print(benchmark(torchsearchsorted.searchsorted,(_ref, _sec), n_repeat=100))"
   ]
  },
  {
   "cell_type": "markdown",
   "id": "9cb043c0-140c-480d-8637-c56695fbd10a",
   "metadata": {},
   "source": [
    "The best way is to write a new cuda kernel for it."
   ]
  }
 ],
 "metadata": {
  "kernelspec": {
   "display_name": "Python 3 (ipykernel)",
   "language": "python",
   "name": "python3"
  }
 },
 "nbformat": 4,
 "nbformat_minor": 5
}
