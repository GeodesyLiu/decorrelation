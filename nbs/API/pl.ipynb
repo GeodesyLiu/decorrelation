{
 "cells": [
  {
   "cell_type": "markdown",
   "id": "ed055a83-94be-4d36-b89f-5347579058a1",
   "metadata": {},
   "source": [
    "# pl\n",
    "\n",
    "> Phase Linking"
   ]
  },
  {
   "cell_type": "markdown",
   "id": "ab83a323-3141-4a11-83c9-9a4021702922",
   "metadata": {},
   "source": [
    "<!-- Phase linking for PTA requires `cupy.optimize` to be implented which is tracked at\n",
    "https://github.com/rapidsai/raft/pull/923\n",
    "and https://github.com/cupy/cupy/issues/6112 -->"
   ]
  },
  {
   "cell_type": "code",
   "execution_count": null,
   "id": "812250d4-bf39-41ab-95ed-80911c2ab53a",
   "metadata": {},
   "outputs": [],
   "source": [
    "#| default_exp pl"
   ]
  },
  {
   "cell_type": "code",
   "execution_count": null,
   "id": "02c2c334-26c2-466a-89bc-6b2f35eadcf3",
   "metadata": {},
   "outputs": [],
   "source": [
    "#| hide\n",
    "from nbdev.showdoc import *"
   ]
  },
  {
   "cell_type": "code",
   "execution_count": null,
   "id": "415a37fd-6c1b-4c0b-a911-46140ec78c5c",
   "metadata": {},
   "outputs": [],
   "source": [
    "#| hide\n",
    "# import for test\n",
    "import numpy as np"
   ]
  },
  {
   "cell_type": "code",
   "execution_count": null,
   "id": "21218c00-7881-41e9-b422-5956c5ef4119",
   "metadata": {},
   "outputs": [],
   "source": [
    "#| export\n",
    "import cupy as cp"
   ]
  },
  {
   "cell_type": "code",
   "execution_count": null,
   "id": "2a9b6af1-4a71-4b8d-91c3-44db3d283044",
   "metadata": {},
   "outputs": [],
   "source": [
    "#| export\n",
    "def emi(coh:cp.ndarray, #coherence ,dtype cupy.complex\n",
    "       )-> cp.ndarray: # estimated phase history `ph`, dtype complex\n",
    "    coh_mag = abs(coh)\n",
    "    coh_mag_inv = cp.linalg.inv(coh_mag)\n",
    "    min_eig = cp.linalg.eigh(coh_mag_inv*coh)[1][...,0]\n",
    "    return min_eig/abs(min_eig)"
   ]
  },
  {
   "cell_type": "markdown",
   "id": "be19a150-ac6b-4585-b6f6-9f6c1fd07090",
   "metadata": {},
   "source": [
    "`emi` is a phase estimator base on EMI [@ansariEfficientPhaseEstimation2018] phase linking method."
   ]
  },
  {
   "cell_type": "code",
   "execution_count": null,
   "id": "ce82e557-133d-43bd-a9c5-2f48a68b0021",
   "metadata": {},
   "outputs": [],
   "source": [
    "#| hide\n",
    "import nbdev; nbdev.nbdev_export()"
   ]
  }
 ],
 "metadata": {
  "kernelspec": {
   "display_name": "Python 3 (ipykernel)",
   "language": "python",
   "name": "python3"
  }
 },
 "nbformat": 4,
 "nbformat_minor": 5
}
