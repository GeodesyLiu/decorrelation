{
 "cells": [
  {
   "cell_type": "markdown",
   "id": "ed055a83-94be-4d36-b89f-5347579058a1",
   "metadata": {},
   "source": [
    "# pl\n",
    "\n",
    "> Phase Linking"
   ]
  },
  {
   "cell_type": "code",
   "execution_count": null,
   "id": "812250d4-bf39-41ab-95ed-80911c2ab53a",
   "metadata": {},
   "outputs": [],
   "source": [
    "#| default_exp pl"
   ]
  },
  {
   "cell_type": "code",
   "execution_count": null,
   "id": "02c2c334-26c2-466a-89bc-6b2f35eadcf3",
   "metadata": {},
   "outputs": [],
   "source": [
    "#| hide\n",
    "from nbdev.showdoc import *"
   ]
  },
  {
   "cell_type": "code",
   "execution_count": null,
   "id": "415a37fd-6c1b-4c0b-a911-46140ec78c5c",
   "metadata": {},
   "outputs": [],
   "source": [
    "#| hide\n",
    "# import for test\n",
    "import numpy as np"
   ]
  },
  {
   "cell_type": "code",
   "execution_count": null,
   "id": "21218c00-7881-41e9-b422-5956c5ef4119",
   "metadata": {},
   "outputs": [],
   "source": [
    "#| export\n",
    "import cupy as cp"
   ]
  },
  {
   "cell_type": "code",
   "execution_count": null,
   "id": "ce82e557-133d-43bd-a9c5-2f48a68b0021",
   "metadata": {},
   "outputs": [],
   "source": [
    "#| hide\n",
    "import nbdev; nbdev.nbdev_export()"
   ]
  }
 ],
 "metadata": {
  "kernelspec": {
   "display_name": "Python 3 (ipykernel)",
   "language": "python",
   "name": "python3"
  }
 },
 "nbformat": 4,
 "nbformat_minor": 5
}
