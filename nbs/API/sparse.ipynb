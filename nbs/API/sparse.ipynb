{
 "cells": [
  {
   "cell_type": "markdown",
   "id": "8210aab5-cb8e-4e77-97a0-1137bb88f27d",
   "metadata": {},
   "source": [
    "# sparse\n",
    "\n",
    "> Utilities for sparse data manipulation"
   ]
  },
  {
   "cell_type": "markdown",
   "id": "86e4b3f6-1c03-4bcd-9878-9b74b1ee3a38",
   "metadata": {},
   "source": [
    "<!-- Phase linking for PTA requires `cupy.optimize` to be implented which is tracked at\n",
    "https://github.com/rapidsai/raft/pull/923\n",
    "and https://github.com/cupy/cupy/issues/6112 -->"
   ]
  },
  {
   "cell_type": "code",
   "execution_count": null,
   "id": "4be9d640-1178-4554-ba56-665c35d19385",
   "metadata": {},
   "outputs": [],
   "source": [
    "#| default_exp sparse"
   ]
  },
  {
   "cell_type": "code",
   "execution_count": null,
   "id": "3c9a16b2-81b4-4a7b-8abf-28c56b6499db",
   "metadata": {},
   "outputs": [],
   "source": [
    "#| hide\n",
    "from nbdev.showdoc import *"
   ]
  },
  {
   "cell_type": "code",
   "execution_count": null,
   "id": "6c1a4bd1-0c44-4a9b-95d6-417693179937",
   "metadata": {},
   "outputs": [],
   "source": [
    "#| export\n",
    "import cupy as cp\n",
    "import numpy as np\n",
    "import numpy.typing as npt"
   ]
  },
  {
   "cell_type": "code",
   "execution_count": null,
   "id": "864b64b5-30b0-4932-9d29-fae31a8ec165",
   "metadata": {},
   "outputs": [],
   "source": [
    "#| export\n",
    "def points2raster(is_pt:npt.ArrayLike, # bool array index\n",
    "                  point:npt.ArrayLike, # data\n",
    "                 ):\n",
    "    '''convert sparse data to raster, filled with nan'''\n",
    "    xp = cp.get_array_module(is_pt)\n",
    "    raster = xp.empty_like(is_pt,dtype=point.dtype)\n",
    "    raster[:] = xp.nan\n",
    "    raster[is_pt] = point\n",
    "    return raster"
   ]
  },
  {
   "cell_type": "code",
   "execution_count": null,
   "id": "6d55f8ae-e5ee-4048-adad-cb635c3eeeda",
   "metadata": {},
   "outputs": [],
   "source": [
    "#| hide\n",
    "import nbdev; nbdev.nbdev_export()"
   ]
  },
  {
   "cell_type": "code",
   "execution_count": null,
   "id": "77dc68ed-a5ca-4c16-b384-fe038cec5753",
   "metadata": {},
   "outputs": [],
   "source": []
  }
 ],
 "metadata": {
  "kernelspec": {
   "display_name": "Python [conda env:work] *",
   "language": "python",
   "name": "conda-env-work-py"
  }
 },
 "nbformat": 4,
 "nbformat_minor": 5
}
