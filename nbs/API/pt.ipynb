{
 "cells": [
  {
   "cell_type": "markdown",
   "id": "b4607c6b-a9d0-463c-a933-af675aed9a8f",
   "metadata": {},
   "source": [
    "# pt\n",
    "\n",
    "> Point target manipulation"
   ]
  },
  {
   "cell_type": "code",
   "execution_count": null,
   "id": "26336d18-4f60-45ed-a7e6-7e5b02970da9",
   "metadata": {},
   "outputs": [],
   "source": [
    "#| default_exp pt"
   ]
  },
  {
   "cell_type": "code",
   "execution_count": null,
   "id": "1215172d-8c89-43dd-97c0-cd65e8a66a92",
   "metadata": {},
   "outputs": [],
   "source": [
    "#| hide\n",
    "from nbdev.showdoc import *"
   ]
  },
  {
   "cell_type": "code",
   "execution_count": null,
   "id": "c45f70e2-21da-471e-8fbc-3b1810a64849",
   "metadata": {},
   "outputs": [],
   "source": [
    "#| export\n",
    "import cupy as cp\n",
    "import numpy as np\n",
    "import numpy.typing as npt"
   ]
  },
  {
   "cell_type": "code",
   "execution_count": null,
   "id": "b756aa74-d288-48bc-907a-855caae737e1",
   "metadata": {},
   "outputs": [],
   "source": [
    "def raster2pt():\n",
    "    pass"
   ]
  },
  {
   "cell_type": "code",
   "execution_count": null,
   "id": "1c84a7e6-b019-4174-b5cc-bb8d1a5f3523",
   "metadata": {},
   "outputs": [],
   "source": [
    "#| export\n",
    "def pt2raster(point_data:npt.ArrayLike, # data, 1D or more\n",
    "              is_pt:npt.ArrayLike=None, # bool array index\n",
    "              shape:tuple=None, # image shape\n",
    "              idx:npt.ArrayLike=None, # idx array\n",
    "             ):\n",
    "    '''convert sparse data to raster, filled with nan'''\n",
    "    xp = cp.get_array_module(point_data)\n",
    "    if is_pt is None:\n",
    "        raster = xp.empty((*shape,*point_data.shape[2:]),dtype=point_data.dtype)\n",
    "        raster[:] = xp.nan\n",
    "        raster[(idx[0],idx[1])] = point_data\n",
    "    else:\n",
    "        raster = xp.empty((*is_pt.shape,*point_data.shape[2:]),dtype=point_data.dtype)\n",
    "        raster[:] = xp.nan\n",
    "        raster[is_pt] = point_data\n",
    "    return raster"
   ]
  },
  {
   "cell_type": "code",
   "execution_count": null,
   "id": "8d69298c-7984-4f60-8a1e-f93ee65434d2",
   "metadata": {},
   "outputs": [],
   "source": [
    "#| hide\n",
    "a = np.arange(50,dtype=np.float32)\n",
    "idx = np.arange(100).reshape(2,-1)\n",
    "a_raster = pt2raster(a,shape=(100,100),idx=idx)\n",
    "np.testing.assert_array_equal(a_raster[(idx[0],idx[1])],a)\n",
    "\n",
    "is_pt = np.zeros((100,100),dtype=bool)\n",
    "is_pt[(idx[0],idx[1])] = True\n",
    "a_raster2 = pt2raster(a,is_pt=is_pt)\n",
    "np.testing.assert_array_equal(a_raster2[(idx[0],idx[1])],a)"
   ]
  },
  {
   "cell_type": "markdown",
   "id": "9db37272-2eea-4658-965e-59605f43cd6f",
   "metadata": {},
   "source": [
    "## diff"
   ]
  },
  {
   "cell_type": "code",
   "execution_count": null,
   "id": "7886f69e-9a1d-4e10-9aff-728e5193452a",
   "metadata": {},
   "outputs": [],
   "source": [
    "def diff():\n",
    "    pass"
   ]
  },
  {
   "cell_type": "markdown",
   "id": "6193281f-e5ea-4aad-86e6-cd87092adae6",
   "metadata": {},
   "source": [
    "## diff"
   ]
  },
  {
   "cell_type": "markdown",
   "id": "c402cd79-a2a7-45e3-a562-3a1ce6956639",
   "metadata": {},
   "source": [
    "## diff"
   ]
  },
  {
   "cell_type": "markdown",
   "id": "2a95673a-4eca-4626-b4cc-b0090ebcd17c",
   "metadata": {},
   "source": [
    "## diff"
   ]
  },
  {
   "cell_type": "code",
   "execution_count": null,
   "id": "d50eda76-1cf8-4fb7-9f5a-df8af874e97a",
   "metadata": {},
   "outputs": [],
   "source": [
    "#| hide\n",
    "import nbdev; nbdev.nbdev_export()"
   ]
  },
  {
   "cell_type": "code",
   "execution_count": null,
   "id": "8e113770-c710-4639-b3f8-ee93fdbc5def",
   "metadata": {},
   "outputs": [],
   "source": []
  }
 ],
 "metadata": {
  "kernelspec": {
   "display_name": "Python 3 (ipykernel)",
   "language": "python",
   "name": "python3"
  }
 },
 "nbformat": 4,
 "nbformat_minor": 5
}
