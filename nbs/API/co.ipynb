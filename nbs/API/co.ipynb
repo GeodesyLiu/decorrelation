{
 "cells": [
  {
   "cell_type": "markdown",
   "id": "ed055a83-94be-4d36-b89f-5347579058a1",
   "metadata": {},
   "source": [
    "# co\n",
    "\n",
    "> Covariance and Coherence Matrix Estimation"
   ]
  },
  {
   "cell_type": "code",
   "execution_count": null,
   "id": "812250d4-bf39-41ab-95ed-80911c2ab53a",
   "metadata": {},
   "outputs": [],
   "source": [
    "#| default_exp co"
   ]
  },
  {
   "cell_type": "code",
   "execution_count": null,
   "id": "02c2c334-26c2-466a-89bc-6b2f35eadcf3",
   "metadata": {},
   "outputs": [],
   "source": [
    "#| hide\n",
    "from nbdev.showdoc import *"
   ]
  },
  {
   "cell_type": "code",
   "execution_count": null,
   "id": "67bad67a-2e1c-43ba-a2f9-791a66320dc3",
   "metadata": {},
   "outputs": [],
   "source": [
    "#| code-fold: true\n",
    "#| code-summary: \"For generating data for doc and test\"\n",
    "import cupy as cp\n",
    "import zarr\n",
    "from decorrelation.shp import ks_test\n",
    "import math\n",
    "import itertools\n",
    "from cupy.testing import assert_array_almost_equal"
   ]
  },
  {
   "cell_type": "code",
   "execution_count": null,
   "id": "21218c00-7881-41e9-b422-5956c5ef4119",
   "metadata": {},
   "outputs": [],
   "source": [
    "#| export\n",
    "import cupy as cp\n",
    "from typing import Union"
   ]
  },
  {
   "cell_type": "markdown",
   "id": "c3af4f5d-3fcd-4446-96cc-b80b44a400d5",
   "metadata": {},
   "source": [
    "## Covariance and Coherence Matrix Estimator"
   ]
  },
  {
   "cell_type": "code",
   "execution_count": null,
   "id": "4a47217e-fca8-4cd3-8e42-d2f03305e5e6",
   "metadata": {},
   "outputs": [],
   "source": [
    "#| export\n",
    "_emperical_co_kernel = cp.ElementwiseKernel(\n",
    "    'raw T rslc, raw bool is_shp, int32 nlines, int32 width, int32 nimages, int32 az_half_win, int32 r_half_win',\n",
    "    'raw T cov, raw T coh',\n",
    "    '''\n",
    "    if (i >= nlines*width) return;\n",
    "    int az_win = 2*az_half_win+1;\n",
    "    int r_win = 2*r_half_win+1;\n",
    "    int win = az_win*r_win;\n",
    "    \n",
    "    int ref_az = i/width;\n",
    "    int ref_r = i -ref_az*width;\n",
    "\n",
    "    int sec_az, sec_r;\n",
    "\n",
    "    int m,j; // index of each coherence matrix\n",
    "    int k,l; // index of search window\n",
    "    T _cov; // covariance\n",
    "    float _amp2_m; // sum of amplitude square for image i\n",
    "    float _amp2_j; // sum of amplitude aquare for image j\n",
    "    int rslc_inx_m, rslc_inx_j;\n",
    "    int n; // number of shp\n",
    "\n",
    "    for (m = 0; m < nimages; m++) {\n",
    "        for (j = 0; j < nimages; j++) {\n",
    "            _cov = T(0.0, 0.0);\n",
    "            _amp2_m = 0.0;\n",
    "            _amp2_j = 0.0;\n",
    "            n = 0;\n",
    "            for (k = 0; k < az_win; k++) {\n",
    "                for (l = 0; l < r_win; l++) {\n",
    "                    sec_az = ref_az-az_half_win+k;\n",
    "                    sec_r = ref_r-r_half_win+l;\n",
    "                    if (is_shp[i*win+k*r_win+l] && sec_az >= 0 && sec_az < nlines && sec_r >= 0 && sec_r < width) {\n",
    "                        rslc_inx_m = (sec_az*width+sec_r)*nimages+m;\n",
    "                        rslc_inx_j = (sec_az*width+sec_r)*nimages+j;\n",
    "                        _amp2_m += norm(rslc[rslc_inx_m]);\n",
    "                        _amp2_j += norm(rslc[rslc_inx_j]);\n",
    "                        _cov += rslc[rslc_inx_m]*conj(rslc[rslc_inx_j]);\n",
    "                        n += 1;\n",
    "                        //if (i == 0 && m ==3 && j == 1) {\n",
    "                        //    printf(\"%f\",_cov.real());\n",
    "                        //}\n",
    "                    }\n",
    "                }\n",
    "            }\n",
    "            cov[(i*nimages+m)*nimages+j] = _cov/(float)n;\n",
    "            //if ( i == 0 && m==3 && j ==1 ) printf(\"%d\",((i*nimages+m)*nimages+j));\n",
    "            _amp2_m = sqrt(_amp2_m*_amp2_j);\n",
    "            coh[(i*nimages+m)*nimages+j] = _cov/_amp2_m;\n",
    "        }\n",
    "    }\n",
    "    ''',\n",
    "    name = 'emperical_co_kernel',reduce_dims = False,no_return=True\n",
    ")"
   ]
  },
  {
   "cell_type": "code",
   "execution_count": null,
   "id": "fe0cfcec-4f28-48c2-b64c-8a1533373399",
   "metadata": {},
   "outputs": [],
   "source": [
    "#| export\n",
    "def emperical_co(rslc:cp.ndarray, # rslc stack, dtype: `cupy.complexfloating`\n",
    "                 is_shp:cp.ndarray, # shp bool, dtype: `cupy.bool`\n",
    "                 block_size:int=128, # the CUDA block size, it only affects the calculation speed\n",
    "                )-> tuple[cp.ndarray,cp.ndarray]: # the covariance and coherence matrix `cov` and `coh`\n",
    "    '''\n",
    "    Maximum likelihood covariance estimator.\n",
    "    '''\n",
    "    nlines, width, nimages = rslc.shape\n",
    "    az_win, r_win = is_shp.shape[-2:]\n",
    "    az_half_win = (az_win-1)//2\n",
    "    r_half_win = (r_win-1)//2\n",
    "\n",
    "    cov = cp.empty((nlines,width,nimages,nimages),dtype=rslc.dtype)\n",
    "    coh = cp.empty((nlines,width,nimages,nimages),dtype=rslc.dtype)\n",
    "\n",
    "    _emperical_co_kernel(rslc, is_shp, cp.int32(nlines),cp.int32(width),cp.int32(nimages),\n",
    "                    cp.int32(az_half_win),cp.int32(r_half_win),cov,coh,size = nlines*width,block_size=block_size)\n",
    "    return cov,coh"
   ]
  },
  {
   "cell_type": "markdown",
   "id": "f1a9112d-e913-4566-b98b-89766c640e78",
   "metadata": {},
   "source": [
    "The `cov` and `coh` is defined as:\n",
    "\n",
    "$$\n",
    "cov = E(z_1z_2^*) \\quad coh=\\frac{E(z_1z_2^*)}{\\sqrt{E(|z_1|^2)E(|z_2|^2)}}\n",
    "$$\n",
    "\n",
    "and estimated as:\n",
    "\n",
    "$$\n",
    "cov = \\frac{\\sum_{i=1}^{L}z_1^{i}z_2^{i*}}{L} \\quad coh = \\frac{\\sum_{i=1}^{L}z_1^{i}z_2^{i*}}{\\sqrt(\\sum_{i=1}^{L}|z_1^{i}|^2)(\\sum_{i=1}^{L}|z_2^{i}|^2)}\n",
    "$$\n",
    "\n",
    "using all selected SHPs. Their shapes are [nlines,width,nimages,nimages]."
   ]
  },
  {
   "cell_type": "markdown",
   "id": "dd1add7f-708d-420c-9d9f-9d48baa52829",
   "metadata": {},
   "source": [
    "The `rslc` is a three dimentional cupy `ndarray`. The `dtype` should be `cupy.complex64`. From outerest to innerest, the three dimentions are azimuth, range and image.\n",
    "`is_shp` is a four dimentional cupy `ndarray`. It describes if pixels in the search window are SHP to the central pixel.\n",
    "From outerest ot innerest, they are azimuth, range, secondary pixel relative azimuth, secondary pixel relative range.\n",
    "\n",
    "Here is an example:"
   ]
  },
  {
   "cell_type": "code",
   "execution_count": null,
   "id": "3ad7f705-0a18-46aa-b449-c7bed701021c",
   "metadata": {},
   "outputs": [],
   "source": [
    "#| code-fold: true\n",
    "#| code-summary: \"For generating data for doc and test\"\n",
    "rslc = zarr.open('../../data/rslc.zarr/','r')[600:605,600:610]\n",
    "rslc = cp.asarray(rslc)\n",
    "\n",
    "# SHP selection\n",
    "az_half_win = 1; r_half_win = 2\n",
    "az_win = 2*az_half_win+1; r_win = 2*r_half_win+1\n",
    "\n",
    "rmli = cp.abs(rslc)**2\n",
    "sorted_rmli = cp.sort(rmli,axis=-1)\n",
    "dist,p = ks_test(sorted_rmli,az_half_win=az_half_win,r_half_win=r_half_win)\n",
    "is_shp = (p < 0.05) & (p >= 0.0)\n",
    "\n",
    "# Select DS candidate\n",
    "shp_num = cp.count_nonzero(is_shp,axis=(-2,-1))\n",
    "is_ds_can = shp_num >= 3\n",
    "ds_can_is_shp = is_shp[is_ds_can]\n",
    "ds_can_idx = cp.where(is_ds_can)"
   ]
  },
  {
   "cell_type": "code",
   "execution_count": null,
   "id": "2de5bedc-a805-45ab-b585-b081dda62dcd",
   "metadata": {},
   "outputs": [
    {
     "data": {
      "text/plain": [
       "((5, 10, 17),\n",
       " (5, 10, 3, 5),\n",
       " array([[False, False, False, False,  True],\n",
       "        [False, False,  True, False, False],\n",
       "        [False, False,  True, False, False]]))"
      ]
     },
     "execution_count": null,
     "metadata": {},
     "output_type": "execute_result"
    }
   ],
   "source": [
    "rslc.shape, is_shp.shape, is_shp[2,3]"
   ]
  },
  {
   "cell_type": "markdown",
   "id": "a8b42a0a-d146-46dd-bd06-7ed5f057100b",
   "metadata": {},
   "source": [
    "`rslc` is a stack of 17 rslc images. Each of the image has 5 pixel in azimuth dimention and 10 pixels in range dimention.\n",
    "It shows for pixel (2,3), the (3*5) window around it has 2 SHPs to it (the central one is itself)."
   ]
  },
  {
   "cell_type": "code",
   "execution_count": null,
   "id": "5abbccce-10b2-4668-8eb3-2027fccffa0a",
   "metadata": {},
   "outputs": [
    {
     "data": {
      "text/plain": [
       "((5, 10, 17, 17), (5, 10, 17, 17))"
      ]
     },
     "execution_count": null,
     "metadata": {},
     "output_type": "execute_result"
    }
   ],
   "source": [
    "cov,coh = emperical_co(rslc,is_shp)\n",
    "cov.shape, coh.shape"
   ]
  },
  {
   "cell_type": "markdown",
   "id": "a03ce185-0be5-4067-9b4d-8268bccb25f9",
   "metadata": {},
   "source": [
    "Both `cov` and `coh` are complex data. The shape shows each covarience or coherence matrix is 17 by 17 since there are 17 images.\n",
    "And `cov` and `coh` are matrix for all 5*10 pixels."
   ]
  },
  {
   "cell_type": "code",
   "execution_count": null,
   "id": "add05abe-e482-41a6-bcba-3607a4329d22",
   "metadata": {},
   "outputs": [],
   "source": [
    "#| hide\n",
    "# test\n",
    "# az, r, image, image\n",
    "half_az_win = is_shp.shape[2]//2;\n",
    "half_r_win = is_shp.shape[3]//2;\n",
    "for i, j, k, l in itertools.product(range(rslc.shape[0]),range(rslc.shape[1]),range(rslc.shape[2]),range(rslc.shape[2])):\n",
    "    _cov = 0.0+0.0j\n",
    "    _amp2_k = 0.0\n",
    "    _amp2_l = 0.0\n",
    "    # shp_az, shp_r\n",
    "    n_shp = 0\n",
    "    for m, n in itertools.product(range(is_shp.shape[2]),range(is_shp.shape[3])):\n",
    "        if is_shp[i,j,m,n]:\n",
    "            _cov += rslc[i+m-half_az_win,j+n-half_r_win,k]*rslc[i+m-half_az_win,j+n-half_r_win,l].conj()\n",
    "            _amp2_k += abs(rslc[i+m-half_az_win,j+n-half_r_win,k])**2\n",
    "            _amp2_l += abs(rslc[i+m-half_az_win,j+n-half_r_win,l])**2\n",
    "            n_shp+=1\n",
    "    assert abs(_cov/n_shp-cov[i,j,k,l])<1.0e-6\n",
    "    assert abs(_cov/math.sqrt(_amp2_k*_amp2_l) - coh[i,j,k,l]) < 1.0e-6"
   ]
  },
  {
   "cell_type": "code",
   "execution_count": null,
   "id": "83c7309c-0462-403f-91bd-862aac9697c8",
   "metadata": {},
   "outputs": [],
   "source": [
    "#| export\n",
    "# I is int32* or int64*\n",
    "_emperical_co_sp_kernel = cp.ElementwiseKernel(\n",
    "    'raw T rslc, raw I az_idx, raw I r_idx, raw bool is_shp_sp, int32 nlines, int32 width, int32 nimages, int32 az_half_win, int32 r_half_win, int32 num_sp',\n",
    "    'raw T cov, raw T coh',\n",
    "    '''\n",
    "    if (i >= num_sp) return;\n",
    "    int az_win = 2*az_half_win+1;\n",
    "    int r_win = 2*r_half_win+1;\n",
    "    int win = az_win*r_win;\n",
    "    \n",
    "    int ref_az = az_idx[i];\n",
    "    int ref_r = r_idx[i];\n",
    "\n",
    "    int sec_az, sec_r;\n",
    "\n",
    "    int m,j; // index of each coherence matrix\n",
    "    int k,l; // index of search window\n",
    "    T _cov; // covariance\n",
    "    float _amp2_m; // sum of amplitude square for image i\n",
    "    float _amp2_j; // sum of amplitude aquare for image j\n",
    "    int rslc_inx_m, rslc_inx_j;\n",
    "    int n; // number of shp\n",
    "\n",
    "    for (m = 0; m < nimages; m++) {\n",
    "        for (j = 0; j < nimages; j++) {\n",
    "            _cov = T(0.0, 0.0);\n",
    "            _amp2_m = 0.0;\n",
    "            _amp2_j = 0.0;\n",
    "            n = 0;\n",
    "            for (k = 0; k < az_win; k++) {\n",
    "                for (l = 0; l < r_win; l++) {\n",
    "                    sec_az = ref_az-az_half_win+k;\n",
    "                    sec_r = ref_r-r_half_win+l;\n",
    "                    if (is_shp_sp[i*win+k*r_win+l] && sec_az >= 0 && sec_az < nlines && sec_r >= 0 && sec_r < width) {\n",
    "                        rslc_inx_m = (sec_az*width+sec_r)*nimages+m;\n",
    "                        rslc_inx_j = (sec_az*width+sec_r)*nimages+j;\n",
    "                        _amp2_m += norm(rslc[rslc_inx_m]);\n",
    "                        _amp2_j += norm(rslc[rslc_inx_j]);\n",
    "                        _cov += rslc[rslc_inx_m]*conj(rslc[rslc_inx_j]);\n",
    "                        n += 1;\n",
    "                        //if (i == 0 && m ==3 && j == 1) {\n",
    "                        //    printf(\"%f\",_cov.real());\n",
    "                        //}\n",
    "                    }\n",
    "                }\n",
    "            }\n",
    "            cov[(i*nimages+m)*nimages+j] = _cov/(float)n;\n",
    "            //if ( i == 0 && m==3 && j ==1 ) printf(\"%d\",((i*nimages+m)*nimages+j));\n",
    "            _amp2_m = sqrt(_amp2_m*_amp2_j);\n",
    "            coh[(i*nimages+m)*nimages+j] = _cov/_amp2_m;\n",
    "        }\n",
    "    }\n",
    "    ''',\n",
    "    name = 'emperical_co_sp_kernel',reduce_dims = False,no_return=True\n",
    ")"
   ]
  },
  {
   "cell_type": "code",
   "execution_count": null,
   "id": "918f3c7b-9cdf-448b-a729-035c3c599c80",
   "metadata": {},
   "outputs": [],
   "source": [
    "#| export\n",
    "def emperical_co_sp(rslc:cp.ndarray, # rslc stack, dtype: `cupy.complexfloating`\n",
    "                    sp_idx:cp.ndarray, # index of sparse data [azimuth_index, range_index], dtype: `cupy.int`, shape: (n_sp,2)\n",
    "                    is_shp_sp:cp.ndarray, # shp bool, dtype: `cupy.bool`\n",
    "                    block_size:int=128, # the CUDA block size, it only affects the calculation speed\n",
    "                   )-> tuple[cp.ndarray,cp.ndarray]: # the covariance and coherence matrix `cov` and `coh`\n",
    "    '''\n",
    "    Maximum likelihood covariance estimator for sparse data.\n",
    "    '''\n",
    "    nlines, width, nimages = rslc.shape\n",
    "    az_win, r_win = is_shp_sp.shape[-2:]\n",
    "    az_half_win = (az_win-1)//2\n",
    "    r_half_win = (r_win-1)//2\n",
    "    az_idx = sp_idx[0]; r_idx = sp_idx[1]\n",
    "    num_sp = az_idx.shape[0]\n",
    "\n",
    "    \n",
    "    cov = cp.empty((num_sp,nimages,nimages),dtype=rslc.dtype)\n",
    "    coh = cp.empty((num_sp,nimages,nimages),dtype=rslc.dtype)\n",
    "\n",
    "    _emperical_co_sp_kernel(rslc, az_idx, r_idx, is_shp_sp, cp.int32(nlines),cp.int32(width),cp.int32(nimages),\n",
    "                    cp.int32(az_half_win),cp.int32(r_half_win),cp.int32(num_sp),cov,coh,size = num_sp,block_size=block_size)\n",
    "    return cov,coh"
   ]
  },
  {
   "cell_type": "markdown",
   "id": "bb24a94c-d24c-4151-a33d-6eaeb7694d31",
   "metadata": {},
   "source": [
    "`emperical_co_sp` is the `emperical_co` on sparse data, e.g., DSs. `rslc` is same as `emperical_co`. `sp_idx` is the index, i.e., a tuple of (azimuth_idx, range_idx). Each index is 1D array. `is_shp_sp` is similar to `is_shp` in `emperical_co` but it only contains information about the sparse data. It is a 3D array with shape [number_of_point,az_win,r_win].\n",
    "\n",
    "Compared with `emperical_co`, `emperical_co_sp` only estimate coherence/covariance at specific position so the memory usage is much small.\n",
    "\n",
    "Example:"
   ]
  },
  {
   "cell_type": "code",
   "execution_count": null,
   "id": "1d9211f0-0fb8-4ecd-b4df-649a6c1c0e51",
   "metadata": {},
   "outputs": [],
   "source": [
    "#| code-fold: true\n",
    "#| code-summary: \"Code for generating data for doc\"\n",
    "rslc = zarr.open('../../data/rslc.zarr/','r')[600:605,600:610]\n",
    "rslc = cp.asarray(rslc)\n",
    "\n",
    "# SHP selection\n",
    "az_half_win = 1; r_half_win = 2\n",
    "az_win = 2*az_half_win+1; r_win = 2*r_half_win+1\n",
    "\n",
    "rmli = cp.abs(rslc)**2\n",
    "sorted_rmli = cp.sort(rmli,axis=-1)\n",
    "dist,p = ks_test(sorted_rmli,az_half_win=az_half_win,r_half_win=r_half_win)\n",
    "is_shp = (p < 0.05) & (p >= 0.0)\n",
    "\n",
    "# Select DS candidate\n",
    "shp_num = cp.count_nonzero(is_shp,axis=(-2,-1))\n",
    "is_ds_can = shp_num >= 3\n",
    "ds_can_is_shp = is_shp[is_ds_can]\n",
    "ds_can_idx = cp.where(is_ds_can)"
   ]
  },
  {
   "cell_type": "code",
   "execution_count": null,
   "id": "67a1b396-e738-4320-af80-13d6d8ea3cc7",
   "metadata": {},
   "outputs": [
    {
     "data": {
      "text/plain": [
       "((5, 10, 17),\n",
       " (array([2, 3, 3, 4, 4]), array([3, 3, 5, 1, 4])),\n",
       " array([[[False, False, False, False,  True],\n",
       "         [False, False,  True, False, False],\n",
       "         [False, False,  True, False, False]],\n",
       " \n",
       "        [[False, False,  True, False, False],\n",
       "         [False, False,  True, False, False],\n",
       "         [False, False, False,  True, False]],\n",
       " \n",
       "        [[False, False, False, False, False],\n",
       "         [False, False,  True, False, False],\n",
       "         [ True,  True, False, False, False]],\n",
       " \n",
       "        [[False, False,  True, False, False],\n",
       "         [False,  True,  True, False, False],\n",
       "         [False, False, False, False, False]],\n",
       " \n",
       "        [[False,  True,  True,  True, False],\n",
       "         [False, False,  True, False,  True],\n",
       "         [False, False, False, False, False]]]))"
      ]
     },
     "execution_count": null,
     "metadata": {},
     "output_type": "execute_result"
    }
   ],
   "source": [
    "rslc.shape,ds_can_idx,ds_can_is_shp"
   ]
  },
  {
   "cell_type": "markdown",
   "id": "f0c49459-542f-4ce1-bdfa-28e41a9869b9",
   "metadata": {},
   "source": [
    "`rslc` is a stack of 17 rslc images. Each of the image has 5 pixel in azimuth dimention and 10 pixels in range dimention.\n",
    "`ds_can_idx` shows the index of the DS candidates and `ds_can_is_shp` shows the corrosponding SHPs."
   ]
  },
  {
   "cell_type": "code",
   "execution_count": null,
   "id": "ab0b0b18-56f0-45a6-9a92-e914f2f60bc4",
   "metadata": {},
   "outputs": [],
   "source": [
    "ds_can_cov, ds_can_coh = emperical_co_sp(rslc,ds_can_idx,ds_can_is_shp)"
   ]
  },
  {
   "cell_type": "code",
   "execution_count": null,
   "id": "0eabfde1-2ecc-4525-a81a-ecd182558a65",
   "metadata": {},
   "outputs": [],
   "source": [
    "#| hide\n",
    "cov,coh = emperical_co(rslc,is_shp)\n",
    "assert_array_almost_equal(cov[is_ds_can],ds_can_cov)\n",
    "assert_array_almost_equal(coh[is_ds_can],ds_can_coh)"
   ]
  },
  {
   "cell_type": "markdown",
   "id": "7838b3c1-3766-4d10-8c26-c181a046648e",
   "metadata": {},
   "source": [
    "## Covariance and Coherence Matrix Regularizer"
   ]
  },
  {
   "cell_type": "code",
   "execution_count": null,
   "id": "8d57844f-8b04-4da7-82c4-1d77a78e017b",
   "metadata": {},
   "outputs": [],
   "source": [
    "#| export\n",
    "def isPD(co:cp.ndarray, # absolute value of complex coherence/covariance stack\n",
    "         )-> cp.ndarray: # bool array indicating wheather coherence/covariance is positive define\n",
    "    L = cp.linalg.cholesky(co)\n",
    "    is_PD = cp.isfinite(L).all(axis=(-2,-1))\n",
    "    return is_PD"
   ]
  },
  {
   "cell_type": "markdown",
   "id": "6d15f091-16c4-4f8a-ac79-9ac7f0a0e223",
   "metadata": {},
   "source": [
    "This function tells if the matrix is positive defined or not. "
   ]
  },
  {
   "cell_type": "code",
   "execution_count": null,
   "id": "64102a7e-790f-4e23-9032-3fff8081fa7c",
   "metadata": {},
   "outputs": [],
   "source": [
    "#| code-fold: true\n",
    "#| code-summary: \"Code for generating data for doc\"\n",
    "rslc = zarr.open('../../data/rslc.zarr/','r')[600:650,600:650]\n",
    "rslc = cp.asarray(rslc)\n",
    "\n",
    "# SHP selection\n",
    "az_half_win = 5; r_half_win = 5\n",
    "az_win = 2*az_half_win+1; r_win = 2*r_half_win+1\n",
    "\n",
    "rmli = cp.abs(rslc)**2\n",
    "sorted_rmli = cp.sort(rmli,axis=-1)\n",
    "dist,p = ks_test(sorted_rmli,az_half_win=az_half_win,r_half_win=r_half_win)\n",
    "is_shp = (p < 0.05) & (p >= 0.0)\n",
    "\n",
    "# Select DS candidate\n",
    "shp_num = cp.count_nonzero(is_shp,axis=(-2,-1))\n",
    "is_ds_can = shp_num >= 50\n",
    "ds_can_is_shp = is_shp[is_ds_can]\n",
    "ds_can_idx = cp.where(is_ds_can)\n",
    "\n",
    "ds_can_coh = emperical_co_sp(rslc,ds_can_idx,ds_can_is_shp)[1]"
   ]
  },
  {
   "cell_type": "code",
   "execution_count": null,
   "id": "a613fb00-cba5-4470-9d13-c08d22a59a7f",
   "metadata": {},
   "outputs": [
    {
     "data": {
      "text/plain": [
       "(149, 17, 17)"
      ]
     },
     "execution_count": null,
     "metadata": {},
     "output_type": "execute_result"
    }
   ],
   "source": [
    "ds_can_coh.shape"
   ]
  },
  {
   "cell_type": "code",
   "execution_count": null,
   "id": "1c483118-6d27-44fa-9ea7-e5173c220fdb",
   "metadata": {},
   "outputs": [],
   "source": [
    "isPD_ds_can = isPD(ds_can_coh)"
   ]
  },
  {
   "cell_type": "code",
   "execution_count": null,
   "id": "c671e6ec-0241-4ecb-a27d-a27d51136fc3",
   "metadata": {},
   "outputs": [
    {
     "data": {
      "text/plain": [
       "array([ True,  True,  True,  True,  True,  True,  True,  True,  True,\n",
       "        True,  True,  True,  True,  True,  True,  True,  True,  True,\n",
       "        True,  True,  True,  True,  True,  True,  True,  True,  True,\n",
       "        True,  True,  True,  True,  True,  True,  True,  True,  True,\n",
       "        True,  True,  True,  True,  True,  True,  True,  True,  True,\n",
       "        True,  True,  True,  True,  True,  True,  True,  True,  True,\n",
       "        True,  True,  True,  True,  True,  True,  True,  True,  True,\n",
       "        True,  True,  True,  True,  True,  True,  True,  True,  True,\n",
       "        True,  True,  True,  True,  True,  True,  True,  True,  True,\n",
       "        True,  True,  True,  True,  True,  True,  True,  True,  True,\n",
       "        True,  True,  True,  True,  True,  True,  True,  True,  True,\n",
       "        True,  True,  True,  True,  True,  True,  True,  True,  True,\n",
       "        True,  True,  True,  True,  True,  True,  True,  True,  True,\n",
       "        True,  True,  True,  True,  True,  True,  True,  True,  True,\n",
       "        True,  True,  True,  True,  True,  True,  True,  True,  True,\n",
       "        True,  True,  True,  True,  True,  True,  True,  True,  True,\n",
       "        True,  True,  True,  True,  True])"
      ]
     },
     "execution_count": null,
     "metadata": {},
     "output_type": "execute_result"
    }
   ],
   "source": [
    "isPD_ds_can"
   ]
  },
  {
   "cell_type": "markdown",
   "id": "6c772a36-2c72-49a6-9a8e-be3529597085",
   "metadata": {},
   "source": [
    "All coherence matrix are positive defined."
   ]
  },
  {
   "cell_type": "code",
   "execution_count": null,
   "id": "4e2b92ca-af8d-4a4e-9f51-753accf08fcd",
   "metadata": {},
   "outputs": [],
   "source": [
    "#| export\n",
    "'''\n",
    "    The method is presented in [1]. John D'Errico implented it in MATLAB [2] under BSD\n",
    "    Licence and [3] implented it with Python/Numpy based on [2] also under BSD Licence.\n",
    "    This is a cupy implentation with stack of matrix supported.\n",
    "\n",
    "    [1] N.J. Higham, \"Computing a nearest symmetric positive semidefinite\n",
    "    matrix\" (1988): https://doi.org/10.1016/0024-3795(88)90223-6\n",
    "    \n",
    "    [2] https://www.mathworks.com/matlabcentral/fileexchange/42885-nearestspd\n",
    "    \n",
    "    [3] https://gist.github.com/fasiha/fdb5cec2054e6f1c6ae35476045a0bbd\n",
    "'''\n",
    "def nearestPD(co:cp.ndarray, # stack of matrix with shape [...,N,N]\n",
    "             )-> cp.ndarray: # nearest positive definite matrix of input, shape [...,N,N]\n",
    "    \"\"\"Find the nearest positive-definite matrix to input matrix.\"\"\"\n",
    "\n",
    "    B = (co + cp.swapaxes(co,-1,-2))/2\n",
    "    s, V = cp.linalg.svd(co)[1:]\n",
    "    I = cp.eye(co.shape[-1],dtype=co.dtype)\n",
    "    S = s[...,None]*I\n",
    "    del s\n",
    "\n",
    "    H = cp.matmul(cp.swapaxes(V,-1,-2), cp.matmul(S, V))\n",
    "    del S, V\n",
    "    A2 = (B + H) / 2\n",
    "    del B, H\n",
    "    A3 = (A2 + cp.swapaxes(A2,-1,-2))/2\n",
    "    del A2\n",
    "\n",
    "    if wherePD(A3).all():\n",
    "        return A3\n",
    "    \n",
    "    co_norm = cp.linalg.norm(co,axis=(-2,-1))\n",
    "    spacing = cp.nextafter(co_norm,co_norm+1.0)-co_norm\n",
    "    \n",
    "    k = 0\n",
    "    while True:\n",
    "        isPD = wherePD(A3)\n",
    "        isPD_all = isPD.all()\n",
    "        if isPD_all or k>=100:\n",
    "            break\n",
    "        k+=1\n",
    "        mineig = cp.amin(cp.linalg.eigvalsh(A3),axis=-1)\n",
    "        assert cp.isfinite(mineig).all()\n",
    "        A3 += (~isPD[...,None,None] * I) * (-mineig * k**2 + spacing)[...,None,None]\n",
    "    #print(k)\n",
    "    return A3"
   ]
  },
  {
   "cell_type": "markdown",
   "id": "370ec907-2733-4bb7-891d-6169997a5f9e",
   "metadata": {},
   "source": [
    "`nearest` means the Frobenius norm of the difference is minimized."
   ]
  },
  {
   "cell_type": "code",
   "execution_count": null,
   "id": "4ed89f9c-87e7-4ebe-853b-59c742e45d18",
   "metadata": {},
   "outputs": [],
   "source": [
    "#| export\n",
    "def regularize_spectral(coh:cp.ndarray, # stack of matrix with shape [...,N,N]\n",
    "                        beta:Union[float, cp.ndarray], # the regularization parameter, a float number or cupy ndarray with shape [...]\n",
    "                        )-> cp.ndarray: # regularized matrix, shape [...,N,N]\n",
    "    '''\n",
    "    Spectral regularizer for coherence matrix.\n",
    "    '''\n",
    "    I = cp.eye(coh.shape[-1],dtype=coh.dtype)\n",
    "    beta = cp.asarray(beta)[...,None,None]\n",
    "\n",
    "    regularized_coh = (1-beta)*coh + beta* I\n",
    "    return regularized_coh"
   ]
  },
  {
   "cell_type": "markdown",
   "id": "a1062aa0-c908-41d3-ba34-c47b80eedf86",
   "metadata": {},
   "source": [
    "`regularize_spectral` can regularize the absolute value of coherence matrix for better phase linking.\n",
    "It is first presented in [@zwiebackCheapValidRegularizers2022a]."
   ]
  },
  {
   "cell_type": "markdown",
   "id": "90cf906e-e467-4247-9543-b7b17db17e93",
   "metadata": {},
   "source": [
    "Examples:"
   ]
  },
  {
   "cell_type": "code",
   "execution_count": null,
   "id": "d2c8deda-51a2-41a2-bad9-695dd634fe30",
   "metadata": {},
   "outputs": [],
   "source": [
    "#| code-fold: true\n",
    "#| code-summary: \"Code for generating data for doc\"\n",
    "rslc = zarr.open('../../data/rslc.zarr/','r')[600:605,600:610]\n",
    "rslc = cp.asarray(rslc)\n",
    "\n",
    "# SHP selection\n",
    "az_half_win = 1; r_half_win = 2\n",
    "az_win = 2*az_half_win+1; r_win = 2*r_half_win+1\n",
    "\n",
    "rmli = cp.abs(rslc)**2\n",
    "sorted_rmli = cp.sort(rmli,axis=-1)\n",
    "dist,p = ks_test(sorted_rmli,az_half_win=az_half_win,r_half_win=r_half_win)\n",
    "is_shp = (p < 0.05) & (p >= 0.0)\n",
    "\n",
    "cov,coh = emperical_co(rslc,is_shp)"
   ]
  },
  {
   "cell_type": "code",
   "execution_count": null,
   "id": "d1ecdf5a-2fb7-4241-a29d-6c89755f0af4",
   "metadata": {},
   "outputs": [
    {
     "data": {
      "text/plain": [
       "(5, 10, 17, 17)"
      ]
     },
     "execution_count": null,
     "metadata": {},
     "output_type": "execute_result"
    }
   ],
   "source": [
    "coh.shape"
   ]
  },
  {
   "cell_type": "code",
   "execution_count": null,
   "id": "2e7aedb4-8bc4-4a11-93c3-7c29331416d1",
   "metadata": {},
   "outputs": [],
   "source": [
    "regularized_coh1 = regularize_spectral(coh,0.1)"
   ]
  },
  {
   "cell_type": "markdown",
   "id": "d0606a6d-3048-4e5e-b6c1-d1f32b749a98",
   "metadata": {},
   "source": [
    "More general, `bata` can be a `cp.ndarray`:"
   ]
  },
  {
   "cell_type": "code",
   "execution_count": null,
   "id": "735f8970-8c67-4401-844c-219e981117b5",
   "metadata": {},
   "outputs": [],
   "source": [
    "beta = cp.ones(coh.shape[:-2])/10\n",
    "regularized_coh2 = regularize_spectral(coh,beta)"
   ]
  },
  {
   "cell_type": "code",
   "execution_count": null,
   "id": "51962d9c-83a4-47d4-83ce-e149683c1002",
   "metadata": {},
   "outputs": [],
   "source": [
    "#| hide\n",
    "assert_array_almost_equal(regularized_coh1,regularized_coh2)"
   ]
  },
  {
   "cell_type": "code",
   "execution_count": null,
   "id": "ce82e557-133d-43bd-a9c5-2f48a68b0021",
   "metadata": {},
   "outputs": [],
   "source": [
    "#| hide\n",
    "import nbdev; nbdev.nbdev_export()"
   ]
  },
  {
   "cell_type": "code",
   "execution_count": null,
   "id": "0b5fa32f-6fd5-45be-b5d0-2b9b726b8d7d",
   "metadata": {},
   "outputs": [],
   "source": []
  }
 ],
 "metadata": {
  "kernelspec": {
   "display_name": "Python [conda env:root]",
   "language": "python",
   "name": "conda-root-py"
  }
 },
 "nbformat": 4,
 "nbformat_minor": 5
}
