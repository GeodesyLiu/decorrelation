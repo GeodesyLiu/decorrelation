{
 "cells": [
  {
   "cell_type": "markdown",
   "id": "ed055a83-94be-4d36-b89f-5347579058a1",
   "metadata": {},
   "source": [
    "# co\n",
    "\n",
    "> Covariance Matrix and Coherence Matrix Estimation"
   ]
  },
  {
   "cell_type": "code",
   "execution_count": null,
   "id": "812250d4-bf39-41ab-95ed-80911c2ab53a",
   "metadata": {},
   "outputs": [],
   "source": [
    "#| default_exp co"
   ]
  },
  {
   "cell_type": "code",
   "execution_count": null,
   "id": "02c2c334-26c2-466a-89bc-6b2f35eadcf3",
   "metadata": {},
   "outputs": [],
   "source": [
    "#| hide\n",
    "from nbdev.showdoc import *"
   ]
  },
  {
   "cell_type": "code",
   "execution_count": null,
   "id": "415a37fd-6c1b-4c0b-a911-46140ec78c5c",
   "metadata": {},
   "outputs": [],
   "source": [
    "import numpy as np\n",
    "import itertools\n",
    "from decorrelation.shp import ks_test\n",
    "import math"
   ]
  },
  {
   "cell_type": "code",
   "execution_count": null,
   "id": "21218c00-7881-41e9-b422-5956c5ef4119",
   "metadata": {},
   "outputs": [],
   "source": [
    "#| export\n",
    "import cupy as cp"
   ]
  },
  {
   "cell_type": "code",
   "execution_count": null,
   "id": "4a47217e-fca8-4cd3-8e42-d2f03305e5e6",
   "metadata": {},
   "outputs": [],
   "source": [
    "_co_mat_kernel = cp.ElementwiseKernel(\n",
    "    'raw T rslc, raw bool is_shp, int32 nlines, int32 width, int32 nimages, int32 az_half_win, int32 r_half_win',\n",
    "    'raw T cov, raw T coh',\n",
    "    '''\n",
    "    if (i >= nlines*width) return;\n",
    "    int az_win = 2*az_half_win+1;\n",
    "    int r_win = 2*r_half_win+1;\n",
    "    int win = az_win*r_win;\n",
    "    \n",
    "    int ref_az = i/width;\n",
    "    int ref_r = i -ref_az*width;\n",
    "\n",
    "    int sec_az, sec_r;\n",
    "\n",
    "    int m,j; // index of each coherence matrix\n",
    "    int k,l; // index of search window\n",
    "    T _cov; // covariance\n",
    "    float _amp2_m; // sum of amplitude square for image i\n",
    "    float _amp2_j; // sum of amplitude aquare for image j\n",
    "    int rslc_inx_m, rslc_inx_j;\n",
    "\n",
    "    for (m = 0; m < nimages; m++) {\n",
    "        for (j = 0; j < nimages; j++) {\n",
    "            _cov = T(0.0, 0.0);\n",
    "            _amp2_m = 0.0;\n",
    "            _amp2_j = 0.0;\n",
    "            for (k = 0; k < az_win; k++) {\n",
    "                for (l = 0; l < r_win; l++) {\n",
    "                    sec_az = ref_az-az_half_win+k;\n",
    "                    sec_r = ref_r-r_half_win+l;\n",
    "                    if (is_shp[i*win+k*r_win+l] && sec_az >= 0 && sec_az < nlines && sec_r >= 0 && sec_r < width) {\n",
    "                        rslc_inx_m = (sec_az*width+sec_r)*nimages+m;\n",
    "                        rslc_inx_j = (sec_az*width+sec_r)*nimages+j;\n",
    "                        _amp2_m += norm(rslc[rslc_inx_m]);\n",
    "                        _amp2_j += norm(rslc[rslc_inx_j]);\n",
    "                        _cov += rslc[rslc_inx_m]*conj(rslc[rslc_inx_j]);\n",
    "                        //if (i == 0 && m ==3 && j == 1) {\n",
    "                        //    printf(\"%f\",_cov.real());\n",
    "                        //}\n",
    "                    }\n",
    "                }\n",
    "            }\n",
    "            cov[(i*nimages+m)*nimages+j] = _cov;\n",
    "            //if ( i == 0 && m==3 && j ==1 ) printf(\"%d\",((i*nimages+m)*nimages+j));\n",
    "            _amp2_m = sqrt(_amp2_m*_amp2_j);\n",
    "            coh[(i*nimages+m)*nimages+j] = _cov/_amp2_m;\n",
    "        }\n",
    "    }\n",
    "    ''',\n",
    "    name = 'co_mat_kernel',reduce_dims = False,no_return=True\n",
    ")"
   ]
  },
  {
   "cell_type": "code",
   "execution_count": null,
   "id": "fe0cfcec-4f28-48c2-b64c-8a1533373399",
   "metadata": {},
   "outputs": [],
   "source": [
    "#| export\n",
    "def co_mat(rslc:cp.ndarray, # rslc stack, dtype: `cupy.complexfloating`\n",
    "            is_shp:cp.ndarray, # shp bool, dtype: `cupy.bool`\n",
    "            block_size:int=128, # the CUDA block size, it only affects the calculation speed\n",
    "            )-> tuple: # the covariance and coherence matrix\n",
    "    nlines, width, nimages = rslc.shape\n",
    "    az_win, r_win = is_shp.shape[-2:]\n",
    "    az_half_win = (az_win-1)//2\n",
    "    r_half_win = (r_win-1)//2\n",
    "\n",
    "    cov = cp.zeros((nlines,width,nimages,nimages),dtype=rslc.dtype)\n",
    "    coh = cp.empty((nlines,width,nimages,nimages),dtype=rslc.dtype)\n",
    "\n",
    "    _co_mat_kernel(rslc, is_shp, cp.int32(nlines),cp.int32(width),cp.int32(nimages),\n",
    "                    cp.int32(az_half_win),cp.int32(r_half_win),cov,coh,size = nlines*width,block_size=block_size)\n",
    "    return cov,coh"
   ]
  },
  {
   "cell_type": "markdown",
   "id": "dd1add7f-708d-420c-9d9f-9d48baa52829",
   "metadata": {},
   "source": [
    "The `rslc` is a three dimentional cupy `ndarray`. The `dtype` should be `cupy.complex64`. From outerest to innerest, the three dimentions are azimuth, range and image.\n",
    "`is_shp` is a four dimentional cupy `ndarray`. From outerest ot innerest, they are azimuth, range, secondary pixel relative azimuth, secondary pixel relative range.\n",
    "\n",
    "Here is an example:"
   ]
  },
  {
   "cell_type": "code",
   "execution_count": null,
   "id": "2de5bedc-a805-45ab-b585-b081dda62dcd",
   "metadata": {},
   "outputs": [
    {
     "data": {
      "text/plain": [
       "(5, 10, 5)"
      ]
     },
     "execution_count": null,
     "metadata": {},
     "output_type": "execute_result"
    }
   ],
   "source": [
    "#import cupy as cp\n",
    "rslc = cp.load('../../data/rslc.npy')\n",
    "rslc = rslc[:5,:10,:5]\n",
    "rslc.shape"
   ]
  },
  {
   "cell_type": "markdown",
   "id": "a8b42a0a-d146-46dd-bd06-7ed5f057100b",
   "metadata": {},
   "source": [
    "`rslc` is a stack of 5 rslc images. Each of the image has 5 pixel in azimuth dimention and 10 pixels in range dimention.\n",
    "Apply ks test on it:"
   ]
  },
  {
   "cell_type": "code",
   "execution_count": null,
   "id": "27805838-f953-4a32-8027-5c33bc81d3ff",
   "metadata": {},
   "outputs": [],
   "source": [
    "rmli = cp.abs(rslc)**2\n",
    "sorted_rmli = cp.sort(rmli,axis=-1)\n",
    "dist, p = ks_test(sorted_rmli,az_half_win=1,r_half_win=1)"
   ]
  },
  {
   "cell_type": "markdown",
   "id": "fff0ce2b-f7f5-463c-b196-c2b81218fb67",
   "metadata": {},
   "source": [
    "Seclect SHP based on p value:"
   ]
  },
  {
   "cell_type": "code",
   "execution_count": null,
   "id": "6ba26fb0-c5c2-41a6-bcea-a9b6755e0417",
   "metadata": {},
   "outputs": [],
   "source": [
    "is_shp = (p < 0.005) & (p >= 0.0)"
   ]
  },
  {
   "cell_type": "markdown",
   "id": "c07435a2-3a2b-4d2e-bb82-4fb903b0c52f",
   "metadata": {},
   "source": [
    "Estimate the covarience and coherence matrix: "
   ]
  },
  {
   "cell_type": "code",
   "execution_count": null,
   "id": "5abbccce-10b2-4668-8eb3-2027fccffa0a",
   "metadata": {},
   "outputs": [
    {
     "data": {
      "text/plain": [
       "((5, 10, 5, 5), (5, 10, 5, 5))"
      ]
     },
     "execution_count": null,
     "metadata": {},
     "output_type": "execute_result"
    }
   ],
   "source": [
    "cov,coh = co_mat(rslc,is_shp)\n",
    "cov.shape, coh.shape"
   ]
  },
  {
   "cell_type": "markdown",
   "id": "a03ce185-0be5-4067-9b4d-8268bccb25f9",
   "metadata": {},
   "source": [
    "Both `cov` and `coh` are complex data. The shape shows each covarience or coherence matrix is 5 by 5 since there are 5 images.\n",
    "And `cov` and `coh` are matrix for all 5*10 pixels."
   ]
  },
  {
   "cell_type": "code",
   "execution_count": null,
   "id": "add05abe-e482-41a6-bcba-3607a4329d22",
   "metadata": {},
   "outputs": [],
   "source": [
    "#| hide\n",
    "# test\n",
    "\n",
    "# az, r, image, image\n",
    "half_az_win = is_shp.shape[2]//2;\n",
    "half_r_win = is_shp.shape[3]//2;\n",
    "for i, j, k, l in itertools.product(range(rslc.shape[0]),range(rslc.shape[1]),range(rslc.shape[2]),range(rslc.shape[2])):\n",
    "    _cov = 0.0+0.0j\n",
    "    _amp2_k = 0.0\n",
    "    _amp2_l = 0.0\n",
    "    # shp_az, shp_r\n",
    "    for m, n in itertools.product(range(is_shp.shape[2]),range(is_shp.shape[3])):\n",
    "        if is_shp[i,j,m,n]:\n",
    "            _cov += rslc[i+m-half_az_win,j+n-half_r_win,k]*rslc[i+m-half_az_win,j+n-half_r_win,l].conj()\n",
    "            _amp2_k += abs(rslc[i+m-half_az_win,j+n-half_r_win,k])**2\n",
    "            _amp2_l += abs(rslc[i+m-half_az_win,j+n-half_r_win,l])**2\n",
    "    assert abs(_cov-cov[i,j,k,l])<1.0e-7\n",
    "    assert abs(_cov/math.sqrt(_amp2_k*_amp2_l) - coh[i,j,k,l]) < 1.0e-6"
   ]
  },
  {
   "cell_type": "code",
   "execution_count": null,
   "id": "ce82e557-133d-43bd-a9c5-2f48a68b0021",
   "metadata": {},
   "outputs": [],
   "source": [
    "#| hide\n",
    "import nbdev; nbdev.nbdev_export()"
   ]
  }
 ],
 "metadata": {
  "kernelspec": {
   "display_name": "Python 3 (ipykernel)",
   "language": "python",
   "name": "python3"
  }
 },
 "nbformat": 4,
 "nbformat_minor": 5
}
