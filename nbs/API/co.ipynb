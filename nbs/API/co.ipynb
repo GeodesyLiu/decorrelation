{
 "cells": [
  {
   "cell_type": "markdown",
   "id": "ed055a83-94be-4d36-b89f-5347579058a1",
   "metadata": {},
   "source": [
    "# co\n",
    "\n",
    "> Covariance Matrix and Coherence Matrix Estimation"
   ]
  },
  {
   "cell_type": "code",
   "execution_count": null,
   "id": "812250d4-bf39-41ab-95ed-80911c2ab53a",
   "metadata": {},
   "outputs": [],
   "source": [
    "#| default_exp co"
   ]
  },
  {
   "cell_type": "code",
   "execution_count": null,
   "id": "02c2c334-26c2-466a-89bc-6b2f35eadcf3",
   "metadata": {},
   "outputs": [],
   "source": [
    "#| hide\n",
    "from nbdev.showdoc import *"
   ]
  },
  {
   "cell_type": "code",
   "execution_count": null,
   "id": "415a37fd-6c1b-4c0b-a911-46140ec78c5c",
   "metadata": {},
   "outputs": [],
   "source": [
    "#| hide\n",
    "# import for test\n",
    "import numpy as np\n",
    "import itertools"
   ]
  },
  {
   "cell_type": "code",
   "execution_count": null,
   "id": "21218c00-7881-41e9-b422-5956c5ef4119",
   "metadata": {},
   "outputs": [],
   "source": [
    "#| export\n",
    "import cupy as cp\n",
    "import math"
   ]
  },
  {
   "cell_type": "code",
   "execution_count": null,
   "id": "622502c2-6f44-4bec-89f0-47545d3416ff",
   "metadata": {},
   "outputs": [],
   "source": [
    "#| export\n",
    "# this function could be faster if the reducing is done 2 by 2\n",
    "_co_mat_kernel = cp.RawKernel(r'''\n",
    "#include <cuComplex.h>\n",
    "\n",
    "extern \"C\" __global__\n",
    "void co_mat(const cuFloatComplex* rslc, const bool* is_shp, const int nlines, const int width, const int nimages, const int az_half_win,const int r_half_win, cuFloatComplex* cov, cuFloatComplex* coh) {\n",
    "    int tid = blockDim.x * blockIdx.x + threadIdx.x;\n",
    "    if (tid >= nlines*width) return;\n",
    "    int az_win = 2*az_half_win+1;\n",
    "    int r_win = 2*r_half_win+1;\n",
    "    int win = az_win*r_win;\n",
    "    \n",
    "    int ref_az = tid/width;\n",
    "    int ref_r = tid -ref_az*width;\n",
    "\n",
    "    int sec_az, sec_r;\n",
    "\n",
    "    int i,j; // index of each coherence matrix\n",
    "    int k,l; // index of search window\n",
    "    cuFloatComplex _cov; // covariance\n",
    "    float _amp2_i; // sum of amplitude square for image i\n",
    "    float _amp2_j; // sum of amplitude aquare for image j\n",
    "    int rslc_inx_i, rslc_inx_j;\n",
    "\n",
    "    for (i = 0; i < nimages; i++) {\n",
    "        for (j = 0; j < nimages; j++) {\n",
    "            _cov = make_cuFloatComplex(0.0, 0.0);\n",
    "            _amp2_i = 0.0;\n",
    "            _amp2_j = 0.0;\n",
    "            for (k = 0; k < az_win; k++) {\n",
    "                for (l = 0; l < r_win; l++) {\n",
    "                    sec_az = ref_az-az_half_win+k;\n",
    "                    sec_r = ref_r-r_half_win+l;\n",
    "                    if (is_shp[tid*win+k*r_win+l] && sec_az >= 0 && sec_az < nlines && sec_r >= 0 && sec_r < width) {\n",
    "                        rslc_inx_i = (sec_az*width+sec_r)*nimages+i;\n",
    "                        rslc_inx_j = (sec_az*width+sec_r)*nimages+j;\n",
    "                        _amp2_i += powf(cuCrealf(rslc[rslc_inx_i]),2)+powf(cuCimagf(rslc[rslc_inx_i]),2);\n",
    "                        _amp2_j += powf(cuCrealf(rslc[rslc_inx_j]),2)+powf(cuCimagf(rslc[rslc_inx_j]),2);\n",
    "                        _cov = cuCaddf(_cov, cuCmulf(rslc[rslc_inx_i], cuConjf(rslc[rslc_inx_j])));\n",
    "                        //if ( tid == 0 && i==1 && j ==1 ) printf(\"%f\\n\",cuCrealf(_cov));\n",
    "                    }\n",
    "                }\n",
    "            }\n",
    "            cov[(tid*nimages+i)*nimages+j] = _cov;\n",
    "            _amp2_i = sqrt(_amp2_i*_amp2_j);\n",
    "            coh[(tid*nimages+i)*nimages+j] = make_cuFloatComplex(cuCrealf(_cov)/_amp2_i, cuCimagf(_cov)/_amp2_i);\n",
    "            //if ( tid == 0 && i==1) printf(\"%f\\n\",cuCrealf(_cov));\n",
    "        }\n",
    "    }\n",
    "}\n",
    "''', 'co_mat')"
   ]
  },
  {
   "cell_type": "code",
   "execution_count": null,
   "id": "b3626907-865d-47e8-9941-f3546cb45740",
   "metadata": {},
   "outputs": [],
   "source": [
    "#| export\n",
    "def co_mat(rslc:cp.ndarray, # rslc stack, dtype: cupy.complex64\n",
    "            is_shp:cp.ndarray, # shp bool, dtype: cupy.bool\n",
    "            block_size:int=128, # the CUDA block size, it only affects the calculation speed\n",
    "            )-> tuple: # the covariance and coherence matrix\n",
    "    nlines, width, nimages = rslc.shape\n",
    "    az_win, r_win = is_shp.shape[-2:]\n",
    "    az_half_win = (az_win-1)//2\n",
    "    r_half_win = (r_win-1)//2\n",
    "\n",
    "    cov = cp.zeros((nlines,width,nimages,nimages),dtype=cp.complex64)\n",
    "    coh = cp.empty((nlines,width,nimages,nimages),dtype=cp.complex64)\n",
    "\n",
    "    grid_size = math.ceil(nlines*width/block_size)\n",
    "    _co_mat_kernel((grid_size,),(block_size,),\n",
    "                    (rslc, is_shp, cp.int32(nlines),cp.int32(width),cp.int32(nimages),\n",
    "                    cp.int32(az_half_win),cp.int32(r_half_win),cov,coh))\n",
    "    return cov,coh"
   ]
  },
  {
   "cell_type": "markdown",
   "id": "dd1add7f-708d-420c-9d9f-9d48baa52829",
   "metadata": {},
   "source": [
    "The `rslc` is a three dimentional cupy `ndarray`. The `dtype` should be `cupy.complex64`. From outerest to innerest, the three dimentions are azimuth, range and image.\n",
    "`is_shp` is a four dimentional cupy `ndarray`. From outerest ot innerest, they are azimuth, range, secondary pixel relative azimuth, secondary pixel relative range.\n",
    "\n",
    "Here is an example:"
   ]
  },
  {
   "cell_type": "code",
   "execution_count": null,
   "id": "2de5bedc-a805-45ab-b585-b081dda62dcd",
   "metadata": {},
   "outputs": [
    {
     "data": {
      "text/plain": [
       "(5, 10, 5)"
      ]
     },
     "execution_count": null,
     "metadata": {},
     "output_type": "execute_result"
    }
   ],
   "source": [
    "import cupy as cp\n",
    "rslc = cp.load('../../data/rslc.npy')\n",
    "rslc = rslc[:5,:10,:5].copy()\n",
    "rslc.shape"
   ]
  },
  {
   "cell_type": "markdown",
   "id": "a8b42a0a-d146-46dd-bd06-7ed5f057100b",
   "metadata": {},
   "source": [
    "`rslc` is a stack of 5 rslc images. Each of the image has 5 pixel in azimuth dimention and 10 pixels in range dimention.\n",
    "Apply ks test on it:"
   ]
  },
  {
   "cell_type": "code",
   "execution_count": null,
   "id": "27805838-f953-4a32-8027-5c33bc81d3ff",
   "metadata": {},
   "outputs": [],
   "source": [
    "from decorrelation.shp import ks_test\n",
    "rmli = cp.abs(rslc)**2\n",
    "sorted_rmli = cp.sort(rmli,axis=-1)\n",
    "dist, p = ks_test(sorted_rmli,az_half_win=1,r_half_win=1)"
   ]
  },
  {
   "cell_type": "markdown",
   "id": "fff0ce2b-f7f5-463c-b196-c2b81218fb67",
   "metadata": {},
   "source": [
    "Seclect SHP based on p value:"
   ]
  },
  {
   "cell_type": "code",
   "execution_count": null,
   "id": "6ba26fb0-c5c2-41a6-bcea-a9b6755e0417",
   "metadata": {},
   "outputs": [],
   "source": [
    "is_shp = (p < 0.005) & (p >= 0.0)"
   ]
  },
  {
   "cell_type": "markdown",
   "id": "c07435a2-3a2b-4d2e-bb82-4fb903b0c52f",
   "metadata": {},
   "source": [
    "Estimate the covarience and coherence matrix: "
   ]
  },
  {
   "cell_type": "code",
   "execution_count": null,
   "id": "5abbccce-10b2-4668-8eb3-2027fccffa0a",
   "metadata": {},
   "outputs": [
    {
     "data": {
      "text/plain": [
       "((5, 10, 5, 5), (5, 10, 5, 5))"
      ]
     },
     "execution_count": null,
     "metadata": {},
     "output_type": "execute_result"
    }
   ],
   "source": [
    "cov,coh = co_mat(rslc,is_shp)\n",
    "cov.shape, coh.shape"
   ]
  },
  {
   "cell_type": "markdown",
   "id": "a03ce185-0be5-4067-9b4d-8268bccb25f9",
   "metadata": {},
   "source": [
    "Both `cov` and `coh` are complex data. The shape shows each covarience or coherence matrix is 5 by 5 since there are 5 images.\n",
    "And `cov` and `coh` are matrix for all 5*10 pixels."
   ]
  },
  {
   "cell_type": "code",
   "execution_count": null,
   "id": "add05abe-e482-41a6-bcba-3607a4329d22",
   "metadata": {},
   "outputs": [],
   "source": [
    "#| hide\n",
    "# test\n",
    "\n",
    "# az, r, image, image\n",
    "half_az_win = is_shp.shape[2]//2;\n",
    "half_r_win = is_shp.shape[3]//2;\n",
    "for i, j, k, l in itertools.product(range(rslc.shape[0]),range(rslc.shape[1]),range(rslc.shape[2]),range(rslc.shape[2])):\n",
    "    _cov = 0.0+0.0j\n",
    "    _amp2_k = 0.0\n",
    "    _amp2_l = 0.0\n",
    "    # shp_az, shp_r\n",
    "    for m, n in itertools.product(range(is_shp.shape[2]),range(is_shp.shape[3])):\n",
    "        if is_shp[i,j,m,n]:\n",
    "            _cov += rslc[i+m-half_az_win,j+n-half_r_win,k]*rslc[i+m-half_az_win,j+n-half_r_win,l].conj()\n",
    "            _amp2_k += abs(rslc[i+m-half_az_win,j+n-half_r_win,k])**2\n",
    "            _amp2_l += abs(rslc[i+m-half_az_win,j+n-half_r_win,l])**2\n",
    "    assert abs(_cov-cov[i,j,k,l])<1.0e-7\n",
    "    assert abs(_cov/math.sqrt(_amp2_k*_amp2_l) - coh[i,j,k,l]) < 1.0e-6"
   ]
  },
  {
   "cell_type": "code",
   "execution_count": null,
   "id": "ce82e557-133d-43bd-a9c5-2f48a68b0021",
   "metadata": {},
   "outputs": [],
   "source": [
    "#| hide\n",
    "import nbdev; nbdev.nbdev_export()"
   ]
  }
 ],
 "metadata": {
  "kernelspec": {
   "display_name": "Python 3 (ipykernel)",
   "language": "python",
   "name": "python3"
  }
 },
 "nbformat": 4,
 "nbformat_minor": 5
}
