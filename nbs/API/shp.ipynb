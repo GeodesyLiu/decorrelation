{
 "cells": [
  {
   "cell_type": "markdown",
   "metadata": {},
   "source": [
    "# shp\n",
    "\n",
    "> Spatially Homogenious Pixels Identification"
   ]
  },
  {
   "cell_type": "code",
   "execution_count": null,
   "metadata": {},
   "outputs": [],
   "source": [
    "#| default_exp shp"
   ]
  },
  {
   "cell_type": "code",
   "execution_count": null,
   "metadata": {},
   "outputs": [],
   "source": [
    "#| hide\n",
    "from nbdev.showdoc import *"
   ]
  },
  {
   "cell_type": "code",
   "execution_count": null,
   "metadata": {},
   "outputs": [],
   "source": [
    "from scipy import stats\n",
    "import numpy as np\n",
    "import itertools"
   ]
  },
  {
   "cell_type": "code",
   "execution_count": null,
   "metadata": {},
   "outputs": [],
   "source": [
    "#| export\n",
    "try:\n",
    "    import cupy as cp\n",
    "except:\n",
    "    cp = None\n",
    "import math"
   ]
  },
  {
   "cell_type": "markdown",
   "metadata": {},
   "source": [
    "## Kolmogorov-Smirnov (KS) two-sample test"
   ]
  },
  {
   "cell_type": "code",
   "execution_count": null,
   "metadata": {},
   "outputs": [],
   "source": [
    "#| export\n",
    "# It looks cupy do not support pointer to pointer: float** rmli_stack\n",
    "# These code are modified from https://dev.thep.lu.se/yat under GPLv3 license.\n",
    "_ks_test_kernel = cp.ElementwiseKernel(\n",
    "    'raw T rmli_stack, int32 nlines, int32 width, int32 nimages, int32 az_half_win, int32 r_half_win',\n",
    "    'raw T dist, raw T p',\n",
    "    '''\n",
    "    int az_win = 2*az_half_win+1;\n",
    "    int r_win = 2*r_half_win+1;\n",
    "    int win = az_win*r_win;\n",
    "    \n",
    "    int ref_idx = i/win;\n",
    "    int ref_az = ref_idx/width;\n",
    "    int ref_r = ref_idx -ref_az*width;\n",
    "    \n",
    "    int win_idx = i - ref_idx*win;\n",
    "    int win_az = win_idx/r_win;\n",
    "    int win_r = win_idx - win_az*r_win;\n",
    "    int sec_az = ref_az + win_az - az_half_win;\n",
    "    int sec_r = ref_r + win_r - r_half_win;\n",
    "    int sec_idx = sec_az*width + sec_r;\n",
    "    \n",
    "    if (ref_r >= width && ref_az >= nlines) {\n",
    "        return;\n",
    "    }\n",
    "    if (sec_az < 0 || sec_az >= nlines || sec_r < 0 || sec_r >= width) {\n",
    "        dist[ref_idx*win+win_az*r_win+win_r] = -1.0;\n",
    "        p[ref_idx*win+win_az*r_win+win_r] = -1.0;\n",
    "        return;\n",
    "    }\n",
    "    \n",
    "    // Compute the maximum difference between the cumulative distributions\n",
    "    int j1 = 0, j2 = 0;\n",
    "    T f1, f2, d, dmax = 0.0, en = nimages;\n",
    "\n",
    "    while (j1 < nimages && j2 < nimages) {\n",
    "        f1 = rmli_stack[ref_idx*nimages + j1];\n",
    "        f2 = rmli_stack[sec_idx*nimages + j2];\n",
    "        if (f1 <= f2) j1++;\n",
    "        if (f1 >= f2) j2++;\n",
    "        d = fabs((j2-j1)/en);\n",
    "        if (d > dmax) dmax = d;\n",
    "    }\n",
    "    en=sqrt(en/2);\n",
    "    p[ref_idx*win+win_az*r_win+win_r] = ks_p((en+0.12+0.11/en)*dmax);\n",
    "    dist[ref_idx*win+win_az*r_win+win_r] = dmax;\n",
    "    ''',\n",
    "    name = 'ks_test_kernel',no_return=True,\n",
    "    preamble = '''\n",
    "    __device__ T ks_p(T x)\n",
    "    {\n",
    "        T x2 = -2.0*x*x;\n",
    "        int sign = 1;\n",
    "        T p = 0.0,p2 = 0.0;\n",
    "    \n",
    "        for (int i = 1; i <= 100; i++) {\n",
    "            p += sign*2*exp(x2*i*i);\n",
    "            if (p==p2) return p;\n",
    "            sign = -sign;\n",
    "            p2 = p;\n",
    "        }\n",
    "        return p;\n",
    "    }\n",
    "    ''',)"
   ]
  },
  {
   "cell_type": "code",
   "execution_count": null,
   "metadata": {},
   "outputs": [],
   "source": [
    "#| export\n",
    "def ks_test(rmli:cp.ndarray, # the rmli stack, dtype: cupy.floating\n",
    "            az_half_win:int, # SHP identification half search window size in azimuth direction\n",
    "            r_half_win:int, # SHP identification half search window size in range direction\n",
    "            block_size:int=128, # the CUDA block size, it only affects the calculation speed\n",
    "           ) -> tuple[cp.ndarray,cp.ndarray] : # the KS test statistics `dist` and p value `p`\n",
    "    '''\n",
    "    SHP identification based on Two-Sample Kolmogorov-Smirnov Test.\n",
    "    '''\n",
    "    sorted_rmli = cp.sort(rmli,axis=-1) # In fact, this step is most time consuming, consider move it out\n",
    "    az_win = 2*az_half_win+1\n",
    "    r_win = 2*r_half_win+1\n",
    "    nlines = rmli.shape[0]\n",
    "    width = rmli.shape[1]\n",
    "    nimages = rmli.shape[-1]\n",
    "    dist = cp.empty((nlines,width,az_win,r_win),dtype=rmli.dtype)\n",
    "    p = cp.empty((nlines,width,az_win,r_win),dtype=rmli.dtype)\n",
    "\n",
    "    _ks_test_kernel(sorted_rmli,cp.int32(nlines),cp.int32(width),cp.int32(nimages),\n",
    "                    cp.int32(az_half_win),cp.int32(r_half_win),dist,p,\n",
    "                    size=width*nlines*r_win*az_win,block_size=block_size)\n",
    "    return dist,p"
   ]
  },
  {
   "cell_type": "markdown",
   "metadata": {},
   "source": [
    "The `ks_test` function apply the Two-Sample Kolmogorov-Smirnov Test on a stack of rmli images to identify SHPs candidate for further processing. This method is originally published in [@ferrettiNewAlgorithmProcessing2011]. This function is designed to run on GPU for high speed.\n",
    "\n",
    "The `rmli` is a three dimentional cupy `ndarray`. The `dtype` should be `float`. From outerest to innerest, the three dimentions are azimuth, range and image. For each pixel P, a search window centered at P is defined by `az_half_win` and `r_half_win`. All pixels in this search window is compared with P by KS test. They are refered here as secondary pixels. The total number of secondary pixels (including P) is (2\\*`az_half_win`+1)\\*(2\\*`r_half_win`+1).\n",
    "\n",
    "The returns are the ks test statistic which is the maximum value of the absolute difference between the emperical cumulative distribution functions of the two samples, and p value. Both of them are 4 dimentional cupy ndarrays. From outerest ot innerest, they are azimuth, range, secondary pixel relative azimuth, secondary pixel relative range. For P at the corner of the image where part of the search window is out of the image, the result is `-1`."
   ]
  },
  {
   "cell_type": "markdown",
   "metadata": {},
   "source": [
    "Here is a simplest example. First simulate rmli time series of two pixels from two correlated normal distributions:"
   ]
  },
  {
   "cell_type": "code",
   "execution_count": null,
   "metadata": {},
   "outputs": [],
   "source": [
    "sample_size = 20\n",
    "rng = np.random.default_rng()\n",
    "sample1 = stats.uniform.rvs(size=sample_size, random_state=rng).astype(cp.float32)\n",
    "sample2 = stats.norm.rvs(size=sample_size, random_state=rng).astype(cp.float32)"
   ]
  },
  {
   "cell_type": "markdown",
   "metadata": {},
   "source": [
    "Convert the data to cupy ndarray and make sure the `dtype` is `cp.float32` and the data are sorted:"
   ]
  },
  {
   "cell_type": "code",
   "execution_count": null,
   "metadata": {},
   "outputs": [
    {
     "data": {
      "text/plain": [
       "(1, 2, 20)"
      ]
     },
     "execution_count": null,
     "metadata": {},
     "output_type": "execute_result"
    }
   ],
   "source": [
    "rmli_stack = cp.stack((cp.asarray(sample1), cp.asarray(sample2))).reshape(1,2,sample_size)\n",
    "rmli_stack = rmli_stack.astype(cp.float32)\n",
    "rmli_stack.shape"
   ]
  },
  {
   "cell_type": "markdown",
   "metadata": {},
   "source": [
    "The shape of `rmli_stack` shows it contains 20 images. Each of the image has 1 pixel in azimuth dimention and 2 pixels in range dimention. Set the `az_half_win` and `r_half_win` to 1 and apply the `ks_test` function:"
   ]
  },
  {
   "cell_type": "code",
   "execution_count": null,
   "metadata": {},
   "outputs": [
    {
     "name": "stdout",
     "output_type": "stream",
     "text": [
      "(1, 2, 3, 3)\n",
      "[[[[-1.  -1.  -1. ]\n",
      "   [-1.   0.   0.5]\n",
      "   [-1.  -1.  -1. ]]\n",
      "\n",
      "  [[-1.  -1.  -1. ]\n",
      "   [ 0.5  0.  -1. ]\n",
      "   [-1.  -1.  -1. ]]]]\n"
     ]
    }
   ],
   "source": [
    "dist,p = ks_test(rmli_stack,1,1)\n",
    "print(dist.shape)\n",
    "print(dist)"
   ]
  },
  {
   "cell_type": "markdown",
   "metadata": {},
   "source": [
    "`dist` is the ks test statistic. The shape of it shows for each pixel P in this `1*2` image, a `3*3` search window is defined and all pixels in this search window is test with P. The value `0` in `dist` is the ks test result of pixel P and pixel P itself. The value `-1` means the secondary pixel is out of the image and no ks test is applied."
   ]
  },
  {
   "cell_type": "code",
   "execution_count": null,
   "metadata": {},
   "outputs": [
    {
     "name": "stdout",
     "output_type": "stream",
     "text": [
      "(1, 2, 3, 3)\n",
      "[[[[-1.         -1.         -1.        ]\n",
      "   [-1.          0.          0.00816168]\n",
      "   [-1.         -1.         -1.        ]]\n",
      "\n",
      "  [[-1.         -1.         -1.        ]\n",
      "   [ 0.00816168  0.         -1.        ]\n",
      "   [-1.         -1.         -1.        ]]]]\n"
     ]
    }
   ],
   "source": [
    "print(p.shape)\n",
    "print(p)"
   ]
  },
  {
   "cell_type": "markdown",
   "metadata": {},
   "source": [
    "`p` is the ks test p value with same shape of `dist`."
   ]
  },
  {
   "cell_type": "code",
   "execution_count": null,
   "metadata": {},
   "outputs": [
    {
     "name": "stdout",
     "output_type": "stream",
     "text": [
      "KstestResult(statistic=0.5, pvalue=0.00777741, statistic_location=0.053860884, statistic_sign=-1)\n"
     ]
    }
   ],
   "source": [
    "print(stats.ks_2samp(sample1, sample2,method='asymp'))"
   ]
  },
  {
   "cell_type": "markdown",
   "metadata": {},
   "source": [
    "By comparing the result of `ks_test` and `ks_2samp` from `scipy`, the statistics are same which prove the correctness of `ks_test`. The difference in p value is because the approcimation method used are different but the orders of magnitudes are consistent."
   ]
  },
  {
   "cell_type": "code",
   "execution_count": null,
   "metadata": {},
   "outputs": [],
   "source": [
    "#| hide\n",
    "# test\n",
    "nimages = 5\n",
    "nlines = 5\n",
    "width = 5\n",
    "az_half_win = 5\n",
    "r_half_win = 5\n",
    "\n",
    "rng = np.random.default_rng()\n",
    "sample_list = []\n",
    "for i in range(nlines*width):\n",
    "    if i==0:\n",
    "        sample_list.append(np.sort(stats.uniform.rvs(size=nimages, random_state=rng)).astype(np.float32))\n",
    "    else:\n",
    "        sample_list.append(np.sort(stats.norm.rvs(size=nimages, random_state=rng)).astype(np.float32))\n",
    "\n",
    "sample_stack = np.stack(sample_list).reshape(nlines,width,nimages)\n",
    "cp_sample_stack = cp.asarray(sample_stack)\n",
    "dist,p = ks_test(cp_sample_stack,az_half_win,r_half_win)\n",
    "# we do not test the calculated p value just because \n",
    "# the p value calculation methods in scipy and numerical recipe\n",
    "# are different and their difference can reach to 10 times!\n",
    "assert dist.shape == (nlines,width,az_half_win*2+1,r_half_win*2+1)\n",
    "for az,r,az_win,r_win in itertools.product(range(nlines),range(width),range(az_half_win),range(r_half_win)):\n",
    "    sec_az = az + az_win - az_half_win\n",
    "    sec_r = r + r_win - r_half_win\n",
    "    if (sec_az<0 or sec_az>nlines or sec_r<0 or sec_r>width):\n",
    "        assert abs(dist[az,r,az_win,r_win]-(-1)) < 1.0e-7\n",
    "    else:\n",
    "        scipy_dist,p = stats.ks_2samp(sample_stack[az,r,:],sample_stack[sec_az,sec_r,:],method='asymp')\n",
    "        assert abs(dist[az,r,az_win,r_win]-scipy_dist) < 1.0e-7"
   ]
  },
  {
   "cell_type": "code",
   "execution_count": null,
   "metadata": {},
   "outputs": [],
   "source": [
    "#| hide\n",
    "import nbdev; nbdev.nbdev_export()"
   ]
  },
  {
   "cell_type": "code",
   "execution_count": null,
   "metadata": {},
   "outputs": [],
   "source": []
  }
 ],
 "metadata": {
  "kernelspec": {
   "display_name": "python3",
   "language": "python",
   "name": "python3"
  }
 },
 "nbformat": 4,
 "nbformat_minor": 4
}
