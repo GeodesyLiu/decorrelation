{
 "cells": [
  {
   "cell_type": "markdown",
   "id": "b4607c6b-a9d0-463c-a933-af675aed9a8f",
   "metadata": {},
   "source": [
    "# pc\n",
    "\n",
    "> Point Cloud data manipulation"
   ]
  },
  {
   "cell_type": "markdown",
   "id": "abde86bc-8f2d-4856-a375-f9d8cef05954",
   "metadata": {},
   "source": [
    "The indices of point cloud data `idx` is expressed as sorted `int32` array with shape `(2, n_point)`.\n",
    "\n",
    "`idx[0,:]` is their azimuth indices and `idx[1,:]` is the range indices.\n",
    "\n",
    "`idx` is first sorted in azimuth indices and then sorted in range indices.\n",
    "\n",
    "Here is an example:\n",
    "```\n",
    "array([[0, 0, 1, 1, 2, 3],\n",
    "       [2, 3, 0, 3, 1, 2]], dtype=int32)\n",
    "```"
   ]
  },
  {
   "cell_type": "code",
   "execution_count": null,
   "id": "26336d18-4f60-45ed-a7e6-7e5b02970da9",
   "metadata": {},
   "outputs": [],
   "source": [
    "#| default_exp pc"
   ]
  },
  {
   "cell_type": "code",
   "execution_count": null,
   "id": "1215172d-8c89-43dd-97c0-cd65e8a66a92",
   "metadata": {},
   "outputs": [],
   "source": [
    "#| hide\n",
    "from nbdev.showdoc import *"
   ]
  },
  {
   "cell_type": "code",
   "execution_count": null,
   "id": "c45f70e2-21da-471e-8fbc-3b1810a64849",
   "metadata": {},
   "outputs": [],
   "source": [
    "#| export\n",
    "import numpy as np\n",
    "from typing import Union\n",
    "try:\n",
    "    import cupy as cp\n",
    "    from cupy._sorting.search import _exists_kernel\n",
    "except:\n",
    "    pass"
   ]
  },
  {
   "cell_type": "code",
   "execution_count": null,
   "id": "1c84a7e6-b019-4174-b5cc-bb8d1a5f3523",
   "metadata": {},
   "outputs": [],
   "source": [
    "#| export\n",
    "def pc2ras(idx:Union[np.ndarray,cp.ndarray], # idx array\n",
    "           pc_data:Union[np.ndarray,cp.ndarray], # data, 1D or more\n",
    "           shape:tuple, # image shape\n",
    "):\n",
    "    '''convert sparse data to raster, filled with nan'''\n",
    "    xp = cp.get_array_module(pc_data)\n",
    "    raster = xp.empty((*shape,*pc_data.shape[1:]),dtype=pc_data.dtype)\n",
    "    raster[:] = xp.nan\n",
    "    raster[idx[0],idx[1]] = pc_data\n",
    "    return raster"
   ]
  },
  {
   "cell_type": "code",
   "execution_count": null,
   "id": "7ca70193-d14c-4032-9ce7-ad0a6e12f526",
   "metadata": {},
   "outputs": [],
   "source": [
    "#| hide\n",
    "a = np.arange(1000,dtype=np.float32).reshape(50,20)\n",
    "idx = np.arange(100).reshape(2,-1)\n",
    "a_raster = pc2ras(idx,a,shape=(100,100))\n",
    "np.testing.assert_array_equal(a_raster[idx[0],idx[1]],a)"
   ]
  },
  {
   "cell_type": "code",
   "execution_count": null,
   "id": "62e83c38-e844-461a-84ba-5734f8a13a83",
   "metadata": {},
   "outputs": [],
   "source": [
    "#| export\n",
    "def _ras_dims(idx1:Union[np.ndarray,cp.ndarray], # int array, index of the first point cloud\n",
    "              idx2:Union[np.ndarray,cp.ndarray], # int array, index of the second point cloud\n",
    "             )->tuple: # the shape of the original raster image\n",
    "    '''Get the shape of the original raster image from two index, the shape could be smaller than the truth but it doesn't matter.'''\n",
    "    xp = cp.get_array_module(idx1)\n",
    "    dims_az = max(int(idx1[0,-1]),int(idx2[0,-1]))+1\n",
    "    dims_r = max(int(xp.max(idx1[1,:])),int(xp.max(idx2[1,:])))+1\n",
    "    return (dims_az,dims_r)"
   ]
  },
  {
   "cell_type": "code",
   "execution_count": null,
   "id": "c5e8da16-d809-46a6-a938-5fb6320b92aa",
   "metadata": {},
   "outputs": [],
   "source": [
    "#| export\n",
    "def pc_union(idx1:Union[np.ndarray,cp.ndarray], # int array, index of the first point cloud\n",
    "             idx2:Union[np.ndarray,cp.ndarray], # int array, index of the second point cloud\n",
    "            )->tuple: # the union index `idx`; index of the point in output union index that originally in the first point cloud `inv_iidx`; index of the point in output union index that only exist in the second point cloud `inv_iidx2`; index of the point in the second input index that are not in the first input point cloud\n",
    "    '''Get the union of two point cloud dataset. For points at their intersection, pc_data1 rather than pc_data2 is copied to the result pc_data.'''\n",
    "    # this function is modified from np.unique\n",
    "\n",
    "    xp = cp.get_array_module(idx1)\n",
    "    dims = _ras_dims(idx1,idx2)\n",
    "\n",
    "    idx = xp.concatenate((idx1,idx2),axis=-1)\n",
    "    n1 = idx1.shape[1]; n2 = idx2.shape[1]\n",
    "    \n",
    "    idx_1d = xp.ravel_multi_index(idx,dims=dims) # automatically the returned 1d index is in int64\n",
    "    iidx = xp.argsort(idx_1d,kind='stable') # test shows argsort is faster than lexsort, that is why use ravel and unravel index\n",
    "    idx_1d = idx_1d[iidx]\n",
    "\n",
    "    inv_iidx = xp.empty_like(iidx)\n",
    "    inv_iidx[iidx] = xp.arange(iidx.shape[0]) # idea taken from https://stackoverflow.com/questions/2483696/undo-or-reverse-argsort-python\n",
    "\n",
    "    mask = xp.empty(idx_1d.shape, dtype=bool)\n",
    "    mask[:1] = True\n",
    "    mask[1:] = idx_1d[1:] != idx_1d[:-1]\n",
    "    \n",
    "    idx_1d = idx_1d[mask]\n",
    "    \n",
    "    _mask = mask[inv_iidx] # the mask in the original cat order\n",
    "    mask1 = _mask[:n1]\n",
    "    mask2 = _mask[n1:]\n",
    "    \n",
    "    imask = xp.cumsum(mask) - 1\n",
    "    inv_iidx = xp.empty(mask.shape, dtype=np.int64)\n",
    "    inv_iidx[iidx] = imask # inverse the mapping\n",
    "    inv_iidx = inv_iidx[_mask]\n",
    "    \n",
    "    idx = xp.stack(xp.unravel_index(idx_1d,dims)).astype(idx1.dtype)\n",
    "   \n",
    "    return idx, inv_iidx[:n1], inv_iidx[n1:], *xp.where(mask2)"
   ]
  },
  {
   "cell_type": "markdown",
   "id": "1369a035-c8ba-42e6-a196-1628d01b8abf",
   "metadata": {},
   "source": [
    "Usage:"
   ]
  },
  {
   "cell_type": "code",
   "execution_count": null,
   "id": "2be9c36c-c17b-452c-9e86-d7e8bfcbe24b",
   "metadata": {},
   "outputs": [],
   "source": [
    "ras = cp.array([[4,3,8,3],\n",
    "                [4,7,2,6],\n",
    "                [9,0,3,7],\n",
    "                [1,4,2,6]])\n",
    "idx1 = cp.array([[0,0,1,1,2,3],\n",
    "                 [2,3,0,3,1,2]],dtype=np.int32)\n",
    "idx2 = cp.array([[0,0,1,2,2,3],\n",
    "                 [0,3,1,1,3,1]],dtype=np.int32)\n",
    "pc_data1 = cp.array([3,2,5,4,32,2])\n",
    "pc_data2 = cp.array([3,5,6,2,1,4])\n",
    "\n",
    "idx, inv_iidx1, inv_iidx2, iidx2 = pc_union(idx1,idx2)"
   ]
  },
  {
   "cell_type": "markdown",
   "id": "4b2575bf-8744-4bb2-8dc1-c5281f196142",
   "metadata": {},
   "source": [
    "With all the returns in `pc_union`, it is very easy to construct the union data:"
   ]
  },
  {
   "cell_type": "code",
   "execution_count": null,
   "id": "2f50318b-bcd5-47c7-9cab-e06b5fa99fac",
   "metadata": {},
   "outputs": [],
   "source": [
    "pc_data = cp.empty((idx.shape[1],*pc_data1.shape[1:]),dtype=pc_data1.dtype)\n",
    "pc_data[inv_iidx1] = pc_data1\n",
    "pc_data[inv_iidx2] = pc_data2[iidx2]\n",
    "\n",
    "np.testing.assert_equal(cp.asnumpy(pc_data),np.array([3,3,2,5,6,4,32,1,4,2]))\n",
    "np.testing.assert_equal(cp.asnumpy(ras[idx[0],idx[1]]),np.array([4,8,3,4,7,6,0,7,4,2]))"
   ]
  },
  {
   "cell_type": "code",
   "execution_count": null,
   "id": "4d2eeb25-cd19-4dc1-8f39-1d3e6c49a3c9",
   "metadata": {},
   "outputs": [],
   "source": [
    "#| hide\n",
    "## deprecated, I think return two index is better\n",
    "def _cp_intersect1d(arr1:cp.ndarray,\n",
    "                    arr2:cp.ndarray,\n",
    "):\n",
    "    '''Copy of the cupy.intersect1d.\n",
    "    assume unique\n",
    "    arr1 and arr2 are assumed to be 1d unique array.\n",
    "    Only return indices of arr1.\n",
    "    '''\n",
    "    mask = _exists_kernel(arr1, arr2, arr2.size, False)\n",
    "    int1d = arr1[mask]\n",
    "    arr1_indices = cp.flatnonzero(mask)\n",
    "    return int1d, arr1_indices"
   ]
  },
  {
   "cell_type": "code",
   "execution_count": null,
   "id": "3ac00bba-a25b-4041-9436-ce19ab6ec100",
   "metadata": {},
   "outputs": [],
   "source": [
    "#| hide\n",
    "## deprecated\n",
    "start1 = 0; end1 = 14\n",
    "start2 = 4; end2 = 20\n",
    "arr1 = cp.arange(start1,end1,dtype=np.int64)\n",
    "arr2 = cp.arange(start2,end2,dtype=np.int64)\n",
    "int1d, idx = _cp_intersect1d(arr1,arr2)\n",
    "np.testing.assert_almost_equal(cp.asnumpy(int1d),np.arange(start2,end1,dtype=np.int64))\n",
    "np.testing.assert_almost_equal(cp.asnumpy(idx),np.arange(start2-start1,end1-start1,dtype=np.int64))"
   ]
  },
  {
   "cell_type": "code",
   "execution_count": null,
   "id": "8b53776d-16cc-4084-ac9d-083c50694e8a",
   "metadata": {},
   "outputs": [],
   "source": [
    "#| export\n",
    "def pc_intersect(idx1:Union[np.ndarray,cp.ndarray], # int array, index of the first point cloud\n",
    "                 idx2:Union[np.ndarray,cp.ndarray], # int array, index of the second point cloud\n",
    "                 # the intersect index `idx`,\n",
    "                 # index of the point in first point cloud index that also exist in the second point cloud,\n",
    "                 # index of the point in second point cloud index that also exist in the first point cloud\n",
    "                )->tuple:\n",
    "    '''Get the intersection of two point cloud dataset.'''\n",
    "    # Here I do not write the core function by myself since cupy have a different implementation of intersect1d\n",
    "\n",
    "    xp = cp.get_array_module(idx1)\n",
    "    dims = _ras_dims(idx1,idx2)\n",
    "\n",
    "    idx1_1d = xp.ravel_multi_index(idx1,dims=dims) # automatically the returned 1d index is in int64\n",
    "    idx2_1d = xp.ravel_multi_index(idx2,dims=dims) # automatically the returned 1d index is in int64\n",
    "\n",
    "    idx, iidx1, iidx2 = xp.intersect1d(idx1_1d,idx2_1d,assume_unique=True,return_indices=True)\n",
    "    idx = xp.stack(xp.unravel_index(idx,dims)).astype(idx1.dtype)\n",
    "\n",
    "    return idx, iidx1, iidx2"
   ]
  },
  {
   "cell_type": "code",
   "execution_count": null,
   "id": "96ae41f6-6deb-4de6-bde0-f8b9126cef30",
   "metadata": {},
   "outputs": [],
   "source": [
    "ras = cp.array([[4,3,8,3],\n",
    "                [4,7,2,6],\n",
    "                [9,0,3,7],\n",
    "                [1,4,2,6]])\n",
    "idx1 = cp.array([[0,0,1,1,2,3],\n",
    "                 [2,3,0,3,1,2]],dtype=np.int32)\n",
    "idx2 = cp.array([[0,0,1,2,2,3],\n",
    "                 [0,3,1,1,3,1]],dtype=np.int32)\n",
    "pc_data1 = cp.array([3,2,5,4,32,2])\n",
    "pc_data2 = cp.array([3,5,6,2,1,4])\n",
    "\n",
    "idx, iidx1, iidx2 = pc_intersect(idx1,idx2)\n",
    "pc_data_int1 = pc_data1[iidx1]\n",
    "pc_data_int2 = pc_data2[iidx2]\n",
    "\n",
    "np.testing.assert_equal(cp.asnumpy(idx),np.array([[0,2],\n",
    "                                                  [3,1]]))\n",
    "np.testing.assert_equal(cp.asnumpy(ras[(idx[0],idx[1])]),np.array([3,0]))\n",
    "np.testing.assert_equal(cp.asnumpy(pc_data_int1),np.array([2,32]))\n",
    "np.testing.assert_equal(cp.asnumpy(pc_data_int2),np.array([5,2]))"
   ]
  },
  {
   "cell_type": "code",
   "execution_count": null,
   "id": "7886f69e-9a1d-4e10-9aff-728e5193452a",
   "metadata": {},
   "outputs": [],
   "source": [
    "#| export\n",
    "def pc_diff(idx1:Union[np.ndarray,cp.ndarray], # int array, index of the first point cloud\n",
    "            idx2:Union[np.ndarray,cp.ndarray], # int array, index of the second point cloud\n",
    "            # the diff index `idx`,\n",
    "            # index of the point in first point cloud index that do not exist in the second point cloud,\n",
    "           )->tuple:\n",
    "    '''Get the point cloud in `idx1` that are not in `idx2`.'''\n",
    "\n",
    "    xp = cp.get_array_module(idx1)\n",
    "    dims = _ras_dims(idx1,idx2)\n",
    "\n",
    "    idx1_1d = xp.ravel_multi_index(idx1,dims=dims) # automatically the returned 1d index is in int64\n",
    "    idx2_1d = xp.ravel_multi_index(idx2,dims=dims) # automatically the returned 1d index is in int64\n",
    "    \n",
    "    mask = xp.in1d(idx1_1d, idx2_1d, assume_unique=True, invert=True)\n",
    "    idx = idx1_1d[mask]\n",
    "\n",
    "    idx = xp.stack(xp.unravel_index(idx,dims)).astype(idx1.dtype)\n",
    "    return idx, xp.where(mask)[0]"
   ]
  },
  {
   "cell_type": "code",
   "execution_count": null,
   "id": "fcba4a1c-c3ef-4978-8a16-f8f2b3070c99",
   "metadata": {},
   "outputs": [],
   "source": [
    "idx1 = cp.array([[0,0,1,1,2,3],\n",
    "                 [2,3,0,3,1,2]],dtype=np.int32)\n",
    "idx2 = cp.array([[0,0,1,2,2,3],\n",
    "                 [0,3,1,1,3,1]],dtype=np.int32)\n",
    "\n",
    "idx, iidx1 = pc_diff(idx1,idx2)\n",
    "pc_data_diff = pc_data1[iidx1]\n",
    "\n",
    "np.testing.assert_equal(cp.asnumpy(idx),np.array([[0,1,1,3],\n",
    "                                                  [2,0,3,2]]))\n",
    "np.testing.assert_equal(cp.asnumpy(iidx1),np.array([0,2,3,5]))"
   ]
  },
  {
   "cell_type": "code",
   "execution_count": null,
   "id": "4da27278-44c8-4029-950c-3ee27edc58bb",
   "metadata": {},
   "outputs": [],
   "source": [
    "#| hide\n",
    "## I think there is no need for the xor function. And it is not very easy to be implemented.\n",
    "def pc_xor(idx1:Union[np.ndarray,cp.ndarray], # int array, index of the first point cloud\n",
    "           idx2:Union[np.ndarray,cp.ndarray], # int array, index of the second point cloud\n",
    "           # the diff index `idx`,\n",
    "           # index of the point in first point cloud index that do not exist in the second point cloud,\n",
    "           )->tuple:\n",
    "    '''Get the point cloud exclusive-or of two point clouds.'''\n",
    "    pass"
   ]
  },
  {
   "cell_type": "code",
   "execution_count": null,
   "id": "d50eda76-1cf8-4fb7-9f5a-df8af874e97a",
   "metadata": {},
   "outputs": [],
   "source": [
    "#| hide\n",
    "import nbdev; nbdev.nbdev_export()"
   ]
  },
  {
   "cell_type": "code",
   "execution_count": null,
   "id": "bca64544-cbcc-40b5-868e-e6a3ee3017ff",
   "metadata": {},
   "outputs": [],
   "source": []
  }
 ],
 "metadata": {
  "kernelspec": {
   "display_name": "Python [conda env:work] *",
   "language": "python",
   "name": "conda-env-work-py"
  }
 },
 "nbformat": 4,
 "nbformat_minor": 5
}
