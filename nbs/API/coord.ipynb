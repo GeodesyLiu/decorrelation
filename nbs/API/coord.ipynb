{
 "cells": [
  {
   "cell_type": "code",
   "execution_count": null,
   "id": "a6d47854-bbff-4018-a8c1-f659a52139ad",
   "metadata": {},
   "outputs": [],
   "source": [
    "#| default_exp coord"
   ]
  },
  {
   "cell_type": "code",
   "execution_count": null,
   "id": "72aaa8c4-93a7-4dcd-a49d-dbdcc1434105",
   "metadata": {},
   "outputs": [],
   "source": [
    "#| hide\n",
    "from nbdev.showdoc import *"
   ]
  },
  {
   "cell_type": "code",
   "execution_count": null,
   "id": "5ecc8942-ba04-4a7f-89a9-85c99c35a552",
   "metadata": {},
   "outputs": [],
   "source": [
    "#| export\n",
    "import numba\n",
    "import numpy as np\n",
    "import math\n",
    "from decorrelation.utils import ngjit,ngpjit\n",
    "from numba import prange"
   ]
  },
  {
   "cell_type": "code",
   "execution_count": null,
   "id": "eb3297e4-f909-46be-8732-d7ac904f6caf",
   "metadata": {},
   "outputs": [],
   "source": [
    "#| export\n",
    "# test shows this automatical parallel can accelerate 3x, \n",
    "# probablely because the data calculting is accelerated but the data writing is not\n",
    "@ngpjit\n",
    "def _coords2idxs(coords, x0, dx, nx, out):\n",
    "    '''input is 1d'''\n",
    "    for i in prange(coords.shape[0]):\n",
    "        _out = round((coords[i] - x0)/dx)\n",
    "        if _out < 0: _out = 0\n",
    "        if _out > nx-1: _out=nx-1\n",
    "        out[i] = _out\n",
    "    # np.round((coords - x0)/dx,out=out) # the test shows the automatical parallel is not fast enough\n",
    "    # out[out < 0] = 0\n",
    "    # out[out > nx - 1] = nx - 1"
   ]
  },
  {
   "cell_type": "code",
   "execution_count": null,
   "id": "bd258944-3c7b-48fa-90be-a767c125f1d2",
   "metadata": {},
   "outputs": [],
   "source": [
    "#| export\n",
    "@ngpjit\n",
    "def _rasterize(pc, idx, ras, iidx):\n",
    "    for i in prange(pc.shape[0]):\n",
    "        yi = idx[0,i]; xi = idx[1,i]\n",
    "        if iidx[yi,xi] == -1:\n",
    "            ras[yi,xi,...] = pc[i,...] #in numba [y,x,:] is not supported\n",
    "            iidx[yi,xi] = i"
   ]
  },
  {
   "cell_type": "code",
   "execution_count": null,
   "id": "cc1f912b-ac67-4d6b-a6ea-71c96849afbc",
   "metadata": {},
   "outputs": [],
   "source": [
    "#| export\n",
    "class Coord(object):\n",
    "    '''utils for digitize raster and point cloud data.\n",
    "    The coord is defined as the continuous coordinates, e.g., longitude & latitude.\n",
    "    The index is defined as the digitized index, (0,0,im,jm).\n",
    "    '''\n",
    "    def __init__(self,x0,dx,nx,y0,dy,ny):\n",
    "        self.x0 = x0\n",
    "        self.dx = dx\n",
    "        self.nx = nx\n",
    "        self.xm = x0+(nx-1)*dx\n",
    "        self.y0 = y0\n",
    "        self.dy = dy\n",
    "        self.ny = ny\n",
    "        self.ym = y0+(ny-1)*dy\n",
    "        self.maxlevel = math.floor(math.log2(min(nx,ny)))\n",
    "        self.p = math.ceil(math.log2(max(nx,ny))) # order of the hillbert curve\n",
    "    \n",
    "    def max_idx(self,level):\n",
    "        return math.ceil(self.nx/(2**level))-1, math.ceil(self.ny/(2**level))-1\n",
    "    \n",
    "    def coord2idx(self,x,y,level): # include a buffer if not x, y not exactly on the grid\n",
    "        xi = round((x-self.x0)/self.dx/2**level)\n",
    "        yi = round((y-self.y0)/self.dy/2**level)\n",
    "        xi_max, yi_max = self.max_idx(level)\n",
    "        return sorted((0,xi,xi_max))[1], sorted((0,yi,yi_max))[1]\n",
    "    \n",
    "    def idx2coord(self,xi,yi,level):\n",
    "        xi_max, yi_max = self.max_idx(level)\n",
    "        xi, yi = sorted((0,xi,xi_max))[1], sorted((0,yi,yi_max))[1]\n",
    "        return xi*2**level*self.dx+self.x0, yi*2**level*self.dy+self.y0\n",
    "    \n",
    "    def coords2idxs(self,coords):\n",
    "        '''inputs are 2d arrays.'''\n",
    "        out = np.empty_like(coords,dtype=np.int32)\n",
    "        _coords2idxs(coords[1], self.x0, self.dx, self.nx, out[1])\n",
    "        _coords2idxs(coords[0], self.y0, self.dy, self.ny, out[0])\n",
    "        return out\n",
    "    def rasterize(self,pc, # point cloud data, can be a stack, shape (n_pc,...)\n",
    "                  idx, # 2D index of the pc, value within (0,0,im,jm), shape (2,n_pc)\n",
    "                  fill_value=np.nan)->tuple: # the raster data, the index of the original point cloud list \n",
    "        ras = np.full((self.ny,self.nx,*pc.shape[1:]),fill_value=fill_value,dtype=pc.dtype)\n",
    "        # print(ras)\n",
    "        iidx = np.full((self.ny,self.nx),-1,dtype=np.int64)\n",
    "        _rasterize(pc, idx, ras, iidx)\n",
    "        return ras, iidx"
   ]
  },
  {
   "cell_type": "code",
   "execution_count": null,
   "id": "5fd7539c-faee-462c-81b1-faed3fcad3c2",
   "metadata": {},
   "outputs": [
    {
     "name": "stderr",
     "output_type": "stream",
     "text": [
      "OMP: Info #277: omp_set_nested routine deprecated, please use omp_set_max_active_levels instead.\n"
     ]
    }
   ],
   "source": [
    "coord = Coord(1.8,0.2,10,-1.2,0.2,10)\n",
    "\n",
    "pc = np.random.rand(5,3,2)\n",
    "x = np.array([1.91,1.10,1.47,3.43,2.8])\n",
    "y = np.array([-1.11,-1.09,-0.81,-0.4,0.11])\n",
    "idx = coord.coords2idxs((y,x))\n",
    "np.testing.assert_array_equal(idx, np.array([[0,1,2,4,7],[1,0,0,8,5]]))\n",
    "# pc.shape, pc, idx"
   ]
  },
  {
   "cell_type": "code",
   "execution_count": null,
   "id": "8b6c6190-d4aa-403a-b8fc-be35754ff805",
   "metadata": {},
   "outputs": [],
   "source": [
    "ras, iidx = coord.rasterize(pc,idx)\n",
    "assert ras.shape[2:] == pc.shape[1:]\n",
    "assert iidx.shape == (10,10)\n",
    "for i in range(pc.shape[0]):\n",
    "    _idx = np.argwhere(iidx==i)[0]\n",
    "    np.testing.assert_array_equal(ras[_idx[0],_idx[1]], pc[i])\n",
    "# ras[idx[1],idx[0]]"
   ]
  },
  {
   "cell_type": "code",
   "execution_count": null,
   "id": "3b075189-fa1f-4177-817e-023cdc2455f9",
   "metadata": {},
   "outputs": [],
   "source": [
    "#| hide\n",
    "import nbdev; nbdev.nbdev_export()"
   ]
  },
  {
   "cell_type": "code",
   "execution_count": null,
   "id": "a8c173ba-a0ff-43fa-96e7-200da5904445",
   "metadata": {},
   "outputs": [],
   "source": []
  }
 ],
 "metadata": {
  "kernelspec": {
   "display_name": "conda-env-work-py",
   "language": "python",
   "name": "conda-env-work-py"
  }
 },
 "nbformat": 4,
 "nbformat_minor": 5
}
