{
 "cells": [
  {
   "cell_type": "markdown",
   "id": "73b88007-bc36-4a13-872b-a7cdb6a90cf2",
   "metadata": {},
   "source": [
    "# Plot\n",
    "\n",
    "> Plotting ultilities"
   ]
  },
  {
   "cell_type": "code",
   "execution_count": null,
   "id": "a12d3459-67da-45af-b2a0-71b7356a1e09",
   "metadata": {},
   "outputs": [],
   "source": [
    "#| default_exp plot"
   ]
  },
  {
   "cell_type": "code",
   "execution_count": null,
   "id": "e9e67d27-b0be-4a59-b400-b00812b2b8ce",
   "metadata": {},
   "outputs": [],
   "source": [
    "#| hide\n",
    "from nbdev.showdoc import *"
   ]
  },
  {
   "cell_type": "code",
   "execution_count": null,
   "id": "82f7c40c-0f58-4492-b342-4ed1c2f5da13",
   "metadata": {},
   "outputs": [],
   "source": [
    "#| export\n",
    "import numpy as np"
   ]
  },
  {
   "cell_type": "code",
   "execution_count": null,
   "id": "7c691185-c1dc-4b62-a6ae-ed0810729003",
   "metadata": {},
   "outputs": [],
   "source": [
    "#| export\n",
    "def bg_alpha(pwr):\n",
    "    _pwr = np.power(pwr,0.35)\n",
    "    cv = _pwr.mean()*2.5\n",
    "    v = (_pwr.clip(0., cv))/cv\n",
    "    return v"
   ]
  },
  {
   "cell_type": "code",
   "execution_count": null,
   "id": "ce82e557-133d-43bd-a9c5-2f48a68b0021",
   "metadata": {},
   "outputs": [],
   "source": [
    "#| hide\n",
    "import nbdev; nbdev.nbdev_export()"
   ]
  },
  {
   "cell_type": "code",
   "execution_count": null,
   "id": "1e7acf9b-4d48-413c-88b2-9f27fb4a0d5e",
   "metadata": {},
   "outputs": [],
   "source": []
  }
 ],
 "metadata": {
  "kernelspec": {
   "display_name": "python3",
   "language": "python",
   "name": "python3"
  }
 },
 "nbformat": 4,
 "nbformat_minor": 5
}
