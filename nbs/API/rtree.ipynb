{
 "cells": [
  {
   "cell_type": "markdown",
   "id": "4566c9e6-f038-43e3-8a30-c950654491b1",
   "metadata": {},
   "source": [
    "# rtree\n",
    "\n",
    "> Rectangle tree for fast point cloud data query"
   ]
  },
  {
   "cell_type": "code",
   "execution_count": null,
   "id": "a5d4c038-8fab-4609-ae52-6ebf3312e3f7",
   "metadata": {},
   "outputs": [],
   "source": [
    "#| default_exp rtree"
   ]
  },
  {
   "cell_type": "code",
   "execution_count": null,
   "id": "3d7f346f-5ef0-4240-926d-9ae39c4a244c",
   "metadata": {},
   "outputs": [],
   "source": [
    "#| hide\n",
    "from nbdev.showdoc import *"
   ]
  },
  {
   "cell_type": "code",
   "execution_count": null,
   "id": "a532edbe-06f4-4afe-8d99-09d3c1e27e58",
   "metadata": {},
   "outputs": [],
   "source": [
    "#| export\n",
    "# Some functions adapted from spatialpandas at https://github.com/holoviz/spatialpandas\n",
    "# under BSD-2-Clause license,\n",
    "\n",
    "# Further specialized for 2D point cloud data and optimized for zarr."
   ]
  },
  {
   "cell_type": "code",
   "execution_count": null,
   "id": "727cbd02-e280-4cdc-925e-7d4fe7922e99",
   "metadata": {},
   "outputs": [],
   "source": [
    "#| export\n",
    "import numpy as np\n",
    "from numba import float64, int64\n",
    "from numba import prange\n",
    "import math\n",
    "from moraine.utils_ import ngjit, ngpjit\n",
    "try:\n",
    "    from numba.experimental import jitclass\n",
    "except ImportError:\n",
    "    from numba import jitclass\n",
    "import zarr"
   ]
  },
  {
   "cell_type": "code",
   "execution_count": null,
   "id": "581278c4-017f-4b5f-bdda-98aa891d8fda",
   "metadata": {},
   "outputs": [],
   "source": [
    "import moraine as mr"
   ]
  },
  {
   "cell_type": "code",
   "execution_count": null,
   "id": "5bb8e4a8-ecab-4b32-8785-fd111fbb6926",
   "metadata": {},
   "outputs": [],
   "source": [
    "#| hide\n",
    "from matplotlib.collections import PatchCollection\n",
    "import matplotlib\n",
    "import matplotlib.pyplot as plt\n",
    "from nbdev import show_doc"
   ]
  },
  {
   "cell_type": "code",
   "execution_count": null,
   "id": "bcdce6f2-299a-4227-b686-b0cd78736c7f",
   "metadata": {},
   "outputs": [],
   "source": [
    "#| export\n",
    "@ngjit\n",
    "def _left_child(node):\n",
    "    \"\"\"\n",
    "    Args:\n",
    "        node: index of a binary tree node\n",
    "\n",
    "    Returns:\n",
    "        index of node's left child\n",
    "    \"\"\"\n",
    "    return 2 * node + 1"
   ]
  },
  {
   "cell_type": "code",
   "execution_count": null,
   "id": "b52366d6-3671-46dd-a9b8-13dd31d1c370",
   "metadata": {},
   "outputs": [],
   "source": [
    "#| export\n",
    "@ngjit\n",
    "def _right_child(node):\n",
    "    \"\"\"\n",
    "    Args:\n",
    "        node: index of a binary tree node\n",
    "\n",
    "    Returns:\n",
    "        index of node's right child\n",
    "    \"\"\"\n",
    "    return 2 * node + 2"
   ]
  },
  {
   "cell_type": "code",
   "execution_count": null,
   "id": "2921ed63-9a75-438a-90fc-8c80cabf1b72",
   "metadata": {},
   "outputs": [],
   "source": [
    "#| export\n",
    "@ngjit\n",
    "def _parent(node):\n",
    "    \"\"\"\n",
    "    Args:\n",
    "        node: index of a binary tree node\n",
    "\n",
    "    Returns:\n",
    "        index of node's parent\n",
    "    \"\"\"\n",
    "    return (node - 1) // 2"
   ]
  },
  {
   "cell_type": "code",
   "execution_count": null,
   "id": "dd490d28-8386-4539-9d4a-c3e78275ab13",
   "metadata": {},
   "outputs": [],
   "source": [
    "#| export\n",
    "@ngjit\n",
    "def _is_outside(query_bounds, node_bounds):\n",
    "    if (query_bounds[2] < node_bounds[0]) or (query_bounds[0] > node_bounds[2]):\n",
    "        return True\n",
    "    if (query_bounds[3] < node_bounds[1]) or (query_bounds[1] > node_bounds[3]):\n",
    "        return True\n",
    "    return False"
   ]
  },
  {
   "cell_type": "code",
   "execution_count": null,
   "id": "bb36f1e9-33db-4643-9507-86c2a2018a66",
   "metadata": {},
   "outputs": [],
   "source": [
    "#| hide\n",
    "assert _is_outside(np.array([0.5,0.5,0.6,0.6]), np.array([0.24330907,0.02271734,0.90802693,0.33264098]))"
   ]
  },
  {
   "cell_type": "code",
   "execution_count": null,
   "id": "bc54f51d-156d-4b4d-9914-68c9a2c22b87",
   "metadata": {},
   "outputs": [],
   "source": [
    "#| export\n",
    "@ngjit\n",
    "def _is_inside(query_bounds, node_bounds):\n",
    "    if ((query_bounds[0] < node_bounds[0]) and (query_bounds[2] > node_bounds[2]) and\n",
    "        (query_bounds[1] < node_bounds[1]) and (query_bounds[3] > node_bounds[3])):\n",
    "        return True\n",
    "    else:\n",
    "        return False"
   ]
  },
  {
   "cell_type": "code",
   "execution_count": null,
   "id": "5190e2e2-027c-48ec-9b4f-9d7886fc0704",
   "metadata": {},
   "outputs": [],
   "source": [
    "#| hide\n",
    "assert not _is_inside(np.array([0.5,0.5,0.6,0.6]), np.array([0.22144525,0.06039695,0.97828617,0.99201584]))"
   ]
  },
  {
   "cell_type": "code",
   "execution_count": null,
   "id": "27ad111e-e258-4911-a0e7-82c9faefc550",
   "metadata": {},
   "outputs": [],
   "source": [
    "#| export\n",
    "@ngpjit\n",
    "def _is_inside_bf(bounds, x, y):\n",
    "    out = np.empty(x.shape,np.bool_)\n",
    "    for i in prange(x.size):\n",
    "        x_i = x[i]; y_i = y[i]\n",
    "        if (x_i>bounds[0]) and (x_i<bounds[2]) and (y_i>bounds[1]) and (y_i<bounds[3]):\n",
    "            out[i] = True\n",
    "        else:\n",
    "            out[i] = False\n",
    "    return out"
   ]
  },
  {
   "cell_type": "code",
   "execution_count": null,
   "id": "cc3a7211-3e1d-4d1d-b4da-6914a2655b31",
   "metadata": {},
   "outputs": [],
   "source": [
    "#| hide\n",
    "bounds = np.array([0.5,0.5,0.6,0.6])\n",
    "x = np.array([0.55,0.58,0.55,0.8])\n",
    "y = np.array([0.8,0.52,0.58,0.55])\n",
    "assert np.all(_is_inside_bf(bounds,x,y) == np.array([False,True,True,False]))"
   ]
  },
  {
   "cell_type": "code",
   "execution_count": null,
   "id": "e85a5935-af55-420a-be25-564ed3cc3732",
   "metadata": {},
   "outputs": [],
   "source": [
    "#| export\n",
    "@ngpjit\n",
    "def _build_hillbert_rtree(x, y, page_size):\n",
    "    \"\"\"\n",
    "        Construct a hillbert rtree, the input coordinates has already been\n",
    "        sorted according to the hillbert index. Reture the bounds tree\n",
    "        Args:\n",
    "            x: x coordinates (e.g., longitude)\n",
    "            y: y coordinates (e.g., latitude)\n",
    "            page_size: Number of elements per leaf of the tree.\n",
    "    \"\"\"\n",
    "    # Init bounds_tree array for storing the binary tree representation\n",
    "    input_size = x.shape[0]\n",
    "    num_pages = math.ceil(input_size/page_size)\n",
    "\n",
    "    tree_depth = math.ceil(np.log2(num_pages))\n",
    "    next_pow2 = 2 ** tree_depth\n",
    "    tree_length = next_pow2 * 2 - 1\n",
    "    bounds_tree = np.full((tree_length, 4), np.nan)\n",
    "    leaf_start = tree_length - next_pow2\n",
    "\n",
    "    for page in prange(num_pages):\n",
    "        start = page * page_size\n",
    "        stop = start + page_size\n",
    "        page_x = x[start:stop]; page_y = y[start:stop]\n",
    "        bounds_tree[leaf_start + page, 0] = np.min(page_x)\n",
    "        bounds_tree[leaf_start + page, 1] = np.min(page_y)\n",
    "        bounds_tree[leaf_start + page, 2] = np.max(page_x)\n",
    "        bounds_tree[leaf_start + page, 3] = np.max(page_y)\n",
    "\n",
    "    # Populate internal layers of tree\n",
    "    layer = tree_depth - 1\n",
    "    start = _parent(tree_length - next_pow2)\n",
    "    stop = _parent(tree_length - 1)\n",
    "\n",
    "    while layer >= 0:\n",
    "        for node in prange(start, stop + 1):\n",
    "            left_bounds = bounds_tree[_left_child(node), :]\n",
    "            left_valid = not np.isnan(left_bounds[0])\n",
    "            right_bounds = bounds_tree[_right_child(node), :]\n",
    "            right_valid = not np.isnan(right_bounds[0])\n",
    "\n",
    "            if left_valid:\n",
    "                if right_valid:\n",
    "                    bounds_tree[node, 0] = min(left_bounds[0],right_bounds[0])\n",
    "                    bounds_tree[node, 1] = min(left_bounds[1],right_bounds[1])\n",
    "                    bounds_tree[node, 2] = max(left_bounds[2],right_bounds[2])\n",
    "                    bounds_tree[node, 3] = max(left_bounds[3],right_bounds[3])\n",
    "                else:\n",
    "                    bounds_tree[node, :] = left_bounds\n",
    "\n",
    "            elif right_valid:\n",
    "                bounds_tree[node, :] = right_bounds\n",
    "\n",
    "        # update layer, start/stop\n",
    "        start = _parent(start)\n",
    "        stop = _parent(stop)\n",
    "        layer -= 1\n",
    "\n",
    "    return bounds_tree"
   ]
  },
  {
   "cell_type": "code",
   "execution_count": null,
   "id": "f854563e-3bec-4644-a873-cde5bd1e0e9f",
   "metadata": {},
   "outputs": [],
   "source": [
    "#| export\n",
    "@ngjit\n",
    "def _merge_ranges(ranges,is_covered):\n",
    "    merged_ranges = [ranges[0]]\n",
    "    merged_is_covered = [is_covered[0]]\n",
    "    for _range, _is_covered in zip(ranges[1:],is_covered[1:]):\n",
    "        if (merged_ranges[-1][1] == _range[0]) and (merged_is_covered[-1] == _is_covered):\n",
    "            merged_ranges[-1] = (merged_ranges[-1][0], _range[1])\n",
    "        else:\n",
    "            merged_ranges.append(_range)\n",
    "            merged_is_covered.append(_is_covered)\n",
    "    return merged_ranges, merged_is_covered"
   ]
  },
  {
   "cell_type": "code",
   "execution_count": null,
   "id": "805a26e0-a9cb-4d8e-ad06-292e1ffa6d5a",
   "metadata": {},
   "outputs": [],
   "source": [
    "#| export\n",
    "@ngjit\n",
    "def _expand_ranges(ranges):\n",
    "    length = np.sum(ranges[:,1]-ranges[:,0])\n",
    "    idx = np.zeros(length,dtype=np.int64)\n",
    "    idx_start = 0\n",
    "    for i in range(ranges.shape[0]):\n",
    "        start = ranges[i,0]\n",
    "        stop = ranges[i,1]\n",
    "        size = stop-start\n",
    "        idx[idx_start:idx_start+size] = np.arange(start,stop,dtype=np.int64)\n",
    "        idx_start += size\n",
    "    return idx"
   ]
  },
  {
   "cell_type": "code",
   "execution_count": null,
   "id": "331b65a1-4ce6-4974-9f62-dc93e6eb0d0d",
   "metadata": {},
   "outputs": [],
   "source": [
    "#| hide\n",
    "ranges = np.array([[0,2],\n",
    "                   [3,6],\n",
    "                   [8,10],\n",
    "                   ])\n",
    "np.testing.assert_array_equal(_expand_ranges(ranges), np.array([0, 1, 3, 4, 5, 8, 9]))"
   ]
  },
  {
   "cell_type": "code",
   "execution_count": null,
   "id": "8e9f870b-7f7f-426d-aadb-2f78a59c10d8",
   "metadata": {},
   "outputs": [],
   "source": [
    "#| export\n",
    "#| hide\n",
    "_numbartree_spec = [\n",
    "    ('_bounds_tree', float64[:, :]),\n",
    "    ('_n_points', int64),\n",
    "    ('_page_size', int64),\n",
    "]\n",
    "@jitclass(_numbartree_spec)\n",
    "class _NumbaRtree:\n",
    "    def __init__(self, bounds_tree, n_points, page_size):\n",
    "        self._bounds_tree = bounds_tree\n",
    "        self._n_points = n_points\n",
    "        self._page_size = page_size\n",
    "\n",
    "    def _leaf_start(self):\n",
    "        \"\"\"\n",
    "        Returns\n",
    "            Index of the first leaf node in bounds_tree\n",
    "        \"\"\"\n",
    "        return (self._bounds_tree.shape[0] + 1) // 2 - 1\n",
    "\n",
    "    def _start_index(self, node):\n",
    "        \"\"\"\n",
    "        Args\n",
    "            node: Index into _bounds_tree representing a binary tree node\n",
    "        Returns\n",
    "            The first index into keys represented by node\n",
    "        \"\"\"\n",
    "        leaf_start = self._leaf_start()\n",
    "        while True:\n",
    "            child = _left_child(node)\n",
    "            if child >= self._bounds_tree.shape[0]:\n",
    "                page = node - leaf_start\n",
    "                return page * self._page_size\n",
    "            else:\n",
    "                node = child\n",
    "\n",
    "    def _stop_index(self, node):\n",
    "        \"\"\"\n",
    "        Args\n",
    "            node: Index into _bounds_tree representing a binary tree node\n",
    "        Returns\n",
    "            One past the last index into keys represented by node\n",
    "        \"\"\"\n",
    "        leaf_start = self._leaf_start()\n",
    "        while True:\n",
    "            child = _right_child(node)\n",
    "            if child >= self._bounds_tree.shape[0]:\n",
    "                page = node - leaf_start + 1\n",
    "                return page * self._page_size\n",
    "            else:\n",
    "                node = child\n",
    "\n",
    "    def _maybe_covered_ranges(self, query_bounds):\n",
    "        if len(query_bounds) % 2 != 0:\n",
    "            raise ValueError(\n",
    "                'query_bounds must an array with an even number of elements'\n",
    "            )\n",
    "        nodes = [0]\n",
    "        maybe_covered_ranges = []\n",
    "        is_covered = []\n",
    "        # Find ranges of indices that overlap with query bounds\n",
    "        while nodes:\n",
    "            next_node = nodes.pop()\n",
    "            node_bounds = self._bounds_tree[next_node, :]\n",
    "            if np.all(np.isnan(node_bounds)): # remove empty bounds\n",
    "                continue\n",
    "\n",
    "            # Check if node's bounds are fully outside query bounds\n",
    "            outside = _is_outside(query_bounds, node_bounds)\n",
    "            if outside:\n",
    "                continue\n",
    "\n",
    "            # Check if node's bounds are fully inside query bounds\n",
    "            inside = _is_inside(query_bounds, node_bounds)\n",
    "\n",
    "            if inside:\n",
    "                # Node's bounds are fully inside query bounds\n",
    "                start = self._start_index(next_node)\n",
    "                stop = self._stop_index(next_node)\n",
    "                maybe_covered_ranges.append((start, stop))\n",
    "                is_covered.append(True)\n",
    "            else:\n",
    "                # print(f'not inside or outsize: {node_bounds}')\n",
    "                start = self._start_index(next_node)\n",
    "                stop = self._stop_index(next_node)\n",
    "                # print(self._page_size)\n",
    "                if stop - start <= self._page_size:\n",
    "                    # note that the stop may exceed the true length of the array\n",
    "                    maybe_covered_ranges.append((start, stop))\n",
    "                    is_covered.append(False)\n",
    "                else:\n",
    "                    # Partial overlap of interior bounding box, recurse to children\n",
    "                    nodes.extend([_right_child(next_node), _left_child(next_node)])\n",
    "\n",
    "        # to ensure end do not exceed the true length\n",
    "        if maybe_covered_ranges[-1][1] > self._n_points:\n",
    "            maybe_covered_ranges[-1] = (maybe_covered_ranges[-1][0], self._n_points)\n",
    "        maybe_covered_ranges, is_covered = _merge_ranges(maybe_covered_ranges, is_covered)\n",
    "        return np.array(maybe_covered_ranges), np.array(is_covered)"
   ]
  },
  {
   "cell_type": "code",
   "execution_count": null,
   "id": "f31769bd-4bbe-4354-b411-2fc625406eb9",
   "metadata": {},
   "outputs": [],
   "source": [
    "#| export\n",
    "@ngjit\n",
    "def _merged_idx(ranges, is_covered, maybe_covered_is_inside):\n",
    "    max_len = np.sum(ranges[:,1]-ranges[:,0])\n",
    "    idx = np.zeros(max_len,dtype=np.int64)\n",
    "    idx_start = 0\n",
    "    idx_maybe_covered = 0\n",
    "    for i in range(ranges.shape[0]):\n",
    "        start = ranges[i,0]\n",
    "        stop = ranges[i,1]\n",
    "        size = stop-start\n",
    "        if is_covered[i]:\n",
    "            idx[idx_start:idx_start+size] = np.arange(start,stop,dtype=np.int64)\n",
    "            idx_start += size\n",
    "        else:\n",
    "            _idx = np.arange(start,stop,dtype=np.int64)[maybe_covered_is_inside[idx_maybe_covered:idx_maybe_covered+size]]\n",
    "            idx_maybe_covered += size\n",
    "            size = len(_idx)\n",
    "            idx[idx_start:idx_start+size] = _idx\n",
    "            idx_start += size\n",
    "    return idx[:idx_start]"
   ]
  },
  {
   "cell_type": "code",
   "execution_count": null,
   "id": "5201c2b9-81d5-48c0-a654-d6ed036d9068",
   "metadata": {},
   "outputs": [],
   "source": [
    "#| export\n",
    "class HilbertRtree:\n",
    "    \"\"\"\n",
    "    This class provides a read-only Hilbert R-tree for spatial indexing.\n",
    "\n",
    "    See [Hilbert_R-tree](https://en.wikipedia.org/wiki/Hilbert_R-tree) for more info on the Hilbert R-tree.\n",
    "\n",
    "    This implementation stores the R-tree as an array representation of a binary tree.\n",
    "    See [Binary_tree](https://en.wikipedia.org/wiki/Binary_tree#Arrays) for more info on the array\n",
    "    representation of a binary tree.\n",
    "    \"\"\"\n",
    "    \n",
    "    def __init__(self, bounds_tree:np.ndarray, # an array representation of a binary tree. shape [n_pages, 4]. Every row is a bounding box of a node: [x0, y0, xm, ym]\n",
    "                 n_points:int, # number of total points\n",
    "                 page_size=512, # number of points in every leaf node.\n",
    "                ):\n",
    "        '''Note that HilbertRtree should not be instantiated directly, \n",
    "        but always through the module-level function `build` and `load`.'''\n",
    "        self._bounds_tree = bounds_tree\n",
    "        self._n_points = n_points\n",
    "        self._page_size = page_size\n",
    "        self._numba_rtree = _NumbaRtree(\n",
    "                self._bounds_tree,self._n_points, self._page_size)\n",
    "\n",
    "    @classmethod\n",
    "    def build(cls, x:np.ndarray, # x coordinates, e.g., lon, shape [n_points,]\n",
    "              y:np.ndarray, # y coordinates, e.g., lat, shape [n_points,]\n",
    "              page_size=512, # number of points in every leaf node. should be same as pc_chunk_size.\n",
    "             ):\n",
    "        \"\"\"classmethod to build a HilbertRtree.\"\"\"\n",
    "        assert x.shape == y.shape\n",
    "        page_size = max(1, page_size)\n",
    "        bounds_tree = _build_hillbert_rtree(x.astype(np.float64), y.astype(np.float64), page_size)\n",
    "        return cls(bounds_tree,x.shape[0], page_size)\n",
    "\n",
    "    def save(path:str, # zarr path\n",
    "            ):\n",
    "        '''Save the HilbertRtree.'''\n",
    "        zarr.open(path,'w',shape=self._bounds_tree.shape,dtype=self._bounds_tree.shape)\n",
    "        zarr[:] = self._bounds_tree[:]\n",
    "        zarr.attrs['page_size'] = self._page_size\n",
    "        zarr.attres['n_points'] = self._n_points\n",
    "\n",
    "    @classmethod\n",
    "    def load(cls, zarr_path:str, # zarr path\n",
    "            ):\n",
    "        '''classmethod to load the saved HilbertRtree.'''\n",
    "        bounds_tree_zarr = zarr.open(path,'r')\n",
    "        return cls(bounds_tree_zarr[:], bounds_tree_zarr.attrs['n_points'], bounds_tree_zarr.attrs['page_size'])\n",
    "\n",
    "    def __getstate__(self):\n",
    "        # Remove _NumbaRtree instance during serialization since jitclass instances\n",
    "        # don't support it.\n",
    "        state = self.__dict__\n",
    "        state['_numba_rtree'] = None\n",
    "        return state\n",
    "    \n",
    "    @property\n",
    "    def bounds_tree(self):\n",
    "        return self._bounds_tree\n",
    "\n",
    "    def maybe_covered_ranges(self, bounds:tuple|list, # data query bounding box, [x0, y0, xm, ym]\n",
    "                             # array of ranges that may be covered by the query bounding box, shape[n_range, 2]. Every row [start, stop] is the range of query data \n",
    "                             # Bool array indicating if fully convered, shape[n_range,]. True: fully covered (every point in this range are in the box). False: some of points may be in the box.\n",
    "                            )->tuple:\n",
    "        '''Get the ranges that may be within the query box.'''\n",
    "        bounds = tuple(float(b) for b in bounds)\n",
    "        return self._numba_rtree._maybe_covered_ranges(bounds)\n",
    "\n",
    "    def bbox_query(self, bounds:tuple|list, # data query bounding box, [x0, y0, xm, ym]\n",
    "                   x:np.ndarray|zarr.Array, # x coordinate\n",
    "                   y:np.ndarray|zarr.Array, # y coordinate\n",
    "                  ):\n",
    "        '''get the index of points that are in the bounding box.'''\n",
    "        bounds = tuple(float(b) for b in bounds)\n",
    "        ranges, is_covered = self._numba_rtree._maybe_covered_ranges(bounds)\n",
    "        maybe_covered_ranges = ranges[~is_covered]\n",
    "        maybe_covered_index = _expand_ranges(maybe_covered_ranges)\n",
    "        maybe_covered_x = x[maybe_covered_index]\n",
    "        maybe_covered_y = y[maybe_covered_index]\n",
    "        maybe_covered_is_inside = _is_inside_bf(bounds,maybe_covered_x,maybe_covered_y)\n",
    "        return _merged_idx(ranges, is_covered, maybe_covered_is_inside)"
   ]
  },
  {
   "cell_type": "code",
   "execution_count": null,
   "id": "fde2c095-fa93-4c3d-95b6-96e1c69144e9",
   "metadata": {},
   "outputs": [
    {
     "data": {
      "text/markdown": [
       "---\n",
       "\n",
       "[source](https://github.com/kanglcn/moraine/blob/main/moraine/rtree.py#L325){target=\"_blank\" style=\"float:right; font-size:smaller\"}\n",
       "\n",
       "### HilbertRtree.build\n",
       "\n",
       ">      HilbertRtree.build (x:numpy.ndarray, y:numpy.ndarray, page_size=512)\n",
       "\n",
       "*classmethod to build a HilbertRtree.*\n",
       "\n",
       "|    | **Type** | **Default** | **Details** |\n",
       "| -- | -------- | ----------- | ----------- |\n",
       "| x | ndarray |  | x coordinates, e.g., lon, shape [n_points,] |\n",
       "| y | ndarray |  | y coordinates, e.g., lat, shape [n_points,] |\n",
       "| page_size | int | 512 | number of points in every leaf node. should be same as pc_chunk_size. |"
      ],
      "text/plain": [
       "---\n",
       "\n",
       "[source](https://github.com/kanglcn/moraine/blob/main/moraine/rtree.py#L325){target=\"_blank\" style=\"float:right; font-size:smaller\"}\n",
       "\n",
       "### HilbertRtree.build\n",
       "\n",
       ">      HilbertRtree.build (x:numpy.ndarray, y:numpy.ndarray, page_size=512)\n",
       "\n",
       "*classmethod to build a HilbertRtree.*\n",
       "\n",
       "|    | **Type** | **Default** | **Details** |\n",
       "| -- | -------- | ----------- | ----------- |\n",
       "| x | ndarray |  | x coordinates, e.g., lon, shape [n_points,] |\n",
       "| y | ndarray |  | y coordinates, e.g., lat, shape [n_points,] |\n",
       "| page_size | int | 512 | number of points in every leaf node. should be same as pc_chunk_size. |"
      ]
     },
     "execution_count": null,
     "metadata": {},
     "output_type": "execute_result"
    }
   ],
   "source": [
    "show_doc(HilbertRtree.build)"
   ]
  },
  {
   "cell_type": "code",
   "execution_count": null,
   "id": "ac8a9bb3-9cda-4e1d-aaa0-e5d201b19820",
   "metadata": {},
   "outputs": [
    {
     "data": {
      "text/markdown": [
       "---\n",
       "\n",
       "[source](https://github.com/kanglcn/moraine/blob/main/moraine/rtree.py#L335){target=\"_blank\" style=\"float:right; font-size:smaller\"}\n",
       "\n",
       "### HilbertRtree.save\n",
       "\n",
       ">      HilbertRtree.save (path:str)\n",
       "\n",
       "*Save the HilbertRtree.*\n",
       "\n",
       "|    | **Type** | **Details** |\n",
       "| -- | -------- | ----------- |\n",
       "| path | str | zarr path |"
      ],
      "text/plain": [
       "---\n",
       "\n",
       "[source](https://github.com/kanglcn/moraine/blob/main/moraine/rtree.py#L335){target=\"_blank\" style=\"float:right; font-size:smaller\"}\n",
       "\n",
       "### HilbertRtree.save\n",
       "\n",
       ">      HilbertRtree.save (path:str)\n",
       "\n",
       "*Save the HilbertRtree.*\n",
       "\n",
       "|    | **Type** | **Details** |\n",
       "| -- | -------- | ----------- |\n",
       "| path | str | zarr path |"
      ]
     },
     "execution_count": null,
     "metadata": {},
     "output_type": "execute_result"
    }
   ],
   "source": [
    "show_doc(HilbertRtree.save)"
   ]
  },
  {
   "cell_type": "code",
   "execution_count": null,
   "id": "5dbf8e96-8d5b-4648-9664-23323afdc393",
   "metadata": {},
   "outputs": [
    {
     "data": {
      "text/markdown": [
       "---\n",
       "\n",
       "[source](https://github.com/kanglcn/moraine/blob/main/moraine/rtree.py#L344){target=\"_blank\" style=\"float:right; font-size:smaller\"}\n",
       "\n",
       "### HilbertRtree.load\n",
       "\n",
       ">      HilbertRtree.load (zarr_path:str)\n",
       "\n",
       "*classmethod to load the saved HilbertRtree.*\n",
       "\n",
       "|    | **Type** | **Details** |\n",
       "| -- | -------- | ----------- |\n",
       "| zarr_path | str | zarr path |"
      ],
      "text/plain": [
       "---\n",
       "\n",
       "[source](https://github.com/kanglcn/moraine/blob/main/moraine/rtree.py#L344){target=\"_blank\" style=\"float:right; font-size:smaller\"}\n",
       "\n",
       "### HilbertRtree.load\n",
       "\n",
       ">      HilbertRtree.load (zarr_path:str)\n",
       "\n",
       "*classmethod to load the saved HilbertRtree.*\n",
       "\n",
       "|    | **Type** | **Details** |\n",
       "| -- | -------- | ----------- |\n",
       "| zarr_path | str | zarr path |"
      ]
     },
     "execution_count": null,
     "metadata": {},
     "output_type": "execute_result"
    }
   ],
   "source": [
    "show_doc(HilbertRtree.load)"
   ]
  },
  {
   "cell_type": "code",
   "execution_count": null,
   "id": "42ff08b3-2b87-4623-ad75-482a9b31fdcf",
   "metadata": {},
   "outputs": [
    {
     "data": {
      "text/markdown": [
       "---\n",
       "\n",
       "[source](https://github.com/kanglcn/moraine/blob/main/moraine/rtree.py#L369){target=\"_blank\" style=\"float:right; font-size:smaller\"}\n",
       "\n",
       "### HilbertRtree.bbox_query\n",
       "\n",
       ">      HilbertRtree.bbox_query (bounds:tuple|list,\n",
       ">                               x:numpy.ndarray|zarr.core.Array,\n",
       ">                               y:numpy.ndarray|zarr.core.Array)\n",
       "\n",
       "*get the index of points that are in the bounding box.*\n",
       "\n",
       "|    | **Type** | **Details** |\n",
       "| -- | -------- | ----------- |\n",
       "| bounds | tuple \\| list | data query bounding box, [x0, y0, xm, ym] |\n",
       "| x | numpy.ndarray \\| zarr.core.Array | x coordinate |\n",
       "| y | numpy.ndarray \\| zarr.core.Array | y coordinate |"
      ],
      "text/plain": [
       "---\n",
       "\n",
       "[source](https://github.com/kanglcn/moraine/blob/main/moraine/rtree.py#L369){target=\"_blank\" style=\"float:right; font-size:smaller\"}\n",
       "\n",
       "### HilbertRtree.bbox_query\n",
       "\n",
       ">      HilbertRtree.bbox_query (bounds:tuple|list,\n",
       ">                               x:numpy.ndarray|zarr.core.Array,\n",
       ">                               y:numpy.ndarray|zarr.core.Array)\n",
       "\n",
       "*get the index of points that are in the bounding box.*\n",
       "\n",
       "|    | **Type** | **Details** |\n",
       "| -- | -------- | ----------- |\n",
       "| bounds | tuple \\| list | data query bounding box, [x0, y0, xm, ym] |\n",
       "| x | numpy.ndarray \\| zarr.core.Array | x coordinate |\n",
       "| y | numpy.ndarray \\| zarr.core.Array | y coordinate |"
      ]
     },
     "execution_count": null,
     "metadata": {},
     "output_type": "execute_result"
    }
   ],
   "source": [
    "show_doc(HilbertRtree.bbox_query)"
   ]
  },
  {
   "cell_type": "code",
   "execution_count": null,
   "id": "dde25dfa-5e41-402d-ac64-2cc915c357be",
   "metadata": {},
   "outputs": [],
   "source": [
    "#| hide\n",
    "x = np.random.rand(100)\n",
    "y = np.random.rand(100)\n",
    "bbox = [0,0,1,1]\n",
    "hix = mr.pc_hix(x, y, bbox, interval=[0.000001,0.000001])\n",
    "key = mr.pc_sort(hix)\n",
    "x = x[key]; y = y[key]\n",
    "\n",
    "rtree = HilbertRtree.build(x,y,page_size=32)\n",
    "\n",
    "idx = rtree.bbox_query(bbox,x,y)\n",
    "assert idx[-1] < 100"
   ]
  },
  {
   "cell_type": "markdown",
   "id": "a35c5071-d92d-4a3c-9b62-ad89888c71cc",
   "metadata": {},
   "source": [
    "Example: create the data:"
   ]
  },
  {
   "cell_type": "code",
   "execution_count": null,
   "id": "6696fb01-1c67-4a62-9ae0-f308d71e0648",
   "metadata": {},
   "outputs": [],
   "source": [
    "x = np.random.rand(1000000)\n",
    "y = np.random.rand(1000000)\n",
    "bbox = [0,0,1,1]\n",
    "hix = mr.pc_hix(x, y, bbox, interval=[0.00000001,0.00000001])\n",
    "key = mr.pc_sort(hix)\n",
    "x = x[key]; y = y[key]"
   ]
  },
  {
   "cell_type": "markdown",
   "id": "2b50150d-b5b0-434c-bc96-985d8d55d026",
   "metadata": {},
   "source": [
    "build r tree:"
   ]
  },
  {
   "cell_type": "code",
   "execution_count": null,
   "id": "79bee3e7-7bfc-415b-b914-55439f9bfb99",
   "metadata": {},
   "outputs": [],
   "source": [
    "rtree = HilbertRtree.build(x,y,page_size=4096)"
   ]
  },
  {
   "cell_type": "markdown",
   "id": "0f484547-4aaa-44f4-91c6-d6bc3e65b691",
   "metadata": {},
   "source": [
    "data query:"
   ]
  },
  {
   "cell_type": "code",
   "execution_count": null,
   "id": "f7c1bfe9-7665-4f67-93e2-0592eb5d841b",
   "metadata": {},
   "outputs": [],
   "source": [
    "x0, y0, xm, ym = 0.9, 0.9, 1.0, 1.0\n",
    "bounds = [x0, y0, xm, ym]\n",
    "q_idx = rtree.bbox_query(bounds,x,y)"
   ]
  },
  {
   "cell_type": "markdown",
   "id": "466a2d70-b4a2-4f23-b4bf-302ba46b501e",
   "metadata": {},
   "source": [
    "compare with the brute-force check:"
   ]
  },
  {
   "cell_type": "code",
   "execution_count": null,
   "id": "bbbeed34-6836-4066-bba8-2d055273bf13",
   "metadata": {},
   "outputs": [],
   "source": [
    "q_idx_ = np.where((x>x0) & (x<xm) & (y>y0) & (y<ym))[0]\n",
    "np.testing.assert_array_equal(q_idx, q_idx_)"
   ]
  },
  {
   "cell_type": "markdown",
   "id": "92bc4122-1797-4efd-9aea-23894f7ffb7d",
   "metadata": {},
   "source": [
    "speed compare:"
   ]
  },
  {
   "cell_type": "code",
   "execution_count": null,
   "id": "f05a78d1-7a26-4a37-a597-8f5831fd41c3",
   "metadata": {},
   "outputs": [
    {
     "name": "stdout",
     "output_type": "stream",
     "text": [
      "164 µs ± 4.03 µs per loop (mean ± std. dev. of 7 runs, 10,000 loops each)\n"
     ]
    }
   ],
   "source": [
    "%%timeit\n",
    "q_idx = rtree.bbox_query(bounds,x,y)"
   ]
  },
  {
   "cell_type": "code",
   "execution_count": null,
   "id": "c000d274-b558-4156-a4a5-b89c8e09d53e",
   "metadata": {},
   "outputs": [
    {
     "name": "stdout",
     "output_type": "stream",
     "text": [
      "1.84 ms ± 11 µs per loop (mean ± std. dev. of 7 runs, 1,000 loops each)\n"
     ]
    }
   ],
   "source": [
    "%%timeit\n",
    "q_idx_ = np.where((x>x0) & (x<xm) & (y>y0) & (y<ym))[0]"
   ]
  },
  {
   "cell_type": "markdown",
   "id": "5b8eba5d-fa1a-4888-a6ce-63eb1728f70f",
   "metadata": {},
   "source": [
    "`HilbertRtree` is designed for query small amount of data from a big dataset.\n",
    "The bigger the dataset, the greater the improvement."
   ]
  },
  {
   "cell_type": "markdown",
   "id": "6e44aab9-4ffc-419b-9c96-270ca0e28e49",
   "metadata": {},
   "source": [
    "for data on the disk:"
   ]
  },
  {
   "cell_type": "code",
   "execution_count": null,
   "id": "6cbb4862-bba2-42f8-9de9-aef3caae82cc",
   "metadata": {},
   "outputs": [],
   "source": [
    "x_zarr = zarr.open('rtree/x.zarr','w',shape=x.shape,chunks=(4096,),dtype=x.dtype)\n",
    "y_zarr = zarr.open('rtree/y.zarr','w',shape=x.shape,chunks=(4096,),dtype=x.dtype)\n",
    "x_zarr[:] = x; y_zarr[:] = y"
   ]
  },
  {
   "cell_type": "code",
   "execution_count": null,
   "id": "224ba9f8-838d-4f11-8253-b4e7ffc5b37e",
   "metadata": {},
   "outputs": [],
   "source": [
    "x_zarr = zarr.open('rtree/x.zarr','r')\n",
    "y_zarr = zarr.open('rtree/y.zarr','r')"
   ]
  },
  {
   "cell_type": "code",
   "execution_count": null,
   "id": "eb4834c9-868a-4abf-a48d-c645e2932f15",
   "metadata": {},
   "outputs": [
    {
     "name": "stdout",
     "output_type": "stream",
     "text": [
      "5.67 ms ± 182 µs per loop (mean ± std. dev. of 7 runs, 100 loops each)\n"
     ]
    }
   ],
   "source": [
    "%%timeit\n",
    "q_idx = rtree.bbox_query(bounds,x_zarr,y_zarr)"
   ]
  },
  {
   "cell_type": "code",
   "execution_count": null,
   "id": "d359bfdf-d440-4cec-850e-f0fe5f200f36",
   "metadata": {},
   "outputs": [
    {
     "name": "stdout",
     "output_type": "stream",
     "text": [
      "226 ms ± 7.33 ms per loop (mean ± std. dev. of 7 runs, 1 loop each)\n"
     ]
    }
   ],
   "source": [
    "%%timeit\n",
    "x = x_zarr[:]; y = y_zarr[:]\n",
    "idx = np.where((x>x0) & (x<xm) & (y>y0) & (y<ym))[0]"
   ]
  },
  {
   "cell_type": "code",
   "execution_count": null,
   "id": "ffe3fd9f-7db8-489e-963b-04cb91943574",
   "metadata": {},
   "outputs": [],
   "source": [
    "#| hide\n",
    "ranges, is_covered = rtree.maybe_covered_ranges(bounds)\n",
    "for _range, _is_covered in zip(ranges, is_covered):\n",
    "    if _is_covered:\n",
    "        assert np.all(x[_range[0]:_range[1]]>=x0)\n",
    "        assert np.all(x[_range[0]:_range[1]]<=xm)\n",
    "        assert np.all(y[_range[0]:_range[1]]>=y0)\n",
    "        assert np.all(y[_range[0]:_range[1]]<=ym)\n",
    "# for _maybe_covered_range in maybe_covered_range:\n",
    "#     assert np.any(x_sorted[slice(*_maybe_covered_range)]>=x0)\n",
    "#     assert np.any(x_sorted[slice(*_maybe_covered_range)]<=xm)\n",
    "#     assert np.any(y_sorted[slice(*_maybe_covered_range)]>=y0)\n",
    "#     assert np.any(y_sorted[slice(*_maybe_covered_range)]<=ym)"
   ]
  },
  {
   "cell_type": "code",
   "execution_count": null,
   "id": "52fb546c-29c9-42cc-abce-d3d4bbb71918",
   "metadata": {},
   "outputs": [
    {
     "data": {
      "image/png": "[encoded data removed]",
      "text/plain": [
       "<Figure size 640x480 with 1 Axes>"
      ]
     },
     "metadata": {},
     "output_type": "display_data"
    }
   ],
   "source": [
    "#| hide\n",
    "bounds_tree=rtree.bounds_tree\n",
    "fig = plt.figure()\n",
    "ax = fig.add_subplot(111, aspect='equal')\n",
    "# plt.xlim([0, 1])\n",
    "# plt.ylim([0, 1])\n",
    "n = bounds_tree.shape[0]\n",
    "patches = []\n",
    "for i in range(n):\n",
    "    patches.append(matplotlib.patches.Rectangle((bounds_tree[i,0], bounds_tree[i,1]),bounds_tree[i,2]-bounds_tree[i,0],bounds_tree[i,3]-bounds_tree[i,1],))\n",
    "ax.add_collection(PatchCollection(patches,fc = (1,0,0,0.1), ec = (0,0,0,1), lw=1 ))\n",
    "plt.show()"
   ]
  },
  {
   "cell_type": "code",
   "execution_count": null,
   "id": "d50eda76-1cf8-4fb7-9f5a-df8af874e97a",
   "metadata": {},
   "outputs": [],
   "source": [
    "#| hide\n",
    "import nbdev; nbdev.nbdev_export()"
   ]
  },
  {
   "cell_type": "code",
   "execution_count": null,
   "id": "93b7f342-b361-4a83-9823-099be83c5978",
   "metadata": {},
   "outputs": [],
   "source": []
  }
 ],
 "metadata": {
  "kernelspec": {
   "display_name": "python3",
   "language": "python",
   "name": "python3"
  }
 },
 "nbformat": 4,
 "nbformat_minor": 5
}
