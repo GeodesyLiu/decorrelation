{
 "cells": [
  {
   "cell_type": "markdown",
   "id": "3a0f2ed0-75b1-446d-b6a1-572ae64468bf",
   "metadata": {},
   "source": [
    "# appconfig\n",
    "\n",
    "> package configuration fetching"
   ]
  },
  {
   "cell_type": "code",
   "execution_count": null,
   "id": "37943c52-5e72-4659-b2bb-b0baae775ed4",
   "metadata": {},
   "outputs": [],
   "source": [
    "#| default_exp cli/utils/appconfig"
   ]
  },
  {
   "cell_type": "code",
   "execution_count": null,
   "id": "1b14d02f-496f-4b89-bb33-bbca6de66bdc",
   "metadata": {},
   "outputs": [],
   "source": [
    "#| hide\n",
    "from nbdev.showdoc import *"
   ]
  },
  {
   "cell_type": "code",
   "execution_count": null,
   "id": "1368a44a-814c-4ee4-892a-075e06ce2379",
   "metadata": {},
   "outputs": [],
   "source": [
    "#| export\n",
    "from pathlib import Path\n",
    "import toml"
   ]
  },
  {
   "cell_type": "code",
   "execution_count": null,
   "id": "056ee7c4-ae5f-4dd5-89d6-e3e12c7d1d13",
   "metadata": {},
   "outputs": [],
   "source": [
    "#| export\n",
    "def get_config(appname = 'decorrelation'):\n",
    "    files = [Path(f'~/.{appname}.toml').expanduser(), Path(f'./{appname}.toml')]\n",
    "    config_dict = dict()\n",
    "    for file in files:\n",
    "        if file.exists():\n",
    "            config_dict.update(toml.load(file))\n",
    "    return config_dict"
   ]
  },
  {
   "cell_type": "code",
   "execution_count": null,
   "id": "89564d48-530c-4e40-a98a-eb1638b6a189",
   "metadata": {},
   "outputs": [],
   "source": [
    "#| hide\n",
    "import nbdev; nbdev.nbdev_export()"
   ]
  },
  {
   "cell_type": "code",
   "execution_count": null,
   "id": "68dcef1d-839b-4647-9057-c9d5bfd0d19e",
   "metadata": {},
   "outputs": [],
   "source": []
  }
 ],
 "metadata": {
  "kernelspec": {
   "display_name": "Python [conda env:work]",
   "language": "python",
   "name": "conda-env-work-py"
  }
 },
 "nbformat": 4,
 "nbformat_minor": 5
}
