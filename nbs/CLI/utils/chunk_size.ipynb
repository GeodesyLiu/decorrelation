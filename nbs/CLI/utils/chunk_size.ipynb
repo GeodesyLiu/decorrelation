{
 "cells": [
  {
   "cell_type": "markdown",
   "id": "e4ae597e-8488-4ab3-81ef-cb7c43ddb3fd",
   "metadata": {},
   "source": [
    "# chunk_size\n",
    "\n",
    "> utilities for determine chunk_size, including az_chunk_size, pc_chunk_size"
   ]
  },
  {
   "cell_type": "code",
   "execution_count": null,
   "id": "3954cbf6-5d45-41bf-aa8c-fdb7953fd898",
   "metadata": {},
   "outputs": [],
   "source": [
    "#| default_exp cli/utils/chunk_size"
   ]
  },
  {
   "cell_type": "code",
   "execution_count": null,
   "id": "8e356832-b54b-463a-8731-f40d02305954",
   "metadata": {},
   "outputs": [],
   "source": [
    "#| hide\n",
    "from nbdev.showdoc import *"
   ]
  },
  {
   "cell_type": "code",
   "execution_count": null,
   "id": "3cef19ab-a3d0-41da-a2f2-567bf6a9e0fd",
   "metadata": {},
   "outputs": [],
   "source": [
    "#| export\n",
    "import math"
   ]
  },
  {
   "cell_type": "code",
   "execution_count": null,
   "id": "a96d62c2-a72c-4108-809d-973e9f89a8ee",
   "metadata": {},
   "outputs": [],
   "source": [
    "#| export\n",
    "def get_pc_chunk_size_from_n_pc_chunk(in_pc_name, out_pc_name,\n",
    "                                      n_pc_in, pc_chunk_size_in,\n",
    "                                      n_pc,\n",
    "                                      logger,\n",
    "                                      pc_chunk_size=None,n_pc_chunk=None):\n",
    "    if pc_chunk_size is not None:\n",
    "        logger.info(f'got pc_chunk_size for {out_pc_name}: {pc_chunk_size}')\n",
    "        return pc_chunk_size\n",
    "    else:\n",
    "        if n_pc_chunk is not None:\n",
    "            logger.info(f'got n_pc_chunk for {out_pc_name}: {n_pc_chunk}')\n",
    "            logger.info(f'automatically determine pc_chunk_size from n_pc of {out_pc_name} and n_pc_chunk of {out_pc_name}')\n",
    "            pc_chunk_size = math.ceil(n_pc/n_pc_chunk)\n",
    "            logger.info(f'pc_chunk_size for {out_pc_name}: {pc_chunk_size}')\n",
    "            return pc_chunk_size\n",
    "        else:\n",
    "            logger.info(f'automatically determine pc_chunk_size from n_pc of {out_pc_name} and n_pc_chunk of {in_pc_name}')\n",
    "            n_pc_chunk = math.ceil(n_pc_in/pc_chunk_size_in)\n",
    "            pc_chunk_size = math.ceil(n_pc/n_pc_chunk)\n",
    "            logger.info(f'pc_chunk_size for {out_pc_name}: {pc_chunk_size}')\n",
    "            return pc_chunk_size"
   ]
  },
  {
   "cell_type": "code",
   "execution_count": null,
   "id": "7aa35eb6-8c69-482a-97d5-feca2fa2ccf7",
   "metadata": {},
   "outputs": [],
   "source": [
    "#| export\n",
    "def get_pc_chunk_size_from_pc_chunk_size(in_pc_name, out_pc_name,\n",
    "                                         pc_chunk_size_in,\n",
    "                                         n_pc,\n",
    "                                         logger,\n",
    "                                         pc_chunk_size=None,n_pc_chunk=None):\n",
    "    if pc_chunk_size is not None:\n",
    "        logger.info(f'got pc_chunk_size for {out_pc_name}: {pc_chunk_size}')\n",
    "        return pc_chunk_size\n",
    "    else:\n",
    "        if n_pc_chunk is not None:\n",
    "            logger.info(f'got n_pc_chunk for {out_pc_name}: {n_pc_chunk}')\n",
    "            logger.info(f'automatically determine pc_chunk_size from n_pc of {out_pc_name} and n_pc_chunk of {out_pc_name}')\n",
    "            pc_chunk_size = math.ceil(n_pc/n_pc_chunk)\n",
    "            logger.info(f'pc_chunk_size for {out_pc_name}: {pc_chunk_size}')\n",
    "            return pc_chunk_size\n",
    "        else:\n",
    "            logger.info(f'automatically determine pc_chunk_size from pc_chunk_size of {in_pc_name}.')\n",
    "            pc_chunk_size = pc_chunk_size_in\n",
    "            logger.info(f'pc_chunk_size for {out_pc_name}: {pc_chunk_size}')\n",
    "            return pc_chunk_size"
   ]
  },
  {
   "cell_type": "code",
   "execution_count": null,
   "id": "c82ebc9e-7bd6-49c9-9e34-5b727fdb0d4d",
   "metadata": {},
   "outputs": [],
   "source": [
    "#| export\n",
    "def get_pc_chunk_size_from_n_az_chunk(ras_name, pc_name,\n",
    "                                      nlines, az_chunk_size,\n",
    "                                      n_pc,\n",
    "                                      logger,\n",
    "                                      pc_chunk_size=None,n_pc_chunk=None):\n",
    "    if pc_chunk_size is not None:\n",
    "        logger.info(f'got pc_chunk_size for {pc_name}: {pc_chunk_size}')\n",
    "        return pc_chunk_size\n",
    "    else:\n",
    "        if n_pc_chunk is not None:\n",
    "            logger.info(f'got n_pc_chunk for {pc_name}: {n_pc_chunk}')\n",
    "            logger.info(f'automatically determine pc_chunk_size from n_pc of {pc_name} and n_pc_chunk of {pc_name}')\n",
    "            pc_chunk_size = math.ceil(n_pc/n_pc_chunk)\n",
    "            logger.info(f'pc_chunk_size for {pc_name}: {pc_chunk_size}')\n",
    "            return pc_chunk_size\n",
    "        else:\n",
    "            logger.info(f'automatically determine pc_chunk_size from n_pc of {pc_name} and n_az_chunk of {ras_name}')\n",
    "            n_pc_chunk = math.ceil(nlines/az_chunk_size)\n",
    "            pc_chunk_size = math.ceil(n_pc/n_pc_chunk)\n",
    "            logger.info(f'pc_chunk_size for {pc_name}: {pc_chunk_size}')\n",
    "            return pc_chunk_size"
   ]
  },
  {
   "cell_type": "code",
   "execution_count": null,
   "id": "c2285959-71b9-4ff6-971e-e4fad292e932",
   "metadata": {},
   "outputs": [],
   "source": [
    "#| export\n",
    "def get_az_chunk_size_from_n_pc_chunk(pc_name, ras_name,\n",
    "                                      n_pc, pc_chunk_size,\n",
    "                                      nlines,\n",
    "                                      logger,\n",
    "                                      az_chunk_size=None,n_az_chunk=None):\n",
    "    if az_chunk_size is not None:\n",
    "        logger.info(f'got az_chunk_size for {ras_name}: {az_chunk_size}')\n",
    "        return az_chunk_size\n",
    "    else:\n",
    "        if n_az_chunk is not None:\n",
    "            logger.info(f'got n_az_chunk for {ras_name}: {n_az_chunk}')\n",
    "            logger.info(f'automatically determine az_chunk_size from nlines of {ras_name} and n_pc_chunk of {ras_name}')\n",
    "            az_chunk_size = math.ceil(nlines/n_az_chunk)\n",
    "            logger.info(f'az_chunk_size for {ras_name}: {az_chunk_size}')\n",
    "            return az_chunk_size\n",
    "        else:\n",
    "            logger.info(f'automatically determine az_chunk_size from nlines of {ras_name} and n_pc_chunk of {pc_name}')\n",
    "            n_az_chunk = math.ceil(n_pc/pc_chunk_size)\n",
    "            az_chunk_size = math.ceil(nlines/n_az_chunk)\n",
    "            logger.info(f'az_chunk_size for {az_name}: {az_chunk_size}')\n",
    "            return az_chunk_size"
   ]
  },
  {
   "cell_type": "code",
   "execution_count": null,
   "id": "ffb1bbe8-ddba-4c4c-84bc-e45276fe6db2",
   "metadata": {},
   "outputs": [],
   "source": [
    "#| export\n",
    "def get_az_chunk_size_from_az_chunk_size(in_ras_name, out_ras_name,\n",
    "                                         az_chunk_size_in,\n",
    "                                         nlines,\n",
    "                                         logger,\n",
    "                                         az_chunk_size=None,n_az_chunk=None):\n",
    "    if az_chunk_size is not None:\n",
    "        logger.info(f'got az_chunk_size for {out_ras_name}: {az_chunk_size}')\n",
    "        return az_chunk_size\n",
    "    else:\n",
    "        if n_az_chunk is not None:\n",
    "            logger.info(f'got n_az_chunk for {out_ras_name}: {n_az_chunk}')\n",
    "            logger.info(f'automatically determine az_chunk_size from nlines of {out_ras_name} and n_pc_chunk of {out_ras_name}')\n",
    "            az_chunk_size = math.ceil(nlines/n_az_chunk)\n",
    "            logger.info(f'az_chunk_size for {out_ras_name}: {az_chunk_size}')\n",
    "            return az_chunk_size\n",
    "        else:\n",
    "            logger.info(f'automatically determine az_chunk_size from az_chunk_size of {in_ras_name}')\n",
    "            az_chunk_size = az_chunk_size_in\n",
    "            logger.info(f'az_chunk_size for {out_az_name}: {az_chunk_size}')\n",
    "            return az_chunk_size"
   ]
  },
  {
   "cell_type": "code",
   "execution_count": null,
   "id": "73b1650a-bcf3-47d8-9f26-cc996c3e702c",
   "metadata": {},
   "outputs": [],
   "source": [
    "#| hide\n",
    "import nbdev; nbdev.nbdev_export()"
   ]
  },
  {
   "cell_type": "code",
   "execution_count": null,
   "id": "41f07034-a139-4ba6-addf-d299c2c28921",
   "metadata": {},
   "outputs": [],
   "source": []
  }
 ],
 "metadata": {
  "kernelspec": {
   "display_name": "Python [conda env:work]",
   "language": "python",
   "name": "conda-env-work-py"
  }
 },
 "nbformat": 4,
 "nbformat_minor": 5
}
