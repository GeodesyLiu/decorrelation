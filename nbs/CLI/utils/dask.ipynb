{
 "cells": [
  {
   "cell_type": "markdown",
   "id": "10a2c2af-1529-4c38-92e1-8b486dad05fb",
   "metadata": {},
   "source": [
    "# dask\n",
    "\n",
    "> dask utilities for the CLI"
   ]
  },
  {
   "cell_type": "code",
   "execution_count": null,
   "id": "37943c52-5e72-4659-b2bb-b0baae775ed4",
   "metadata": {},
   "outputs": [],
   "source": [
    "#| default_exp cli/utils/dask"
   ]
  },
  {
   "cell_type": "code",
   "execution_count": null,
   "id": "1b14d02f-496f-4b89-bb33-bbca6de66bdc",
   "metadata": {},
   "outputs": [],
   "source": [
    "#| hide\n",
    "from nbdev.showdoc import *"
   ]
  },
  {
   "cell_type": "code",
   "execution_count": null,
   "id": "93de17e5-117a-45e6-ae78-00c75c3f17ef",
   "metadata": {},
   "outputs": [],
   "source": [
    "#| export\n",
    "from dask import array as da\n",
    "import numpy as np\n",
    "import os\n",
    "import math\n",
    "from decorrelation.cli.utils.appconfig import get_config"
   ]
  },
  {
   "cell_type": "code",
   "execution_count": null,
   "id": "c226c3d0-832b-4c80-b611-3955a1d1a096",
   "metadata": {},
   "outputs": [],
   "source": [
    "#| export\n",
    "def _pad_chunks(original_chunks, axes):\n",
    "    \"\"\"Get new chunks for array with block padding.\"\"\"\n",
    "    # this function is adapt from https://github.com/dask/dask/blob/main/dask/array/overlap.py#L17\n",
    "    chunks = []\n",
    "    for i, bds in enumerate(original_chunks):\n",
    "        depth = axes.get(i, 0)\n",
    "        if isinstance(depth, tuple):\n",
    "            left_depth = depth[0]\n",
    "            right_depth = depth[1]\n",
    "        else:\n",
    "            left_depth = depth\n",
    "            right_depth = depth\n",
    "        \n",
    "        chunk = []\n",
    "        for bd in bds:\n",
    "            chunk.append(left_depth+bd+right_depth)\n",
    "        chunks.append(chunk)\n",
    "    return chunks"
   ]
  },
  {
   "cell_type": "code",
   "execution_count": null,
   "id": "7b96d15a-5624-408f-a266-04b5e262e965",
   "metadata": {},
   "outputs": [],
   "source": [
    "#| export\n",
    "def pad_internal(arr:da.array,\n",
    "                 depth:dict=None):\n",
    "    '''Pad zero between block boundaries, currently one pad zero are supported'''\n",
    "    chunks = _pad_chunks(arr.chunks,axes=depth)\n",
    "\n",
    "    depth_len = len(depth)\n",
    "    pad_arg = [None]*depth_len\n",
    "    slice_arg = [None]*depth_len\n",
    "    for i in range(depth_len):\n",
    "        if isinstance(depth[i],tuple):\n",
    "            pad_arg[i] = depth[i]\n",
    "            left_slice = depth[i][0]\n",
    "            if depth[i][1] == 0:\n",
    "                right_slice = None\n",
    "            else:\n",
    "                right_slice = -depth[i][-1]\n",
    "            slice_arg[i] = slice(left_slice,right_slice)\n",
    "        else:\n",
    "            pad_arg[i] = (depth[i],depth[i])\n",
    "            left_slice = depth[i]\n",
    "            if depth[i] == 0:\n",
    "                right_slice = None\n",
    "            else:\n",
    "                right_slice = -depth[i]\n",
    "            slice_arg[i] = slice(left_slice,right_slice)\n",
    "    pad_arg = tuple(pad_arg)\n",
    "    slice_arg = tuple(slice_arg)\n",
    "    arr_out = da.map_blocks(np.pad,arr,pad_arg,chunks=chunks)\n",
    "\n",
    "    return arr_out[slice_arg]"
   ]
  },
  {
   "cell_type": "code",
   "execution_count": null,
   "id": "2b27a63b-b93c-4f65-b303-38411bbfb072",
   "metadata": {},
   "outputs": [],
   "source": [
    "#| export\n",
    "def get_cuda_cluster():\n",
    "    from dask.distributed import Client\n",
    "    from dask_cuda import LocalCUDACluster\n",
    "    config = get_config()\n",
    "    \n",
    "    visible_gpus = config.get('visible_gpus')\n",
    "    if visible_gpus is None:\n",
    "        n_gpu = len(os.environ['CUDA_VISIBLE_DEVICES'].split(','))\n",
    "    else:\n",
    "        n_gpu = len(visible_gpus)\n",
    "    n_cpu = config.get('n_cpu')\n",
    "    threads_per_worker = math.floor(n_cpu/n_gpu)\n",
    "    cluster = LocalCUDACluster(CUDA_VISIBLE_DEVICES=config.get('visible_gpus'),threads_per_worker=threads_per_worker)\n",
    "    client = Client(cluster)\n",
    "    return cluster, client"
   ]
  },
  {
   "cell_type": "code",
   "execution_count": null,
   "id": "614f7870-07bf-4aac-a662-2ab5bfc6d7c4",
   "metadata": {},
   "outputs": [],
   "source": [
    "#| export\n",
    "def get_pc_chunk_size(az_chunk_size,pc_size,pc_chunk_size=None,n_pc_chunk=None,logger=None):\n",
    "    '''automatically determine pc_chunk_size, n_pc_chunk.\n",
    "    '''\n",
    "    if pc_chunk_size is None:\n",
    "        if n_pc_chunk is None:\n",
    "            pc_chunk_size = az_chunk_size\n",
    "            logger.info(f'set pc_chunk_size as az_chunk_size: {az_chunk_size}')\n",
    "        else:\n",
    "            logger.info(f'got n_pc_chunk: {n_pc_chunk}')\n",
    "            pc_chunk_size = math.ceil(pc_size/pt_n_chunk)\n",
    "            logger.info(f'set pc_chunk_size as: {pc_chunk_size}')\n",
    "    else:\n",
    "        logger.info(f'got pc_chunk_size: {pc_chunk_size}')\n",
    "    return pc_chunk_size"
   ]
  },
  {
   "cell_type": "code",
   "execution_count": null,
   "id": "89564d48-530c-4e40-a98a-eb1638b6a189",
   "metadata": {},
   "outputs": [],
   "source": [
    "#| hide\n",
    "import nbdev; nbdev.nbdev_export()"
   ]
  },
  {
   "cell_type": "code",
   "execution_count": null,
   "id": "d02f07ab-b6f9-44aa-bb6f-afe542154843",
   "metadata": {},
   "outputs": [],
   "source": []
  }
 ],
 "metadata": {
  "kernelspec": {
   "display_name": "Python [conda env:work]",
   "language": "python",
   "name": "conda-env-work-py"
  }
 },
 "nbformat": 4,
 "nbformat_minor": 5
}
