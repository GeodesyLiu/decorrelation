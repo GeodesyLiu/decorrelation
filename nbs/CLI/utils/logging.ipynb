{
 "cells": [
  {
   "cell_type": "markdown",
   "id": "cbc9bef9-2e60-4fb6-9f4d-4da1025a07c7",
   "metadata": {},
   "source": [
    "# logging\n",
    "\n",
    "> basic logging functions for the CLI"
   ]
  },
  {
   "cell_type": "code",
   "execution_count": null,
   "id": "37943c52-5e72-4659-b2bb-b0baae775ed4",
   "metadata": {},
   "outputs": [],
   "source": [
    "#| default_exp cli/utils/logging"
   ]
  },
  {
   "cell_type": "code",
   "execution_count": null,
   "id": "1b14d02f-496f-4b89-bb33-bbca6de66bdc",
   "metadata": {},
   "outputs": [],
   "source": [
    "#| hide\n",
    "from nbdev.showdoc import *"
   ]
  },
  {
   "cell_type": "code",
   "execution_count": null,
   "id": "df421488-fa8a-48e0-a1e2-3b4f2136845c",
   "metadata": {},
   "outputs": [],
   "source": [
    "#| export\n",
    "import logging\n",
    "import sys\n",
    "import random\n",
    "import string\n",
    "import inspect"
   ]
  },
  {
   "cell_type": "code",
   "execution_count": null,
   "id": "5bee0a3c-6eb7-4ea3-9c05-753880530ba6",
   "metadata": {},
   "outputs": [],
   "source": [
    "#| export\n",
    "def _get_random_string(length):\n",
    "    # choose from all lowercase letter\n",
    "    letters = string.ascii_lowercase\n",
    "    result_str = ''.join(random.choice(letters) for i in range(length))\n",
    "    return result_str"
   ]
  },
  {
   "cell_type": "code",
   "execution_count": null,
   "id": "93ec376e-fe04-42e5-8035-db6d6dba6525",
   "metadata": {},
   "outputs": [],
   "source": [
    "#| export\n",
    "def get_logger(name:str=None, # name of the application, optional. default: the function name that call this function\n",
    "               logfile:str=None, # logfile, optional. default: no logfile\n",
    "               level:str=None, # log level, debug or info, optional. default: info\n",
    "              ):\n",
    "    '''get logger for decorrelation cli application'''\n",
    "\n",
    "    if not name:\n",
    "        name = inspect.stack()[1][3] #obtain the previous level function name\n",
    "    \n",
    "    if not level:\n",
    "        level = 'info'\n",
    "    if level == 'info':\n",
    "        level = logging.INFO\n",
    "    elif level == 'debug':\n",
    "        level = logging.DEBUG\n",
    "    else:\n",
    "        raise NotImplementedError('only debug and info level are supported')\n",
    "\n",
    "    LOG_FORMAT = \"%(asctime)s - %(levelname)s - %(message)s\"\n",
    "    DATE_FORMAT = \"%m/%d/%Y %H:%M:%S %p\"\n",
    "    random_logger_name = _get_random_string(36)\n",
    "    #The real name of the logger is set to random string to prevent events propogating.\n",
    "\n",
    "    logger = logging.getLogger(random_logger_name)\n",
    "    logger.setLevel(level)\n",
    "    formatter = logging.Formatter(f'%(asctime)s - {name} - %(levelname)s - %(message)s',datefmt='%Y-%m-%d %H:%M:%S')\n",
    "\n",
    "    console_handler = logging.StreamHandler(sys.stdout)\n",
    "    console_handler.setLevel(level)\n",
    "    console_handler.setFormatter(formatter)\n",
    "    logger.addHandler(console_handler)\n",
    "    \n",
    "    if logfile:\n",
    "        file_handler = logging.FileHandler(logfile)\n",
    "        file_handler.setLevel(level)\n",
    "        file_handler.setFormatter(formatter)\n",
    "        logger.addHandler(file_handler)\n",
    "    return logger"
   ]
  },
  {
   "cell_type": "code",
   "execution_count": null,
   "id": "f0021c12-8b2b-440d-b509-741e628ad9b8",
   "metadata": {},
   "outputs": [],
   "source": [
    "def log_test():\n",
    "    logger = get_logger(logfile='test.log')\n",
    "    logger.debug(\"This is a debug log.\")\n",
    "    logger.info(\"This is a info log.\")\n",
    "    logger.warning(\"This is a warning log.\")\n",
    "    logger.error(\"This is a error log.\")\n",
    "    logger.critical(\"This is a critical log.\")"
   ]
  },
  {
   "cell_type": "code",
   "execution_count": null,
   "id": "3a9580f5-1c85-496a-b44e-4f8a16eef67f",
   "metadata": {},
   "outputs": [
    {
     "name": "stdout",
     "output_type": "stream",
     "text": [
      "2023-05-09 23:18:14 - log_test - INFO - This is a info log.\n",
      "2023-05-09 23:18:14 - log_test - WARNING - This is a warning log.\n",
      "2023-05-09 23:18:14 - log_test - ERROR - This is a error log.\n",
      "2023-05-09 23:18:14 - log_test - CRITICAL - This is a critical log.\n"
     ]
    }
   ],
   "source": [
    "log_test()"
   ]
  },
  {
   "cell_type": "code",
   "execution_count": null,
   "id": "583373b5-3b24-4ff6-af52-da8d050c8674",
   "metadata": {},
   "outputs": [],
   "source": [
    "#| hide\n",
    "import nbdev; nbdev.nbdev_export()"
   ]
  },
  {
   "cell_type": "code",
   "execution_count": null,
   "id": "7e55e154-7e25-47db-bbb7-6e26181fbed2",
   "metadata": {},
   "outputs": [],
   "source": []
  }
 ],
 "metadata": {
  "kernelspec": {
   "display_name": "Python [conda env:work] *",
   "language": "python",
   "name": "conda-env-work-py"
  }
 },
 "nbformat": 4,
 "nbformat_minor": 5
}
