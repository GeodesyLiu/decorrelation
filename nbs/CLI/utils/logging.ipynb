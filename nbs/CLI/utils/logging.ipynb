{
 "cells": [
  {
   "cell_type": "markdown",
   "id": "cbc9bef9-2e60-4fb6-9f4d-4da1025a07c7",
   "metadata": {},
   "source": [
    "# logging\n",
    "\n",
    "> basic logging functions for the CLI"
   ]
  },
  {
   "cell_type": "code",
   "execution_count": null,
   "id": "37943c52-5e72-4659-b2bb-b0baae775ed4",
   "metadata": {},
   "outputs": [],
   "source": [
    "#| default_exp cli/utils/logging"
   ]
  },
  {
   "cell_type": "code",
   "execution_count": null,
   "id": "1b14d02f-496f-4b89-bb33-bbca6de66bdc",
   "metadata": {},
   "outputs": [],
   "source": [
    "#| hide\n",
    "from nbdev.showdoc import *"
   ]
  },
  {
   "cell_type": "code",
   "execution_count": null,
   "id": "df421488-fa8a-48e0-a1e2-3b4f2136845c",
   "metadata": {},
   "outputs": [],
   "source": [
    "#| export\n",
    "import logging\n",
    "import sys\n",
    "import random\n",
    "import string\n",
    "import inspect\n",
    "from functools import wraps\n",
    "import types\n",
    "\n",
    "import zarr\n",
    "from dask import array as da"
   ]
  },
  {
   "cell_type": "code",
   "execution_count": null,
   "id": "7250b667-324e-41c0-aa38-e95de097f380",
   "metadata": {},
   "outputs": [],
   "source": [
    "#| export\n",
    "class DeLogger(logging.getLoggerClass()):\n",
    "    def zarr_info(self, # logger\n",
    "                  path, # string to zarr\n",
    "                  zarr, # zarr dataset\n",
    "                 ):\n",
    "        self.info(f'{path} zarray shape: '+str(zarr.shape))\n",
    "        self.info(f'{path} zarray chunks: '+str(zarr.chunks))\n",
    "        self.info(f'{path} zarray dtype: '+str(zarr.dtype))\n",
    "    \n",
    "    def darr_info(self, # logger\n",
    "                  name, # printing name of the dask array\n",
    "                  darr, # dask array\n",
    "                 ):\n",
    "        self.info(f'{name} dask array shape: '+str(darr.shape))\n",
    "        self.info(f'{name} dask array chunksize: '+str(darr.chunksize))\n",
    "        self.info(f'{name} dask array dtype: '+str(darr.dtype))"
   ]
  },
  {
   "cell_type": "code",
   "execution_count": null,
   "id": "7f0c1c99-6c78-4c51-b871-51b39545a338",
   "metadata": {},
   "outputs": [],
   "source": [
    "#| export\n",
    "def de_logger(func):\n",
    "    @wraps(func)\n",
    "    def wrapper(*args, **kwargs):\n",
    "        logging.setLoggerClass(DeLogger)\n",
    "        return func(*args, **kwargs)\n",
    "    return wrapper"
   ]
  },
  {
   "cell_type": "code",
   "execution_count": null,
   "id": "c679d780-371b-42b2-bbc0-f6c5733a0704",
   "metadata": {},
   "outputs": [],
   "source": [
    "#| export\n",
    "@de_logger\n",
    "def log_args(func):\n",
    "    @wraps(func)\n",
    "    def logging_args(*args, **kwargs):\n",
    "        logger = logging.getLogger(__name__)\n",
    "        logger.info(f'running function: {func.__name__}')\n",
    "        ba = inspect.signature(func).bind(*args, **kwargs)\n",
    "        ba.apply_defaults()\n",
    "        func_args = ba.arguments\n",
    "        func_args_strs = map(\"{0[0]} = {0[1]!r}\".format, func_args.items())\n",
    "        logger.info('fetching args:')\n",
    "        for item in func_args_strs:\n",
    "            logger.info(item)\n",
    "        logger.info('fetching args done.')\n",
    "        return func(*args, **kwargs)\n",
    "    return logging_args"
   ]
  },
  {
   "cell_type": "code",
   "execution_count": null,
   "id": "adb9aa7a-07e0-4f43-a66c-b6d41d3ab3ec",
   "metadata": {},
   "outputs": [],
   "source": [
    "#| export\n",
    "@de_logger\n",
    "def get_logger(logfile:str=None, # logfile, optional. default: no logfile\n",
    "              ):\n",
    "    '''get logger for decorrelation cli application'''\n",
    "    \n",
    "    level = logging.INFO\n",
    "    logger = logging.getLogger()\n",
    "    # print(logger.zarr_info)\n",
    "    logger.setLevel(level)\n",
    "    formatter = logging.Formatter(f'%(asctime)s - %(funcName)s - %(levelname)s - %(message)s',datefmt='%Y-%m-%d %H:%M:%S')\n",
    "\n",
    "    console_handler = logging.StreamHandler(sys.stdout)\n",
    "    console_handler.setLevel(level)\n",
    "    console_handler.setFormatter(formatter)\n",
    "    logger.addHandler(console_handler)\n",
    "    \n",
    "    if logfile:\n",
    "        file_handler = logging.FileHandler(logfile)\n",
    "        file_handler.setLevel(level)\n",
    "        file_handler.setFormatter(formatter)\n",
    "        logger.addHandler(file_handler)\n",
    "    return logger"
   ]
  },
  {
   "cell_type": "code",
   "execution_count": null,
   "id": "583373b5-3b24-4ff6-af52-da8d050c8674",
   "metadata": {},
   "outputs": [],
   "source": [
    "#| hide\n",
    "import nbdev; nbdev.nbdev_export()"
   ]
  },
  {
   "cell_type": "code",
   "execution_count": null,
   "id": "7e55e154-7e25-47db-bbb7-6e26181fbed2",
   "metadata": {},
   "outputs": [],
   "source": []
  }
 ],
 "metadata": {
  "kernelspec": {
   "display_name": "conda-env-work-py",
   "language": "python",
   "name": "conda-env-work-py"
  }
 },
 "nbformat": 4,
 "nbformat_minor": 5
}
