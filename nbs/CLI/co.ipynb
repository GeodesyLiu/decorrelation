{
 "cells": [
  {
   "cell_type": "markdown",
   "id": "4bfeebac-fba5-487a-96d6-5c21484e847f",
   "metadata": {},
   "source": [
    "# co\n",
    "\n",
    "> Covariance and Coherence Matrix Estimation"
   ]
  },
  {
   "cell_type": "code",
   "execution_count": null,
   "id": "9ca9eaed-c4c4-498b-b280-c15946104223",
   "metadata": {},
   "outputs": [],
   "source": [
    "#| default_exp cli/co"
   ]
  },
  {
   "cell_type": "code",
   "execution_count": null,
   "id": "ebdef397-9ce4-4d64-958f-e4bb98392daf",
   "metadata": {},
   "outputs": [],
   "source": [
    "#| hide\n",
    "from nbdev.showdoc import *"
   ]
  },
  {
   "cell_type": "code",
   "execution_count": null,
   "id": "4e00e329-55a9-4397-bfef-512e3c88cc1b",
   "metadata": {},
   "outputs": [],
   "source": [
    "from matplotlib import pyplot as plt\n",
    "import zarr\n",
    "import colorcet\n",
    "import moraine.cli as mc\n",
    "from moraine.utils_ import is_cuda_available"
   ]
  },
  {
   "cell_type": "code",
   "execution_count": null,
   "id": "f542f477-0d58-4d9e-8f85-67562a31774f",
   "metadata": {},
   "outputs": [],
   "source": [
    "#| export\n",
    "import logging\n",
    "\n",
    "import zarr\n",
    "import numpy as np\n",
    "\n",
    "import dask\n",
    "from dask import array as da\n",
    "from dask import delayed\n",
    "from dask.distributed import Client, progress\n",
    "from moraine.utils_ import is_cuda_available, get_array_module\n",
    "if is_cuda_available():\n",
    "    import cupy as cp\n",
    "    from dask_cuda import LocalCUDACluster\n",
    "import moraine as mr\n",
    "from moraine.cli.logging import mc_logger"
   ]
  },
  {
   "cell_type": "code",
   "execution_count": null,
   "id": "a4c425da-105d-404f-8208-680a52529a42",
   "metadata": {},
   "outputs": [],
   "source": [
    "#| export\n",
    "#| hide\n",
    "if is_cuda_available():\n",
    "    mean_coh_kernel = cp.ReductionKernel(\n",
    "        'T x, raw int32 n_point',  # input params\n",
    "        'float32 y',  # output params\n",
    "        'abs(x)',  # map\n",
    "        'a + b',  # reduce\n",
    "        'y = a/n_point',  # post-reduction map\n",
    "        '0',  # identity value\n",
    "        'mean_coh'  # kernel name\n",
    "    )"
   ]
  },
  {
   "cell_type": "code",
   "execution_count": null,
   "id": "9277b556-2037-448b-99aa-2439dbcb54a1",
   "metadata": {},
   "outputs": [],
   "source": [
    "#| export\n",
    "#| hide\n",
    "def mean_coh_pc(coh):\n",
    "    return mean_coh_kernel(coh,cp.int32(coh.shape[0]),axis=0)"
   ]
  },
  {
   "cell_type": "code",
   "execution_count": null,
   "id": "7ad19b65-7c7b-4ccf-be0c-fb77fd83137a",
   "metadata": {},
   "outputs": [],
   "source": [
    "#| hide\n",
    "if is_cuda_available():\n",
    "    coh = cp.random.random((100,100,100)) + 1j*cp.random.random((100,100,100))\n",
    "    coh = coh.astype(cp.complex64)\n",
    "    ave_coh = mean_coh_pc(coh)\n",
    "    ave_coh2 = cp.mean(cp.abs(coh),axis=0)\n",
    "    np.testing.assert_array_equal(ave_coh.get(),ave_coh2.get())"
   ]
  },
  {
   "cell_type": "code",
   "execution_count": null,
   "id": "c94c776c-a947-47cb-b61f-7129e8ac4095",
   "metadata": {},
   "outputs": [],
   "source": [
    "#| export\n",
    "@mc_logger\n",
    "def emperical_co_pc(rslc:str, # input: rslc stack, shape (nlines, width, nimages)\n",
    "                    is_shp:str, # input: bool array indicating the SHPs of pc, shape (n_points, az_win, r_win)\n",
    "                    gix:str, # input: bool array indicating pc, shape (2, n_points)\n",
    "                    coh:str, # output: complex coherence matrix for pc\n",
    "                    coh_ave:str, # output: average value of coherence matrix magnitude\n",
    "                    az_chunks:int=None, # processing azimuth chunk size, optional. Default: the azimuth chunk size in rslc stack\n",
    "                    chunks:int=None, # chunk size of output zarr dataset, optional. Default: same as is_shp\n",
    "                   ):\n",
    "    '''estimate emperical coherence matrix on point cloud data.\n",
    "    Due to the data locality problem. r_chunk_size for the processing have to be one.\n",
    "    '''\n",
    "    rslc_path = rslc\n",
    "    is_shp_path = is_shp\n",
    "    gix_path = gix\n",
    "    coh_path = coh\n",
    "    coh_ave_path = coh_ave\n",
    "    logger = logging.getLogger(__name__)\n",
    "\n",
    "    rslc_zarr = zarr.open(rslc_path,mode='r')\n",
    "    logger.zarr_info(rslc_path, rslc_zarr)\n",
    "    assert rslc_zarr.ndim == 3, \"rslc dimentation is not 3.\"\n",
    "    nlines, width, nimage = rslc_zarr.shape\n",
    "\n",
    "    is_shp_zarr = zarr.open(is_shp_path,mode='r')\n",
    "    logger.zarr_info(is_shp_path, is_shp_zarr)\n",
    "    assert is_shp_zarr.ndim == 3, \"is_shp dimentation is not 3.\"\n",
    "\n",
    "    gix_zarr = zarr.open(gix_path,mode='r')\n",
    "    logger.zarr_info(gix_path, gix_zarr)\n",
    "    assert gix_zarr.ndim == 2, \"gix dimentation is not 2.\"\n",
    "    logger.info('loading gix into memory.')\n",
    "    gix = zarr.open(gix_path,mode='r')[:]\n",
    "\n",
    "    az_win, r_win = is_shp_zarr.shape[1:]\n",
    "    az_half_win = int((az_win-1)/2)\n",
    "    r_half_win = int((r_win-1)/2)\n",
    "    logger.info(f'''got azimuth window size and half azimuth window size\n",
    "    from is_shp shape: {az_win}, {az_half_win}''')\n",
    "    logger.info(f'''got range window size and half range window size\n",
    "    from is_shp shape: {r_win}, {r_half_win}''')\n",
    "\n",
    "    if az_chunks is None: az_chunks = rslc_zarr.chunks[0]\n",
    "    logger.info('parallel processing azimuth chunk size: '+str(az_chunks))\n",
    "    logger.info(f'parallel processing range chunk size: {width}')\n",
    "\n",
    "    n_az_chunk = int(np.ceil(nlines/az_chunks))\n",
    "    j_chunk_boundary = np.arange(n_az_chunk+1)*az_chunks; j_chunk_boundary[-1] = nlines\n",
    "    point_boundary = np.searchsorted(gix[0],j_chunk_boundary)\n",
    "    process_pc_chunk_size = np.diff(point_boundary)\n",
    "    process_pc_chunk_size = tuple(process_pc_chunk_size.tolist())\n",
    "    logger.info(f'number of point in each chunk: {process_pc_chunk_size}')\n",
    "    \n",
    "    logger.info('starting dask CUDA local cluster.')\n",
    "    with LocalCUDACluster() as cluster, Client(cluster) as client:\n",
    "        logger.info('dask local CUDA cluster started.')\n",
    "        logger.dask_cluster_info(cluster)\n",
    "        emperical_co_pc_delayed = delayed(mr.emperical_co_pc,pure=True,nout=2)\n",
    "\n",
    "        cpu_is_shp = da.from_zarr(is_shp_path,chunks=(process_pc_chunk_size,(az_win,),(r_win,)))\n",
    "        logger.darr_info('is_shp', cpu_is_shp)\n",
    "        is_shp = cpu_is_shp.map_blocks(cp.asarray)\n",
    "        is_shp_delayed = is_shp.to_delayed()\n",
    "        is_shp_delayed = np.squeeze(is_shp_delayed,axis=(-2,-1))\n",
    "\n",
    "        cpu_rslc = da.from_zarr(rslc_path,chunks=(az_chunks,*rslc_zarr.shape[1:]))\n",
    "        logger.darr_info('rslc', cpu_rslc)\n",
    "        depth = {0:az_half_win, 1:r_half_win, 2:0}; boundary = {0:'none',1:'none',2:'none'}\n",
    "        cpu_rslc_overlap = da.overlap.overlap(cpu_rslc,depth=depth, boundary=boundary)\n",
    "        logger.info('setting shared boundaries between rlsc chunks.')\n",
    "        logger.darr_info('rslc_overlap', cpu_rslc_overlap)\n",
    "        rslc_overlap = cpu_rslc_overlap.map_blocks(cp.asarray)\n",
    "        rslc_overlap_delayed = np.squeeze(rslc_overlap.to_delayed(),axis=(-2,-1))\n",
    "\n",
    "        coh_delayed = np.empty_like(is_shp_delayed,dtype=object)\n",
    "        coh_ave_delayed = np.empty_like(is_shp_delayed,dtype=object)\n",
    "\n",
    "        logger.info(f'estimating coherence matrix.')\n",
    "        for j in range(n_az_chunk):\n",
    "            jstart = j*az_chunks; jend = jstart + az_chunks\n",
    "            if jend>=nlines: jend = nlines\n",
    "            gix_local_j = gix[0,point_boundary[j]:point_boundary[j+1]]-jstart\n",
    "            if j!= 0: gix_local_j += az_half_win\n",
    "            gix_local_i = gix[1,point_boundary[j]:point_boundary[j+1]]\n",
    "            gix_local = np.stack((gix_local_j,gix_local_i))\n",
    "            gix_local_delayed = da.from_array(gix_local).map_blocks(cp.asarray)\n",
    "\n",
    "            coh_delayed[j] = emperical_co_pc_delayed(rslc_overlap_delayed[j],gix_local_delayed,is_shp_delayed[j])[1]\n",
    "            coh_ave_delayed[j] = delayed(mean_coh_pc)(coh_delayed[j])\n",
    "            coh_delayed[j] = da.from_delayed(coh_delayed[j],shape=(process_pc_chunk_size[j],nimage,nimage),meta=cp.array((),dtype=cp.complex64))\n",
    "            coh_ave_delayed[j] = (da.from_delayed(coh_ave_delayed[j],shape=(nimage,nimage),meta=cp.array((),dtype=cp.float32))).reshape(1,nimage,nimage)\n",
    "\n",
    "        coh = da.block(coh_delayed[...,None,None].tolist())\n",
    "        cpu_coh = coh.map_blocks(cp.asnumpy)\n",
    "        coh_ave = da.block(coh_ave_delayed[...,None,None].tolist())\n",
    "        logger.info('get coherence matrix.'); logger.darr_info('coh', cpu_coh)\n",
    "\n",
    "        if chunks is None: chunks = is_shp_zarr.chunks[0] \n",
    "        cpu_coh = cpu_coh.rechunk((chunks,1,1))\n",
    "        logger.info('rechunking coh to chunk size (for saving with zarr): '+str(cpu_coh.chunksize))\n",
    "        logger.darr_info('coh', cpu_coh)\n",
    "\n",
    "        cpu_coh_ave = coh_ave.map_blocks(cp.asnumpy)\n",
    "        cpu_coh_ave = cpu_coh_ave.mean(axis=0)\n",
    "        logger.info('get average coherence matrix magnitude.')\n",
    "        logger.darr_info('coh_ave', cpu_coh_ave)\n",
    "\n",
    "        logger.info('saving coh and coh_ave.')\n",
    "        _cpu_coh = cpu_coh.to_zarr(coh_path,overwrite=True,compute=False)\n",
    "        _cpu_coh_ave = cpu_coh_ave.to_zarr(coh_ave_path,overwrite=True,compute=False)\n",
    "\n",
    "        logger.info('computing graph setted. doing all the computing.')\n",
    "        #This function is really slow just because the coherence is very big and rechunk and saving takes too much time.\n",
    "        # I do not find any solution to it.\n",
    "        futures = client.persist([_cpu_coh,_cpu_coh_ave])\n",
    "        progress(futures,notebook=False)\n",
    "        da.compute(futures)\n",
    "        # pdb.set_trace()\n",
    "        logger.info('computing finished.')\n",
    "    logger.info('dask cluster closed.')"
   ]
  },
  {
   "cell_type": "code",
   "execution_count": null,
   "id": "4b423d4e-80f4-4b45-9eb7-32d5f637710c",
   "metadata": {},
   "outputs": [],
   "source": [
    "rslc = './raw/rslc.zarr'\n",
    "ds_can_is_shp = './shp/ds_can_is_shp.zarr'\n",
    "ds_can_gix = './shp/ds_can_gix.zarr'\n",
    "ds_can_coh = './co/ds_can_coh.zarr'\n",
    "ds_can_coh_ave = './co/ds_can_coh_ave.zarr'"
   ]
  },
  {
   "cell_type": "code",
   "execution_count": null,
   "id": "25e989da-6d04-4a8a-a43e-d49e2ce2be6b",
   "metadata": {},
   "outputs": [],
   "source": [
    "logger = mc.get_logger()"
   ]
  },
  {
   "cell_type": "code",
   "execution_count": null,
   "id": "65da0bef-09bf-4ad3-ad13-4047f53a0f4a",
   "metadata": {},
   "outputs": [
    {
     "name": "stdout",
     "output_type": "stream",
     "text": [
      "2024-05-05 19:36:37 - log_args - INFO - running function: emperical_co_pc\n",
      "2024-05-05 19:36:37 - log_args - INFO - fetching args:\n",
      "2024-05-05 19:36:37 - log_args - INFO - rslc = './raw/rslc.zarr'\n",
      "2024-05-05 19:36:37 - log_args - INFO - is_shp = './shp/ds_can_is_shp.zarr'\n",
      "2024-05-05 19:36:37 - log_args - INFO - gix = './shp/ds_can_gix.zarr'\n",
      "2024-05-05 19:36:37 - log_args - INFO - coh = './co/ds_can_coh.zarr'\n",
      "2024-05-05 19:36:37 - log_args - INFO - coh_ave = './co/ds_can_coh_ave.zarr'\n",
      "2024-05-05 19:36:37 - log_args - INFO - az_chunks = None\n",
      "2024-05-05 19:36:37 - log_args - INFO - chunks = None\n",
      "2024-05-05 19:36:37 - log_args - INFO - fetching args done.\n",
      "2024-05-05 19:36:37 - zarr_info - INFO - ./raw/rslc.zarr zarray shape: (2500, 1834, 17)\n",
      "2024-05-05 19:36:37 - zarr_info - INFO - ./raw/rslc.zarr zarray chunks: (1000, 1000, 1)\n",
      "2024-05-05 19:36:37 - zarr_info - INFO - ./raw/rslc.zarr zarray dtype: complex64\n",
      "2024-05-05 19:36:37 - zarr_info - INFO - ./shp/ds_can_is_shp.zarr zarray shape: (740397, 11, 11)\n",
      "2024-05-05 19:36:37 - zarr_info - INFO - ./shp/ds_can_is_shp.zarr zarray chunks: (100000, 1, 1)\n",
      "2024-05-05 19:36:37 - zarr_info - INFO - ./shp/ds_can_is_shp.zarr zarray dtype: bool\n",
      "2024-05-05 19:36:37 - zarr_info - INFO - ./shp/ds_can_gix.zarr zarray shape: (2, 740397)\n",
      "2024-05-05 19:36:37 - zarr_info - INFO - ./shp/ds_can_gix.zarr zarray chunks: (2, 100000)\n",
      "2024-05-05 19:36:37 - zarr_info - INFO - ./shp/ds_can_gix.zarr zarray dtype: int32\n",
      "2024-05-05 19:36:37 - emperical_co_pc - INFO - loading gix into memory.\n",
      "2024-05-05 19:36:37 - emperical_co_pc - INFO - got azimuth window size and half azimuth window size\n",
      "    from is_shp shape: 11, 5\n",
      "2024-05-05 19:36:37 - emperical_co_pc - INFO - got range window size and half range window size\n",
      "    from is_shp shape: 11, 5\n",
      "2024-05-05 19:36:37 - emperical_co_pc - INFO - parallel processing azimuth chunk size: 1000\n",
      "2024-05-05 19:36:37 - emperical_co_pc - INFO - parallel processing range chunk size: 1834\n",
      "2024-05-05 19:36:37 - emperical_co_pc - INFO - number of point in each chunk: (346329, 274921, 119147)\n",
      "2024-05-05 19:36:37 - emperical_co_pc - INFO - starting dask CUDA local cluster.\n",
      "2024-05-05 19:36:39 - emperical_co_pc - INFO - dask local CUDA cluster started.\n",
      "2024-05-05 19:36:39 - dask_cluster_info - INFO - dask cluster: LocalCUDACluster(dashboard_link='http://127.0.0.1:8787/status', workers=8, threads=8, memory=500.00 GiB)\n",
      "2024-05-05 19:36:39 - darr_info - INFO - is_shp dask array shape: (740397, 11, 11)\n",
      "2024-05-05 19:36:39 - darr_info - INFO - is_shp dask array chunksize: (346329, 11, 11)\n",
      "2024-05-05 19:36:39 - darr_info - INFO - is_shp dask array dtype: bool\n",
      "2024-05-05 19:36:39 - darr_info - INFO - rslc dask array shape: (2500, 1834, 17)\n",
      "2024-05-05 19:36:39 - darr_info - INFO - rslc dask array chunksize: (1000, 1834, 17)\n",
      "2024-05-05 19:36:39 - darr_info - INFO - rslc dask array dtype: complex64\n",
      "2024-05-05 19:36:39 - emperical_co_pc - INFO - setting shared boundaries between rlsc chunks.\n",
      "2024-05-05 19:36:39 - darr_info - INFO - rslc_overlap dask array shape: (2520, 1834, 17)\n",
      "2024-05-05 19:36:39 - darr_info - INFO - rslc_overlap dask array chunksize: (1010, 1834, 17)\n",
      "2024-05-05 19:36:39 - darr_info - INFO - rslc_overlap dask array dtype: complex64\n",
      "2024-05-05 19:36:39 - emperical_co_pc - INFO - estimating coherence matrix.\n",
      "2024-05-05 19:36:39 - emperical_co_pc - INFO - get coherence matrix.\n",
      "2024-05-05 19:36:39 - darr_info - INFO - coh dask array shape: (740397, 17, 17)\n",
      "2024-05-05 19:36:39 - darr_info - INFO - coh dask array chunksize: (346329, 17, 17)\n",
      "2024-05-05 19:36:39 - darr_info - INFO - coh dask array dtype: complex64\n",
      "2024-05-05 19:36:39 - emperical_co_pc - INFO - rechunking coh to chunk size (for saving with zarr): (100000, 1, 1)\n",
      "2024-05-05 19:36:39 - darr_info - INFO - coh dask array shape: (740397, 17, 17)\n",
      "2024-05-05 19:36:39 - darr_info - INFO - coh dask array chunksize: (100000, 1, 1)\n",
      "2024-05-05 19:36:39 - darr_info - INFO - coh dask array dtype: complex64\n",
      "2024-05-05 19:36:39 - emperical_co_pc - INFO - get average coherence matrix magnitude.\n",
      "2024-05-05 19:36:39 - darr_info - INFO - coh_ave dask array shape: (17, 17)\n",
      "2024-05-05 19:36:39 - darr_info - INFO - coh_ave dask array chunksize: (17, 17)\n",
      "2024-05-05 19:36:39 - darr_info - INFO - coh_ave dask array dtype: float32\n",
      "2024-05-05 19:36:39 - emperical_co_pc - INFO - saving coh and coh_ave.\n",
      "2024-05-05 19:36:41 - emperical_co_pc - INFO - computing graph setted. doing all the computing.\n",
      "2024-05-05 19:36:57 - emperical_co_pc - INFO - computing finished.s\u001b[2K\n",
      "2024-05-05 19:36:58 - emperical_co_pc - INFO - dask cluster closed.\n",
      "CPU times: user 7.04 s, sys: 2.53 s, total: 9.57 s\n",
      "Wall time: 21.8 s\n"
     ]
    }
   ],
   "source": [
    "%%time\n",
    "if is_cuda_available():\n",
    "    emperical_co_pc(rslc,ds_can_is_shp,ds_can_gix,ds_can_coh,ds_can_coh_ave)"
   ]
  },
  {
   "cell_type": "code",
   "execution_count": null,
   "id": "8df91d85-5b89-47c8-84bc-83da1194ec82",
   "metadata": {},
   "outputs": [
    {
     "data": {
      "image/png": "[encoded data removed]",
      "text/plain": [
       "<Figure size 1500x1000 with 2 Axes>"
      ]
     },
     "metadata": {},
     "output_type": "display_data"
    }
   ],
   "source": [
    "ds_can_coh_ave_zarr = zarr.open(ds_can_coh_ave,'r')\n",
    "fig, ax = plt.subplots(1,1,figsize=(15,10))\n",
    "pcm = ax.imshow(ds_can_coh_ave_zarr[:],cmap=colorcet.cm.fire)\n",
    "ax.set(title='Average coherence matrix',xlabel='Image Index',ylabel='Image Index')\n",
    "fig.colorbar(pcm)\n",
    "fig.show()"
   ]
  },
  {
   "cell_type": "code",
   "execution_count": null,
   "id": "d63ed875-cada-4cf9-b895-f47984fb8cfa",
   "metadata": {},
   "outputs": [
    {
     "name": "stdout",
     "output_type": "stream",
     "text": [
      "CPU times: user 4 µs, sys: 2 µs, total: 6 µs\n",
      "Wall time: 11.9 µs\n"
     ]
    }
   ],
   "source": [
    "%%time\n",
    "#| hide\n",
    "# import numpy as np\n",
    "# import zarr\n",
    "# import cupy as cp\n",
    "# import math\n",
    "# from decorrelation.shp import ks_test\n",
    "# rslc_zarr = zarr.open('./raw/rslc.zarr',mode='r')\n",
    "# ds_can_is_shp_zarr = zarr.open('./shp/ds_can_is_shp.zarr','r')\n",
    "# ds_can_idx_zarr = zarr.open('./shp/ds_can_idx.zarr','r')\n",
    "\n",
    "# rslc_cpu = rslc_zarr[:]; rslc = cp.asarray(rslc_cpu)\n",
    "# ds_can_is_shp_cpu = ds_can_is_shp_zarr[:]; ds_can_is_shp = cp.asarray(ds_can_is_shp_cpu)\n",
    "# ds_can_idx_cpu = ds_can_idx_zarr[:]; ds_can_idx = cp.asarray(ds_can_idx_cpu)\n",
    "\n",
    "# ds_can_coh = emperical_co_pc(rslc,ds_can_idx,ds_can_is_shp)[1]\n",
    "\n",
    "# ds_can_coh_cpu = cp.asnumpy(ds_can_coh)\n",
    "# nimage = rslc.shape[-1]\n",
    "# ds_can_chunk_size = math.ceil(ds_can_coh.shape[0]/3)\n",
    "# test_ds_can_coh_zarr = zarr.open('./co/test_ds_can_coh.zarr','w',shape=ds_can_coh_cpu.shape,chunks=(ds_can_chunk_size,nimage,nimage),dtype=ds_can_coh_cpu.dtype)\n",
    "# test_ds_can_coh_zarr[:] = ds_can_coh_cpu"
   ]
  },
  {
   "cell_type": "code",
   "execution_count": null,
   "id": "b741e85f-1d25-42ca-a1b9-03cc76705bf6",
   "metadata": {},
   "outputs": [],
   "source": [
    "#| hide\n",
    "# ds_can_coh_result = zarr.open('./co/ds_can_coh.zarr','r')[:]\n",
    "# ds_can_coh_test = zarr.open('./co/test_ds_can_coh.zarr','r')[:]\n",
    "# np.testing.assert_array_equal(ds_can_coh_cpu,ds_can_coh_result)"
   ]
  },
  {
   "cell_type": "code",
   "execution_count": null,
   "id": "f3e745d5-90a7-4ed1-a149-7bfdba7a5e49",
   "metadata": {},
   "outputs": [],
   "source": [
    "#| hide\n",
    "import nbdev; nbdev.nbdev_export()"
   ]
  },
  {
   "cell_type": "code",
   "execution_count": null,
   "id": "817aa92d-a076-4d5e-bb1b-2f6ce279d60e",
   "metadata": {},
   "outputs": [],
   "source": []
  }
 ],
 "metadata": {
  "kernelspec": {
   "display_name": "python3",
   "language": "python",
   "name": "python3"
  }
 },
 "nbformat": 4,
 "nbformat_minor": 5
}
