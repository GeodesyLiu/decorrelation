{
 "cells": [
  {
   "cell_type": "markdown",
   "id": "72ebefe9-f5e4-4435-8138-1b4a0da1c193",
   "metadata": {},
   "source": [
    "# Software Architecture"
   ]
  },
  {
   "cell_type": "markdown",
   "id": "abb8cc0d-2c4d-4a5f-aeaf-883d851fa27c",
   "metadata": {},
   "source": [
    "## Software Design"
   ]
  },
  {
   "cell_type": "markdown",
   "id": "0c20f861-d69c-4be2-8090-f731cbc38e56",
   "metadata": {},
   "source": [
    "Unlike most InSAR processing software (e.g., StamPS, MintPy) that have designated processing workflow, Decorrelation only provides a collection of Python functions or commands. The reason is, in real application, there is no perfect workflow that always generate satisfactory deformation result. Especially when the coherence is not good and atmospheric artifact is strong. One needs to try a lot of different methods but they are generally implented in different packages. Even worse, the workflow-based software are encapsulated too much and generally no detailed documentation is provided. It is really frustrating when users need to save intermediate data from one software and prepared them in a designated format and structure required by another software. Sometimes it is necessarry to read a lot of source code to understand what are the output, what are their data structure and what kind of inputs are needed as their typical workflows is not followed. So, instead of providing a standard workflow, Decorrelation is designed as a collection of functions that implement specific InSAR processing techniques (e.g. calculate the dispersion index, do phase linking) and users are encouraged to make their own workflow that are suitable for their case. We provide the necessary infrastructure and your role is to be innovative! To make it easier, Decorrelation provides detailed documentation for each function that explain the usage. We also provide the tutorials section that provide some typical workflow for your reference. In case users want to try methods that are not implemented in Decorrelation, the input and output are well explained in the documentation of every Decorrelation functions.\n",
    "\n",
    "Although we provide detailed documentation and reference workflow, we still admit this software is not that easy that users only need to run from the first step to the last step. It doesn't mean we don't value user-friendliness, but it shouldn’t come at the expense of flexibility and creativity."
   ]
  },
  {
   "cell_type": "markdown",
   "id": "fb721e29-81ce-46b9-ae87-b7c82fb5cc67",
   "metadata": {},
   "source": [
    "## Software Structure"
   ]
  },
  {
   "cell_type": "markdown",
   "id": "9e9717ab-180e-4ae3-8fde-5edfae1e30ec",
   "metadata": {},
   "source": [
    "Most of the functions in this package provide 2 kind of API, the array-based API and the file-based API. The inputs and output of array-based functions generally are numpy or cupy arrays (Simply, cupy is a package that provides same functions as numpy but runs on GPU), while inputs and outputs of file-based functions are string of path to the array stored in disk. InSAR techniques that can be greatly accelerated with parallel processing are implented in cupy for better performance while all other functions are implented with numpy arrays. The file-based functions are not simple wrapper of the array-based functions. Due to the limitation of numpy and cupy, most array-based functions can only be runned on a single CPU core or on a single GPU. However, the file-based functions support parallel processing on multi-CPU-cores and multi-GPUs with the help of [dask](https://www.dask.org/). But their is performance cost for using `dask`, sometimes the array-based functions is faster. Another benefit of `dask` is the memory usage is smaller as the processing on each chunks can be in sequence. "
   ]
  },
  {
   "cell_type": "markdown",
   "id": "b9cd5d95-9d74-43c0-bef9-dd7de03185c4",
   "metadata": {},
   "source": [
    "All functions in the file-based API starts with a prefix `de` to make them more distinguishable. Terminal commands of same name as the file-based functions is also provided. To make it simpler, we call the file-based functions and commands CLI (command line interface), the array-based API API. The API and CLI functions are arranged in different namespace. In this documentation website, if document of one API function `xxx` is in section `API` and subsection `pl`, then it is in the namespace `decorrelation.pl`, the correct way to import it is `from decorrelation.pl import xxx`. For CLI funtion `de_xxx`, it the document page is in section `CLI` and subsection `pl`, then it is in the namespace `decorrelation.cli.pl` and the correct way to import it is `from decorrelation.cli.pl import de_xxx`."
   ]
  },
  {
   "cell_type": "markdown",
   "id": "180ea754-8980-42aa-845c-ae3dbf5232d7",
   "metadata": {},
   "source": [
    "## Data format"
   ]
  },
  {
   "cell_type": "markdown",
   "id": "14ed1b26-759b-43e7-8111-1379b6793518",
   "metadata": {},
   "source": [
    "Most of the stored data in this package is in the [zarr](https://zarr.readthedocs.io/en/stable/) format, which is a file storage format for chunked, compressed, N-dimensional arrays. The figure below shows how the structure of zarr data. The reading and writing speed is fast since the data volume is compressed. Before compressing, the data are divided into chunks to be more flexiable for `dask` parallel operation. Generally, the file name is `xxxxxx.zarr`. You will find it is indeed a directory in the file system. But just treat it as a single file in use."
   ]
  },
  {
   "cell_type": "markdown",
   "id": "cc681084-96ca-4427-a9f0-49584fed8511",
   "metadata": {},
   "source": [
    "![imga](./software_architecture/array.svg)"
   ]
  },
  {
   "cell_type": "markdown",
   "id": "9fb343e9-5bd0-4602-a8a6-7f096291be46",
   "metadata": {},
   "source": [
    "Note that the sturcture of dask array is similar. Each chunk of a big dask array is just a numpy or cupy array. Independent operations on every chunks are automatically parallelized."
   ]
  },
  {
   "cell_type": "markdown",
   "id": "d3bf708f-6153-4c72-bda0-a0dfd5886845",
   "metadata": {},
   "source": [
    "In this software, there are mainly two kind of dataset. One is stack of raster data, another is stack of point cloud data. The raster dataset are divided into chunks both azimuth dimension and range dimension. The point cloud dataset are divided into chunks along the spatial dimension. These two chunksize needs to be determined by the user. The chunksize in high dims are automatically determined. Users don't need to care about it.\n",
    "\n",
    "Chunksize affect the performance of the program. Unproper chunksize slows down the processing speed or even crash the program.\n",
    "Using too small chunksize makes too much inter-process communication and slows down the program.\n",
    "Too big chunksize may crash the program due to mamory limit.\n",
    "For raster data, it is good to make sure range chunksize of the last chunk is same as others.\n",
    "And it is prefered to divide raster data along azimuth direction rather than range direction."
   ]
  },
  {
   "cell_type": "markdown",
   "id": "274466be-cf08-4d26-8f1b-800adc957dba",
   "metadata": {},
   "source": [
    "## An example"
   ]
  },
  {
   "cell_type": "markdown",
   "id": "c85cd033-61d3-456f-9daa-268f9b3547cf",
   "metadata": {},
   "source": [
    "Here we provide an simple example. The API function `decorrelation.pl.emi` implemented the `EMI` phase linking method and `decorrelation.cli.de_emi` is the file-based API of it."
   ]
  },
  {
   "cell_type": "markdown",
   "id": "cc11ff77-de5d-4396-83ef-2a62fb890c86",
   "metadata": {},
   "source": [
    "Import them first:"
   ]
  },
  {
   "cell_type": "code",
   "execution_count": null,
   "id": "c8e87d26-b566-4060-84e5-24f317b2cc09",
   "metadata": {},
   "outputs": [],
   "source": [
    "from decorrelation.pl import emi\n",
    "from decorrelation.cli.pl import de_emi\n",
    "from nbdev.showdoc import show_doc # this is just a function to show the document"
   ]
  },
  {
   "cell_type": "code",
   "execution_count": null,
   "id": "6b43e4ce-f31f-4dee-8a51-a94ccee983dd",
   "metadata": {},
   "outputs": [
    {
     "data": {
      "text/markdown": [
       "---\n",
       "\n",
       "[source](https://github.com/kanglcn/decorrelation/blob/main/decorrelation/pl.py#LNone){target=\"_blank\" style=\"float:right; font-size:smaller\"}\n",
       "\n",
       "### emi\n",
       "\n",
       ">      emi (coh:cupy.ndarray, ref:int=0)\n",
       "\n",
       "|    | **Type** | **Default** | **Details** |\n",
       "| -- | -------- | ----------- | ----------- |\n",
       "| coh | ndarray |  | complex coherence metrix,dtype cupy.complex |\n",
       "| ref | int | 0 | index of reference image in the phase history output, optional. Default: 0 |\n",
       "| **Returns** | **tuple** |  | **estimated phase history `ph`, dtype complex; quality (minimum eigvalue, dtype float)** |"
      ],
      "text/plain": [
       "---\n",
       "\n",
       "[source](https://github.com/kanglcn/decorrelation/blob/main/decorrelation/pl.py#LNone){target=\"_blank\" style=\"float:right; font-size:smaller\"}\n",
       "\n",
       "### emi\n",
       "\n",
       ">      emi (coh:cupy.ndarray, ref:int=0)\n",
       "\n",
       "|    | **Type** | **Default** | **Details** |\n",
       "| -- | -------- | ----------- | ----------- |\n",
       "| coh | ndarray |  | complex coherence metrix,dtype cupy.complex |\n",
       "| ref | int | 0 | index of reference image in the phase history output, optional. Default: 0 |\n",
       "| **Returns** | **tuple** |  | **estimated phase history `ph`, dtype complex; quality (minimum eigvalue, dtype float)** |"
      ]
     },
     "execution_count": null,
     "metadata": {},
     "output_type": "execute_result"
    }
   ],
   "source": [
    "show_doc(emi)"
   ]
  },
  {
   "cell_type": "code",
   "execution_count": null,
   "id": "9b2d6c82-e64d-4f55-b643-5d22c07f6a8b",
   "metadata": {},
   "outputs": [
    {
     "data": {
      "text/markdown": [
       "---\n",
       "\n",
       "[source](https://github.com/kanglcn/decorrelation/blob/main/decorrelation/cli/pl.py#LNone){target=\"_blank\" style=\"float:right; font-size:smaller\"}\n",
       "\n",
       "### de_emi\n",
       "\n",
       ">      de_emi (coh:str, ph:str, emi_quality:str, ref:int=0,\n",
       ">              point_chunk_size:int=None, log:str=None,\n",
       ">              plot_emi_quality:bool=False, vmin:int=1.0, vmax:int=1.3,\n",
       ">              ds_idx:str=None, shape:tuple=None, emi_quality_fig:str=None)\n",
       "\n",
       "|    | **Type** | **Default** | **Details** |\n",
       "| -- | -------- | ----------- | ----------- |\n",
       "| coh | str |  | coherence matrix |\n",
       "| ph | str |  | output, wrapped phase |\n",
       "| emi_quality | str |  | output, pixel quality |\n",
       "| ref | int | 0 | reference image for phase |\n",
       "| point_chunk_size | int | None | parallel processing point chunk size |\n",
       "| log | str | None | log |\n",
       "| plot_emi_quality | bool | False | if plot the emi quality |\n",
       "| vmin | int | 1.0 | min value of emi quality to plot |\n",
       "| vmax | int | 1.3 | max value of emi quality to plot |\n",
       "| ds_idx | str | None | index of ds |\n",
       "| shape | tuple | None | shape of one image |\n",
       "| emi_quality_fig | str | None | path to save the emi quality plot, optional. Default, no saving |"
      ],
      "text/plain": [
       "---\n",
       "\n",
       "[source](https://github.com/kanglcn/decorrelation/blob/main/decorrelation/cli/pl.py#LNone){target=\"_blank\" style=\"float:right; font-size:smaller\"}\n",
       "\n",
       "### de_emi\n",
       "\n",
       ">      de_emi (coh:str, ph:str, emi_quality:str, ref:int=0,\n",
       ">              point_chunk_size:int=None, log:str=None,\n",
       ">              plot_emi_quality:bool=False, vmin:int=1.0, vmax:int=1.3,\n",
       ">              ds_idx:str=None, shape:tuple=None, emi_quality_fig:str=None)\n",
       "\n",
       "|    | **Type** | **Default** | **Details** |\n",
       "| -- | -------- | ----------- | ----------- |\n",
       "| coh | str |  | coherence matrix |\n",
       "| ph | str |  | output, wrapped phase |\n",
       "| emi_quality | str |  | output, pixel quality |\n",
       "| ref | int | 0 | reference image for phase |\n",
       "| point_chunk_size | int | None | parallel processing point chunk size |\n",
       "| log | str | None | log |\n",
       "| plot_emi_quality | bool | False | if plot the emi quality |\n",
       "| vmin | int | 1.0 | min value of emi quality to plot |\n",
       "| vmax | int | 1.3 | max value of emi quality to plot |\n",
       "| ds_idx | str | None | index of ds |\n",
       "| shape | tuple | None | shape of one image |\n",
       "| emi_quality_fig | str | None | path to save the emi quality plot, optional. Default, no saving |"
      ]
     },
     "execution_count": null,
     "metadata": {},
     "output_type": "execute_result"
    }
   ],
   "source": [
    "show_doc(de_emi)"
   ]
  },
  {
   "cell_type": "markdown",
   "id": "88542f15-674b-4c33-ad70-596c89aa4425",
   "metadata": {},
   "source": [
    "To apply the `emi` API funtion:"
   ]
  },
  {
   "cell_type": "code",
   "execution_count": null,
   "id": "54381a9e-a72d-4bad-a2be-94441dcc1be5",
   "metadata": {},
   "outputs": [],
   "source": [
    "import zarr\n",
    "import numpy as np\n",
    "import cupy as cp"
   ]
  },
  {
   "cell_type": "code",
   "execution_count": null,
   "id": "bc7e3be5-8c86-47ad-8008-213af5bc78ff",
   "metadata": {},
   "outputs": [],
   "source": [
    "coh_zarr = zarr.open('./software_architecture/ds_can_coh.zarr/','r') "
   ]
  },
  {
   "cell_type": "code",
   "execution_count": null,
   "id": "b77f3daa-dcb9-4ae2-8a02-8ed31f1327da",
   "metadata": {},
   "outputs": [
    {
     "data": {
      "text/plain": [
       "(<zarr.core.Array (740397, 17, 17) complex64 read-only>,\n",
       " (740397, 17, 17),\n",
       " (200000, 17, 17),\n",
       " dtype('complex64'))"
      ]
     },
     "execution_count": null,
     "metadata": {},
     "output_type": "execute_result"
    }
   ],
   "source": [
    "coh_zarr,coh_zarr.shape,coh_zarr.chunks,coh_zarr.dtype"
   ]
  },
  {
   "cell_type": "markdown",
   "id": "688c05bc-d458-40df-ba78-0cbe16861768",
   "metadata": {},
   "source": [
    "It is coherence matrix for 740397 selected DS candidate and there are 17 SAR images.\n",
    "So the coherence matrix for one pixel is 17 $\\times$ 17.\n",
    "The coherence matrix is stored in 4 chunks and each chunks stores data for 200000 DS candidate.\n",
    "(The last chunk only have 140397 DS candidate)."
   ]
  },
  {
   "cell_type": "code",
   "execution_count": null,
   "id": "ee94f4bc-4b06-41b2-80f9-f7f289b5cfb0",
   "metadata": {},
   "outputs": [
    {
     "name": "stdout",
     "output_type": "stream",
     "text": [
      "total 1570400\n",
      "drwxrwxr-x 2 kangl kangl      4096 Sep 28 12:30 .\n",
      "drwxrwxr-x 5 kangl kangl      4096 Oct  4 12:15 ..\n",
      "-rw-rw-r-- 1 kangl kangl 434775676 Sep 28 12:30 0.0.0\n",
      "-rw-rw-r-- 1 kangl kangl 432578417 Sep 28 12:30 1.0.0\n",
      "-rw-rw-r-- 1 kangl kangl 434846911 Sep 28 12:30 2.0.0\n",
      "-rw-rw-r-- 1 kangl kangl 305857416 Sep 28 12:30 3.0.0\n",
      "-rw-rw-r-- 1 kangl kangl       398 Sep 28 12:30 .zarray\n"
     ]
    }
   ],
   "source": [
    "!ls -al ./software_architecture/ds_can_coh.zarr/ #It is a directory indeed!"
   ]
  },
  {
   "cell_type": "code",
   "execution_count": null,
   "id": "56ae3346-1370-49a5-b8de-3c728254e92d",
   "metadata": {},
   "outputs": [],
   "source": [
    "coh = coh_zarr[:] # read as numpy array"
   ]
  },
  {
   "cell_type": "code",
   "execution_count": null,
   "id": "d36e3fee-146f-44b8-a66c-85509d290a5b",
   "metadata": {},
   "outputs": [],
   "source": [
    "coh = cp.asarray(coh) # convert to cupy array"
   ]
  },
  {
   "cell_type": "code",
   "execution_count": null,
   "id": "fc72847c-47d0-4fa5-8302-9bd272afa4cd",
   "metadata": {},
   "outputs": [
    {
     "data": {
      "text/plain": [
       "(740397, 17, 17)"
      ]
     },
     "execution_count": null,
     "metadata": {},
     "output_type": "execute_result"
    }
   ],
   "source": [
    "coh.shape"
   ]
  },
  {
   "cell_type": "code",
   "execution_count": null,
   "id": "eed44156-81a4-4c40-92a4-2b270113043f",
   "metadata": {},
   "outputs": [
    {
     "name": "stdout",
     "output_type": "stream",
     "text": [
      "CPU times: user 1.18 s, sys: 447 ms, total: 1.62 s\n",
      "Wall time: 1.69 s\n"
     ]
    }
   ],
   "source": [
    "%%time\n",
    "# The processing is really fast!\n",
    "ph,emi_quality = emi(coh)"
   ]
  },
  {
   "cell_type": "markdown",
   "id": "5081fc8d-66b3-4bab-bf40-205e58f025dc",
   "metadata": {},
   "source": [
    "Now we apply the CLI function:"
   ]
  },
  {
   "cell_type": "code",
   "execution_count": null,
   "id": "ce1078b1-9480-4d0c-9a31-368f32838fd4",
   "metadata": {},
   "outputs": [
    {
     "name": "stdout",
     "output_type": "stream",
     "text": [
      "2023-10-08 23:30:17 - de_emi - INFO - fetching args:\n",
      "2023-10-08 23:30:17 - de_emi - INFO - coh = './software_architecture/ds_can_coh.zarr/'\n",
      "2023-10-08 23:30:17 - de_emi - INFO - ph = './software_architecture/ds_can_ph.zarr'\n",
      "2023-10-08 23:30:17 - de_emi - INFO - emi_quality = './software_architecture/ds_can_emi_quality.zarr'\n",
      "2023-10-08 23:30:17 - de_emi - INFO - ref = 0\n",
      "2023-10-08 23:30:17 - de_emi - INFO - point_chunk_size = 200000\n",
      "2023-10-08 23:30:17 - de_emi - INFO - log = None\n",
      "2023-10-08 23:30:17 - de_emi - INFO - plot_emi_quality = False\n",
      "2023-10-08 23:30:17 - de_emi - INFO - vmin = 1.0\n",
      "2023-10-08 23:30:17 - de_emi - INFO - vmax = 1.3\n",
      "2023-10-08 23:30:17 - de_emi - INFO - ds_idx = None\n",
      "2023-10-08 23:30:17 - de_emi - INFO - shape = None\n",
      "2023-10-08 23:30:17 - de_emi - INFO - emi_quality_fig = None\n",
      "2023-10-08 23:30:17 - de_emi - INFO - fetching args done.\n",
      "2023-10-08 23:30:17 - de_emi - INFO - coh dataset shape: (740397, 17, 17)\n",
      "2023-10-08 23:30:17 - de_emi - INFO - coh dataset chunks: (200000, 17, 17)\n",
      "2023-10-08 23:30:17 - de_emi - INFO - parallel processing point chunk size: 200000\n",
      "2023-10-08 23:30:17 - de_emi - INFO - starting dask CUDA local cluster.\n"
     ]
    },
    {
     "name": "stderr",
     "output_type": "stream",
     "text": [
      "2023-10-08 23:30:19,866 - distributed.preloading - INFO - Creating preload: dask_cuda.initialize\n",
      "2023-10-08 23:30:19,866 - distributed.preloading - INFO - Import preload module: dask_cuda.initialize\n",
      "2023-10-08 23:30:19,869 - distributed.preloading - INFO - Creating preload: dask_cuda.initialize\n",
      "2023-10-08 23:30:19,869 - distributed.preloading - INFO - Import preload module: dask_cuda.initialize\n",
      "2023-10-08 23:30:19,872 - distributed.preloading - INFO - Creating preload: dask_cuda.initialize\n",
      "2023-10-08 23:30:19,872 - distributed.preloading - INFO - Import preload module: dask_cuda.initialize\n",
      "2023-10-08 23:30:19,873 - distributed.preloading - INFO - Creating preload: dask_cuda.initialize\n",
      "2023-10-08 23:30:19,873 - distributed.preloading - INFO - Import preload module: dask_cuda.initialize\n",
      "2023-10-08 23:30:19,880 - distributed.preloading - INFO - Creating preload: dask_cuda.initialize\n",
      "2023-10-08 23:30:19,880 - distributed.preloading - INFO - Import preload module: dask_cuda.initialize\n",
      "2023-10-08 23:30:19,886 - distributed.preloading - INFO - Creating preload: dask_cuda.initialize\n",
      "2023-10-08 23:30:19,886 - distributed.preloading - INFO - Import preload module: dask_cuda.initialize\n",
      "2023-10-08 23:30:19,893 - distributed.preloading - INFO - Creating preload: dask_cuda.initialize\n",
      "2023-10-08 23:30:19,893 - distributed.preloading - INFO - Import preload module: dask_cuda.initialize\n",
      "2023-10-08 23:30:19,898 - distributed.preloading - INFO - Creating preload: dask_cuda.initialize\n",
      "2023-10-08 23:30:19,898 - distributed.preloading - INFO - Import preload module: dask_cuda.initialize\n"
     ]
    },
    {
     "name": "stdout",
     "output_type": "stream",
     "text": [
      "2023-10-08 23:30:23 - de_emi - INFO - dask local CUDA cluster started.\n",
      "2023-10-08 23:30:23 - de_emi - INFO - coh dask array shape: (740397, 17, 17)\n",
      "2023-10-08 23:30:23 - de_emi - INFO - coh dask array chunks: ((200000, 200000, 200000, 140397), (17,), (17,))\n",
      "2023-10-08 23:30:23 - de_emi - INFO - phase linking with EMI.\n",
      "2023-10-08 23:30:23 - de_emi - INFO - got ph and emi_quality.\n",
      "2023-10-08 23:30:23 - de_emi - INFO - ph dask array shape: (740397, 17)\n",
      "2023-10-08 23:30:23 - de_emi - INFO - ph dask array chunks: ((200000, 200000, 200000, 140397), (17,))\n",
      "2023-10-08 23:30:23 - de_emi - INFO - emi_quality dask array shape: (740397,)\n",
      "2023-10-08 23:30:23 - de_emi - INFO - emi_quality dask array chunks: ((200000, 200000, 200000, 140397),)\n",
      "2023-10-08 23:30:23 - de_emi - INFO - saving ph and emi_quality.\n",
      "2023-10-08 23:30:23 - de_emi - INFO - computing graph setted. doing all the computing.\n",
      "2023-10-08 23:30:26 - de_emi - INFO - computing finished.\n",
      "2023-10-08 23:30:28 - de_emi - INFO - dask cluster closed.\n",
      "CPU times: user 637 ms, sys: 723 ms, total: 1.36 s\n",
      "Wall time: 11.6 s\n"
     ]
    }
   ],
   "source": [
    "%%time\n",
    "de_emi('./software_architecture/ds_can_coh.zarr/',\n",
    "       './software_architecture/ds_can_ph.zarr',\n",
    "       './software_architecture/ds_can_emi_quality.zarr',\n",
    "       point_chunk_size = 200000)"
   ]
  },
  {
   "cell_type": "markdown",
   "id": "306207af-959c-4576-b814-9351d4e29f9d",
   "metadata": {},
   "source": [
    "The CLI function is slower than the API function since it needs to read and write the data and set up the dask CUDA cluster."
   ]
  },
  {
   "cell_type": "markdown",
   "id": "8137565c-36d5-4adf-8d08-e7384b705984",
   "metadata": {},
   "source": [
    "Notice that there is a `point_chunk_size` option in the CLI function, it means the data is processed in chunks seperately and each chunk have `point_chunk_size` pixels. By default, this number is set as the chunk size in the input zarr data."
   ]
  },
  {
   "cell_type": "markdown",
   "id": "11b7b62a-3f34-49c4-87b8-d29e458bdda3",
   "metadata": {},
   "source": [
    "There are more options in the CLI function, e.g., to save the printed information to the log file, to plot some result. "
   ]
  },
  {
   "cell_type": "markdown",
   "id": "3e1878f5-90af-4c09-96b4-c74dbbe40147",
   "metadata": {},
   "source": [
    "As mentioned, the CLI funtion also provide command line interface, but it won't generate any plot on screen since it is not supported in terminal."
   ]
  },
  {
   "cell_type": "code",
   "execution_count": null,
   "id": "15d7565c-2b3f-49e7-9c42-7e73718b5bce",
   "metadata": {},
   "outputs": [
    {
     "name": "stdout",
     "output_type": "stream",
     "text": [
      "usage: de_emi [-h] [--ref REF] [--point_chunk_size POINT_CHUNK_SIZE] [--log LOG]\n",
      "              [--plot_emi_quality] [--vmin VMIN] [--vmax VMAX] [--ds_idx DS_IDX]\n",
      "              [--shape SHAPE] [--emi_quality_fig EMI_QUALITY_FIG]\n",
      "              coh ph emi_quality\n",
      "\n",
      "positional arguments:\n",
      "  coh                                  coherence matrix\n",
      "  ph                                   output, wrapped phase\n",
      "  emi_quality                          output, pixel quality\n",
      "\n",
      "options:\n",
      "  -h, --help                           show this help message and exit\n",
      "  --ref REF                            reference image for phase (default: 0)\n",
      "  --point_chunk_size POINT_CHUNK_SIZE  parallel processing point chunk size\n",
      "  --log LOG                            log\n",
      "  --plot_emi_quality                   if plot the emi quality (default: False)\n",
      "  --vmin VMIN                          min value of emi quality to plot\n",
      "                                       (default: 1.0)\n",
      "  --vmax VMAX                          max value of emi quality to plot\n",
      "                                       (default: 1.3)\n",
      "  --ds_idx DS_IDX                      index of ds\n",
      "  --shape SHAPE                        shape of one image\n",
      "  --emi_quality_fig EMI_QUALITY_FIG    path to save the emi quality plot,\n",
      "                                       optional. Default, no saving\n"
     ]
    }
   ],
   "source": [
    "!de_emi -h"
   ]
  },
  {
   "cell_type": "markdown",
   "id": "fe8c6982-9b0f-4653-a85a-c5d6a685488f",
   "metadata": {},
   "source": [
    "The CLI also include functions for simple data manipulation (e.g. array slicing and point clouds merging). As it is very easy to do them for numpy/cupy arrays, these CLI do not have corresponding API."
   ]
  },
  {
   "cell_type": "code",
   "execution_count": null,
   "id": "9d1e4c73-6945-4370-bb71-59b849b5772f",
   "metadata": {},
   "outputs": [],
   "source": []
  }
 ],
 "metadata": {
  "kernelspec": {
   "display_name": "conda-env-work-py",
   "language": "python",
   "name": "conda-env-work-py"
  }
 },
 "nbformat": 4,
 "nbformat_minor": 5
}
