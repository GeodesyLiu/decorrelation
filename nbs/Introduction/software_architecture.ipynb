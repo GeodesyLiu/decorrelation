{
 "cells": [
  {
   "cell_type": "markdown",
   "id": "72ebefe9-f5e4-4435-8138-1b4a0da1c193",
   "metadata": {},
   "source": [
    "# Software Architecture"
   ]
  },
  {
   "cell_type": "markdown",
   "id": "df1df8e8-00f2-411f-93d6-6bdaa15315f0",
   "metadata": {},
   "source": [
    "To be updated..."
   ]
  },
  {
   "cell_type": "markdown",
   "id": "04b620c9-c98c-42fd-84da-7cc9e6fb09d1",
   "metadata": {},
   "source": [
    "You will find many function that have `az_chunk_size` and `pt_chunk_size`, you should save it properly."
   ]
  },
  {
   "cell_type": "code",
   "execution_count": null,
   "id": "9d1e4c73-6945-4370-bb71-59b849b5772f",
   "metadata": {},
   "outputs": [],
   "source": []
  }
 ],
 "metadata": {
  "kernelspec": {
   "display_name": "Python 3 (ipykernel)",
   "language": "python",
   "name": "python3"
  }
 },
 "nbformat": 4,
 "nbformat_minor": 5
}
