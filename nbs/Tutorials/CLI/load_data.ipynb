{
 "cells": [
  {
   "cell_type": "markdown",
   "id": "7c8f33ed-60da-4b86-9ee2-fcdc3c3c229a",
   "metadata": {},
   "source": [
    "# Load Data"
   ]
  },
  {
   "cell_type": "markdown",
   "id": "93bf4f02-e612-40a5-9dda-ea808a971d8e",
   "metadata": {},
   "source": [
    "Currently, only interface to the GAMMA software is porvided."
   ]
  },
  {
   "cell_type": "markdown",
   "id": "5c31c75d-751c-49e5-9f18-74551581e88b",
   "metadata": {},
   "source": [
    "## Load GAMMA result"
   ]
  },
  {
   "cell_type": "markdown",
   "id": "d89c72cd-0e03-4c2e-9fda-048cde94459a",
   "metadata": {},
   "source": [
    "The data from gamma software needed for this tutorial:"
   ]
  },
  {
   "cell_type": "code",
   "execution_count": null,
   "id": "7fa2de10-4dee-4a71-b847-d00df8771e71",
   "metadata": {},
   "outputs": [
    {
     "name": "stdout",
     "output_type": "stream",
     "text": [
      "../../../data/gamma/:\n",
      "DEM  geocoding\trslc\n",
      "\n",
      "../../../data/gamma/DEM:\n",
      "dem_seg  dem_seg_par\n",
      "\n",
      "../../../data/gamma/geocoding:\n",
      "20210802.diff_par  20210802.lt_fine  20210802.lv_theta\n",
      "20210802.hgt\t   20210802.lv_phi\n",
      "\n",
      "../../../data/gamma/rslc:\n",
      "20210802.rslc\t   20211011.rslc.par  20220718.rslc\t 20220912.rslc.par\n",
      "20210802.rslc.par  20211025.rslc      20220718.rslc.par  20220926.rslc\n",
      "20210816.rslc\t   20211025.rslc.par  20220801.rslc\t 20220926.rslc.par\n",
      "20210816.rslc.par  20220606.rslc      20220801.rslc.par  20221010.rslc\n",
      "20210830.rslc\t   20220606.rslc.par  20220815.rslc\t 20221010.rslc.par\n",
      "20210830.rslc.par  20220620.rslc      20220815.rslc.par  20221024.rslc\n",
      "20210913.rslc\t   20220620.rslc.par  20220829.rslc\t 20221024.rslc.par\n",
      "20210913.rslc.par  20220704.rslc      20220829.rslc.par\n",
      "20211011.rslc\t   20220704.rslc.par  20220912.rslc\n"
     ]
    }
   ],
   "source": [
    "!ls -R ../../../data/gamma/"
   ]
  },
  {
   "cell_type": "markdown",
   "id": "f43cc030-4571-42ad-b8c2-3ba3b05da967",
   "metadata": {},
   "source": [
    "And we load them with functions in the `load` module:"
   ]
  },
  {
   "cell_type": "code",
   "execution_count": null,
   "id": "94ee6706-3144-4806-a938-9c6a7f331aae",
   "metadata": {},
   "outputs": [],
   "source": [
    "from decorrelation.cli.load import (de_load_gamma_flatten_rslc,\n",
    "                                    de_load_gamma_lat_lon_hgt,\n",
    "                                    de_load_gamma_look_vector,\n",
    "                                    de_load_gamma_range,\n",
    "                                    de_load_gamma_metadata)\n",
    "from decorrelation.cli.utils.logging import get_logger"
   ]
  },
  {
   "cell_type": "code",
   "execution_count": null,
   "id": "64952d4a-f755-43e2-b2dc-324ac3fa4b81",
   "metadata": {},
   "outputs": [],
   "source": [
    "logger = get_logger()"
   ]
  },
  {
   "cell_type": "code",
   "execution_count": null,
   "id": "995e0986-aad6-4f02-b936-f8a81999c8f7",
   "metadata": {},
   "outputs": [],
   "source": [
    "rslc_dir = '../../../data/gamma/rslc'\n",
    "reference = '20220620'\n",
    "rslc_par = '../../../data/gamma/rslc/20220620.rslc.par'\n",
    "hgt = '../../../data/gamma/geocoding/20210802.hgt'\n",
    "lt = '../../../data/gamma/geocoding/20210802.lt_fine'\n",
    "diff_par = '../../../data/gamma/geocoding/20210802.diff_par'\n",
    "dem_par = '../../../data/gamma/DEM/dem_seg_par'\n",
    "theta = '../../../data/gamma/geocoding/20210802.lv_theta'\n",
    "phi = '../../../data/gamma/geocoding/20210802.lv_phi'\n",
    "az_chunk_size = 1000\n",
    "r_chunk_size = 1000\n",
    "\n",
    "scratch_dir = './load_data/scratch'\n",
    "rslc_zarr = './load_data/rslc.zarr'\n",
    "lat_zarr = './load_data/lat.zarr'\n",
    "lon_zarr = './load_data/lon.zarr'\n",
    "theta_zarr = './load_data/theta.zarr'\n",
    "phi_zarr = './load_data/phi.zarr'\n",
    "hgt_zarr = './load_data/hgt.zarr'\n",
    "range_zarr = './load_data/range.zarr'\n",
    "meta_file = './load_data/meta.toml'"
   ]
  },
  {
   "cell_type": "code",
   "execution_count": null,
   "id": "35d637fd-35e4-4970-be4d-9cf1b587cc67",
   "metadata": {},
   "outputs": [
    {
     "name": "stdout",
     "output_type": "stream",
     "text": [
      "2023-11-05 23:34:04 - logging_args - INFO - running function: de_load_gamma_flatten_rslc\n",
      "2023-11-05 23:34:04 - logging_args - INFO - fetching args:\n",
      "2023-11-05 23:34:04 - logging_args - INFO - rslc_dir = '../../../data/gamma/rslc'\n",
      "2023-11-05 23:34:04 - logging_args - INFO - reference = '20220620'\n",
      "2023-11-05 23:34:04 - logging_args - INFO - hgt = '../../../data/gamma/geocoding/20210802.hgt'\n",
      "2023-11-05 23:34:04 - logging_args - INFO - scratch_dir = './load_data/scratch'\n",
      "2023-11-05 23:34:04 - logging_args - INFO - rslc_zarr = './load_data/rslc.zarr'\n",
      "2023-11-05 23:34:04 - logging_args - INFO - az_chunk_size = 1000\n",
      "2023-11-05 23:34:04 - logging_args - INFO - r_chunk_size = 1000\n",
      "2023-11-05 23:34:04 - logging_args - INFO - fetching args done.\n",
      "2023-11-05 23:34:04 - de_load_gamma_flatten_rslc - INFO - rslc found: \n",
      "        date                                    rslc  \\\n",
      "0   20210802  ../../../data/gamma/rslc/20210802.rslc   \n",
      "1   20210816  ../../../data/gamma/rslc/20210816.rslc   \n",
      "2   20210830  ../../../data/gamma/rslc/20210830.rslc   \n",
      "3   20210913  ../../../data/gamma/rslc/20210913.rslc   \n",
      "4   20211011  ../../../data/gamma/rslc/20211011.rslc   \n",
      "5   20211025  ../../../data/gamma/rslc/20211025.rslc   \n",
      "6   20220606  ../../../data/gamma/rslc/20220606.rslc   \n",
      "7   20220620  ../../../data/gamma/rslc/20220620.rslc   \n",
      "8   20220704  ../../../data/gamma/rslc/20220704.rslc   \n",
      "9   20220718  ../../../data/gamma/rslc/20220718.rslc   \n",
      "10  20220801  ../../../data/gamma/rslc/20220801.rslc   \n",
      "11  20220815  ../../../data/gamma/rslc/20220815.rslc   \n",
      "12  20220829  ../../../data/gamma/rslc/20220829.rslc   \n",
      "13  20220912  ../../../data/gamma/rslc/20220912.rslc   \n",
      "14  20220926  ../../../data/gamma/rslc/20220926.rslc   \n",
      "15  20221010  ../../../data/gamma/rslc/20221010.rslc   \n",
      "16  20221024  ../../../data/gamma/rslc/20221024.rslc   \n",
      "\n",
      "                                           par  \n",
      "0   ../../../data/gamma/rslc/20210802.rslc.par  \n",
      "1   ../../../data/gamma/rslc/20210816.rslc.par  \n",
      "2   ../../../data/gamma/rslc/20210830.rslc.par  \n",
      "3   ../../../data/gamma/rslc/20210913.rslc.par  \n",
      "4   ../../../data/gamma/rslc/20211011.rslc.par  \n",
      "5   ../../../data/gamma/rslc/20211025.rslc.par  \n",
      "6   ../../../data/gamma/rslc/20220606.rslc.par  \n",
      "7   ../../../data/gamma/rslc/20220620.rslc.par  \n",
      "8   ../../../data/gamma/rslc/20220704.rslc.par  \n",
      "9   ../../../data/gamma/rslc/20220718.rslc.par  \n",
      "10  ../../../data/gamma/rslc/20220801.rslc.par  \n",
      "11  ../../../data/gamma/rslc/20220815.rslc.par  \n",
      "12  ../../../data/gamma/rslc/20220829.rslc.par  \n",
      "13  ../../../data/gamma/rslc/20220912.rslc.par  \n",
      "14  ../../../data/gamma/rslc/20220926.rslc.par  \n",
      "15  ../../../data/gamma/rslc/20221010.rslc.par  \n",
      "16  ../../../data/gamma/rslc/20221024.rslc.par  \n",
      "2023-11-05 23:34:04 - de_load_gamma_flatten_rslc - INFO - number of images: 17.\n",
      "2023-11-05 23:34:04 - de_load_gamma_flatten_rslc - INFO - image number of lines: 2500.\n",
      "2023-11-05 23:34:04 - de_load_gamma_flatten_rslc - INFO - image width: 1834.\n",
      "2023-11-05 23:34:04 - de_load_gamma_flatten_rslc - INFO - run gamma command to generate required data for flattened rslcs:\n",
      "2023-11-05 23:34:04 - de_load_gamma_flatten_rslc - INFO - run command: create_offset ../../../data/gamma/rslc/20220620.rslc.par ../../../data/gamma/rslc/20210802.rslc.par load_data/scratch/20220620_20210802.off 1 1 1 0 >> load_data/scratch/gamma.log\n",
      "2023-11-05 23:34:04 - de_load_gamma_flatten_rslc - INFO - load_data/scratch/20220620_20210802.sim_orb exists. skip runing phase_sim_orb ../../../data/gamma/rslc/20220620.rslc.par ../../../data/gamma/rslc/20210802.rslc.par load_data/scratch/20220620_20210802.off ../../../data/gamma/geocoding/20210802.hgt load_data/scratch/20220620_20210802.sim_orb ../../../data/gamma/rslc/20220620.rslc.par - - 1 1 >> load_data/scratch/gamma.log\n",
      "2023-11-05 23:34:04 - de_load_gamma_flatten_rslc - INFO - run command: create_offset ../../../data/gamma/rslc/20220620.rslc.par ../../../data/gamma/rslc/20210816.rslc.par load_data/scratch/20220620_20210816.off 1 1 1 0 >> load_data/scratch/gamma.log\n",
      "2023-11-05 23:34:04 - de_load_gamma_flatten_rslc - INFO - load_data/scratch/20220620_20210816.sim_orb exists. skip runing phase_sim_orb ../../../data/gamma/rslc/20220620.rslc.par ../../../data/gamma/rslc/20210816.rslc.par load_data/scratch/20220620_20210816.off ../../../data/gamma/geocoding/20210802.hgt load_data/scratch/20220620_20210816.sim_orb ../../../data/gamma/rslc/20220620.rslc.par - - 1 1 >> load_data/scratch/gamma.log\n",
      "2023-11-05 23:34:04 - de_load_gamma_flatten_rslc - INFO - run command: create_offset ../../../data/gamma/rslc/20220620.rslc.par ../../../data/gamma/rslc/20210830.rslc.par load_data/scratch/20220620_20210830.off 1 1 1 0 >> load_data/scratch/gamma.log\n",
      "2023-11-05 23:34:04 - de_load_gamma_flatten_rslc - INFO - load_data/scratch/20220620_20210830.sim_orb exists. skip runing phase_sim_orb ../../../data/gamma/rslc/20220620.rslc.par ../../../data/gamma/rslc/20210830.rslc.par load_data/scratch/20220620_20210830.off ../../../data/gamma/geocoding/20210802.hgt load_data/scratch/20220620_20210830.sim_orb ../../../data/gamma/rslc/20220620.rslc.par - - 1 1 >> load_data/scratch/gamma.log\n",
      "2023-11-05 23:34:04 - de_load_gamma_flatten_rslc - INFO - run command: create_offset ../../../data/gamma/rslc/20220620.rslc.par ../../../data/gamma/rslc/20210913.rslc.par load_data/scratch/20220620_20210913.off 1 1 1 0 >> load_data/scratch/gamma.log\n",
      "2023-11-05 23:34:04 - de_load_gamma_flatten_rslc - INFO - load_data/scratch/20220620_20210913.sim_orb exists. skip runing phase_sim_orb ../../../data/gamma/rslc/20220620.rslc.par ../../../data/gamma/rslc/20210913.rslc.par load_data/scratch/20220620_20210913.off ../../../data/gamma/geocoding/20210802.hgt load_data/scratch/20220620_20210913.sim_orb ../../../data/gamma/rslc/20220620.rslc.par - - 1 1 >> load_data/scratch/gamma.log\n",
      "2023-11-05 23:34:04 - de_load_gamma_flatten_rslc - INFO - run command: create_offset ../../../data/gamma/rslc/20220620.rslc.par ../../../data/gamma/rslc/20211011.rslc.par load_data/scratch/20220620_20211011.off 1 1 1 0 >> load_data/scratch/gamma.log\n",
      "2023-11-05 23:34:04 - de_load_gamma_flatten_rslc - INFO - load_data/scratch/20220620_20211011.sim_orb exists. skip runing phase_sim_orb ../../../data/gamma/rslc/20220620.rslc.par ../../../data/gamma/rslc/20211011.rslc.par load_data/scratch/20220620_20211011.off ../../../data/gamma/geocoding/20210802.hgt load_data/scratch/20220620_20211011.sim_orb ../../../data/gamma/rslc/20220620.rslc.par - - 1 1 >> load_data/scratch/gamma.log\n",
      "2023-11-05 23:34:04 - de_load_gamma_flatten_rslc - INFO - run command: create_offset ../../../data/gamma/rslc/20220620.rslc.par ../../../data/gamma/rslc/20211025.rslc.par load_data/scratch/20220620_20211025.off 1 1 1 0 >> load_data/scratch/gamma.log\n",
      "2023-11-05 23:34:04 - de_load_gamma_flatten_rslc - INFO - load_data/scratch/20220620_20211025.sim_orb exists. skip runing phase_sim_orb ../../../data/gamma/rslc/20220620.rslc.par ../../../data/gamma/rslc/20211025.rslc.par load_data/scratch/20220620_20211025.off ../../../data/gamma/geocoding/20210802.hgt load_data/scratch/20220620_20211025.sim_orb ../../../data/gamma/rslc/20220620.rslc.par - - 1 1 >> load_data/scratch/gamma.log\n",
      "2023-11-05 23:34:04 - de_load_gamma_flatten_rslc - INFO - run command: create_offset ../../../data/gamma/rslc/20220620.rslc.par ../../../data/gamma/rslc/20220606.rslc.par load_data/scratch/20220620_20220606.off 1 1 1 0 >> load_data/scratch/gamma.log\n",
      "2023-11-05 23:34:04 - de_load_gamma_flatten_rslc - INFO - load_data/scratch/20220620_20220606.sim_orb exists. skip runing phase_sim_orb ../../../data/gamma/rslc/20220620.rslc.par ../../../data/gamma/rslc/20220606.rslc.par load_data/scratch/20220620_20220606.off ../../../data/gamma/geocoding/20210802.hgt load_data/scratch/20220620_20220606.sim_orb ../../../data/gamma/rslc/20220620.rslc.par - - 1 1 >> load_data/scratch/gamma.log\n",
      "2023-11-05 23:34:04 - de_load_gamma_flatten_rslc - INFO - run command: create_offset ../../../data/gamma/rslc/20220620.rslc.par ../../../data/gamma/rslc/20220620.rslc.par load_data/scratch/20220620_20220620.off 1 1 1 0 >> load_data/scratch/gamma.log\n",
      "2023-11-05 23:34:04 - de_load_gamma_flatten_rslc - INFO - load_data/scratch/20220620_20220620.sim_orb exists. skip runing phase_sim_orb ../../../data/gamma/rslc/20220620.rslc.par ../../../data/gamma/rslc/20220620.rslc.par load_data/scratch/20220620_20220620.off ../../../data/gamma/geocoding/20210802.hgt load_data/scratch/20220620_20220620.sim_orb ../../../data/gamma/rslc/20220620.rslc.par - - 1 1 >> load_data/scratch/gamma.log\n",
      "2023-11-05 23:34:04 - de_load_gamma_flatten_rslc - INFO - run command: create_offset ../../../data/gamma/rslc/20220620.rslc.par ../../../data/gamma/rslc/20220704.rslc.par load_data/scratch/20220620_20220704.off 1 1 1 0 >> load_data/scratch/gamma.log\n",
      "2023-11-05 23:34:04 - de_load_gamma_flatten_rslc - INFO - load_data/scratch/20220620_20220704.sim_orb exists. skip runing phase_sim_orb ../../../data/gamma/rslc/20220620.rslc.par ../../../data/gamma/rslc/20220704.rslc.par load_data/scratch/20220620_20220704.off ../../../data/gamma/geocoding/20210802.hgt load_data/scratch/20220620_20220704.sim_orb ../../../data/gamma/rslc/20220620.rslc.par - - 1 1 >> load_data/scratch/gamma.log\n",
      "2023-11-05 23:34:04 - de_load_gamma_flatten_rslc - INFO - run command: create_offset ../../../data/gamma/rslc/20220620.rslc.par ../../../data/gamma/rslc/20220718.rslc.par load_data/scratch/20220620_20220718.off 1 1 1 0 >> load_data/scratch/gamma.log\n",
      "2023-11-05 23:34:04 - de_load_gamma_flatten_rslc - INFO - load_data/scratch/20220620_20220718.sim_orb exists. skip runing phase_sim_orb ../../../data/gamma/rslc/20220620.rslc.par ../../../data/gamma/rslc/20220718.rslc.par load_data/scratch/20220620_20220718.off ../../../data/gamma/geocoding/20210802.hgt load_data/scratch/20220620_20220718.sim_orb ../../../data/gamma/rslc/20220620.rslc.par - - 1 1 >> load_data/scratch/gamma.log\n",
      "2023-11-05 23:34:04 - de_load_gamma_flatten_rslc - INFO - run command: create_offset ../../../data/gamma/rslc/20220620.rslc.par ../../../data/gamma/rslc/20220801.rslc.par load_data/scratch/20220620_20220801.off 1 1 1 0 >> load_data/scratch/gamma.log\n",
      "2023-11-05 23:34:04 - de_load_gamma_flatten_rslc - INFO - load_data/scratch/20220620_20220801.sim_orb exists. skip runing phase_sim_orb ../../../data/gamma/rslc/20220620.rslc.par ../../../data/gamma/rslc/20220801.rslc.par load_data/scratch/20220620_20220801.off ../../../data/gamma/geocoding/20210802.hgt load_data/scratch/20220620_20220801.sim_orb ../../../data/gamma/rslc/20220620.rslc.par - - 1 1 >> load_data/scratch/gamma.log\n",
      "2023-11-05 23:34:04 - de_load_gamma_flatten_rslc - INFO - run command: create_offset ../../../data/gamma/rslc/20220620.rslc.par ../../../data/gamma/rslc/20220815.rslc.par load_data/scratch/20220620_20220815.off 1 1 1 0 >> load_data/scratch/gamma.log\n",
      "2023-11-05 23:34:04 - de_load_gamma_flatten_rslc - INFO - load_data/scratch/20220620_20220815.sim_orb exists. skip runing phase_sim_orb ../../../data/gamma/rslc/20220620.rslc.par ../../../data/gamma/rslc/20220815.rslc.par load_data/scratch/20220620_20220815.off ../../../data/gamma/geocoding/20210802.hgt load_data/scratch/20220620_20220815.sim_orb ../../../data/gamma/rslc/20220620.rslc.par - - 1 1 >> load_data/scratch/gamma.log\n",
      "2023-11-05 23:34:04 - de_load_gamma_flatten_rslc - INFO - run command: create_offset ../../../data/gamma/rslc/20220620.rslc.par ../../../data/gamma/rslc/20220829.rslc.par load_data/scratch/20220620_20220829.off 1 1 1 0 >> load_data/scratch/gamma.log\n",
      "2023-11-05 23:34:04 - de_load_gamma_flatten_rslc - INFO - load_data/scratch/20220620_20220829.sim_orb exists. skip runing phase_sim_orb ../../../data/gamma/rslc/20220620.rslc.par ../../../data/gamma/rslc/20220829.rslc.par load_data/scratch/20220620_20220829.off ../../../data/gamma/geocoding/20210802.hgt load_data/scratch/20220620_20220829.sim_orb ../../../data/gamma/rslc/20220620.rslc.par - - 1 1 >> load_data/scratch/gamma.log\n",
      "2023-11-05 23:34:04 - de_load_gamma_flatten_rslc - INFO - run command: create_offset ../../../data/gamma/rslc/20220620.rslc.par ../../../data/gamma/rslc/20220912.rslc.par load_data/scratch/20220620_20220912.off 1 1 1 0 >> load_data/scratch/gamma.log\n",
      "2023-11-05 23:34:04 - de_load_gamma_flatten_rslc - INFO - load_data/scratch/20220620_20220912.sim_orb exists. skip runing phase_sim_orb ../../../data/gamma/rslc/20220620.rslc.par ../../../data/gamma/rslc/20220912.rslc.par load_data/scratch/20220620_20220912.off ../../../data/gamma/geocoding/20210802.hgt load_data/scratch/20220620_20220912.sim_orb ../../../data/gamma/rslc/20220620.rslc.par - - 1 1 >> load_data/scratch/gamma.log\n",
      "2023-11-05 23:34:04 - de_load_gamma_flatten_rslc - INFO - run command: create_offset ../../../data/gamma/rslc/20220620.rslc.par ../../../data/gamma/rslc/20220926.rslc.par load_data/scratch/20220620_20220926.off 1 1 1 0 >> load_data/scratch/gamma.log\n",
      "2023-11-05 23:34:04 - de_load_gamma_flatten_rslc - INFO - load_data/scratch/20220620_20220926.sim_orb exists. skip runing phase_sim_orb ../../../data/gamma/rslc/20220620.rslc.par ../../../data/gamma/rslc/20220926.rslc.par load_data/scratch/20220620_20220926.off ../../../data/gamma/geocoding/20210802.hgt load_data/scratch/20220620_20220926.sim_orb ../../../data/gamma/rslc/20220620.rslc.par - - 1 1 >> load_data/scratch/gamma.log\n",
      "2023-11-05 23:34:04 - de_load_gamma_flatten_rslc - INFO - run command: create_offset ../../../data/gamma/rslc/20220620.rslc.par ../../../data/gamma/rslc/20221010.rslc.par load_data/scratch/20220620_20221010.off 1 1 1 0 >> load_data/scratch/gamma.log\n",
      "2023-11-05 23:34:04 - de_load_gamma_flatten_rslc - INFO - load_data/scratch/20220620_20221010.sim_orb exists. skip runing phase_sim_orb ../../../data/gamma/rslc/20220620.rslc.par ../../../data/gamma/rslc/20221010.rslc.par load_data/scratch/20220620_20221010.off ../../../data/gamma/geocoding/20210802.hgt load_data/scratch/20220620_20221010.sim_orb ../../../data/gamma/rslc/20220620.rslc.par - - 1 1 >> load_data/scratch/gamma.log\n",
      "2023-11-05 23:34:04 - de_load_gamma_flatten_rslc - INFO - run command: create_offset ../../../data/gamma/rslc/20220620.rslc.par ../../../data/gamma/rslc/20221024.rslc.par load_data/scratch/20220620_20221024.off 1 1 1 0 >> load_data/scratch/gamma.log\n",
      "2023-11-05 23:34:04 - de_load_gamma_flatten_rslc - INFO - load_data/scratch/20220620_20221024.sim_orb exists. skip runing phase_sim_orb ../../../data/gamma/rslc/20220620.rslc.par ../../../data/gamma/rslc/20221024.rslc.par load_data/scratch/20220620_20221024.off ../../../data/gamma/geocoding/20210802.hgt load_data/scratch/20220620_20221024.sim_orb ../../../data/gamma/rslc/20220620.rslc.par - - 1 1 >> load_data/scratch/gamma.log\n",
      "2023-11-05 23:34:04 - de_load_gamma_flatten_rslc - INFO - gamma command finished.\n",
      "2023-11-05 23:34:04 - de_load_gamma_flatten_rslc - INFO - using dask to load data in gamma binary format to calculate flatten rslcs and save it to zarr.\n",
      "2023-11-05 23:34:04 - de_load_gamma_flatten_rslc - INFO - starting dask local cluster.\n",
      "2023-11-05 23:34:08 - de_load_gamma_flatten_rslc - INFO - dask local cluster started.\n",
      "2023-11-05 23:34:08 - darr_info - INFO - flattened rslc dask array shape: (2500, 1834, 17)\n",
      "2023-11-05 23:34:08 - darr_info - INFO - flattened rslc dask array chunksize: (1000, 1000, 1)\n",
      "2023-11-05 23:34:08 - darr_info - INFO - flattened rslc dask array dtype: complex64\n",
      "2023-11-05 23:34:09 - de_load_gamma_flatten_rslc - INFO - computing graph setted. doing all the computing.\n",
      "2023-11-05 23:34:13 - de_load_gamma_flatten_rslc - INFO - computing finished.\n",
      "2023-11-05 23:34:14 - de_load_gamma_flatten_rslc - INFO - dask cluster closed.\n",
      "2023-11-05 23:34:14 - logging_args - INFO - running function: de_load_gamma_lat_lon_hgt\n",
      "2023-11-05 23:34:14 - logging_args - INFO - fetching args:\n",
      "2023-11-05 23:34:14 - logging_args - INFO - diff_par = '../../../data/gamma/geocoding/20210802.diff_par'\n",
      "2023-11-05 23:34:14 - logging_args - INFO - rslc_par = '../../../data/gamma/rslc/20220620.rslc.par'\n",
      "2023-11-05 23:34:14 - logging_args - INFO - dem_par = '../../../data/gamma/DEM/dem_seg_par'\n",
      "2023-11-05 23:34:14 - logging_args - INFO - hgt = '../../../data/gamma/geocoding/20210802.hgt'\n",
      "2023-11-05 23:34:14 - logging_args - INFO - scratch_dir = './load_data/scratch'\n",
      "2023-11-05 23:34:14 - logging_args - INFO - lat_zarr = './load_data/lat.zarr'\n",
      "2023-11-05 23:34:14 - logging_args - INFO - lon_zarr = './load_data/lon.zarr'\n",
      "2023-11-05 23:34:14 - logging_args - INFO - hgt_zarr = './load_data/hgt.zarr'\n",
      "2023-11-05 23:34:14 - logging_args - INFO - az_chunk_size = 1000\n",
      "2023-11-05 23:34:14 - logging_args - INFO - r_chunk_size = 1000\n",
      "2023-11-05 23:34:14 - logging_args - INFO - fetching args done.\n",
      "2023-11-05 23:34:14 - de_load_gamma_lat_lon_hgt - INFO - image shape: (2500,1834)\n",
      "2023-11-05 23:34:14 - de_load_gamma_lat_lon_hgt - INFO - run gamma command to generate longitude, latitude and height:\n",
      "2023-11-05 23:34:14 - de_load_gamma_lat_lon_hgt - INFO - load_data/scratch/plist exists. skip runing mkgrid load_data/scratch/plist 1834 2500 1 1 >> load_data/scratch/gamma.log\n",
      "2023-11-05 23:34:14 - de_load_gamma_lat_lon_hgt - INFO - load_data/scratch/phgt_wgs84 exists. skip runing pt2geo load_data/scratch/plist - ../../../data/gamma/rslc/20220620.rslc.par - ../../../data/gamma/geocoding/20210802.hgt ../../../data/gamma/DEM/dem_seg_par ../../../data/gamma/geocoding/20210802.diff_par 1 1 - - load_data/scratch/plat_lon load_data/scratch/phgt_wgs84 >> load_data/scratch/gamma.log\n",
      "2023-11-05 23:34:14 - de_load_gamma_lat_lon_hgt - INFO - writing zarr file.\n",
      "2023-11-05 23:34:15 - de_load_gamma_lat_lon_hgt - INFO - write done.\n",
      "2023-11-05 23:34:15 - logging_args - INFO - running function: de_load_gamma_look_vector\n",
      "2023-11-05 23:34:15 - logging_args - INFO - fetching args:\n",
      "2023-11-05 23:34:15 - logging_args - INFO - theta = '../../../data/gamma/geocoding/20210802.lv_theta'\n",
      "2023-11-05 23:34:15 - logging_args - INFO - phi = '../../../data/gamma/geocoding/20210802.lv_phi'\n",
      "2023-11-05 23:34:15 - logging_args - INFO - lt = '../../../data/gamma/geocoding/20210802.lt_fine'\n",
      "2023-11-05 23:34:15 - logging_args - INFO - rslc_par = '../../../data/gamma/rslc/20220620.rslc.par'\n",
      "2023-11-05 23:34:15 - logging_args - INFO - dem_par = '../../../data/gamma/DEM/dem_seg_par'\n",
      "2023-11-05 23:34:15 - logging_args - INFO - scratch_dir = './load_data/scratch'\n",
      "2023-11-05 23:34:15 - logging_args - INFO - theta_zarr = './load_data/theta.zarr'\n",
      "2023-11-05 23:34:15 - logging_args - INFO - phi_zarr = './load_data/phi.zarr'\n",
      "2023-11-05 23:34:15 - logging_args - INFO - az_chunk_size = 1000\n",
      "2023-11-05 23:34:15 - logging_args - INFO - r_chunk_size = 1000\n",
      "2023-11-05 23:34:15 - logging_args - INFO - fetching args done.\n",
      "2023-11-05 23:34:15 - de_load_gamma_look_vector - INFO - image shape: (2500,1834)\n",
      "2023-11-05 23:34:15 - de_load_gamma_look_vector - INFO - load_data/scratch/theta_rdc exists. skip runing geocode ../../../data/gamma/geocoding/20210802.lt_fine ../../../data/gamma/geocoding/20210802.lv_theta 5741 load_data/scratch/theta_rdc 1834 2500 >> load_data/scratch/gamma.log\n",
      "2023-11-05 23:34:15 - de_load_gamma_look_vector - INFO - writing data.\n",
      "2023-11-05 23:34:15 - de_load_gamma_look_vector - INFO - load_data/scratch/phi_rdc exists. skip runing geocode ../../../data/gamma/geocoding/20210802.lt_fine ../../../data/gamma/geocoding/20210802.lv_phi 5741 load_data/scratch/phi_rdc 1834 2500 >> load_data/scratch/gamma.log\n",
      "2023-11-05 23:34:15 - de_load_gamma_look_vector - INFO - writing data.\n",
      "2023-11-05 23:34:16 - de_load_gamma_look_vector - INFO - Done.\n",
      "2023-11-05 23:34:16 - logging_args - INFO - running function: de_load_gamma_range\n",
      "2023-11-05 23:34:16 - logging_args - INFO - fetching args:\n",
      "2023-11-05 23:34:16 - logging_args - INFO - rslc_par = '../../../data/gamma/rslc/20220620.rslc.par'\n",
      "2023-11-05 23:34:16 - logging_args - INFO - range_zarr = './load_data/range.zarr'\n",
      "2023-11-05 23:34:16 - logging_args - INFO - az_chunk_size = 1000\n",
      "2023-11-05 23:34:16 - logging_args - INFO - r_chunk_size = 1000\n",
      "2023-11-05 23:34:16 - logging_args - INFO - fetching args done.\n",
      "2023-11-05 23:34:16 - de_load_gamma_range - INFO - image shape: (2500,1834)\n",
      "2023-11-05 23:34:16 - de_load_gamma_range - INFO - Calculating slant range distance.\n",
      "2023-11-05 23:34:16 - de_load_gamma_range - INFO - writing data.\n",
      "2023-11-05 23:34:16 - de_load_gamma_range - INFO - Done.\n",
      "2023-11-05 23:34:16 - logging_args - INFO - running function: de_load_gamma_metadata\n",
      "2023-11-05 23:34:16 - logging_args - INFO - fetching args:\n",
      "2023-11-05 23:34:16 - logging_args - INFO - rslc_dir = '../../../data/gamma/rslc'\n",
      "2023-11-05 23:34:16 - logging_args - INFO - reference = '20220620'\n",
      "2023-11-05 23:34:16 - logging_args - INFO - meta_file = './load_data/meta.toml'\n",
      "2023-11-05 23:34:16 - logging_args - INFO - fetching args done.\n",
      "2023-11-05 23:34:16 - de_load_gamma_metadata - INFO - Fetching heading angle\n",
      "2023-11-05 23:34:16 - de_load_gamma_metadata - INFO - Fetching range pixel spacing\n",
      "2023-11-05 23:34:16 - de_load_gamma_metadata - INFO - fetching azimuth pixel spacing\n",
      "2023-11-05 23:34:16 - de_load_gamma_metadata - INFO - Fetching randar wavelength\n",
      "2023-11-05 23:34:16 - de_load_gamma_metadata - INFO - Run gamma command to calculate baseline:\n",
      "2023-11-05 23:34:16 - de_load_gamma_metadata - INFO - run command: base_calc /tmp/tmpw04cl2xz/slc_tab ../../../data/gamma/rslc/20220620.rslc.par /tmp/tmpw04cl2xz/bperp /tmp/tmpw04cl2xz/itab - > /tmp/tmpw04cl2xz/log\n",
      "2023-11-05 23:34:16 - de_load_gamma_metadata - INFO - gamma command finished.\n",
      "2023-11-05 23:34:16 - de_load_gamma_metadata - INFO - All meta data: \n",
      "dates = [ \"20210802\", \"20210816\", \"20210830\", \"20210913\", \"20211011\", \"20211025\", \"20220606\", \"20220620\", \"20220704\", \"20220718\", \"20220801\", \"20220815\", \"20220829\", \"20220912\", \"20220926\", \"20221010\", \"20221024\",]\n",
      "radar_wavelength = 0.24245249210715603\n",
      "range_pixel_spacing = 4.29054\n",
      "azimuth_pixel_spacing = 3.740105\n",
      "perpendicular_baseline = [ -97.61360168457031, -45.58580017089844, 17.86680030822754, -26.258899688720703, -63.72420120239258, -56.363399505615234, 64.75759887695312, 0.0, -9.043999671936035, -13.02869987487793, -112.94960021972656, -86.09490203857422, -129.9635009765625, -127.6594009399414, -182.29519653320312, -129.735107421875, -184.31100463867188,]\n",
      "\n",
      "2023-11-05 23:34:16 - de_load_gamma_metadata - INFO - writing data in toml file.\n",
      "2023-11-05 23:34:16 - de_load_gamma_metadata - INFO - Done.\n"
     ]
    }
   ],
   "source": [
    "de_load_gamma_flatten_rslc(rslc_dir,reference,hgt,scratch_dir,rslc_zarr,az_chunk_size=az_chunk_size,r_chunk_size=r_chunk_size)\n",
    "de_load_gamma_lat_lon_hgt(diff_par,rslc_par,dem_par,hgt,scratch_dir,lat_zarr,lon_zarr,hgt_zarr,az_chunk_size=az_chunk_size,r_chunk_size=r_chunk_size)\n",
    "de_load_gamma_look_vector(theta,phi,lt,rslc_par,dem_par,scratch_dir,theta_zarr,phi_zarr,az_chunk_size=az_chunk_size,r_chunk_size=r_chunk_size)\n",
    "de_load_gamma_range(rslc_par,range_zarr,az_chunk_size=az_chunk_size,r_chunk_size=r_chunk_size)\n",
    "de_load_gamma_metadata(rslc_dir,reference,meta_file)"
   ]
  },
  {
   "cell_type": "markdown",
   "id": "fa5a32b7-79b2-4b5b-88bc-62a40761330d",
   "metadata": {},
   "source": [
    "Here we get all needed data: look vector, latitude, lontitude, height, metadata, slant range distance, and flattened rslc stack.\n",
    "For visulization on Google Map tiles, coordinates on Web Mercator projection is needed:"
   ]
  },
  {
   "cell_type": "code",
   "execution_count": null,
   "id": "3f46aa5c-c1cd-46ef-b229-f5f122c44619",
   "metadata": {},
   "outputs": [],
   "source": [
    "from decorrelation.cli.utils.transform import de_transform"
   ]
  },
  {
   "cell_type": "code",
   "execution_count": null,
   "id": "3910172d-1c5e-48b2-b513-3fcf6d1d8156",
   "metadata": {},
   "outputs": [],
   "source": [
    "e_zarr = './load_data/e.zarr'\n",
    "n_zarr = './load_data/n.zarr'"
   ]
  },
  {
   "cell_type": "code",
   "execution_count": null,
   "id": "7aacf59a-e564-425d-b024-96609e817882",
   "metadata": {},
   "outputs": [
    {
     "name": "stdout",
     "output_type": "stream",
     "text": [
      "2023-11-05 23:34:16 - logging_args - INFO - running function: de_transform\n",
      "2023-11-05 23:34:16 - logging_args - INFO - fetching args:\n",
      "2023-11-05 23:34:16 - logging_args - INFO - xx_in = './load_data/lon.zarr'\n",
      "2023-11-05 23:34:16 - logging_args - INFO - yy_in = './load_data/lat.zarr'\n",
      "2023-11-05 23:34:16 - logging_args - INFO - xx_out = './load_data/e.zarr'\n",
      "2023-11-05 23:34:16 - logging_args - INFO - yy_out = './load_data/n.zarr'\n",
      "2023-11-05 23:34:16 - logging_args - INFO - epsg_in = 4326\n",
      "2023-11-05 23:34:16 - logging_args - INFO - epsg_out = 3857\n",
      "2023-11-05 23:34:16 - logging_args - INFO - fetching args done.\n",
      "2023-11-05 23:34:16 - de_transform - INFO - input EPSG: 4326.\n",
      "2023-11-05 23:34:16 - zarr_info - INFO - xx_in zarray shape: (2500, 1834)\n",
      "2023-11-05 23:34:16 - zarr_info - INFO - xx_in zarray chunks: (1000, 1000)\n",
      "2023-11-05 23:34:16 - zarr_info - INFO - xx_in zarray dtype: float64\n",
      "2023-11-05 23:34:16 - zarr_info - INFO - yy_in zarray shape: (2500, 1834)\n",
      "2023-11-05 23:34:16 - zarr_info - INFO - yy_in zarray chunks: (1000, 1000)\n",
      "2023-11-05 23:34:16 - zarr_info - INFO - yy_in zarray dtype: float64\n",
      "2023-11-05 23:34:16 - de_transform - INFO - output EPSG: 3857.\n",
      "2023-11-05 23:34:16 - de_transform - INFO - do the transformation.\n",
      "2023-11-05 23:34:18 - de_transform - INFO - write output.\n",
      "2023-11-05 23:34:18 - de_transform - INFO - write done.\n"
     ]
    }
   ],
   "source": [
    "de_transform(lon_zarr,lat_zarr,e_zarr,n_zarr)"
   ]
  },
  {
   "cell_type": "markdown",
   "id": "e0b7e042-6341-4549-9987-e362842351b7",
   "metadata": {},
   "source": [
    "## Water Mask"
   ]
  },
  {
   "cell_type": "markdown",
   "id": "e3457d0b-dc12-47f1-a910-94153f4e80e3",
   "metadata": {},
   "source": [
    "The DEM on pixels of water is zero according to the convection of GAMMA so we should remove them:"
   ]
  },
  {
   "cell_type": "code",
   "execution_count": null,
   "id": "9febb131-c07e-455e-bd48-845dcb3c6260",
   "metadata": {},
   "outputs": [],
   "source": [
    "from decorrelation.cli.pc import de_pc_logic_ras"
   ]
  },
  {
   "cell_type": "code",
   "execution_count": null,
   "id": "476ed01c-fc50-426b-8ba3-2e92c19b9fe9",
   "metadata": {},
   "outputs": [
    {
     "name": "stdout",
     "output_type": "stream",
     "text": [
      "2023-11-05 23:34:18 - logging_args - INFO - running function: de_pc_logic_ras\n",
      "2023-11-05 23:34:18 - logging_args - INFO - fetching args:\n",
      "2023-11-05 23:34:18 - logging_args - INFO - ras = './load_data/hgt.zarr'\n",
      "2023-11-05 23:34:18 - logging_args - INFO - idx = './load_data/non_nan.zarr'\n",
      "2023-11-05 23:34:18 - logging_args - INFO - operation = 'ras!=0'\n",
      "2023-11-05 23:34:18 - logging_args - INFO - pc_chunk_size = None\n",
      "2023-11-05 23:34:18 - logging_args - INFO - n_pc_chunk = None\n",
      "2023-11-05 23:34:18 - logging_args - INFO - fetching args done.\n",
      "2023-11-05 23:34:18 - zarr_info - INFO - ./load_data/hgt.zarr zarray shape: (2500, 1834)\n",
      "2023-11-05 23:34:18 - zarr_info - INFO - ./load_data/hgt.zarr zarray chunks: (1000, 1000)\n",
      "2023-11-05 23:34:18 - zarr_info - INFO - ./load_data/hgt.zarr zarray dtype: float32\n",
      "2023-11-05 23:34:18 - de_pc_logic_ras - INFO - loading ras into memory.\n",
      "2023-11-05 23:34:18 - de_pc_logic_ras - INFO - select pc based on operation: ras!=0\n",
      "2023-11-05 23:34:18 - de_pc_logic_ras - INFO - number of selected pixels: 4439623.\n",
      "2023-11-05 23:34:18 - get_pc_chunk_size_from_n_ras_chunk - INFO - automatically determine pc_chunk_size from\n",
      "            n_pc of idx and n_ras_chunk of ras\n",
      "2023-11-05 23:34:18 - get_pc_chunk_size_from_n_ras_chunk - INFO - n_ras_chunk of ras: 6\n",
      "2023-11-05 23:34:18 - get_pc_chunk_size_from_n_ras_chunk - INFO - pc_chunk_size for idx: 739938\n",
      "2023-11-05 23:34:18 - de_pc_logic_ras - INFO - writing idx.\n",
      "2023-11-05 23:34:19 - de_pc_logic_ras - INFO - write done.\n"
     ]
    }
   ],
   "source": [
    "de_pc_logic_ras(hgt_zarr, './load_data/non_nan.zarr','ras!=0')"
   ]
  },
  {
   "cell_type": "code",
   "execution_count": null,
   "id": "4bcfd041-b176-48dc-9c06-88ac35dbe10a",
   "metadata": {},
   "outputs": [],
   "source": []
  }
 ],
 "metadata": {
  "kernelspec": {
   "display_name": "conda-env-work-py",
   "language": "python",
   "name": "conda-env-work-py"
  }
 },
 "nbformat": 4,
 "nbformat_minor": 5
}
