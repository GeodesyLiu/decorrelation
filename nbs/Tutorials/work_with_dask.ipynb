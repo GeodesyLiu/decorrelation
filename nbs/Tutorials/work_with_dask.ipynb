{
 "cells": [
  {
   "cell_type": "code",
   "execution_count": null,
   "id": "6404b9d9-02d2-4616-b42d-9247dd49fe07",
   "metadata": {},
   "outputs": [],
   "source": [
    "import numpy as np\n",
    "import zarr\n",
    "import cupy as cp\n",
    "from itertools import product\n",
    "\n",
    "from decorrelation.shp import ks_test\n",
    "from decorrelation.co import emperical_co_sp\n",
    "from decorrelation.pl import emi"
   ]
  },
  {
   "cell_type": "code",
   "execution_count": null,
   "id": "3a0d7655-3a89-46d5-aba3-7d639e3c64d0",
   "metadata": {},
   "outputs": [],
   "source": [
    "from dask import array as da\n",
    "from dask import delayed\n",
    "from dask.distributed import Client, LocalCluster\n",
    "from dask_cuda import LocalCUDACluster"
   ]
  },
  {
   "cell_type": "code",
   "execution_count": null,
   "id": "4b2d3956-3b45-4c77-9e60-2ca217ec2786",
   "metadata": {},
   "outputs": [
    {
     "name": "stderr",
     "output_type": "stream",
     "text": [
      "2023-04-12 15:46:27,548 - distributed.preloading - INFO - Creating preload: dask_cuda.initialize\n",
      "2023-04-12 15:46:27,548 - distributed.preloading - INFO - Import preload module: dask_cuda.initialize\n",
      "2023-04-12 15:46:27,548 - distributed.preloading - INFO - Creating preload: dask_cuda.initialize\n",
      "2023-04-12 15:46:27,548 - distributed.preloading - INFO - Import preload module: dask_cuda.initialize\n"
     ]
    },
    {
     "data": {
      "text/html": [
       "<div>\n",
       "    <div style=\"width: 24px; height: 24px; background-color: #e1e1e1; border: 3px solid #9D9D9D; border-radius: 5px; position: absolute;\"> </div>\n",
       "    <div style=\"margin-left: 48px;\">\n",
       "        <h3 style=\"margin-bottom: 0px;\">Client</h3>\n",
       "        <p style=\"color: #9D9D9D; margin-bottom: 0px;\">Client-18cf4702-d973-11ed-b624-248a07c15530</p>\n",
       "        <table style=\"width: 100%; text-align: left;\">\n",
       "\n",
       "        <tr>\n",
       "        \n",
       "            <td style=\"text-align: left;\"><strong>Connection method:</strong> Cluster object</td>\n",
       "            <td style=\"text-align: left;\"><strong>Cluster type:</strong> dask_cuda.LocalCUDACluster</td>\n",
       "        \n",
       "        </tr>\n",
       "\n",
       "        \n",
       "            <tr>\n",
       "                <td style=\"text-align: left;\">\n",
       "                    <strong>Dashboard: </strong> <a href=\"http://127.0.0.1:8787/status\" target=\"_blank\">http://127.0.0.1:8787/status</a>\n",
       "                </td>\n",
       "                <td style=\"text-align: left;\"></td>\n",
       "            </tr>\n",
       "        \n",
       "\n",
       "        </table>\n",
       "\n",
       "        \n",
       "\n",
       "        \n",
       "            <details>\n",
       "            <summary style=\"margin-bottom: 20px;\"><h3 style=\"display: inline;\">Cluster Info</h3></summary>\n",
       "            <div class=\"jp-RenderedHTMLCommon jp-RenderedHTML jp-mod-trusted jp-OutputArea-output\">\n",
       "    <div style=\"width: 24px; height: 24px; background-color: #e1e1e1; border: 3px solid #9D9D9D; border-radius: 5px; position: absolute;\">\n",
       "    </div>\n",
       "    <div style=\"margin-left: 48px;\">\n",
       "        <h3 style=\"margin-bottom: 0px; margin-top: 0px;\">LocalCUDACluster</h3>\n",
       "        <p style=\"color: #9D9D9D; margin-bottom: 0px;\">b34b71ac</p>\n",
       "        <table style=\"width: 100%; text-align: left;\">\n",
       "            <tr>\n",
       "                <td style=\"text-align: left;\">\n",
       "                    <strong>Dashboard:</strong> <a href=\"http://127.0.0.1:8787/status\" target=\"_blank\">http://127.0.0.1:8787/status</a>\n",
       "                </td>\n",
       "                <td style=\"text-align: left;\">\n",
       "                    <strong>Workers:</strong> 2\n",
       "                </td>\n",
       "            </tr>\n",
       "            <tr>\n",
       "                <td style=\"text-align: left;\">\n",
       "                    <strong>Total threads:</strong> 2\n",
       "                </td>\n",
       "                <td style=\"text-align: left;\">\n",
       "                    <strong>Total memory:</strong> 100.00 GiB\n",
       "                </td>\n",
       "            </tr>\n",
       "            \n",
       "            <tr>\n",
       "    <td style=\"text-align: left;\"><strong>Status:</strong> running</td>\n",
       "    <td style=\"text-align: left;\"><strong>Using processes:</strong> True</td>\n",
       "</tr>\n",
       "\n",
       "            \n",
       "        </table>\n",
       "\n",
       "        <details>\n",
       "            <summary style=\"margin-bottom: 20px;\">\n",
       "                <h3 style=\"display: inline;\">Scheduler Info</h3>\n",
       "            </summary>\n",
       "\n",
       "            <div style=\"\">\n",
       "    <div>\n",
       "        <div style=\"width: 24px; height: 24px; background-color: #FFF7E5; border: 3px solid #FF6132; border-radius: 5px; position: absolute;\"> </div>\n",
       "        <div style=\"margin-left: 48px;\">\n",
       "            <h3 style=\"margin-bottom: 0px;\">Scheduler</h3>\n",
       "            <p style=\"color: #9D9D9D; margin-bottom: 0px;\">Scheduler-976162fa-b225-4ba1-b2a6-b6453c45cdda</p>\n",
       "            <table style=\"width: 100%; text-align: left;\">\n",
       "                <tr>\n",
       "                    <td style=\"text-align: left;\">\n",
       "                        <strong>Comm:</strong> tcp://127.0.0.1:35802\n",
       "                    </td>\n",
       "                    <td style=\"text-align: left;\">\n",
       "                        <strong>Workers:</strong> 2\n",
       "                    </td>\n",
       "                </tr>\n",
       "                <tr>\n",
       "                    <td style=\"text-align: left;\">\n",
       "                        <strong>Dashboard:</strong> <a href=\"http://127.0.0.1:8787/status\" target=\"_blank\">http://127.0.0.1:8787/status</a>\n",
       "                    </td>\n",
       "                    <td style=\"text-align: left;\">\n",
       "                        <strong>Total threads:</strong> 2\n",
       "                    </td>\n",
       "                </tr>\n",
       "                <tr>\n",
       "                    <td style=\"text-align: left;\">\n",
       "                        <strong>Started:</strong> Just now\n",
       "                    </td>\n",
       "                    <td style=\"text-align: left;\">\n",
       "                        <strong>Total memory:</strong> 100.00 GiB\n",
       "                    </td>\n",
       "                </tr>\n",
       "            </table>\n",
       "        </div>\n",
       "    </div>\n",
       "\n",
       "    <details style=\"margin-left: 48px;\">\n",
       "        <summary style=\"margin-bottom: 20px;\">\n",
       "            <h3 style=\"display: inline;\">Workers</h3>\n",
       "        </summary>\n",
       "\n",
       "        \n",
       "        <div style=\"margin-bottom: 20px;\">\n",
       "            <div style=\"width: 24px; height: 24px; background-color: #DBF5FF; border: 3px solid #4CC9FF; border-radius: 5px; position: absolute;\"> </div>\n",
       "            <div style=\"margin-left: 48px;\">\n",
       "            <details>\n",
       "                <summary>\n",
       "                    <h4 style=\"margin-bottom: 0px; display: inline;\">Worker: 0</h4>\n",
       "                </summary>\n",
       "                <table style=\"width: 100%; text-align: left;\">\n",
       "                    <tr>\n",
       "                        <td style=\"text-align: left;\">\n",
       "                            <strong>Comm: </strong> tcp://127.0.0.1:43875\n",
       "                        </td>\n",
       "                        <td style=\"text-align: left;\">\n",
       "                            <strong>Total threads: </strong> 1\n",
       "                        </td>\n",
       "                    </tr>\n",
       "                    <tr>\n",
       "                        <td style=\"text-align: left;\">\n",
       "                            <strong>Dashboard: </strong> <a href=\"http://127.0.0.1:43682/status\" target=\"_blank\">http://127.0.0.1:43682/status</a>\n",
       "                        </td>\n",
       "                        <td style=\"text-align: left;\">\n",
       "                            <strong>Memory: </strong> 50.00 GiB\n",
       "                        </td>\n",
       "                    </tr>\n",
       "                    <tr>\n",
       "                        <td style=\"text-align: left;\">\n",
       "                            <strong>Nanny: </strong> tcp://127.0.0.1:33124\n",
       "                        </td>\n",
       "                        <td style=\"text-align: left;\"></td>\n",
       "                    </tr>\n",
       "                    <tr>\n",
       "                        <td colspan=\"2\" style=\"text-align: left;\">\n",
       "                            <strong>Local directory: </strong> /tmp/dask-worker-space/worker-y2n75el4\n",
       "                        </td>\n",
       "                    </tr>\n",
       "\n",
       "                    \n",
       "                    <tr>\n",
       "                        <td style=\"text-align: left;\">\n",
       "                            <strong>GPU: </strong>Tesla V100-SXM2-32GB\n",
       "                        </td>\n",
       "                        <td style=\"text-align: left;\">\n",
       "                            <strong>GPU memory: </strong> 31.75 GiB\n",
       "                        </td>\n",
       "                    </tr>\n",
       "                    \n",
       "\n",
       "                    \n",
       "\n",
       "                </table>\n",
       "            </details>\n",
       "            </div>\n",
       "        </div>\n",
       "        \n",
       "        <div style=\"margin-bottom: 20px;\">\n",
       "            <div style=\"width: 24px; height: 24px; background-color: #DBF5FF; border: 3px solid #4CC9FF; border-radius: 5px; position: absolute;\"> </div>\n",
       "            <div style=\"margin-left: 48px;\">\n",
       "            <details>\n",
       "                <summary>\n",
       "                    <h4 style=\"margin-bottom: 0px; display: inline;\">Worker: 1</h4>\n",
       "                </summary>\n",
       "                <table style=\"width: 100%; text-align: left;\">\n",
       "                    <tr>\n",
       "                        <td style=\"text-align: left;\">\n",
       "                            <strong>Comm: </strong> tcp://127.0.0.1:45311\n",
       "                        </td>\n",
       "                        <td style=\"text-align: left;\">\n",
       "                            <strong>Total threads: </strong> 1\n",
       "                        </td>\n",
       "                    </tr>\n",
       "                    <tr>\n",
       "                        <td style=\"text-align: left;\">\n",
       "                            <strong>Dashboard: </strong> <a href=\"http://127.0.0.1:34893/status\" target=\"_blank\">http://127.0.0.1:34893/status</a>\n",
       "                        </td>\n",
       "                        <td style=\"text-align: left;\">\n",
       "                            <strong>Memory: </strong> 50.00 GiB\n",
       "                        </td>\n",
       "                    </tr>\n",
       "                    <tr>\n",
       "                        <td style=\"text-align: left;\">\n",
       "                            <strong>Nanny: </strong> tcp://127.0.0.1:32823\n",
       "                        </td>\n",
       "                        <td style=\"text-align: left;\"></td>\n",
       "                    </tr>\n",
       "                    <tr>\n",
       "                        <td colspan=\"2\" style=\"text-align: left;\">\n",
       "                            <strong>Local directory: </strong> /tmp/dask-worker-space/worker-t0kxqwae\n",
       "                        </td>\n",
       "                    </tr>\n",
       "\n",
       "                    \n",
       "                    <tr>\n",
       "                        <td style=\"text-align: left;\">\n",
       "                            <strong>GPU: </strong>Tesla V100-SXM2-32GB\n",
       "                        </td>\n",
       "                        <td style=\"text-align: left;\">\n",
       "                            <strong>GPU memory: </strong> 31.75 GiB\n",
       "                        </td>\n",
       "                    </tr>\n",
       "                    \n",
       "\n",
       "                    \n",
       "\n",
       "                </table>\n",
       "            </details>\n",
       "            </div>\n",
       "        </div>\n",
       "        \n",
       "\n",
       "    </details>\n",
       "</div>\n",
       "\n",
       "        </details>\n",
       "    </div>\n",
       "</div>\n",
       "            </details>\n",
       "        \n",
       "\n",
       "    </div>\n",
       "</div>"
      ],
      "text/plain": [
       "<Client: 'tcp://127.0.0.1:35802' processes=2 threads=2, memory=100.00 GiB>"
      ]
     },
     "execution_count": null,
     "metadata": {},
     "output_type": "execute_result"
    }
   ],
   "source": [
    "cluster = LocalCUDACluster()\n",
    "client = Client(cluster)\n",
    "client"
   ]
  },
  {
   "cell_type": "markdown",
   "id": "91bfd0a0-d305-456e-a28f-176f055eb737",
   "metadata": {},
   "source": [
    "In this tutorial, we demostrate how to use `Dask` for distributed computing.\n",
    "\n",
    "Two significant issues for InSAR big data processing are: 1) the memory of CPU/GPU does not fit the volume of very big data;\n",
    "2) the processing speed is limited. For the first issue, one common solution is divide the data into independent chunks\n",
    "and process the chunks one by one. In many case, the processing of chunks are independent. Thus the processing can be speeded\n",
    "up by parallel processing.\n",
    "\n",
    "`Dask` is a job scheduler that allows deploying process-level parallel processing.\n",
    "Through the `Delayed` feature, `Dask` operations only construct the computing workflow rather than do the computation immediately.\n",
    "All of the computations are done at the end to allow `Dask` better distributing computing resources for the task.\n",
    "`Dask` makes the parallel processing easier and enable the decoupling of codes for computation and codes for scheduling.\n",
    "\n",
    "In this demo, we use `Dask` for multi-GPU KS test. This includes:\n",
    "\n",
    "- Read SLC data from disk to CPU and then transfer to GPU;\n",
    "- Divide them into overlapped chunks;\n",
    "- Apply the `ks_test` to each chunks;\n",
    "- Trim the overlapping in the results;\n",
    "- Transfer the results to CPU;\n",
    "- Save data to disk."
   ]
  },
  {
   "cell_type": "markdown",
   "id": "017c6eb3-cc22-437e-abbd-cb854fa4f97d",
   "metadata": {},
   "source": [
    "## Processing"
   ]
  },
  {
   "cell_type": "markdown",
   "id": "ebc0b2e5-f4c4-4273-bedf-35df397e1b7f",
   "metadata": {},
   "source": [
    "Load data into CPU, the chunk size is setted:"
   ]
  },
  {
   "cell_type": "code",
   "execution_count": null,
   "id": "7f0ae00a-5eba-4c41-9cae-e2aaaa07b023",
   "metadata": {},
   "outputs": [],
   "source": [
    "rslc_path = '../../data/rslc.zarr'\n",
    "rslc_zarr = zarr.open(rslc_path,mode='r')\n",
    "cpu_rslc = da.from_zarr(rslc_path,chunks=(1000,1000,17))"
   ]
  },
  {
   "cell_type": "markdown",
   "id": "24226db5-eafb-422b-8acd-c682edd0821d",
   "metadata": {},
   "source": [
    "Then convert to GPU:"
   ]
  },
  {
   "cell_type": "code",
   "execution_count": null,
   "id": "6d9bd2bd-a1b1-4b96-846f-a071f31119a8",
   "metadata": {},
   "outputs": [],
   "source": [
    "rslc = cpu_rslc.map_blocks(cp.asarray)"
   ]
  },
  {
   "cell_type": "code",
   "execution_count": null,
   "id": "7d367cfc-a069-406e-a432-101183476687",
   "metadata": {},
   "outputs": [
    {
     "data": {
      "text/html": [
       "<table>\n",
       "    <tr>\n",
       "        <td>\n",
       "            <table style=\"border-collapse: collapse;\">\n",
       "                <thead>\n",
       "                    <tr>\n",
       "                        <td> </td>\n",
       "                        <th> Array </th>\n",
       "                        <th> Chunk </th>\n",
       "                    </tr>\n",
       "                </thead>\n",
       "                <tbody>\n",
       "                    \n",
       "                    <tr>\n",
       "                        <th> Bytes </th>\n",
       "                        <td> 594.67 MiB </td>\n",
       "                        <td> 129.70 MiB </td>\n",
       "                    </tr>\n",
       "                    \n",
       "                    <tr>\n",
       "                        <th> Shape </th>\n",
       "                        <td> (2500, 1834, 17) </td>\n",
       "                        <td> (1000, 1000, 17) </td>\n",
       "                    </tr>\n",
       "                    <tr>\n",
       "                        <th> Dask graph </th>\n",
       "                        <td colspan=\"2\"> 6 chunks in 3 graph layers </td>\n",
       "                    </tr>\n",
       "                    <tr>\n",
       "                        <th> Data type </th>\n",
       "                        <td colspan=\"2\"> complex64 cupy.ndarray </td>\n",
       "                    </tr>\n",
       "                </tbody>\n",
       "            </table>\n",
       "        </td>\n",
       "        <td>\n",
       "        <svg width=\"156\" height=\"208\" style=\"stroke:rgb(0,0,0);stroke-width:1\" >\n",
       "\n",
       "  <!-- Horizontal lines -->\n",
       "  <line x1=\"10\" y1=\"0\" x2=\"80\" y2=\"70\" style=\"stroke-width:2\" />\n",
       "  <line x1=\"10\" y1=\"48\" x2=\"80\" y2=\"118\" />\n",
       "  <line x1=\"10\" y1=\"88\" x2=\"80\" y2=\"158\" style=\"stroke-width:2\" />\n",
       "\n",
       "  <!-- Vertical lines -->\n",
       "  <line x1=\"10\" y1=\"0\" x2=\"10\" y2=\"88\" style=\"stroke-width:2\" />\n",
       "  <line x1=\"38\" y1=\"28\" x2=\"38\" y2=\"116\" />\n",
       "  <line x1=\"66\" y1=\"56\" x2=\"66\" y2=\"144\" />\n",
       "  <line x1=\"80\" y1=\"70\" x2=\"80\" y2=\"158\" style=\"stroke-width:2\" />\n",
       "\n",
       "  <!-- Colored Rectangle -->\n",
       "  <polygon points=\"10.0,0.0 80.58823529411765,70.58823529411765 80.58823529411765,158.62023529411766 10.0,88.032\" style=\"fill:#ECB172A0;stroke-width:0\"/>\n",
       "\n",
       "  <!-- Horizontal lines -->\n",
       "  <line x1=\"10\" y1=\"0\" x2=\"35\" y2=\"0\" style=\"stroke-width:2\" />\n",
       "  <line x1=\"38\" y1=\"28\" x2=\"63\" y2=\"28\" />\n",
       "  <line x1=\"66\" y1=\"56\" x2=\"91\" y2=\"56\" />\n",
       "  <line x1=\"80\" y1=\"70\" x2=\"106\" y2=\"70\" style=\"stroke-width:2\" />\n",
       "\n",
       "  <!-- Vertical lines -->\n",
       "  <line x1=\"10\" y1=\"0\" x2=\"80\" y2=\"70\" style=\"stroke-width:2\" />\n",
       "  <line x1=\"35\" y1=\"0\" x2=\"106\" y2=\"70\" style=\"stroke-width:2\" />\n",
       "\n",
       "  <!-- Colored Rectangle -->\n",
       "  <polygon points=\"10.0,0.0 35.41261651458248,0.0 106.00085180870013,70.58823529411765 80.58823529411765,70.58823529411765\" style=\"fill:#ECB172A0;stroke-width:0\"/>\n",
       "\n",
       "  <!-- Horizontal lines -->\n",
       "  <line x1=\"80\" y1=\"70\" x2=\"106\" y2=\"70\" style=\"stroke-width:2\" />\n",
       "  <line x1=\"80\" y1=\"118\" x2=\"106\" y2=\"118\" />\n",
       "  <line x1=\"80\" y1=\"158\" x2=\"106\" y2=\"158\" style=\"stroke-width:2\" />\n",
       "\n",
       "  <!-- Vertical lines -->\n",
       "  <line x1=\"80\" y1=\"70\" x2=\"80\" y2=\"158\" style=\"stroke-width:2\" />\n",
       "  <line x1=\"106\" y1=\"70\" x2=\"106\" y2=\"158\" style=\"stroke-width:2\" />\n",
       "\n",
       "  <!-- Colored Rectangle -->\n",
       "  <polygon points=\"80.58823529411765,70.58823529411765 106.00085180870013,70.58823529411765 106.00085180870013,158.62023529411766 80.58823529411765,158.62023529411766\" style=\"fill:#ECB172A0;stroke-width:0\"/>\n",
       "\n",
       "  <!-- Text -->\n",
       "  <text x=\"93.294544\" y=\"178.620235\" font-size=\"1.0rem\" font-weight=\"100\" text-anchor=\"middle\" >17</text>\n",
       "  <text x=\"126.000852\" y=\"114.604235\" font-size=\"1.0rem\" font-weight=\"100\" text-anchor=\"middle\" transform=\"rotate(-90,126.000852,114.604235)\">1834</text>\n",
       "  <text x=\"35.294118\" y=\"143.326118\" font-size=\"1.0rem\" font-weight=\"100\" text-anchor=\"middle\" transform=\"rotate(45,35.294118,143.326118)\">2500</text>\n",
       "</svg>\n",
       "        </td>\n",
       "    </tr>\n",
       "</table>"
      ],
      "text/plain": [
       "dask.array<asarray, shape=(2500, 1834, 17), dtype=complex64, chunksize=(1000, 1000, 17), chunktype=cupy.ndarray>"
      ]
     },
     "execution_count": null,
     "metadata": {},
     "output_type": "execute_result"
    }
   ],
   "source": [
    "rslc"
   ]
  },
  {
   "cell_type": "markdown",
   "id": "798ff630-84ec-4e0a-813d-7eb6a098afdb",
   "metadata": {},
   "source": [
    "Prepare the `rmli` and processing parameters:"
   ]
  },
  {
   "cell_type": "code",
   "execution_count": null,
   "id": "337f9fe9-b944-443c-bdb4-35d46191fdb4",
   "metadata": {},
   "outputs": [
    {
     "data": {
      "text/html": [
       "<table>\n",
       "    <tr>\n",
       "        <td>\n",
       "            <table style=\"border-collapse: collapse;\">\n",
       "                <thead>\n",
       "                    <tr>\n",
       "                        <td> </td>\n",
       "                        <th> Array </th>\n",
       "                        <th> Chunk </th>\n",
       "                    </tr>\n",
       "                </thead>\n",
       "                <tbody>\n",
       "                    \n",
       "                    <tr>\n",
       "                        <th> Bytes </th>\n",
       "                        <td> 297.34 MiB </td>\n",
       "                        <td> 64.85 MiB </td>\n",
       "                    </tr>\n",
       "                    \n",
       "                    <tr>\n",
       "                        <th> Shape </th>\n",
       "                        <td> (2500, 1834, 17) </td>\n",
       "                        <td> (1000, 1000, 17) </td>\n",
       "                    </tr>\n",
       "                    <tr>\n",
       "                        <th> Dask graph </th>\n",
       "                        <td colspan=\"2\"> 6 chunks in 5 graph layers </td>\n",
       "                    </tr>\n",
       "                    <tr>\n",
       "                        <th> Data type </th>\n",
       "                        <td colspan=\"2\"> float32 cupy.ndarray </td>\n",
       "                    </tr>\n",
       "                </tbody>\n",
       "            </table>\n",
       "        </td>\n",
       "        <td>\n",
       "        <svg width=\"156\" height=\"208\" style=\"stroke:rgb(0,0,0);stroke-width:1\" >\n",
       "\n",
       "  <!-- Horizontal lines -->\n",
       "  <line x1=\"10\" y1=\"0\" x2=\"80\" y2=\"70\" style=\"stroke-width:2\" />\n",
       "  <line x1=\"10\" y1=\"48\" x2=\"80\" y2=\"118\" />\n",
       "  <line x1=\"10\" y1=\"88\" x2=\"80\" y2=\"158\" style=\"stroke-width:2\" />\n",
       "\n",
       "  <!-- Vertical lines -->\n",
       "  <line x1=\"10\" y1=\"0\" x2=\"10\" y2=\"88\" style=\"stroke-width:2\" />\n",
       "  <line x1=\"38\" y1=\"28\" x2=\"38\" y2=\"116\" />\n",
       "  <line x1=\"66\" y1=\"56\" x2=\"66\" y2=\"144\" />\n",
       "  <line x1=\"80\" y1=\"70\" x2=\"80\" y2=\"158\" style=\"stroke-width:2\" />\n",
       "\n",
       "  <!-- Colored Rectangle -->\n",
       "  <polygon points=\"10.0,0.0 80.58823529411765,70.58823529411765 80.58823529411765,158.62023529411766 10.0,88.032\" style=\"fill:#ECB172A0;stroke-width:0\"/>\n",
       "\n",
       "  <!-- Horizontal lines -->\n",
       "  <line x1=\"10\" y1=\"0\" x2=\"35\" y2=\"0\" style=\"stroke-width:2\" />\n",
       "  <line x1=\"38\" y1=\"28\" x2=\"63\" y2=\"28\" />\n",
       "  <line x1=\"66\" y1=\"56\" x2=\"91\" y2=\"56\" />\n",
       "  <line x1=\"80\" y1=\"70\" x2=\"106\" y2=\"70\" style=\"stroke-width:2\" />\n",
       "\n",
       "  <!-- Vertical lines -->\n",
       "  <line x1=\"10\" y1=\"0\" x2=\"80\" y2=\"70\" style=\"stroke-width:2\" />\n",
       "  <line x1=\"35\" y1=\"0\" x2=\"106\" y2=\"70\" style=\"stroke-width:2\" />\n",
       "\n",
       "  <!-- Colored Rectangle -->\n",
       "  <polygon points=\"10.0,0.0 35.41261651458248,0.0 106.00085180870013,70.58823529411765 80.58823529411765,70.58823529411765\" style=\"fill:#ECB172A0;stroke-width:0\"/>\n",
       "\n",
       "  <!-- Horizontal lines -->\n",
       "  <line x1=\"80\" y1=\"70\" x2=\"106\" y2=\"70\" style=\"stroke-width:2\" />\n",
       "  <line x1=\"80\" y1=\"118\" x2=\"106\" y2=\"118\" />\n",
       "  <line x1=\"80\" y1=\"158\" x2=\"106\" y2=\"158\" style=\"stroke-width:2\" />\n",
       "\n",
       "  <!-- Vertical lines -->\n",
       "  <line x1=\"80\" y1=\"70\" x2=\"80\" y2=\"158\" style=\"stroke-width:2\" />\n",
       "  <line x1=\"106\" y1=\"70\" x2=\"106\" y2=\"158\" style=\"stroke-width:2\" />\n",
       "\n",
       "  <!-- Colored Rectangle -->\n",
       "  <polygon points=\"80.58823529411765,70.58823529411765 106.00085180870013,70.58823529411765 106.00085180870013,158.62023529411766 80.58823529411765,158.62023529411766\" style=\"fill:#ECB172A0;stroke-width:0\"/>\n",
       "\n",
       "  <!-- Text -->\n",
       "  <text x=\"93.294544\" y=\"178.620235\" font-size=\"1.0rem\" font-weight=\"100\" text-anchor=\"middle\" >17</text>\n",
       "  <text x=\"126.000852\" y=\"114.604235\" font-size=\"1.0rem\" font-weight=\"100\" text-anchor=\"middle\" transform=\"rotate(-90,126.000852,114.604235)\">1834</text>\n",
       "  <text x=\"35.294118\" y=\"143.326118\" font-size=\"1.0rem\" font-weight=\"100\" text-anchor=\"middle\" transform=\"rotate(45,35.294118,143.326118)\">2500</text>\n",
       "</svg>\n",
       "        </td>\n",
       "    </tr>\n",
       "</table>"
      ],
      "text/plain": [
       "dask.array<pow, shape=(2500, 1834, 17), dtype=float32, chunksize=(1000, 1000, 17), chunktype=cupy.ndarray>"
      ]
     },
     "execution_count": null,
     "metadata": {},
     "output_type": "execute_result"
    }
   ],
   "source": [
    "rmli = da.abs(rslc)**2\n",
    "rmli"
   ]
  },
  {
   "cell_type": "code",
   "execution_count": null,
   "id": "8a6ef4e5-70b3-4bc6-ac68-3112d10f7309",
   "metadata": {},
   "outputs": [],
   "source": [
    "az_half_win = 5\n",
    "r_half_win = 5\n",
    "az_win = 2*az_half_win+1\n",
    "r_win = 2*r_half_win+1"
   ]
  },
  {
   "cell_type": "markdown",
   "id": "48dc284b-650a-40b5-b41f-a2f3efa04334",
   "metadata": {},
   "source": [
    "Enable overlapping between chunks. This is because the KS test is conducted on small region (az_win*r_win)."
   ]
  },
  {
   "cell_type": "code",
   "execution_count": null,
   "id": "6073268d-b5ff-4802-a6c9-497ec89a70e2",
   "metadata": {},
   "outputs": [
    {
     "data": {
      "text/html": [
       "<table>\n",
       "    <tr>\n",
       "        <td>\n",
       "            <table style=\"border-collapse: collapse;\">\n",
       "                <thead>\n",
       "                    <tr>\n",
       "                        <td> </td>\n",
       "                        <th> Array </th>\n",
       "                        <th> Chunk </th>\n",
       "                    </tr>\n",
       "                </thead>\n",
       "                <tbody>\n",
       "                    \n",
       "                    <tr>\n",
       "                        <th> Bytes </th>\n",
       "                        <td> 301.35 MiB </td>\n",
       "                        <td> 65.83 MiB </td>\n",
       "                    </tr>\n",
       "                    \n",
       "                    <tr>\n",
       "                        <th> Shape </th>\n",
       "                        <td> (2520, 1844, 17) </td>\n",
       "                        <td> (1010, 1005, 17) </td>\n",
       "                    </tr>\n",
       "                    <tr>\n",
       "                        <th> Dask graph </th>\n",
       "                        <td colspan=\"2\"> 6 chunks in 6 graph layers </td>\n",
       "                    </tr>\n",
       "                    <tr>\n",
       "                        <th> Data type </th>\n",
       "                        <td colspan=\"2\"> float32 cupy.ndarray </td>\n",
       "                    </tr>\n",
       "                </tbody>\n",
       "            </table>\n",
       "        </td>\n",
       "        <td>\n",
       "        <svg width=\"156\" height=\"208\" style=\"stroke:rgb(0,0,0);stroke-width:1\" >\n",
       "\n",
       "  <!-- Horizontal lines -->\n",
       "  <line x1=\"10\" y1=\"0\" x2=\"80\" y2=\"70\" style=\"stroke-width:2\" />\n",
       "  <line x1=\"10\" y1=\"47\" x2=\"80\" y2=\"118\" />\n",
       "  <line x1=\"10\" y1=\"87\" x2=\"80\" y2=\"158\" style=\"stroke-width:2\" />\n",
       "\n",
       "  <!-- Vertical lines -->\n",
       "  <line x1=\"10\" y1=\"0\" x2=\"10\" y2=\"87\" style=\"stroke-width:2\" />\n",
       "  <line x1=\"38\" y1=\"28\" x2=\"38\" y2=\"115\" />\n",
       "  <line x1=\"66\" y1=\"56\" x2=\"66\" y2=\"144\" />\n",
       "  <line x1=\"80\" y1=\"70\" x2=\"80\" y2=\"158\" style=\"stroke-width:2\" />\n",
       "\n",
       "  <!-- Colored Rectangle -->\n",
       "  <polygon points=\"10.0,0.0 80.58823529411765,70.58823529411765 80.58823529411765,158.39775910364148 10.0,87.80952380952381\" style=\"fill:#ECB172A0;stroke-width:0\"/>\n",
       "\n",
       "  <!-- Horizontal lines -->\n",
       "  <line x1=\"10\" y1=\"0\" x2=\"35\" y2=\"0\" style=\"stroke-width:2\" />\n",
       "  <line x1=\"38\" y1=\"28\" x2=\"63\" y2=\"28\" />\n",
       "  <line x1=\"66\" y1=\"56\" x2=\"91\" y2=\"56\" />\n",
       "  <line x1=\"80\" y1=\"70\" x2=\"106\" y2=\"70\" style=\"stroke-width:2\" />\n",
       "\n",
       "  <!-- Vertical lines -->\n",
       "  <line x1=\"10\" y1=\"0\" x2=\"80\" y2=\"70\" style=\"stroke-width:2\" />\n",
       "  <line x1=\"35\" y1=\"0\" x2=\"106\" y2=\"70\" style=\"stroke-width:2\" />\n",
       "\n",
       "  <!-- Colored Rectangle -->\n",
       "  <polygon points=\"10.0,0.0 35.41261651458248,0.0 106.00085180870013,70.58823529411765 80.58823529411765,70.58823529411765\" style=\"fill:#ECB172A0;stroke-width:0\"/>\n",
       "\n",
       "  <!-- Horizontal lines -->\n",
       "  <line x1=\"80\" y1=\"70\" x2=\"106\" y2=\"70\" style=\"stroke-width:2\" />\n",
       "  <line x1=\"80\" y1=\"118\" x2=\"106\" y2=\"118\" />\n",
       "  <line x1=\"80\" y1=\"158\" x2=\"106\" y2=\"158\" style=\"stroke-width:2\" />\n",
       "\n",
       "  <!-- Vertical lines -->\n",
       "  <line x1=\"80\" y1=\"70\" x2=\"80\" y2=\"158\" style=\"stroke-width:2\" />\n",
       "  <line x1=\"106\" y1=\"70\" x2=\"106\" y2=\"158\" style=\"stroke-width:2\" />\n",
       "\n",
       "  <!-- Colored Rectangle -->\n",
       "  <polygon points=\"80.58823529411765,70.58823529411765 106.00085180870013,70.58823529411765 106.00085180870013,158.39775910364148 80.58823529411765,158.39775910364148\" style=\"fill:#ECB172A0;stroke-width:0\"/>\n",
       "\n",
       "  <!-- Text -->\n",
       "  <text x=\"93.294544\" y=\"178.397759\" font-size=\"1.0rem\" font-weight=\"100\" text-anchor=\"middle\" >17</text>\n",
       "  <text x=\"126.000852\" y=\"114.492997\" font-size=\"1.0rem\" font-weight=\"100\" text-anchor=\"middle\" transform=\"rotate(-90,126.000852,114.492997)\">1844</text>\n",
       "  <text x=\"35.294118\" y=\"143.103641\" font-size=\"1.0rem\" font-weight=\"100\" text-anchor=\"middle\" transform=\"rotate(45,35.294118,143.103641)\">2520</text>\n",
       "</svg>\n",
       "        </td>\n",
       "    </tr>\n",
       "</table>"
      ],
      "text/plain": [
       "dask.array<overlap, shape=(2520, 1844, 17), dtype=float32, chunksize=(1010, 1005, 17), chunktype=cupy.ndarray>"
      ]
     },
     "execution_count": null,
     "metadata": {},
     "output_type": "execute_result"
    }
   ],
   "source": [
    "depth = {0:az_half_win, 1:r_half_win, 2:0}; boundary = {0:'none',1:'none',2:'none'}\n",
    "rmli_overlap = da.overlap.overlap(rmli,depth=depth, boundary=boundary)\n",
    "rmli_overlap"
   ]
  },
  {
   "cell_type": "code",
   "execution_count": null,
   "id": "7cb25de7-5bb8-4200-9bd3-8284f1638b47",
   "metadata": {},
   "outputs": [],
   "source": [
    "# the array of delayed object will lost some shape information so perserve them here\n",
    "chunks_size = rmli_overlap.chunks \n",
    "nchunks = tuple(len(nchunks_in_each_dim) for nchunks_in_each_dim in chunks_size)\n",
    "chunks_shape = list(product(*chunks_size))"
   ]
  },
  {
   "cell_type": "code",
   "execution_count": null,
   "id": "09c9b124-10cb-4ed4-987f-27fdf9292025",
   "metadata": {},
   "outputs": [
    {
     "data": {
      "text/plain": [
       "((1005, 1010, 505), (1005, 839), (17,))"
      ]
     },
     "execution_count": null,
     "metadata": {},
     "output_type": "execute_result"
    }
   ],
   "source": [
    "chunks_size"
   ]
  },
  {
   "cell_type": "code",
   "execution_count": null,
   "id": "23834893-b968-4986-8e12-c462320181c5",
   "metadata": {},
   "outputs": [
    {
     "data": {
      "text/plain": [
       "(3, 2, 1)"
      ]
     },
     "execution_count": null,
     "metadata": {},
     "output_type": "execute_result"
    }
   ],
   "source": [
    "nchunks"
   ]
  },
  {
   "cell_type": "code",
   "execution_count": null,
   "id": "916c0d9b-a728-4c8b-81ee-3607a6d0e24c",
   "metadata": {},
   "outputs": [
    {
     "data": {
      "text/plain": [
       "[(1005, 1005, 17),\n",
       " (1005, 839, 17),\n",
       " (1010, 1005, 17),\n",
       " (1010, 839, 17),\n",
       " (505, 1005, 17),\n",
       " (505, 839, 17)]"
      ]
     },
     "execution_count": null,
     "metadata": {},
     "output_type": "execute_result"
    }
   ],
   "source": [
    "chunks_shape"
   ]
  },
  {
   "cell_type": "markdown",
   "id": "8e392fc2-9e42-4087-b7c7-4449276c5967",
   "metadata": {},
   "source": [
    "Convert each chunk to delayed object;"
   ]
  },
  {
   "cell_type": "code",
   "execution_count": null,
   "id": "18eeec57-5e30-4668-b956-8a8568f4a8c1",
   "metadata": {},
   "outputs": [
    {
     "data": {
      "text/plain": [
       "array([[[Delayed(('overlap-deeb6bf02a78ef34f82e8a8fcbd6af40', 0, 0, 0))],\n",
       "        [Delayed(('overlap-deeb6bf02a78ef34f82e8a8fcbd6af40', 0, 1, 0))]],\n",
       "\n",
       "       [[Delayed(('overlap-deeb6bf02a78ef34f82e8a8fcbd6af40', 1, 0, 0))],\n",
       "        [Delayed(('overlap-deeb6bf02a78ef34f82e8a8fcbd6af40', 1, 1, 0))]],\n",
       "\n",
       "       [[Delayed(('overlap-deeb6bf02a78ef34f82e8a8fcbd6af40', 2, 0, 0))],\n",
       "        [Delayed(('overlap-deeb6bf02a78ef34f82e8a8fcbd6af40', 2, 1, 0))]]],\n",
       "      dtype=object)"
      ]
     },
     "execution_count": null,
     "metadata": {},
     "output_type": "execute_result"
    }
   ],
   "source": [
    "rmli_chunks = rmli_overlap.to_delayed()\n",
    "rmli_chunks"
   ]
  },
  {
   "cell_type": "markdown",
   "id": "389c6df9-5aaa-47d7-ab05-16f2b91a9e36",
   "metadata": {},
   "source": [
    "Apply the KS test:"
   ]
  },
  {
   "cell_type": "code",
   "execution_count": null,
   "id": "c6f5a308-7a33-4c5b-9c5d-cbd3cadb96b7",
   "metadata": {},
   "outputs": [],
   "source": [
    "delayed_ks_test = delayed(ks_test,pure=True,nout=2)\n",
    "results = [delayed_ks_test(rmli_chunk,az_half_win=az_half_win,r_half_win=r_half_win) for rmli_chunk in rmli_chunks.ravel()]\n",
    "dist_chunks, p_chunks = zip(*results)\n",
    "dist_chunks, p_chunks = np.array(dist_chunks), np.array(p_chunks)"
   ]
  },
  {
   "cell_type": "code",
   "execution_count": null,
   "id": "f2a49895-5df9-4775-a3ad-3f41ffe0f477",
   "metadata": {},
   "outputs": [
    {
     "data": {
      "text/plain": [
       "array([Delayed('getitem-f50335529b047b79b2c90cdef57d40fd'),\n",
       "       Delayed('getitem-4ce12862641d4b5c6c4cc84e652dabc2'),\n",
       "       Delayed('getitem-c0334ded367e1297dcd1fed323c211e8'),\n",
       "       Delayed('getitem-da7af3e1e8721cc553402893fa56e087'),\n",
       "       Delayed('getitem-237696b05fba3e9aec0a3bc835be6a4b'),\n",
       "       Delayed('getitem-cac2e878f9a43c9f1da9233851482b57')], dtype=object)"
      ]
     },
     "execution_count": null,
     "metadata": {},
     "output_type": "execute_result"
    }
   ],
   "source": [
    "dist_chunks"
   ]
  },
  {
   "cell_type": "markdown",
   "id": "034e6758-accc-4e98-b4b2-3966476814ad",
   "metadata": {},
   "source": [
    "Convert `Delayed` object to dask array:"
   ]
  },
  {
   "cell_type": "code",
   "execution_count": null,
   "id": "c6973e1b-017e-4b92-bdfa-39094b53e2ea",
   "metadata": {},
   "outputs": [],
   "source": [
    "for i in range(len(chunks_shape)):\n",
    "    dist_chunks[i] = da.from_delayed(dist_chunks[i],shape=(*chunks_shape[i][:-1],az_win,r_win),meta=cp.array((),dtype=rmli.dtype))\n",
    "    p_chunks[i] = da.from_delayed(p_chunks[i],shape=(*chunks_shape[i][:-1],az_win,r_win),meta=cp.array((),dtype=rmli.dtype))"
   ]
  },
  {
   "cell_type": "code",
   "execution_count": null,
   "id": "1e46fd37-3b17-4693-84ca-b8253c9f6922",
   "metadata": {},
   "outputs": [
    {
     "data": {
      "text/plain": [
       "array([dask.array<from-value, shape=(1005, 1005, 11, 11), dtype=float32, chunksize=(1005, 1005, 11, 11), chunktype=cupy.ndarray>,\n",
       "       dask.array<from-value, shape=(1005, 839, 11, 11), dtype=float32, chunksize=(1005, 839, 11, 11), chunktype=cupy.ndarray>,\n",
       "       dask.array<from-value, shape=(1010, 1005, 11, 11), dtype=float32, chunksize=(1010, 1005, 11, 11), chunktype=cupy.ndarray>,\n",
       "       dask.array<from-value, shape=(1010, 839, 11, 11), dtype=float32, chunksize=(1010, 839, 11, 11), chunktype=cupy.ndarray>,\n",
       "       dask.array<from-value, shape=(505, 1005, 11, 11), dtype=float32, chunksize=(505, 1005, 11, 11), chunktype=cupy.ndarray>,\n",
       "       dask.array<from-value, shape=(505, 839, 11, 11), dtype=float32, chunksize=(505, 839, 11, 11), chunktype=cupy.ndarray>],\n",
       "      dtype=object)"
      ]
     },
     "execution_count": null,
     "metadata": {},
     "output_type": "execute_result"
    }
   ],
   "source": [
    "dist_chunks"
   ]
  },
  {
   "cell_type": "markdown",
   "id": "37948aad-a138-42e1-b083-39195859e623",
   "metadata": {},
   "source": [
    "Reshape and concentate the dask array:"
   ]
  },
  {
   "cell_type": "code",
   "execution_count": null,
   "id": "84f7c29f-6b98-4053-aa93-52c4b74ac5a7",
   "metadata": {},
   "outputs": [],
   "source": [
    "dist_chunks, p_chunks = dist_chunks.reshape((*nchunks,1)).tolist(), p_chunks.reshape((*nchunks,1)).tolist()"
   ]
  },
  {
   "cell_type": "code",
   "execution_count": null,
   "id": "4f7aeaae-6af9-4500-96d1-1ee8a5d4fa25",
   "metadata": {},
   "outputs": [
    {
     "data": {
      "text/plain": [
       "[[[[dask.array<from-value, shape=(1005, 1005, 11, 11), dtype=float32, chunksize=(1005, 1005, 11, 11), chunktype=cupy.ndarray>]],\n",
       "  [[dask.array<from-value, shape=(1005, 839, 11, 11), dtype=float32, chunksize=(1005, 839, 11, 11), chunktype=cupy.ndarray>]]],\n",
       " [[[dask.array<from-value, shape=(1010, 1005, 11, 11), dtype=float32, chunksize=(1010, 1005, 11, 11), chunktype=cupy.ndarray>]],\n",
       "  [[dask.array<from-value, shape=(1010, 839, 11, 11), dtype=float32, chunksize=(1010, 839, 11, 11), chunktype=cupy.ndarray>]]],\n",
       " [[[dask.array<from-value, shape=(505, 1005, 11, 11), dtype=float32, chunksize=(505, 1005, 11, 11), chunktype=cupy.ndarray>]],\n",
       "  [[dask.array<from-value, shape=(505, 839, 11, 11), dtype=float32, chunksize=(505, 839, 11, 11), chunktype=cupy.ndarray>]]]]"
      ]
     },
     "execution_count": null,
     "metadata": {},
     "output_type": "execute_result"
    }
   ],
   "source": [
    "dist_chunks"
   ]
  },
  {
   "cell_type": "code",
   "execution_count": null,
   "id": "66f75e92-4d47-48ab-820a-32c5ac146ae1",
   "metadata": {},
   "outputs": [],
   "source": [
    "dist = da.block(dist_chunks)\n",
    "p = da.block(p_chunks)"
   ]
  },
  {
   "cell_type": "code",
   "execution_count": null,
   "id": "8ecf5737-74c3-4b3f-ba94-3bd3924c7ce2",
   "metadata": {},
   "outputs": [
    {
     "data": {
      "text/html": [
       "<table>\n",
       "    <tr>\n",
       "        <td>\n",
       "            <table style=\"border-collapse: collapse;\">\n",
       "                <thead>\n",
       "                    <tr>\n",
       "                        <td> </td>\n",
       "                        <th> Array </th>\n",
       "                        <th> Chunk </th>\n",
       "                    </tr>\n",
       "                </thead>\n",
       "                <tbody>\n",
       "                    \n",
       "                    <tr>\n",
       "                        <th> Bytes </th>\n",
       "                        <td> 2.09 GiB </td>\n",
       "                        <td> 468.53 MiB </td>\n",
       "                    </tr>\n",
       "                    \n",
       "                    <tr>\n",
       "                        <th> Shape </th>\n",
       "                        <td> (2520, 1844, 11, 11) </td>\n",
       "                        <td> (1010, 1005, 11, 11) </td>\n",
       "                    </tr>\n",
       "                    <tr>\n",
       "                        <th> Dask graph </th>\n",
       "                        <td colspan=\"2\"> 6 chunks in 23 graph layers </td>\n",
       "                    </tr>\n",
       "                    <tr>\n",
       "                        <th> Data type </th>\n",
       "                        <td colspan=\"2\"> float32 cupy.ndarray </td>\n",
       "                    </tr>\n",
       "                </tbody>\n",
       "            </table>\n",
       "        </td>\n",
       "        <td>\n",
       "        <svg width=\"507\" height=\"127\" style=\"stroke:rgb(0,0,0);stroke-width:1\" >\n",
       "\n",
       "  <!-- Horizontal lines -->\n",
       "  <line x1=\"0\" y1=\"0\" x2=\"120\" y2=\"0\" style=\"stroke-width:2\" />\n",
       "  <line x1=\"0\" y1=\"25\" x2=\"120\" y2=\"25\" style=\"stroke-width:2\" />\n",
       "\n",
       "  <!-- Vertical lines -->\n",
       "  <line x1=\"0\" y1=\"0\" x2=\"0\" y2=\"25\" style=\"stroke-width:2\" />\n",
       "  <line x1=\"47\" y1=\"0\" x2=\"47\" y2=\"25\" />\n",
       "  <line x1=\"95\" y1=\"0\" x2=\"95\" y2=\"25\" />\n",
       "  <line x1=\"120\" y1=\"0\" x2=\"120\" y2=\"25\" style=\"stroke-width:2\" />\n",
       "\n",
       "  <!-- Colored Rectangle -->\n",
       "  <polygon points=\"0.0,0.0 120.0,0.0 120.0,25.412616514582485 0.0,25.412616514582485\" style=\"fill:#ECB172A0;stroke-width:0\"/>\n",
       "\n",
       "  <!-- Text -->\n",
       "  <text x=\"60.000000\" y=\"45.412617\" font-size=\"1.0rem\" font-weight=\"100\" text-anchor=\"middle\" >2520</text>\n",
       "  <text x=\"140.000000\" y=\"12.706308\" font-size=\"1.0rem\" font-weight=\"100\" text-anchor=\"middle\" transform=\"rotate(0,140.000000,12.706308)\">1</text>\n",
       "\n",
       "\n",
       "  <!-- Horizontal lines -->\n",
       "  <line x1=\"190\" y1=\"0\" x2=\"241\" y2=\"51\" style=\"stroke-width:2\" />\n",
       "  <line x1=\"190\" y1=\"25\" x2=\"241\" y2=\"77\" style=\"stroke-width:2\" />\n",
       "\n",
       "  <!-- Vertical lines -->\n",
       "  <line x1=\"190\" y1=\"0\" x2=\"190\" y2=\"25\" style=\"stroke-width:2\" />\n",
       "  <line x1=\"218\" y1=\"28\" x2=\"218\" y2=\"53\" />\n",
       "  <line x1=\"241\" y1=\"51\" x2=\"241\" y2=\"77\" style=\"stroke-width:2\" />\n",
       "\n",
       "  <!-- Colored Rectangle -->\n",
       "  <polygon points=\"190.0,0.0 241.65266106442579,51.65266106442577 241.65266106442579,77.06527757900825 190.0,25.412616514582485\" style=\"fill:#ECB172A0;stroke-width:0\"/>\n",
       "\n",
       "  <!-- Horizontal lines -->\n",
       "  <line x1=\"190\" y1=\"0\" x2=\"215\" y2=\"0\" style=\"stroke-width:2\" />\n",
       "  <line x1=\"218\" y1=\"28\" x2=\"243\" y2=\"28\" />\n",
       "  <line x1=\"241\" y1=\"51\" x2=\"267\" y2=\"51\" style=\"stroke-width:2\" />\n",
       "\n",
       "  <!-- Vertical lines -->\n",
       "  <line x1=\"190\" y1=\"0\" x2=\"241\" y2=\"51\" style=\"stroke-width:2\" />\n",
       "  <line x1=\"215\" y1=\"0\" x2=\"267\" y2=\"51\" style=\"stroke-width:2\" />\n",
       "\n",
       "  <!-- Colored Rectangle -->\n",
       "  <polygon points=\"190.0,0.0 215.41261651458248,0.0 267.06527757900824,51.65266106442577 241.65266106442579,51.65266106442577\" style=\"fill:#ECB172A0;stroke-width:0\"/>\n",
       "\n",
       "  <!-- Horizontal lines -->\n",
       "  <line x1=\"241\" y1=\"51\" x2=\"267\" y2=\"51\" style=\"stroke-width:2\" />\n",
       "  <line x1=\"241\" y1=\"77\" x2=\"267\" y2=\"77\" style=\"stroke-width:2\" />\n",
       "\n",
       "  <!-- Vertical lines -->\n",
       "  <line x1=\"241\" y1=\"51\" x2=\"241\" y2=\"77\" style=\"stroke-width:2\" />\n",
       "  <line x1=\"267\" y1=\"51\" x2=\"267\" y2=\"77\" style=\"stroke-width:2\" />\n",
       "\n",
       "  <!-- Colored Rectangle -->\n",
       "  <polygon points=\"241.65266106442579,51.65266106442577 267.0652775790083,51.65266106442577 267.0652775790083,77.06527757900825 241.65266106442579,77.06527757900825\" style=\"fill:#ECB172A0;stroke-width:0\"/>\n",
       "\n",
       "  <!-- Text -->\n",
       "  <text x=\"254.358969\" y=\"97.065278\" font-size=\"1.0rem\" font-weight=\"100\" text-anchor=\"middle\" >11</text>\n",
       "  <text x=\"287.065278\" y=\"64.358969\" font-size=\"1.0rem\" font-weight=\"100\" text-anchor=\"middle\" transform=\"rotate(0,287.065278,64.358969)\">11</text>\n",
       "  <text x=\"205.826331\" y=\"71.238947\" font-size=\"1.0rem\" font-weight=\"100\" text-anchor=\"middle\" transform=\"rotate(45,205.826331,71.238947)\">1844</text>\n",
       "</svg>\n",
       "        </td>\n",
       "    </tr>\n",
       "</table>"
      ],
      "text/plain": [
       "dask.array<concatenate, shape=(2520, 1844, 11, 11), dtype=float32, chunksize=(1010, 1005, 11, 11), chunktype=cupy.ndarray>"
      ]
     },
     "execution_count": null,
     "metadata": {},
     "output_type": "execute_result"
    }
   ],
   "source": [
    "dist"
   ]
  },
  {
   "cell_type": "code",
   "execution_count": null,
   "id": "e4b4110d-d666-4a1a-ab15-d904ba1303a2",
   "metadata": {},
   "outputs": [
    {
     "data": {
      "text/html": [
       "<table>\n",
       "    <tr>\n",
       "        <td>\n",
       "            <table style=\"border-collapse: collapse;\">\n",
       "                <thead>\n",
       "                    <tr>\n",
       "                        <td> </td>\n",
       "                        <th> Array </th>\n",
       "                        <th> Chunk </th>\n",
       "                    </tr>\n",
       "                </thead>\n",
       "                <tbody>\n",
       "                    \n",
       "                    <tr>\n",
       "                        <th> Bytes </th>\n",
       "                        <td> 2.09 GiB </td>\n",
       "                        <td> 468.53 MiB </td>\n",
       "                    </tr>\n",
       "                    \n",
       "                    <tr>\n",
       "                        <th> Shape </th>\n",
       "                        <td> (2520, 1844, 11, 11) </td>\n",
       "                        <td> (1010, 1005, 11, 11) </td>\n",
       "                    </tr>\n",
       "                    <tr>\n",
       "                        <th> Dask graph </th>\n",
       "                        <td colspan=\"2\"> 6 chunks in 23 graph layers </td>\n",
       "                    </tr>\n",
       "                    <tr>\n",
       "                        <th> Data type </th>\n",
       "                        <td colspan=\"2\"> float32 cupy.ndarray </td>\n",
       "                    </tr>\n",
       "                </tbody>\n",
       "            </table>\n",
       "        </td>\n",
       "        <td>\n",
       "        <svg width=\"507\" height=\"127\" style=\"stroke:rgb(0,0,0);stroke-width:1\" >\n",
       "\n",
       "  <!-- Horizontal lines -->\n",
       "  <line x1=\"0\" y1=\"0\" x2=\"120\" y2=\"0\" style=\"stroke-width:2\" />\n",
       "  <line x1=\"0\" y1=\"25\" x2=\"120\" y2=\"25\" style=\"stroke-width:2\" />\n",
       "\n",
       "  <!-- Vertical lines -->\n",
       "  <line x1=\"0\" y1=\"0\" x2=\"0\" y2=\"25\" style=\"stroke-width:2\" />\n",
       "  <line x1=\"47\" y1=\"0\" x2=\"47\" y2=\"25\" />\n",
       "  <line x1=\"95\" y1=\"0\" x2=\"95\" y2=\"25\" />\n",
       "  <line x1=\"120\" y1=\"0\" x2=\"120\" y2=\"25\" style=\"stroke-width:2\" />\n",
       "\n",
       "  <!-- Colored Rectangle -->\n",
       "  <polygon points=\"0.0,0.0 120.0,0.0 120.0,25.412616514582485 0.0,25.412616514582485\" style=\"fill:#ECB172A0;stroke-width:0\"/>\n",
       "\n",
       "  <!-- Text -->\n",
       "  <text x=\"60.000000\" y=\"45.412617\" font-size=\"1.0rem\" font-weight=\"100\" text-anchor=\"middle\" >2520</text>\n",
       "  <text x=\"140.000000\" y=\"12.706308\" font-size=\"1.0rem\" font-weight=\"100\" text-anchor=\"middle\" transform=\"rotate(0,140.000000,12.706308)\">1</text>\n",
       "\n",
       "\n",
       "  <!-- Horizontal lines -->\n",
       "  <line x1=\"190\" y1=\"0\" x2=\"241\" y2=\"51\" style=\"stroke-width:2\" />\n",
       "  <line x1=\"190\" y1=\"25\" x2=\"241\" y2=\"77\" style=\"stroke-width:2\" />\n",
       "\n",
       "  <!-- Vertical lines -->\n",
       "  <line x1=\"190\" y1=\"0\" x2=\"190\" y2=\"25\" style=\"stroke-width:2\" />\n",
       "  <line x1=\"218\" y1=\"28\" x2=\"218\" y2=\"53\" />\n",
       "  <line x1=\"241\" y1=\"51\" x2=\"241\" y2=\"77\" style=\"stroke-width:2\" />\n",
       "\n",
       "  <!-- Colored Rectangle -->\n",
       "  <polygon points=\"190.0,0.0 241.65266106442579,51.65266106442577 241.65266106442579,77.06527757900825 190.0,25.412616514582485\" style=\"fill:#ECB172A0;stroke-width:0\"/>\n",
       "\n",
       "  <!-- Horizontal lines -->\n",
       "  <line x1=\"190\" y1=\"0\" x2=\"215\" y2=\"0\" style=\"stroke-width:2\" />\n",
       "  <line x1=\"218\" y1=\"28\" x2=\"243\" y2=\"28\" />\n",
       "  <line x1=\"241\" y1=\"51\" x2=\"267\" y2=\"51\" style=\"stroke-width:2\" />\n",
       "\n",
       "  <!-- Vertical lines -->\n",
       "  <line x1=\"190\" y1=\"0\" x2=\"241\" y2=\"51\" style=\"stroke-width:2\" />\n",
       "  <line x1=\"215\" y1=\"0\" x2=\"267\" y2=\"51\" style=\"stroke-width:2\" />\n",
       "\n",
       "  <!-- Colored Rectangle -->\n",
       "  <polygon points=\"190.0,0.0 215.41261651458248,0.0 267.06527757900824,51.65266106442577 241.65266106442579,51.65266106442577\" style=\"fill:#ECB172A0;stroke-width:0\"/>\n",
       "\n",
       "  <!-- Horizontal lines -->\n",
       "  <line x1=\"241\" y1=\"51\" x2=\"267\" y2=\"51\" style=\"stroke-width:2\" />\n",
       "  <line x1=\"241\" y1=\"77\" x2=\"267\" y2=\"77\" style=\"stroke-width:2\" />\n",
       "\n",
       "  <!-- Vertical lines -->\n",
       "  <line x1=\"241\" y1=\"51\" x2=\"241\" y2=\"77\" style=\"stroke-width:2\" />\n",
       "  <line x1=\"267\" y1=\"51\" x2=\"267\" y2=\"77\" style=\"stroke-width:2\" />\n",
       "\n",
       "  <!-- Colored Rectangle -->\n",
       "  <polygon points=\"241.65266106442579,51.65266106442577 267.0652775790083,51.65266106442577 267.0652775790083,77.06527757900825 241.65266106442579,77.06527757900825\" style=\"fill:#ECB172A0;stroke-width:0\"/>\n",
       "\n",
       "  <!-- Text -->\n",
       "  <text x=\"254.358969\" y=\"97.065278\" font-size=\"1.0rem\" font-weight=\"100\" text-anchor=\"middle\" >11</text>\n",
       "  <text x=\"287.065278\" y=\"64.358969\" font-size=\"1.0rem\" font-weight=\"100\" text-anchor=\"middle\" transform=\"rotate(0,287.065278,64.358969)\">11</text>\n",
       "  <text x=\"205.826331\" y=\"71.238947\" font-size=\"1.0rem\" font-weight=\"100\" text-anchor=\"middle\" transform=\"rotate(45,205.826331,71.238947)\">1844</text>\n",
       "</svg>\n",
       "        </td>\n",
       "    </tr>\n",
       "</table>"
      ],
      "text/plain": [
       "dask.array<concatenate, shape=(2520, 1844, 11, 11), dtype=float32, chunksize=(1010, 1005, 11, 11), chunktype=cupy.ndarray>"
      ]
     },
     "execution_count": null,
     "metadata": {},
     "output_type": "execute_result"
    }
   ],
   "source": [
    "p"
   ]
  },
  {
   "cell_type": "code",
   "execution_count": null,
   "id": "aaea4331-d225-4358-981e-159316ef78d4",
   "metadata": {},
   "outputs": [
    {
     "data": {
      "text/plain": [
       "((1005, 1010, 505), (1005, 839), (11,), (11,))"
      ]
     },
     "execution_count": null,
     "metadata": {},
     "output_type": "execute_result"
    }
   ],
   "source": [
    "dist.chunks"
   ]
  },
  {
   "cell_type": "markdown",
   "id": "d275c6e0-e130-465f-aa4a-790360838174",
   "metadata": {},
   "source": [
    "Trim the overlap region:"
   ]
  },
  {
   "cell_type": "code",
   "execution_count": null,
   "id": "1fb7995c-e191-4ec4-867f-070e4b72dc1d",
   "metadata": {},
   "outputs": [],
   "source": [
    "depth = {0:az_half_win, 1:r_half_win, 2:0, 3:0}; boundary = {0:'none',1:'none',2:'none',3:'none'}\n",
    "dist = da.overlap.trim_overlap(dist,depth=depth,boundary=boundary)\n",
    "p = da.overlap.trim_overlap(p,depth=depth,boundary=boundary)"
   ]
  },
  {
   "cell_type": "code",
   "execution_count": null,
   "id": "8c3b06b5-4bb7-4dec-8e68-24f744e29ecc",
   "metadata": {},
   "outputs": [
    {
     "data": {
      "text/plain": [
       "((1000, 1000, 500), (1000, 834), (11,), (11,))"
      ]
     },
     "execution_count": null,
     "metadata": {},
     "output_type": "execute_result"
    }
   ],
   "source": [
    "dist.chunks"
   ]
  },
  {
   "cell_type": "markdown",
   "id": "d487e5be-7ba2-4c54-869c-436e24f0c0da",
   "metadata": {},
   "source": [
    "Copy data from GPU to CPU:"
   ]
  },
  {
   "cell_type": "code",
   "execution_count": null,
   "id": "c6820b7c-df6b-478f-8187-ab6d0416bae7",
   "metadata": {},
   "outputs": [],
   "source": [
    "cpu_dist = da.map_blocks(cp.asnumpy,dist)\n",
    "cpu_p = da.map_blocks(cp.asnumpy,p)"
   ]
  },
  {
   "cell_type": "code",
   "execution_count": null,
   "id": "d05b28a2-1a23-40fa-9001-95db36cd3791",
   "metadata": {},
   "outputs": [
    {
     "data": {
      "text/html": [
       "<table>\n",
       "    <tr>\n",
       "        <td>\n",
       "            <table style=\"border-collapse: collapse;\">\n",
       "                <thead>\n",
       "                    <tr>\n",
       "                        <td> </td>\n",
       "                        <th> Array </th>\n",
       "                        <th> Chunk </th>\n",
       "                    </tr>\n",
       "                </thead>\n",
       "                <tbody>\n",
       "                    \n",
       "                    <tr>\n",
       "                        <th> Bytes </th>\n",
       "                        <td> 2.07 GiB </td>\n",
       "                        <td> 461.58 MiB </td>\n",
       "                    </tr>\n",
       "                    \n",
       "                    <tr>\n",
       "                        <th> Shape </th>\n",
       "                        <td> (2500, 1834, 11, 11) </td>\n",
       "                        <td> (1000, 1000, 11, 11) </td>\n",
       "                    </tr>\n",
       "                    <tr>\n",
       "                        <th> Dask graph </th>\n",
       "                        <td colspan=\"2\"> 6 chunks in 26 graph layers </td>\n",
       "                    </tr>\n",
       "                    <tr>\n",
       "                        <th> Data type </th>\n",
       "                        <td colspan=\"2\"> float32 numpy.ndarray </td>\n",
       "                    </tr>\n",
       "                </tbody>\n",
       "            </table>\n",
       "        </td>\n",
       "        <td>\n",
       "        <svg width=\"507\" height=\"127\" style=\"stroke:rgb(0,0,0);stroke-width:1\" >\n",
       "\n",
       "  <!-- Horizontal lines -->\n",
       "  <line x1=\"0\" y1=\"0\" x2=\"120\" y2=\"0\" style=\"stroke-width:2\" />\n",
       "  <line x1=\"0\" y1=\"25\" x2=\"120\" y2=\"25\" style=\"stroke-width:2\" />\n",
       "\n",
       "  <!-- Vertical lines -->\n",
       "  <line x1=\"0\" y1=\"0\" x2=\"0\" y2=\"25\" style=\"stroke-width:2\" />\n",
       "  <line x1=\"48\" y1=\"0\" x2=\"48\" y2=\"25\" />\n",
       "  <line x1=\"96\" y1=\"0\" x2=\"96\" y2=\"25\" />\n",
       "  <line x1=\"120\" y1=\"0\" x2=\"120\" y2=\"25\" style=\"stroke-width:2\" />\n",
       "\n",
       "  <!-- Colored Rectangle -->\n",
       "  <polygon points=\"0.0,0.0 120.0,0.0 120.0,25.412616514582485 0.0,25.412616514582485\" style=\"fill:#ECB172A0;stroke-width:0\"/>\n",
       "\n",
       "  <!-- Text -->\n",
       "  <text x=\"60.000000\" y=\"45.412617\" font-size=\"1.0rem\" font-weight=\"100\" text-anchor=\"middle\" >2500</text>\n",
       "  <text x=\"140.000000\" y=\"12.706308\" font-size=\"1.0rem\" font-weight=\"100\" text-anchor=\"middle\" transform=\"rotate(0,140.000000,12.706308)\">1</text>\n",
       "\n",
       "\n",
       "  <!-- Horizontal lines -->\n",
       "  <line x1=\"190\" y1=\"0\" x2=\"241\" y2=\"51\" style=\"stroke-width:2\" />\n",
       "  <line x1=\"190\" y1=\"25\" x2=\"241\" y2=\"77\" style=\"stroke-width:2\" />\n",
       "\n",
       "  <!-- Vertical lines -->\n",
       "  <line x1=\"190\" y1=\"0\" x2=\"190\" y2=\"25\" style=\"stroke-width:2\" />\n",
       "  <line x1=\"218\" y1=\"28\" x2=\"218\" y2=\"53\" />\n",
       "  <line x1=\"241\" y1=\"51\" x2=\"241\" y2=\"77\" style=\"stroke-width:2\" />\n",
       "\n",
       "  <!-- Colored Rectangle -->\n",
       "  <polygon points=\"190.0,0.0 241.7835294117647,51.783529411764704 241.7835294117647,77.19614592634719 190.0,25.412616514582485\" style=\"fill:#ECB172A0;stroke-width:0\"/>\n",
       "\n",
       "  <!-- Horizontal lines -->\n",
       "  <line x1=\"190\" y1=\"0\" x2=\"215\" y2=\"0\" style=\"stroke-width:2\" />\n",
       "  <line x1=\"218\" y1=\"28\" x2=\"243\" y2=\"28\" />\n",
       "  <line x1=\"241\" y1=\"51\" x2=\"267\" y2=\"51\" style=\"stroke-width:2\" />\n",
       "\n",
       "  <!-- Vertical lines -->\n",
       "  <line x1=\"190\" y1=\"0\" x2=\"241\" y2=\"51\" style=\"stroke-width:2\" />\n",
       "  <line x1=\"215\" y1=\"0\" x2=\"267\" y2=\"51\" style=\"stroke-width:2\" />\n",
       "\n",
       "  <!-- Colored Rectangle -->\n",
       "  <polygon points=\"190.0,0.0 215.41261651458248,0.0 267.1961459263472,51.783529411764704 241.7835294117647,51.783529411764704\" style=\"fill:#ECB172A0;stroke-width:0\"/>\n",
       "\n",
       "  <!-- Horizontal lines -->\n",
       "  <line x1=\"241\" y1=\"51\" x2=\"267\" y2=\"51\" style=\"stroke-width:2\" />\n",
       "  <line x1=\"241\" y1=\"77\" x2=\"267\" y2=\"77\" style=\"stroke-width:2\" />\n",
       "\n",
       "  <!-- Vertical lines -->\n",
       "  <line x1=\"241\" y1=\"51\" x2=\"241\" y2=\"77\" style=\"stroke-width:2\" />\n",
       "  <line x1=\"267\" y1=\"51\" x2=\"267\" y2=\"77\" style=\"stroke-width:2\" />\n",
       "\n",
       "  <!-- Colored Rectangle -->\n",
       "  <polygon points=\"241.7835294117647,51.783529411764704 267.1961459263472,51.783529411764704 267.1961459263472,77.19614592634719 241.7835294117647,77.19614592634719\" style=\"fill:#ECB172A0;stroke-width:0\"/>\n",
       "\n",
       "  <!-- Text -->\n",
       "  <text x=\"254.489838\" y=\"97.196146\" font-size=\"1.0rem\" font-weight=\"100\" text-anchor=\"middle\" >11</text>\n",
       "  <text x=\"287.196146\" y=\"64.489838\" font-size=\"1.0rem\" font-weight=\"100\" text-anchor=\"middle\" transform=\"rotate(0,287.196146,64.489838)\">11</text>\n",
       "  <text x=\"205.891765\" y=\"71.304381\" font-size=\"1.0rem\" font-weight=\"100\" text-anchor=\"middle\" transform=\"rotate(45,205.891765,71.304381)\">1834</text>\n",
       "</svg>\n",
       "        </td>\n",
       "    </tr>\n",
       "</table>"
      ],
      "text/plain": [
       "dask.array<asnumpy, shape=(2500, 1834, 11, 11), dtype=float32, chunksize=(1000, 1000, 11, 11), chunktype=numpy.ndarray>"
      ]
     },
     "execution_count": null,
     "metadata": {},
     "output_type": "execute_result"
    }
   ],
   "source": [
    "cpu_dist"
   ]
  },
  {
   "cell_type": "markdown",
   "id": "4b4a71de-9447-4e63-a7de-4925a421dab4",
   "metadata": {},
   "source": [
    "Save the data to disk:"
   ]
  },
  {
   "cell_type": "code",
   "execution_count": null,
   "id": "5e23d0c2-75f0-466d-8450-4d680c5ed610",
   "metadata": {},
   "outputs": [
    {
     "name": "stdout",
     "output_type": "stream",
     "text": [
      "CPU times: user 909 ms, sys: 885 ms, total: 1.79 s\n",
      "Wall time: 39.1 s\n"
     ]
    }
   ],
   "source": [
    "%%time\n",
    "cpu_dist.to_zarr('dist.zarr',overwrite=True)\n",
    "cpu_p.to_zarr('p.zarr',overwrite=True)"
   ]
  },
  {
   "cell_type": "markdown",
   "id": "ac68538f-0c02-4465-9e73-260215c907fd",
   "metadata": {},
   "source": [
    "# Test"
   ]
  },
  {
   "cell_type": "code",
   "execution_count": null,
   "id": "5d86c762-83fb-4c0a-b9fd-0eef061c4bef",
   "metadata": {},
   "outputs": [],
   "source": [
    "dask_dist = zarr.load('dist.zarr')\n",
    "dask_p = zarr.load('p.zarr')\n",
    "dist = zarr.load('../../data/dist_ks.zarr/')\n",
    "p = zarr.load('../../data/p_ks.zarr/')"
   ]
  },
  {
   "cell_type": "code",
   "execution_count": null,
   "id": "9bc20b28-231b-470c-b239-9279e4ef0156",
   "metadata": {},
   "outputs": [],
   "source": [
    "np.testing.assert_array_equal(dask_dist,dist)\n",
    "np.testing.assert_array_equal(dask_p,p)"
   ]
  },
  {
   "cell_type": "markdown",
   "id": "fe627f1c-25d9-4cbc-82dc-89e172f285f5",
   "metadata": {},
   "source": [
    "# Conclusion\n",
    "\n",
    "- Dask can benifit when the GPU memory is not enough;\n",
    "- Dask allows multi-gpu parallel processing."
   ]
  },
  {
   "cell_type": "code",
   "execution_count": null,
   "id": "e783987d-7511-4074-af9e-3430432b3e34",
   "metadata": {},
   "outputs": [],
   "source": []
  }
 ],
 "metadata": {
  "kernelspec": {
   "display_name": "Python 3 (ipykernel)",
   "language": "python",
   "name": "python3"
  }
 },
 "nbformat": 4,
 "nbformat_minor": 5
}
