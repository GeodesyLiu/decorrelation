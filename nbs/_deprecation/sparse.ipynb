{
 "cells": [
  {
   "cell_type": "markdown",
   "id": "087a5894-70a1-4b4d-aa75-a96e5f3ef2c8",
   "metadata": {},
   "source": [
    "# sparse\n",
    "\n",
    "> Utilities for indexing sparse data"
   ]
  },
  {
   "cell_type": "markdown",
   "id": "b861437a-4a15-4376-b122-f1341b8097fa",
   "metadata": {},
   "source": [
    "<!-- Phase linking for PTA requires `cupy.optimize` to be implented which is tracked at\n",
    "https://github.com/rapidsai/raft/pull/923\n",
    "and https://github.com/cupy/cupy/issues/6112 -->"
   ]
  },
  {
   "cell_type": "code",
   "execution_count": 2,
   "id": "8f1733bb-d3b3-446b-bba7-39c08a82a2ba",
   "metadata": {},
   "outputs": [],
   "source": [
    "#| default_exp sparse"
   ]
  },
  {
   "cell_type": "code",
   "execution_count": 3,
   "id": "c311940f-4673-43a2-8117-2cd92f80008d",
   "metadata": {},
   "outputs": [],
   "source": [
    "#| hide\n",
    "from nbdev.showdoc import *"
   ]
  },
  {
   "cell_type": "code",
   "execution_count": 7,
   "id": "73a5076f-42a0-4205-bbc5-768605ca6732",
   "metadata": {},
   "outputs": [],
   "source": [
    "#| hide\n",
    "# import for test\n",
    "import numpy as np\n",
    "import zarr"
   ]
  },
  {
   "cell_type": "code",
   "execution_count": 5,
   "id": "d79d0b2b-b980-4a7d-8262-a8f53ffab51a",
   "metadata": {},
   "outputs": [],
   "source": [
    "#| export\n",
    "import cupy as cp"
   ]
  },
  {
   "cell_type": "code",
   "execution_count": 48,
   "id": "ada550c9-45c8-40a8-a275-d889526a392c",
   "metadata": {},
   "outputs": [],
   "source": [
    "#| export\n",
    "class SparseIdx(object):\n",
    "    \n",
    "    def __init__(self,sparse_bool,index=None):\n",
    "        self._bool = sparse_bool\n",
    "        if index is None:\n",
    "            index = cp.where(sparse_bool)\n",
    "        self._index = index\n",
    "    \n",
    "    @classmethod\n",
    "    def from_index(cls,index,shape):\n",
    "        assert len(index) == 2; assert len(shape) == 2\n",
    "        assert index[0].shape == index[1].shape\n",
    "        assert index[0][-1] < shape[0]; assert index[1][-1] < shape[1]\n",
    "\n",
    "        sparse_bool = cp.zeros(shape,dtype=bool)\n",
    "        sparse_bool[index] = True\n",
    "        return cls(sparse_bool,index)\n",
    "    \n",
    "    @property\n",
    "    def index(self):\n",
    "        return self._index\n",
    "    \n",
    "    @property\n",
    "    def bool(self):\n",
    "        return self._bool\n",
    "    \n",
    "    @property\n",
    "    def shape(self):\n",
    "        return self._bool.shape\n",
    "    \n",
    "    @property\n",
    "    def size(self):\n",
    "        return len(self._index[0])\n",
    "    \n",
    "    def __len__(self):\n",
    "        return self.size\n",
    "\n",
    "#TODO: implement & | - ^"
   ]
  },
  {
   "cell_type": "code",
   "execution_count": 32,
   "id": "f963b4a4-6a34-4237-8792-aad1cd74fdc4",
   "metadata": {},
   "outputs": [],
   "source": [
    "a = cp.arange(20).reshape(4,5)"
   ]
  },
  {
   "cell_type": "code",
   "execution_count": 33,
   "id": "0188a2d3-1d62-4f7b-9133-babfadfc2bce",
   "metadata": {},
   "outputs": [
    {
     "data": {
      "text/plain": [
       "array([[ 0,  1,  2,  3,  4],\n",
       "       [ 5,  6,  7,  8,  9],\n",
       "       [10, 11, 12, 13, 14],\n",
       "       [15, 16, 17, 18, 19]])"
      ]
     },
     "execution_count": 33,
     "metadata": {},
     "output_type": "execute_result"
    }
   ],
   "source": [
    "a"
   ]
  },
  {
   "cell_type": "code",
   "execution_count": 44,
   "id": "8266d21c-bf6c-4d47-bae6-18b6050629ea",
   "metadata": {},
   "outputs": [],
   "source": [
    "idx = SparseIdx(a>10)"
   ]
  },
  {
   "cell_type": "code",
   "execution_count": 45,
   "id": "cb70cb71-5219-41a1-8a95-6d4e08995e49",
   "metadata": {},
   "outputs": [
    {
     "data": {
      "text/plain": [
       "(array([2, 2, 2, 2, 3, 3, 3, 3, 3]), array([1, 2, 3, 4, 0, 1, 2, 3, 4]))"
      ]
     },
     "execution_count": 45,
     "metadata": {},
     "output_type": "execute_result"
    }
   ],
   "source": [
    "idx.index"
   ]
  },
  {
   "cell_type": "code",
   "execution_count": 46,
   "id": "c81964ad-c213-4aed-bf38-496db43f5e81",
   "metadata": {},
   "outputs": [
    {
     "data": {
      "text/plain": [
       "array([[False, False, False, False, False],\n",
       "       [False, False, False, False, False],\n",
       "       [False,  True,  True,  True,  True],\n",
       "       [ True,  True,  True,  True,  True]])"
      ]
     },
     "execution_count": 46,
     "metadata": {},
     "output_type": "execute_result"
    }
   ],
   "source": [
    "idx.bool"
   ]
  },
  {
   "cell_type": "code",
   "execution_count": 6,
   "id": "ce82e557-133d-43bd-a9c5-2f48a68b0021",
   "metadata": {},
   "outputs": [],
   "source": [
    "#| hide\n",
    "import nbdev; nbdev.nbdev_export()"
   ]
  },
  {
   "cell_type": "code",
   "execution_count": 27,
   "id": "eb645989-8955-4585-a9c9-70e883e4ed30",
   "metadata": {},
   "outputs": [],
   "source": [
    "if None:\n",
    "    print(\"1\")"
   ]
  },
  {
   "cell_type": "code",
   "execution_count": 29,
   "id": "cb984470-7b8d-4267-8dbe-49825b9c683d",
   "metadata": {},
   "outputs": [
    {
     "name": "stdout",
     "output_type": "stream",
     "text": [
      "1\n"
     ]
    }
   ],
   "source": [
    "idx = None\n",
    "if idx is None:\n",
    "    print(\"1\")"
   ]
  },
  {
   "cell_type": "code",
   "execution_count": null,
   "id": "096beb4c-162f-4933-ab35-4b0221278601",
   "metadata": {},
   "outputs": [],
   "source": []
  }
 ],
 "metadata": {
  "kernelspec": {
   "display_name": "Python 3 (ipykernel)",
   "language": "python",
   "name": "python3"
  },
  "language_info": {
   "codemirror_mode": {
    "name": "ipython",
    "version": 3
   },
   "file_extension": ".py",
   "mimetype": "text/x-python",
   "name": "python",
   "nbconvert_exporter": "python",
   "pygments_lexer": "ipython3",
   "version": "3.10.10"
  }
 },
 "nbformat": 4,
 "nbformat_minor": 5
}
