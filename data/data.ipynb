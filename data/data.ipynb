{
 "cells": [
  {
   "cell_type": "code",
   "execution_count": 1,
   "id": "0846ea42-d5ed-41f5-9e7a-f4771fa67b2e",
   "metadata": {},
   "outputs": [],
   "source": [
    "import cupy as cp\n",
    "import numpy as np\n",
    "import zarr\n",
    "import h5py\n",
    "from decorrelation.shp import ks_test\n",
    "from decorrelation.co import emperical_co,emperical_co_sp, regularize_spectral, wherePD"
   ]
  },
  {
   "cell_type": "markdown",
   "id": "1ae645bc-e99c-4404-98a9-c8068c5bac5c",
   "metadata": {},
   "source": [
    "## rslc"
   ]
  },
  {
   "cell_type": "code",
   "execution_count": 2,
   "id": "4ecafb43-0b5c-4710-b3fd-57275b774899",
   "metadata": {},
   "outputs": [],
   "source": [
    "rslc = cp.load('./rslc.npy')"
   ]
  },
  {
   "cell_type": "code",
   "execution_count": 3,
   "id": "83fe4f67-983e-4713-9681-677b5937995e",
   "metadata": {},
   "outputs": [],
   "source": [
    "zarr.save_array('rslc.zarr', cp.asnumpy(rslc),chunks=(1000,1000),compressor=None)"
   ]
  },
  {
   "cell_type": "markdown",
   "id": "f862af70-b124-4d40-b064-6c4ac79aed8e",
   "metadata": {},
   "source": [
    "## SHP statistics and p-value"
   ]
  },
  {
   "cell_type": "code",
   "execution_count": 4,
   "id": "a3595542-374a-45c1-b384-7e8a997f4917",
   "metadata": {},
   "outputs": [],
   "source": [
    "az_half_win = 5\n",
    "r_half_win = 5\n",
    "az_win = 2*az_half_win+1\n",
    "r_win = 2*r_half_win+1"
   ]
  },
  {
   "cell_type": "code",
   "execution_count": 5,
   "id": "ff3108ac-95a2-4037-a0cd-47eff104e38f",
   "metadata": {},
   "outputs": [],
   "source": [
    "rmli = cp.abs(rslc)**2\n",
    "sorted_rmli = cp.sort(rmli,axis=-1)\n",
    "del rmli\n",
    "dist,p = ks_test(sorted_rmli,az_half_win=az_half_win,r_half_win=r_half_win)"
   ]
  },
  {
   "cell_type": "code",
   "execution_count": 6,
   "id": "03ad2d57-0dc9-41a9-9936-4ad4f6f2299d",
   "metadata": {},
   "outputs": [],
   "source": [
    "zarr.save_array('dist_ks.zarr', cp.asnumpy(dist),chunks=(1000,1000,az_win,r_win),compressor=None)\n",
    "zarr.save_array('p_ks.zarr', cp.asnumpy(p),chunks=(1000,1000,az_win,r_win),compressor=None)"
   ]
  },
  {
   "cell_type": "code",
   "execution_count": 7,
   "id": "f7dd5b81-1ead-4f30-8c2f-4173f2177291",
   "metadata": {},
   "outputs": [],
   "source": [
    "del dist"
   ]
  },
  {
   "cell_type": "markdown",
   "id": "a0a6d88a-ac1f-4302-b299-54ba8ec88133",
   "metadata": {},
   "source": [
    "## selected SHP "
   ]
  },
  {
   "cell_type": "code",
   "execution_count": 20,
   "id": "c1e0dad1-65e2-4a6d-a0cd-e9b85c126a1f",
   "metadata": {},
   "outputs": [],
   "source": [
    "is_shp = (p < 0.05) & (p >= 0.0)\n",
    "del p"
   ]
  },
  {
   "cell_type": "code",
   "execution_count": 21,
   "id": "17df36e5-6a14-4c33-95dd-b3853e4e79a5",
   "metadata": {},
   "outputs": [],
   "source": [
    "zarr.save_array('is_shp.zarr', cp.asnumpy(is_shp),chunks=(1000,1000,az_win,r_win),compressor=None)"
   ]
  },
  {
   "cell_type": "markdown",
   "id": "01d36f7f-9245-4b38-b6f4-b1d04bd82484",
   "metadata": {},
   "source": [
    "## DS"
   ]
  },
  {
   "cell_type": "code",
   "execution_count": 23,
   "id": "c466c8eb-b121-4a2f-a5aa-d94be70ab919",
   "metadata": {},
   "outputs": [],
   "source": [
    "shp_num = cp.count_nonzero(is_shp,axis=(-2,-1))\n",
    "is_ds = shp_num >= 50"
   ]
  },
  {
   "cell_type": "code",
   "execution_count": 24,
   "id": "7b2318ae-36e6-462f-b81d-1df0ff3e39f8",
   "metadata": {},
   "outputs": [],
   "source": [
    "zarr.save_array('is_ds.zarr', cp.asnumpy(is_ds),chunks=(1000,1000),compressor=None)"
   ]
  },
  {
   "cell_type": "markdown",
   "id": "e7af9941-f207-4777-9a1b-d6830f7538d1",
   "metadata": {},
   "source": [
    "## covariance, coherence"
   ]
  },
  {
   "cell_type": "code",
   "execution_count": 25,
   "id": "bda65213-a0ab-4920-bb06-8d094c33a4be",
   "metadata": {},
   "outputs": [],
   "source": [
    "is_shp_ds = is_shp[is_ds]\n",
    "ds_idx = cp.vstack(cp.where(is_ds)).T\n",
    "cov, coh = emperical_co_sp(rslc,ds_idx,is_shp_ds)"
   ]
  },
  {
   "cell_type": "code",
   "execution_count": 27,
   "id": "36d3c865-adfc-4636-b4ef-32cc81d2c101",
   "metadata": {},
   "outputs": [
    {
     "data": {
      "text/plain": [
       "(740397, 17, 17)"
      ]
     },
     "execution_count": 27,
     "metadata": {},
     "output_type": "execute_result"
    }
   ],
   "source": [
    "cov.shape"
   ]
  },
  {
   "cell_type": "code",
   "execution_count": 30,
   "id": "54b81a6e-53f9-4807-ba46-e75ec816792b",
   "metadata": {},
   "outputs": [],
   "source": [
    "zarr.save_array('emperical_coh_ds.zarr',cp.asnumpy(coh),chunks=(100000, 17, 17),compressor=None)\n",
    "zarr.save_array('emperical_cov_ds.zarr',cp.asnumpy(cov),chunks=(100000, 17, 17),compressor=None)"
   ]
  },
  {
   "cell_type": "code",
   "execution_count": null,
   "id": "cc445fc9-cef8-4a37-bd30-a79829fd5c5c",
   "metadata": {},
   "outputs": [],
   "source": []
  }
 ],
 "metadata": {
  "kernelspec": {
   "display_name": "Python [conda env:root] *",
   "language": "python",
   "name": "conda-root-py"
  },
  "language_info": {
   "codemirror_mode": {
    "name": "ipython",
    "version": 3
   },
   "file_extension": ".py",
   "mimetype": "text/x-python",
   "name": "python",
   "nbconvert_exporter": "python",
   "pygments_lexer": "ipython3",
   "version": "3.10.10"
  }
 },
 "nbformat": 4,
 "nbformat_minor": 5
}
