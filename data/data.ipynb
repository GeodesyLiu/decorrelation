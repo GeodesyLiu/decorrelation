{
 "cells": [
  {
   "cell_type": "code",
   "execution_count": null,
   "id": "0846ea42-d5ed-41f5-9e7a-f4771fa67b2e",
   "metadata": {},
   "outputs": [],
   "source": [
    "import cupy as cp\n",
    "import numpy as np\n",
    "import h5py\n",
    "from decorrelation.shp import ks_test\n",
    "from decorrelation.co import emperical_co"
   ]
  },
  {
   "cell_type": "code",
   "execution_count": null,
   "id": "1a73ebf7-4e22-49b5-9215-8705b64b45dd",
   "metadata": {},
   "outputs": [],
   "source": [
    "rslc = cp.load('./rslc.npy')"
   ]
  },
  {
   "cell_type": "code",
   "execution_count": null,
   "id": "44d96751-51d2-49fe-bfe6-64ba3823d394",
   "metadata": {},
   "outputs": [],
   "source": [
    "h5f = h5py.File('decorrelation.h5', 'w')"
   ]
  },
  {
   "cell_type": "markdown",
   "id": "1ae645bc-e99c-4404-98a9-c8068c5bac5c",
   "metadata": {},
   "source": [
    "## rslc"
   ]
  },
  {
   "cell_type": "code",
   "execution_count": null,
   "id": "a4c0ece8-2e9a-4047-83d4-ee322de89d56",
   "metadata": {},
   "outputs": [
    {
     "data": {
      "text/plain": [
       "<HDF5 dataset \"rslc\": shape (2500, 1834, 17), type \"<c8\">"
      ]
     },
     "execution_count": null,
     "metadata": {},
     "output_type": "execute_result"
    }
   ],
   "source": [
    "h5f.create_dataset('rslc', data=cp.asnumpy(rslc))"
   ]
  },
  {
   "cell_type": "markdown",
   "id": "f862af70-b124-4d40-b064-6c4ac79aed8e",
   "metadata": {},
   "source": [
    "coherence"
   ]
  },
  {
   "cell_type": "code",
   "execution_count": null,
   "id": "a3595542-374a-45c1-b384-7e8a997f4917",
   "metadata": {},
   "outputs": [],
   "source": [
    "az_half_win = 5\n",
    "r_half_win = 5\n",
    "az_win = 2*az_half_win+1\n",
    "r_win = 2*r_half_win+1"
   ]
  },
  {
   "cell_type": "code",
   "execution_count": null,
   "id": "ff3108ac-95a2-4037-a0cd-47eff104e38f",
   "metadata": {},
   "outputs": [],
   "source": [
    "rmli = cp.abs(rslc)**2\n",
    "sorted_rmli = cp.sort(rmli,axis=-1)\n",
    "dist, p = ks_test(sorted_rmli,az_half_win=az_half_win,r_half_win=r_half_win)"
   ]
  },
  {
   "cell_type": "code",
   "execution_count": null,
   "id": "c1e0dad1-65e2-4a6d-a0cd-e9b85c126a1f",
   "metadata": {},
   "outputs": [],
   "source": [
    "is_shp = (p < 0.05) & (p >= 0.0)"
   ]
  },
  {
   "cell_type": "code",
   "execution_count": null,
   "id": "fd68ab20-62cd-448e-80df-b0185e36b856",
   "metadata": {},
   "outputs": [],
   "source": [
    "cov,coh = emperical_co(rslc,is_shp)"
   ]
  },
  {
   "cell_type": "code",
   "execution_count": null,
   "id": "54b81a6e-53f9-4807-ba46-e75ec816792b",
   "metadata": {},
   "outputs": [
    {
     "data": {
      "text/plain": [
       "<HDF5 dataset \"coherence\": shape (2500, 1834, 17, 17), type \"<c8\">"
      ]
     },
     "execution_count": null,
     "metadata": {},
     "output_type": "execute_result"
    }
   ],
   "source": [
    "h5f.create_dataset('coherence', data=cp.asnumpy(coh))"
   ]
  },
  {
   "cell_type": "code",
   "execution_count": null,
   "id": "3763563b-1d0d-47a4-99fa-02383694cad4",
   "metadata": {},
   "outputs": [],
   "source": [
    "h5f.close()"
   ]
  },
  {
   "cell_type": "code",
   "execution_count": null,
   "id": "2c1581f2-061e-4ad9-8414-3e5509f82032",
   "metadata": {},
   "outputs": [],
   "source": []
  }
 ],
 "metadata": {
  "kernelspec": {
   "display_name": "Python 3 (ipykernel)",
   "language": "python",
   "name": "python3"
  }
 },
 "nbformat": 4,
 "nbformat_minor": 5
}
