{
 "cells": [
  {
   "cell_type": "code",
   "execution_count": null,
   "id": "0846ea42-d5ed-41f5-9e7a-f4771fa67b2e",
   "metadata": {},
   "outputs": [],
   "source": [
    "import cupy as cp\n",
    "import numpy as np\n",
    "import zarr\n",
    "import h5py\n",
    "from decorrelation.shp import ks_test\n",
    "from decorrelation.co import emperical_co, regularize_spectral, _isPD"
   ]
  },
  {
   "cell_type": "markdown",
   "id": "1ae645bc-e99c-4404-98a9-c8068c5bac5c",
   "metadata": {},
   "source": [
    "## rslc"
   ]
  },
  {
   "cell_type": "code",
   "execution_count": null,
   "id": "4ecafb43-0b5c-4710-b3fd-57275b774899",
   "metadata": {},
   "outputs": [],
   "source": [
    "rslc = cp.load('./rslc.npy')"
   ]
  },
  {
   "cell_type": "code",
   "execution_count": null,
   "id": "83fe4f67-983e-4713-9681-677b5937995e",
   "metadata": {},
   "outputs": [],
   "source": [
    "zarr.save('rslc.zarr', cp.asnumpy(rslc))"
   ]
  },
  {
   "cell_type": "markdown",
   "id": "f862af70-b124-4d40-b064-6c4ac79aed8e",
   "metadata": {},
   "source": [
    "## coherence and covariance"
   ]
  },
  {
   "cell_type": "code",
   "execution_count": null,
   "id": "a3595542-374a-45c1-b384-7e8a997f4917",
   "metadata": {},
   "outputs": [],
   "source": [
    "az_half_win = 5\n",
    "r_half_win = 5\n",
    "az_win = 2*az_half_win+1\n",
    "r_win = 2*r_half_win+1"
   ]
  },
  {
   "cell_type": "code",
   "execution_count": null,
   "id": "ff3108ac-95a2-4037-a0cd-47eff104e38f",
   "metadata": {},
   "outputs": [],
   "source": [
    "rmli = cp.abs(rslc)**2\n",
    "sorted_rmli = cp.sort(rmli,axis=-1)\n",
    "del rmli\n",
    "p = ks_test(sorted_rmli,az_half_win=az_half_win,r_half_win=r_half_win)[1]"
   ]
  },
  {
   "cell_type": "code",
   "execution_count": null,
   "id": "c1e0dad1-65e2-4a6d-a0cd-e9b85c126a1f",
   "metadata": {},
   "outputs": [],
   "source": [
    "is_shp = (p < 0.05) & (p >= 0.0)\n",
    "del p"
   ]
  },
  {
   "cell_type": "code",
   "execution_count": null,
   "id": "fd68ab20-62cd-448e-80df-b0185e36b856",
   "metadata": {},
   "outputs": [],
   "source": [
    "cov,coh = emperical_co(rslc,is_shp)\n",
    "del rslc, is_shp"
   ]
  },
  {
   "cell_type": "code",
   "execution_count": null,
   "id": "d49672d1-8cec-4adb-bf0f-161f519599ce",
   "metadata": {},
   "outputs": [
    {
     "data": {
      "text/plain": [
       "(2500, 1834, 17, 17)"
      ]
     },
     "execution_count": null,
     "metadata": {},
     "output_type": "execute_result"
    }
   ],
   "source": [
    "coh.shape"
   ]
  },
  {
   "cell_type": "code",
   "execution_count": null,
   "id": "54b81a6e-53f9-4807-ba46-e75ec816792b",
   "metadata": {},
   "outputs": [
    {
     "name": "stdout",
     "output_type": "stream",
     "text": [
      "CPU times: user 5.29 s, sys: 18.6 s, total: 23.9 s\n",
      "Wall time: 24.9 s\n"
     ]
    }
   ],
   "source": [
    "%%time\n",
    "zarr.save_array('emperical_coherence.zarr',cp.asnumpy(coh),chunks=(1000, 1000, 17, 17),compressor=None)"
   ]
  },
  {
   "cell_type": "code",
   "execution_count": null,
   "id": "ab00ff9c-da65-4e3f-b472-917c23b90f65",
   "metadata": {},
   "outputs": [
    {
     "name": "stdout",
     "output_type": "stream",
     "text": [
      "CPU times: user 1e+03 ns, sys: 2 µs, total: 3 µs\n",
      "Wall time: 5.25 µs\n"
     ]
    }
   ],
   "source": [
    "%%time\n",
    "# The result shows when setting propriate chunk size, the save speeds are almost save\n",
    "# h5f = h5py.File('coherence.h5', 'w')\n",
    "# h5f.create_dataset('coherence', data=cp.asnumpy(coh),chunks=(1000, 1000, 17, 17))\n",
    "# h5f.close()"
   ]
  },
  {
   "cell_type": "code",
   "execution_count": null,
   "id": "28e4e867-127a-4685-9944-4fc23ac6f015",
   "metadata": {},
   "outputs": [
    {
     "name": "stdout",
     "output_type": "stream",
     "text": [
      "CPU times: user 5.17 s, sys: 18.3 s, total: 23.4 s\n",
      "Wall time: 24.4 s\n"
     ]
    }
   ],
   "source": [
    "%%time\n",
    "zarr.save_array('emperical_covariance.zarr',cp.asnumpy(cov),chunks=(1000, 1000, 17, 17),compressor=None)"
   ]
  },
  {
   "cell_type": "code",
   "execution_count": null,
   "id": "2c1581f2-061e-4ad9-8414-3e5509f82032",
   "metadata": {},
   "outputs": [],
   "source": []
  }
 ],
 "metadata": {
  "kernelspec": {
   "display_name": "Python 3 (ipykernel)",
   "language": "python",
   "name": "python3"
  }
 },
 "nbformat": 4,
 "nbformat_minor": 5
}
